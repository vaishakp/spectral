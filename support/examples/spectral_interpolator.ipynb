{
 "cells": [
  {
   "cell_type": "code",
   "execution_count": 1,
   "metadata": {},
   "outputs": [],
   "source": [
    "from pathlib import Path"
   ]
  },
  {
   "cell_type": "code",
   "execution_count": 2,
   "metadata": {},
   "outputs": [],
   "source": [
    "import sys\n",
    "sys.path.append(\"/mnt/pfs/vaishak.p/Projects/Codes/custom_libraries/sxstools\")"
   ]
  },
  {
   "cell_type": "code",
   "execution_count": 3,
   "metadata": {},
   "outputs": [
    {
     "name": "stdout",
     "output_type": "stream",
     "text": [
      "/mnt/pfs/vaishak.p/Projects/Codes/custom_libraries/waveformtools/waveformtools\n",
      "No module named 'pycbc'\n"
     ]
    }
   ],
   "source": [
    "from sxstools.data_loader import SXSDataLoader"
   ]
  },
  {
   "cell_type": "code",
   "execution_count": 4,
   "metadata": {},
   "outputs": [],
   "source": [
    "#sim = \"q1a0_test_ah2\"\n",
    "#run_dir = Path(f\"/mnt/pfs/vaishak.p/sims/SpEC/gcc/{sim}/Ev/Lev1_AA/Run\")\n",
    "\n",
    "run_dir = \"/mnt/pfs/anuj.mishra/spec_runs/test_runs/test_dumptensor_3/tmp_data/"
   ]
  },
  {
   "cell_type": "code",
   "execution_count": 5,
   "metadata": {},
   "outputs": [],
   "source": [
    "dl = SXSDataLoader(run_dir=run_dir, name=\"SphereA0\")"
   ]
  },
  {
   "cell_type": "code",
   "execution_count": 6,
   "metadata": {},
   "outputs": [
    {
     "name": "stdout",
     "output_type": "stream",
     "text": [
      "Ntime 11 \t N_radii 8 N_theta 12 N_phi 24\n",
      "Available radii data dict_keys(['SphereC'])\n",
      " 'SphereA0': \t Radial collocation points data not found for SubDomain SphereA0. Retreiving from SphereC0\n"
     ]
    }
   ],
   "source": [
    "dl.load_grid_structure()"
   ]
  },
  {
   "cell_type": "code",
   "execution_count": null,
   "metadata": {},
   "outputs": [],
   "source": []
  }
 ],
 "metadata": {
  "kernelspec": {
   "display_name": "wftools_mkl",
   "language": "python",
   "name": "python3"
  },
  "language_info": {
   "codemirror_mode": {
    "name": "ipython",
    "version": 3
   },
   "file_extension": ".py",
   "mimetype": "text/x-python",
   "name": "python",
   "nbconvert_exporter": "python",
   "pygments_lexer": "ipython3",
   "version": "3.11.10"
  }
 },
 "nbformat": 4,
 "nbformat_minor": 2
}
