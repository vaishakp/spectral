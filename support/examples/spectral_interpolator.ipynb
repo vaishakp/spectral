{
 "cells": [
  {
   "cell_type": "code",
   "execution_count": 1,
   "metadata": {},
   "outputs": [],
   "source": [
    "from pathlib import Path"
   ]
  },
  {
   "cell_type": "code",
   "execution_count": 2,
   "metadata": {},
   "outputs": [],
   "source": [
    "import sys\n",
    "\n",
    "sys.path.append(\"/mnt/pfs/vaishak.p/Projects/Codes/custom_libraries/sxstools\")"
   ]
  },
  {
   "cell_type": "code",
   "execution_count": 3,
   "metadata": {},
   "outputs": [
    {
     "name": "stdout",
     "output_type": "stream",
     "text": [
      "/mnt/pfs/vaishak.p/Projects/Codes/custom_libraries/waveformtools/waveformtools\n",
      "No module named 'pycbc'\n"
     ]
    }
   ],
   "source": [
    "from sxstools.data_loader import SXSDataLoader"
   ]
  },
  {
   "cell_type": "code",
   "execution_count": 4,
   "metadata": {},
   "outputs": [],
   "source": [
    "# sim = \"q1a0_test_ah2\"\n",
    "# run_dir = Path(f\"/mnt/pfs/vaishak.p/sims/SpEC/gcc/{sim}/Ev/Lev1_AA/Run\")\n",
    "\n",
    "run_dir = (\n",
    "    \"/mnt/pfs/anuj.mishra/spec_runs/test_runs/test_dumptensor_3/Ev/Lev1_AA/Run\"\n",
    ")"
   ]
  },
  {
   "cell_type": "code",
   "execution_count": 5,
   "metadata": {},
   "outputs": [],
   "source": [
    "dl = SXSDataLoader(\n",
    "    run_dir=run_dir,\n",
    "    subdomain=\"SphereC0\",\n",
    "    metric_dir=\"PsiKappa\",\n",
    ")"
   ]
  },
  {
   "cell_type": "code",
   "execution_count": 6,
   "metadata": {},
   "outputs": [
    {
     "name": "stdout",
     "output_type": "stream",
     "text": [
      "Ntime 9 \t N_radii 15 N_theta 14 N_phi 28\n",
      "Available radii data dict_keys(['SphereC'])\n"
     ]
    }
   ],
   "source": [
    "dl.load_grid_structure()"
   ]
  },
  {
   "cell_type": "code",
   "execution_count": 7,
   "metadata": {},
   "outputs": [
    {
     "data": {
      "text/plain": [
       "np.int32(15)"
      ]
     },
     "execution_count": 7,
     "metadata": {},
     "output_type": "execute_result"
    }
   ],
   "source": [
    "dl.n_radii"
   ]
  },
  {
   "cell_type": "code",
   "execution_count": 8,
   "metadata": {},
   "outputs": [],
   "source": [
    "md = dl.get_four_metric()"
   ]
  },
  {
   "cell_type": "code",
   "execution_count": 9,
   "metadata": {},
   "outputs": [
    {
     "data": {
      "text/plain": [
       "(15, 14, 28)"
      ]
     },
     "execution_count": 9,
     "metadata": {},
     "output_type": "execute_result"
    }
   ],
   "source": [
    "md.shape"
   ]
  },
  {
   "cell_type": "code",
   "execution_count": 12,
   "metadata": {},
   "outputs": [],
   "source": [
    "dl.RadialGrid.collocation_points_logical"
   ]
  },
  {
   "cell_type": "code",
   "execution_count": 7,
   "metadata": {},
   "outputs": [
    {
     "ename": "AttributeError",
     "evalue": "'SXSDataLoader' object has no attribute 'radial_dict'",
     "output_type": "error",
     "traceback": [
      "\u001b[0;31m---------------------------------------------------------------------------\u001b[0m",
      "\u001b[0;31mAttributeError\u001b[0m                            Traceback (most recent call last)",
      "Cell \u001b[0;32mIn[7], line 1\u001b[0m\n\u001b[0;32m----> 1\u001b[0m \u001b[43mdl\u001b[49m\u001b[38;5;241;43m.\u001b[39;49m\u001b[43mradial_dict\u001b[49m\n",
      "\u001b[0;31mAttributeError\u001b[0m: 'SXSDataLoader' object has no attribute 'radial_dict'"
     ]
    }
   ],
   "source": [
    "dl.radial_dict"
   ]
  },
  {
   "cell_type": "code",
   "execution_count": 7,
   "metadata": {},
   "outputs": [
    {
     "data": {
      "text/plain": [
       "26"
      ]
     },
     "execution_count": 7,
     "metadata": {},
     "output_type": "execute_result"
    }
   ],
   "source": [
    "len(dl.radial_collocation_points)"
   ]
  },
  {
   "cell_type": "code",
   "execution_count": 8,
   "metadata": {},
   "outputs": [
    {
     "data": {
      "text/plain": [
       "np.int32(15)"
      ]
     },
     "execution_count": 8,
     "metadata": {},
     "output_type": "execute_result"
    }
   ],
   "source": [
    "dl.n_radii"
   ]
  },
  {
   "cell_type": "code",
   "execution_count": 10,
   "metadata": {},
   "outputs": [
    {
     "data": {
      "text/plain": [
       "(38.9280129152997, 61.7420717154063)"
      ]
     },
     "execution_count": 10,
     "metadata": {},
     "output_type": "execute_result"
    }
   ],
   "source": [
    "dl.r_min, dl.r_max"
   ]
  },
  {
   "cell_type": "code",
   "execution_count": 11,
   "metadata": {},
   "outputs": [
    {
     "data": {
      "text/plain": [
       "[38.9280129152997,\n",
       " 61.7420717154063,\n",
       " 84.556130515513,\n",
       " 107.37018931562,\n",
       " 130.184248115726,\n",
       " 152.998306915833,\n",
       " 175.81236571594,\n",
       " 198.626424516046,\n",
       " 221.440483316153,\n",
       " 244.25454211626,\n",
       " 267.068600916366,\n",
       " 289.882659716473,\n",
       " 312.69671851658,\n",
       " 335.510777316686,\n",
       " 358.324836116793,\n",
       " 381.1388949169,\n",
       " 403.952953717006,\n",
       " 426.767012517113,\n",
       " 449.58107131722,\n",
       " 472.395130117327,\n",
       " 495.209188917433,\n",
       " 518.02324771754,\n",
       " 540.837306517647,\n",
       " 563.651365317753,\n",
       " 586.46542411786,\n",
       " 609.279482917966]"
      ]
     },
     "execution_count": 11,
     "metadata": {},
     "output_type": "execute_result"
    }
   ],
   "source": [
    "dl.radial_collocation_points"
   ]
  },
  {
   "cell_type": "code",
   "execution_count": null,
   "metadata": {},
   "outputs": [],
   "source": [
    "r_min, r_max = GetSphereRadialExtents(radii_dict, sub_domain=self.name[:-1])"
   ]
  },
  {
   "cell_type": "code",
   "execution_count": 1,
   "metadata": {},
   "outputs": [
    {
     "data": {
      "text/plain": [
       "'000023'"
      ]
     },
     "execution_count": 1,
     "metadata": {},
     "output_type": "execute_result"
    }
   ],
   "source": [
    "a = \"23\"\n",
    "a.zfill(6)"
   ]
  },
  {
   "cell_type": "code",
   "execution_count": null,
   "metadata": {},
   "outputs": [],
   "source": []
  }
 ],
 "metadata": {
  "kernelspec": {
   "display_name": "wftools_mkl",
   "language": "python",
   "name": "python3"
  },
  "language_info": {
   "codemirror_mode": {
    "name": "ipython",
    "version": 3
   },
   "file_extension": ".py",
   "mimetype": "text/x-python",
   "name": "python",
   "nbconvert_exporter": "python",
   "pygments_lexer": "ipython3",
   "version": "3.11.10"
  }
 },
 "nbformat": 4,
 "nbformat_minor": 2
}
