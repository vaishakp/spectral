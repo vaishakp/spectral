{
 "cells": [
  {
   "cell_type": "code",
   "execution_count": null,
   "metadata": {},
   "outputs": [],
   "source": [
    "from spectral.interpolation.interpolate_single_t import "
   ]
  }
 ],
 "metadata": {
  "kernelspec": {
   "display_name": "wftools_mkl",
   "language": "python",
   "name": "python3"
  },
  "language_info": {
   "name": "python",
   "version": "3.11.10"
  }
 },
 "nbformat": 4,
 "nbformat_minor": 2
}
