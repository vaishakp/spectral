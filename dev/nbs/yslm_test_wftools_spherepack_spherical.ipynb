{
 "cells": [
  {
   "cell_type": "code",
   "execution_count": 1,
   "metadata": {},
   "outputs": [
    {
     "name": "stdout",
     "output_type": "stream",
     "text": [
      "/mnt/pfs/vaishak.p/Projects/Codes/custom_libraries/waveformtools/waveformtools\n",
      "No module named 'pycbc'\n"
     ]
    }
   ],
   "source": [
    "import numpy as np\n",
    "import config\n",
    "import matplotlib\n",
    "import matplotlib.pyplot as plt\n",
    "\n",
    "config.conf_matplolib()\n",
    "# from spharm import Spharmt, getspecindx\n",
    "from spectral.spherical.transforms import Yslm_vec, SHExpand\n",
    "from spectral.spherical.grids import GLGrid\n",
    "\n",
    "# from waveformtools.grids import GLGrid\n",
    "import h5py\n",
    "from waveformtools.diagnostics import method_info"
   ]
  },
  {
   "cell_type": "code",
   "execution_count": 2,
   "metadata": {},
   "outputs": [
    {
     "name": "stdout",
     "output_type": "stream",
     "text": [
      "print verbosity has been set to 2 at /mnt/pfs/vaishak.p/Projects/Codes/custom_libraries/config/config/__init__.py\n"
     ]
    }
   ],
   "source": [
    "from config.verbosity import levels\n",
    "\n",
    "vl = levels()\n",
    "vl.set_print_verbosity(2)"
   ]
  },
  {
   "cell_type": "code",
   "execution_count": 3,
   "metadata": {},
   "outputs": [],
   "source": [
    "ell_max = 14\n",
    "\n",
    "gl_info = GLGrid(L=ell_max)\n",
    "theta_grid, phi_grid = gl_info.meshgrid"
   ]
  },
  {
   "cell_type": "code",
   "execution_count": 4,
   "metadata": {},
   "outputs": [],
   "source": [
    "from spectral.spherical.Yslm_mp import Yslm_mp"
   ]
  },
  {
   "cell_type": "markdown",
   "metadata": {},
   "source": [
    "# waveformtools optimized"
   ]
  },
  {
   "cell_type": "code",
   "execution_count": 5,
   "metadata": {},
   "outputs": [],
   "source": [
    "# Compute and cache SHs\n",
    "Ylm_opt = Yslm_mp(\n",
    "    ell_max=ell_max, spin_weight=0, theta=theta_grid, phi=phi_grid\n",
    ")\n",
    "Ylm_opt.run()"
   ]
  },
  {
   "cell_type": "code",
   "execution_count": 6,
   "metadata": {},
   "outputs": [
    {
     "data": {
      "text/plain": [
       "numpy.ndarray"
      ]
     },
     "execution_count": 6,
     "metadata": {},
     "output_type": "execute_result"
    }
   ],
   "source": [
    "type(Ylm_opt.sYlm_modes._modes_data)"
   ]
  },
  {
   "cell_type": "code",
   "execution_count": 7,
   "metadata": {},
   "outputs": [
    {
     "data": {
      "text/plain": [
       "(15, 30)"
      ]
     },
     "execution_count": 7,
     "metadata": {},
     "output_type": "execute_result"
    }
   ],
   "source": [
    "Ylm_opt.sYlm_modes.mode(2, 2).shape"
   ]
  },
  {
   "cell_type": "markdown",
   "metadata": {},
   "source": [
    "# waveformtools old"
   ]
  },
  {
   "cell_type": "code",
   "execution_count": null,
   "metadata": {},
   "outputs": [],
   "source": []
  },
  {
   "cell_type": "markdown",
   "metadata": {},
   "source": [
    "# spherepack"
   ]
  },
  {
   "cell_type": "code",
   "execution_count": null,
   "metadata": {},
   "outputs": [],
   "source": []
  },
  {
   "cell_type": "markdown",
   "metadata": {},
   "source": [
    "# spherical"
   ]
  },
  {
   "cell_type": "code",
   "execution_count": 8,
   "metadata": {},
   "outputs": [],
   "source": [
    "from spectral.spherical.swsh import create_spherical_Yslm_modes_array"
   ]
  },
  {
   "cell_type": "code",
   "execution_count": 9,
   "metadata": {},
   "outputs": [
    {
     "name": "stdout",
     "output_type": "stream",
     "text": [
      "Created a modes array of mode axis shape (15, 30)\n"
     ]
    }
   ],
   "source": [
    "Ylm_spherical = create_spherical_Yslm_modes_array(\n",
    "    theta=theta_grid, phi=phi_grid, ell_max=ell_max, spin_weight=0\n",
    ")"
   ]
  },
  {
   "cell_type": "code",
   "execution_count": 10,
   "metadata": {},
   "outputs": [
    {
     "data": {
      "text/plain": [
       "(-0.14892669419269364+0.031655346058481804j)"
      ]
     },
     "execution_count": 10,
     "metadata": {},
     "output_type": "execute_result"
    }
   ],
   "source": [
    "ell = 2\n",
    "emm = -1\n",
    "Ylm_spherical.mode(ell, emm)[8, 1]"
   ]
  },
  {
   "cell_type": "code",
   "execution_count": 36,
   "metadata": {},
   "outputs": [
    {
     "data": {
      "text/plain": [
       "(-0.144629335720130772596631 + 0.167454922948849377967284*I,\n",
       " (-0.14462933572013079+0.16745492294884934j))"
      ]
     },
     "execution_count": 36,
     "metadata": {},
     "output_type": "execute_result"
    }
   ],
   "source": [
    "from spectral.spherical.swsh import Yslm_prec, Yslm\n",
    "\n",
    "ell = 3\n",
    "emm = -2\n",
    "theta = np.pi / 6\n",
    "phi = 2\n",
    "Yslm_prec(ell=ell, emm=emm, theta=theta, phi=phi, spin_weight=0), Yslm(\n",
    "    ell=ell, emm=emm, theta=theta, phi=phi, spin_weight=0\n",
    ")"
   ]
  },
  {
   "cell_type": "code",
   "execution_count": 11,
   "metadata": {},
   "outputs": [],
   "source": [
    "for ell in range(ell_max + 1):\n",
    "    emm_list = np.arange(-ell, ell + 1)\n",
    "    for emm in emm_list:\n",
    "\n",
    "        # print(f\"l{ell} m{emm}\")\n",
    "        Ylm = Yslm_vec(\n",
    "            spin_weight=0,\n",
    "            emm=emm,\n",
    "            ell=ell,\n",
    "            theta_grid=theta_grid,\n",
    "            phi_grid=phi_grid,\n",
    "        )\n",
    "\n",
    "        Ylm_opt_wft = Ylm_opt.mode(ell, emm)\n",
    "        Ylm_sp = Ylm_spherical.mode(ell, emm)\n",
    "\n",
    "        np.testing.assert_array_almost_equal(\n",
    "            Ylm_opt_wft, Ylm, 16, \"Opt must agree with vec\"\n",
    "        )\n",
    "        np.testing.assert_array_almost_equal(\n",
    "            Ylm_sp, Ylm, 12, \"Spherical must agree with vec\"\n",
    "        )"
   ]
  },
  {
   "cell_type": "code",
   "execution_count": null,
   "metadata": {},
   "outputs": [],
   "source": []
  }
 ],
 "metadata": {
  "kernelspec": {
   "display_name": "pyspharm",
   "language": "python",
   "name": "python3"
  },
  "language_info": {
   "codemirror_mode": {
    "name": "ipython",
    "version": 3
   },
   "file_extension": ".py",
   "mimetype": "text/x-python",
   "name": "python",
   "nbconvert_exporter": "python",
   "pygments_lexer": "ipython3",
   "version": "3.10.14"
  }
 },
 "nbformat": 4,
 "nbformat_minor": 2
}
