{
 "cells": [
  {
   "cell_type": "code",
   "execution_count": 1,
   "metadata": {},
   "outputs": [],
   "source": [
    "from spectral.spherical.grids import UniformGrid2"
   ]
  },
  {
   "cell_type": "code",
   "execution_count": 2,
   "metadata": {},
   "outputs": [],
   "source": [
    "g1 = UniformGrid2()"
   ]
  },
  {
   "cell_type": "code",
   "execution_count": 3,
   "metadata": {},
   "outputs": [
    {
     "data": {
      "text/plain": [
       "{'_nphi': 80,\n",
       " '_ntheta': 41,\n",
       " '_nphi_max': 124,\n",
       " '_ntheta_max': 66,\n",
       " '_nghosts': 2,\n",
       " '_integration_method': 'MP',\n",
       " '_grid_type': 'Uniform'}"
      ]
     },
     "execution_count": 3,
     "metadata": {},
     "output_type": "execute_result"
    }
   ],
   "source": [
    "g1.__dict__"
   ]
  },
  {
   "cell_type": "code",
   "execution_count": null,
   "metadata": {},
   "outputs": [],
   "source": [
    "g1."
   ]
  },
  {
   "cell_type": "code",
   "execution_count": null,
   "metadata": {},
   "outputs": [],
   "source": [
    "t, p = g1.mesh"
   ]
  },
  {
   "cell_type": "code",
   "execution_count": 5,
   "metadata": {},
   "outputs": [
    {
     "data": {
      "text/plain": [
       "41"
      ]
     },
     "execution_count": 5,
     "metadata": {},
     "output_type": "execute_result"
    }
   ],
   "source": [
    "g1.ntheta"
   ]
  },
  {
   "cell_type": "code",
   "execution_count": 4,
   "metadata": {},
   "outputs": [
    {
     "data": {
      "text/plain": [
       "array([0.04245395, 0.12736186, 0.21226977, 0.29717768, 0.38208559,\n",
       "       0.4669935 , 0.55190141, 0.63680932, 0.72171723, 0.80662514,\n",
       "       0.89153305, 0.97644096, 1.06134887, 1.14625678, 1.23116469,\n",
       "       1.3160726 , 1.40098051, 1.48588842, 1.57079633, 1.65570424,\n",
       "       1.74061215, 1.82552006, 1.91042797, 1.99533587, 2.08024378,\n",
       "       2.16515169, 2.2500596 , 2.33496751, 2.41987542, 2.50478333,\n",
       "       2.58969124, 2.67459915, 2.75950706, 2.84441497, 2.92932288,\n",
       "       3.01423079, 3.0991387 ])"
      ]
     },
     "execution_count": 4,
     "metadata": {},
     "output_type": "execute_result"
    }
   ],
   "source": [
    "g1.theta_1d"
   ]
  },
  {
   "cell_type": "code",
   "execution_count": 5,
   "metadata": {},
   "outputs": [
    {
     "ename": "NameError",
     "evalue": "name 'np' is not defined",
     "output_type": "error",
     "traceback": [
      "\u001b[0;31m---------------------------------------------------------------------------\u001b[0m",
      "\u001b[0;31mNameError\u001b[0m                                 Traceback (most recent call last)",
      "Cell \u001b[0;32mIn[5], line 1\u001b[0m\n\u001b[0;32m----> 1\u001b[0m \u001b[43mg1\u001b[49m\u001b[38;5;241;43m.\u001b[39;49m\u001b[43mphi_1d\u001b[49m\n",
      "File \u001b[0;32m/mnt/pfs/vaishak.p/Projects/Codes/custom_libraries/spectral/spectral/spherical/abstract.py:141\u001b[0m, in \u001b[0;36mSphericalGrid.phi_1d\u001b[0;34m(self, phi_index)\u001b[0m\n\u001b[1;32m    123\u001b[0m \u001b[38;5;250m\u001b[39m\u001b[38;5;124;03m\"\"\"Returns the coordinate value theta given\u001b[39;00m\n\u001b[1;32m    124\u001b[0m \u001b[38;5;124;03mthe coordinate index. The coordinate index lies\u001b[39;00m\n\u001b[1;32m    125\u001b[0m \u001b[38;5;124;03min (0, nphi). The actual indices without\u001b[39;00m\n\u001b[0;32m   (...)\u001b[0m\n\u001b[1;32m    137\u001b[0m \n\u001b[1;32m    138\u001b[0m \u001b[38;5;124;03m\"\"\"\u001b[39;00m\n\u001b[1;32m    140\u001b[0m \u001b[38;5;28;01mif\u001b[39;00m \u001b[38;5;129;01mnot\u001b[39;00m phi_index:\n\u001b[0;32m--> 141\u001b[0m     phi_index \u001b[38;5;241m=\u001b[39m \u001b[43mnp\u001b[49m\u001b[38;5;241m.\u001b[39marange(\u001b[38;5;28mself\u001b[39m\u001b[38;5;241m.\u001b[39mnghosts, \u001b[38;5;28mself\u001b[39m\u001b[38;5;241m.\u001b[39mnphi \u001b[38;5;241m-\u001b[39m \u001b[38;5;28mself\u001b[39m\u001b[38;5;241m.\u001b[39mnghosts)\n\u001b[1;32m    143\u001b[0m \u001b[38;5;28;01mreturn\u001b[39;00m (\n\u001b[1;32m    144\u001b[0m     (phi_index \u001b[38;5;241m-\u001b[39m \u001b[38;5;28mself\u001b[39m\u001b[38;5;241m.\u001b[39mnghosts)\n\u001b[1;32m    145\u001b[0m     \u001b[38;5;241m*\u001b[39m \u001b[38;5;241m2\u001b[39m\n\u001b[1;32m    146\u001b[0m     \u001b[38;5;241m*\u001b[39m np\u001b[38;5;241m.\u001b[39mpi\n\u001b[1;32m    147\u001b[0m     \u001b[38;5;241m/\u001b[39m (\u001b[38;5;28mself\u001b[39m\u001b[38;5;241m.\u001b[39mnphi \u001b[38;5;241m-\u001b[39m \u001b[38;5;241m2\u001b[39m \u001b[38;5;241m*\u001b[39m \u001b[38;5;28mself\u001b[39m\u001b[38;5;241m.\u001b[39mnghosts)\n\u001b[1;32m    148\u001b[0m )\n",
      "\u001b[0;31mNameError\u001b[0m: name 'np' is not defined"
     ]
    }
   ],
   "source": [
    "g1.phi_1d"
   ]
  },
  {
   "cell_type": "code",
   "execution_count": 11,
   "metadata": {},
   "outputs": [],
   "source": [
    "phi_axis = np.concatenate((g1.phi_1d, np.array([2*np.pi])))"
   ]
  },
  {
   "cell_type": "code",
   "execution_count": 12,
   "metadata": {},
   "outputs": [
    {
     "data": {
      "text/plain": [
       "array([0.        , 0.08267349, 0.16534698, 0.24802047, 0.33069396,\n",
       "       0.41336745, 0.49604095, 0.57871444, 0.66138793, 0.74406142,\n",
       "       0.82673491, 0.9094084 , 0.99208189, 1.07475538, 1.15742887,\n",
       "       1.24010236, 1.32277585, 1.40544935, 1.48812284, 1.57079633,\n",
       "       1.65346982, 1.73614331, 1.8188168 , 1.90149029, 1.98416378,\n",
       "       2.06683727, 2.14951076, 2.23218425, 2.31485774, 2.39753124,\n",
       "       2.48020473, 2.56287822, 2.64555171, 2.7282252 , 2.81089869,\n",
       "       2.89357218, 2.97624567, 3.05891916, 3.14159265, 3.22426614,\n",
       "       3.30693964, 3.38961313, 3.47228662, 3.55496011, 3.6376336 ,\n",
       "       3.72030709, 3.80298058, 3.88565407, 3.96832756, 4.05100105,\n",
       "       4.13367454, 4.21634804, 4.29902153, 4.38169502, 4.46436851,\n",
       "       4.547042  , 4.62971549, 4.71238898, 4.79506247, 4.87773596,\n",
       "       4.96040945, 5.04308294, 5.12575643, 5.20842993, 5.29110342,\n",
       "       5.37377691, 5.4564504 , 5.53912389, 5.62179738, 5.70447087,\n",
       "       5.78714436, 5.86981785, 5.95249134, 6.03516483, 6.11783833,\n",
       "       6.20051182, 6.28318531])"
      ]
     },
     "execution_count": 12,
     "metadata": {},
     "output_type": "execute_result"
    }
   ],
   "source": [
    "phi_axis"
   ]
  },
  {
   "cell_type": "code",
   "execution_count": 16,
   "metadata": {},
   "outputs": [
    {
     "ename": "AttributeError",
     "evalue": "property 'theta_1d' of 'UniformGrid' object has no setter",
     "output_type": "error",
     "traceback": [
      "\u001b[0;31m---------------------------------------------------------------------------\u001b[0m",
      "\u001b[0;31mAttributeError\u001b[0m                            Traceback (most recent call last)",
      "Cell \u001b[0;32mIn[16], line 1\u001b[0m\n\u001b[0;32m----> 1\u001b[0m \u001b[43mg1\u001b[49m\u001b[38;5;241;43m.\u001b[39;49m\u001b[43mtheta_1d\u001b[49m \u001b[38;5;241m=\u001b[39m \u001b[38;5;241m1\u001b[39m\n",
      "\u001b[0;31mAttributeError\u001b[0m: property 'theta_1d' of 'UniformGrid' object has no setter"
     ]
    }
   ],
   "source": [
    "g1.theta_1d = 1"
   ]
  },
  {
   "cell_type": "code",
   "execution_count": 13,
   "metadata": {},
   "outputs": [],
   "source": [
    "theta_axis = g1.theta_1d"
   ]
  },
  {
   "cell_type": "code",
   "execution_count": 14,
   "metadata": {},
   "outputs": [],
   "source": [
    "t2, p2 = np.meshgrid(theta_axis, phi_axis)"
   ]
  },
  {
   "cell_type": "code",
   "execution_count": 15,
   "metadata": {},
   "outputs": [
    {
     "data": {
      "text/plain": [
       "(77, 37)"
      ]
     },
     "execution_count": 15,
     "metadata": {},
     "output_type": "execute_result"
    }
   ],
   "source": [
    "t2.shape"
   ]
  },
  {
   "cell_type": "code",
   "execution_count": null,
   "metadata": {},
   "outputs": [],
   "source": [
    "t2[x_ind, y_ind]"
   ]
  },
  {
   "cell_type": "code",
   "execution_count": 10,
   "metadata": {},
   "outputs": [
    {
     "data": {
      "text/plain": [
       "[<matplotlib.lines.Line2D at 0x7fa61c8bc550>]"
      ]
     },
     "execution_count": 10,
     "metadata": {},
     "output_type": "execute_result"
    },
    {
     "data": {
      "image/png": "[encoded data removed]",
      "text/plain": [
       "<Figure size 640x480 with 1 Axes>"
      ]
     },
     "metadata": {},
     "output_type": "display_data"
    }
   ],
   "source": [
    "import matplotlib.pyplot as plt\n",
    "import numpy as np\n",
    "\n",
    "a = np.concatenate((g1.phi_1d, g1.phi_1d))\n",
    "\n",
    "plt.plot(np.sin(a))"
   ]
  },
  {
   "cell_type": "code",
   "execution_count": null,
   "metadata": {},
   "outputs": [],
   "source": [
    "x1 = "
   ]
  }
 ],
 "metadata": {
  "kernelspec": {
   "display_name": "wftools_mkl",
   "language": "python",
   "name": "python3"
  },
  "language_info": {
   "codemirror_mode": {
    "name": "ipython",
    "version": 3
   },
   "file_extension": ".py",
   "mimetype": "text/x-python",
   "name": "python",
   "nbconvert_exporter": "python",
   "pygments_lexer": "ipython3",
   "version": "3.11.10"
  }
 },
 "nbformat": 4,
 "nbformat_minor": 2
}
