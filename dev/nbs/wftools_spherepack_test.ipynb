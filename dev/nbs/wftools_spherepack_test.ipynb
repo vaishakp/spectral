{
 "cells": [
  {
   "cell_type": "code",
   "execution_count": 1,
   "metadata": {},
   "outputs": [
    {
     "name": "stdout",
     "output_type": "stream",
     "text": [
      "/home/vaishakp/Documents/Projects/Codes/waveformtools/waveformtools\n",
      "No module named 'pycbc'\n"
     ]
    }
   ],
   "source": [
    "import numpy as np\n",
    "import config\n",
    "import matplotlib\n",
    "import matplotlib.pyplot as plt\n",
    "config.conf_matplolib()\n",
    "#from spharm import Spharmt, getspecindx\n",
    "from spectral.spherical.transforms import Yslm_vec, SHExpand\n",
    "from spectral.spherical.grids import GLGrid\n",
    "#from waveformtools.grids import GLGrid\n",
    "import h5py\n",
    "from waveformtools.diagnostics import method_info"
   ]
  },
  {
   "cell_type": "code",
   "execution_count": 2,
   "metadata": {},
   "outputs": [
    {
     "name": "stdout",
     "output_type": "stream",
     "text": [
      "print verbosity has been set to 1 at /home/vaishakp/Documents/Projects/Codes/config/config/__init__.py\n"
     ]
    }
   ],
   "source": [
    "from config.verbosity import levels\n",
    "vl = levels()\n",
    "vl.set_print_verbosity(1)"
   ]
  },
  {
   "cell_type": "code",
   "execution_count": 3,
   "metadata": {},
   "outputs": [],
   "source": [
    "ell_max=14\n",
    "\n",
    "gl_info = GLGrid(L=ell_max)\n",
    "theta_grid, phi_grid = gl_info.meshgrid"
   ]
  },
  {
   "cell_type": "code",
   "execution_count": 4,
   "metadata": {},
   "outputs": [],
   "source": [
    "from spectral.spherical.swsh import Yslm\n",
    "\n",
    "\n",
    "func = np.sin(theta_grid)\n",
    "#func = np.ones(gl_info.shape)\n",
    "#func = Yslm_vec(ell=1, emm=-1, spin_weight=0, theta_grid=theta_grid, phi_grid=phi_grid)"
   ]
  },
  {
   "cell_type": "code",
   "execution_count": 5,
   "metadata": {},
   "outputs": [],
   "source": [
    "minfo = method_info(ell_max=ell_max, int_method='GL', diff_method='SH', swsh_routine='waveformtools')"
   ]
  },
  {
   "cell_type": "code",
   "execution_count": 6,
   "metadata": {},
   "outputs": [
    {
     "name": "stdout",
     "output_type": "stream",
     "text": [
      "Help on function SHExpand in module spectral.spherical.transforms:\n",
      "\n",
      "SHExpand(func, info, method_info, err_info=False, auto_ell_max=False, res_tol_percent=3, reg=False, reg_order=1)\n",
      "    Expand a given function in spin weight 0 spherical harmonics\n",
      "    upto an optimal :math:`\\ell \\leq \\ell_{max}`.\n",
      "    \n",
      "    Parameters\n",
      "    ----------\n",
      "    func : ndarray\n",
      "           The function to be expanded.\n",
      "    info : Grid\n",
      "           An instance of the Spherical grid class\n",
      "           that stores the details of the structure\n",
      "           of a grid on a topological sphere.\n",
      "    method_info : MethodInfo\n",
      "                  An instance of the method info\n",
      "                  class that contains informations\n",
      "                  about the numerical methods\n",
      "                  to be used during the following\n",
      "                  operations.\n",
      "    err_info : bool\n",
      "               Whether or not to compute and return\n",
      "               the error measures related to the\n",
      "               SH representation.\n",
      "    \n",
      "    Returns\n",
      "    -------\n",
      "    modes : dict\n",
      "            The modes as a dictionary whose keys are lm.\n",
      "\n"
     ]
    }
   ],
   "source": [
    "help(SHExpand)"
   ]
  },
  {
   "cell_type": "code",
   "execution_count": 7,
   "metadata": {},
   "outputs": [
    {
     "data": {
      "text/plain": [
       "<waveformtools.diagnostics.method_info at 0x725142bf0b50>"
      ]
     },
     "execution_count": 7,
     "metadata": {},
     "output_type": "execute_result"
    }
   ],
   "source": [
    "minfo"
   ]
  },
  {
   "cell_type": "code",
   "execution_count": 8,
   "metadata": {},
   "outputs": [
    {
     "data": {
      "text/plain": [
       "'waveformtools'"
      ]
     },
     "execution_count": 8,
     "metadata": {},
     "output_type": "execute_result"
    }
   ],
   "source": [
    "minfo.swsh_routine"
   ]
  },
  {
   "cell_type": "code",
   "execution_count": 24,
   "metadata": {},
   "outputs": [],
   "source": [
    "wfmodes = SHExpand(func, gl_info, minfo, err_info=False)"
   ]
  },
  {
   "cell_type": "code",
   "execution_count": 10,
   "metadata": {},
   "outputs": [
    {
     "name": "stdout",
     "output_type": "stream",
     "text": [
      "338 ms ± 22.5 ms per loop (mean ± std. dev. of 7 runs, 1 loop each)\n"
     ]
    }
   ],
   "source": [
    "%%timeit\n",
    "wfmodes = SHExpand(func, gl_info, minfo, err_info=False)"
   ]
  },
  {
   "cell_type": "code",
   "execution_count": 14,
   "metadata": {},
   "outputs": [],
   "source": [
    "wfmodes = SHExpand(func, gl_info, minfo, err_info=True)"
   ]
  },
  {
   "cell_type": "code",
   "execution_count": 12,
   "metadata": {},
   "outputs": [
    {
     "data": {
      "text/plain": [
       "'GL'"
      ]
     },
     "execution_count": 12,
     "metadata": {},
     "output_type": "execute_result"
    }
   ],
   "source": [
    "gl_info.grid_type"
   ]
  },
  {
   "cell_type": "code",
   "execution_count": 13,
   "metadata": {},
   "outputs": [
    {
     "name": "stdout",
     "output_type": "stream",
     "text": [
      "5.99 s ± 925 ms per loop (mean ± std. dev. of 7 runs, 1 loop each)\n"
     ]
    }
   ],
   "source": [
    "%%timeit\n",
    "wfmodes = SHExpand(func, gl_info, minfo, err_info=True)"
   ]
  },
  {
   "cell_type": "code",
   "execution_count": 13,
   "metadata": {},
   "outputs": [
    {
     "name": "stdout",
     "output_type": "stream",
     "text": [
      "1.92 s ± 107 ms per loop (mean ± std. dev. of 7 runs, 1 loop each)\n"
     ]
    }
   ],
   "source": [
    "%%timeit\n",
    "wfmodes = SHExpand(func, gl_info, minfo, err_info=True)"
   ]
  },
  {
   "cell_type": "code",
   "execution_count": 15,
   "metadata": {},
   "outputs": [
    {
     "data": {
      "text/plain": [
       "[0.7191949522280763,\n",
       " 0.31485649428238877,\n",
       " 0.31485649428238877,\n",
       " 0.06425147045912484,\n",
       " 0.06425147045912484,\n",
       " 0.025180709942656917,\n",
       " 0.025180709942656913,\n",
       " 0.01147385554990485,\n",
       " 0.01147385554990485,\n",
       " 0.005198455556385916,\n",
       " 0.005198455556385916,\n",
       " 0.0020190549348912943,\n",
       " 0.0020190549348912943,\n",
       " 0.00045317737252729474,\n",
       " 0.00045317737252729474,\n",
       " 6.999221493841085e-14]"
      ]
     },
     "execution_count": 15,
     "metadata": {},
     "output_type": "execute_result"
    }
   ],
   "source": [
    "wfmodes.residuals"
   ]
  },
  {
   "cell_type": "code",
   "execution_count": 11,
   "metadata": {},
   "outputs": [
    {
     "data": {
      "text/plain": [
       "[0.7191949522280763,\n",
       " 0.3148564942823888,\n",
       " 0.3148564942823888,\n",
       " 0.0642514704591249,\n",
       " 0.0642514704591249,\n",
       " 0.02518070994265695,\n",
       " 0.025180709942656955,\n",
       " 0.01147385554990487,\n",
       " 0.01147385554990487,\n",
       " 0.0051984555563858986,\n",
       " 0.0051984555563858986,\n",
       " 0.002019054934891294,\n",
       " 0.002019054934891294,\n",
       " 0.0004531773725272877,\n",
       " 0.0004531773725272877,\n",
       " 7.004545734781042e-14]"
      ]
     },
     "execution_count": 11,
     "metadata": {},
     "output_type": "execute_result"
    }
   ],
   "source": [
    "wfmodes.residuals"
   ]
  },
  {
   "cell_type": "code",
   "execution_count": 15,
   "metadata": {},
   "outputs": [
    {
     "data": {
      "text/plain": [
       "[0.7191949522280763,\n",
       " 0.3148564942823888,\n",
       " 0.3148564942823888,\n",
       " 0.06425147045912491,\n",
       " 0.06425147045912491,\n",
       " 0.02518070994265696,\n",
       " 0.025180709942656962,\n",
       " 0.011473855549904875,\n",
       " 0.011473855549904877,\n",
       " 0.005198455556385904,\n",
       " 0.005198455556385904,\n",
       " 0.0020190549348912995,\n",
       " 0.0020190549348912995,\n",
       " 0.00045317737252728997,\n",
       " 0.0004531773725272899,\n",
       " 7.004226228157524e-14]"
      ]
     },
     "execution_count": 15,
     "metadata": {},
     "output_type": "execute_result"
    }
   ],
   "source": [
    "wfmodes.residuals"
   ]
  },
  {
   "cell_type": "code",
   "execution_count": 10,
   "metadata": {},
   "outputs": [],
   "source": [
    "minfo2 = method_info(ell_max=ell_max, int_method='GL', diff_method='SH', swsh_routine='spherepack')"
   ]
  },
  {
   "cell_type": "code",
   "execution_count": 11,
   "metadata": {},
   "outputs": [
    {
     "name": "stdout",
     "output_type": "stream",
     "text": [
      "l 0, m0\n",
      "l 0, m 0, vind 0\n",
      "l 1, m0\n",
      "l 1, m 0, vind 2\n",
      "l 1, m1\n",
      "l 1, m 1, vind 3\n",
      "l 1, m -1, vind 1\n",
      "l 2, m0\n",
      "l 2, m 0, vind 6\n",
      "l 2, m1\n",
      "l 2, m 1, vind 7\n",
      "l 2, m2\n",
      "l 2, m 2, vind 8\n",
      "l 2, m -2, vind 4\n",
      "l 2, m -1, vind 5\n",
      "l 3, m0\n",
      "l 3, m 0, vind 12\n",
      "l 3, m1\n",
      "l 3, m 1, vind 13\n",
      "l 3, m2\n",
      "l 3, m 2, vind 14\n",
      "l 3, m3\n",
      "l 3, m 3, vind 15\n",
      "l 3, m -3, vind 9\n",
      "l 3, m -2, vind 10\n",
      "l 3, m -1, vind 11\n",
      "l 4, m0\n",
      "l 4, m 0, vind 20\n",
      "l 4, m1\n",
      "l 4, m 1, vind 21\n",
      "l 4, m2\n",
      "l 4, m 2, vind 22\n",
      "l 4, m3\n",
      "l 4, m 3, vind 23\n",
      "l 4, m4\n",
      "l 4, m 4, vind 24\n",
      "l 4, m -4, vind 16\n",
      "l 4, m -3, vind 17\n",
      "l 4, m -2, vind 18\n",
      "l 4, m -1, vind 19\n",
      "l 5, m0\n",
      "l 5, m 0, vind 30\n",
      "l 5, m1\n",
      "l 5, m 1, vind 31\n",
      "l 5, m2\n",
      "l 5, m 2, vind 32\n",
      "l 5, m3\n",
      "l 5, m 3, vind 33\n",
      "l 5, m4\n",
      "l 5, m 4, vind 34\n",
      "l 5, m5\n",
      "l 5, m 5, vind 35\n",
      "l 5, m -5, vind 25\n",
      "l 5, m -4, vind 26\n",
      "l 5, m -3, vind 27\n",
      "l 5, m -2, vind 28\n",
      "l 5, m -1, vind 29\n",
      "l 6, m0\n",
      "l 6, m 0, vind 42\n",
      "l 6, m1\n",
      "l 6, m 1, vind 43\n",
      "l 6, m2\n",
      "l 6, m 2, vind 44\n",
      "l 6, m3\n",
      "l 6, m 3, vind 45\n",
      "l 6, m4\n",
      "l 6, m 4, vind 46\n",
      "l 6, m5\n",
      "l 6, m 5, vind 47\n",
      "l 6, m6\n",
      "l 6, m 6, vind 48\n",
      "l 6, m -6, vind 36\n",
      "l 6, m -5, vind 37\n",
      "l 6, m -4, vind 38\n",
      "l 6, m -3, vind 39\n",
      "l 6, m -2, vind 40\n",
      "l 6, m -1, vind 41\n",
      "l 7, m0\n",
      "l 7, m 0, vind 56\n",
      "l 7, m1\n",
      "l 7, m 1, vind 57\n",
      "l 7, m2\n",
      "l 7, m 2, vind 58\n",
      "l 7, m3\n",
      "l 7, m 3, vind 59\n",
      "l 7, m4\n",
      "l 7, m 4, vind 60\n",
      "l 7, m5\n",
      "l 7, m 5, vind 61\n",
      "l 7, m6\n",
      "l 7, m 6, vind 62\n",
      "l 7, m7\n",
      "l 7, m 7, vind 63\n",
      "l 7, m -7, vind 49\n",
      "l 7, m -6, vind 50\n",
      "l 7, m -5, vind 51\n",
      "l 7, m -4, vind 52\n",
      "l 7, m -3, vind 53\n",
      "l 7, m -2, vind 54\n",
      "l 7, m -1, vind 55\n",
      "l 8, m0\n",
      "l 8, m 0, vind 72\n",
      "l 8, m1\n",
      "l 8, m 1, vind 73\n",
      "l 8, m2\n",
      "l 8, m 2, vind 74\n",
      "l 8, m3\n",
      "l 8, m 3, vind 75\n",
      "l 8, m4\n",
      "l 8, m 4, vind 76\n",
      "l 8, m5\n",
      "l 8, m 5, vind 77\n",
      "l 8, m6\n",
      "l 8, m 6, vind 78\n",
      "l 8, m7\n",
      "l 8, m 7, vind 79\n",
      "l 8, m8\n",
      "l 8, m 8, vind 80\n",
      "l 8, m -8, vind 64\n",
      "l 8, m -7, vind 65\n",
      "l 8, m -6, vind 66\n",
      "l 8, m -5, vind 67\n",
      "l 8, m -4, vind 68\n",
      "l 8, m -3, vind 69\n",
      "l 8, m -2, vind 70\n",
      "l 8, m -1, vind 71\n",
      "l 9, m0\n",
      "l 9, m 0, vind 90\n",
      "l 9, m1\n",
      "l 9, m 1, vind 91\n",
      "l 9, m2\n",
      "l 9, m 2, vind 92\n",
      "l 9, m3\n",
      "l 9, m 3, vind 93\n",
      "l 9, m4\n",
      "l 9, m 4, vind 94\n",
      "l 9, m5\n",
      "l 9, m 5, vind 95\n",
      "l 9, m6\n",
      "l 9, m 6, vind 96\n",
      "l 9, m7\n",
      "l 9, m 7, vind 97\n",
      "l 9, m8\n",
      "l 9, m 8, vind 98\n",
      "l 9, m9\n",
      "l 9, m 9, vind 99\n",
      "l 9, m -9, vind 81\n",
      "l 9, m -8, vind 82\n",
      "l 9, m -7, vind 83\n",
      "l 9, m -6, vind 84\n",
      "l 9, m -5, vind 85\n",
      "l 9, m -4, vind 86\n",
      "l 9, m -3, vind 87\n",
      "l 9, m -2, vind 88\n",
      "l 9, m -1, vind 89\n",
      "l 10, m0\n",
      "l 10, m 0, vind 110\n",
      "l 10, m1\n",
      "l 10, m 1, vind 111\n",
      "l 10, m2\n",
      "l 10, m 2, vind 112\n",
      "l 10, m3\n",
      "l 10, m 3, vind 113\n",
      "l 10, m4\n",
      "l 10, m 4, vind 114\n",
      "l 10, m5\n",
      "l 10, m 5, vind 115\n",
      "l 10, m6\n",
      "l 10, m 6, vind 116\n",
      "l 10, m7\n",
      "l 10, m 7, vind 117\n",
      "l 10, m8\n",
      "l 10, m 8, vind 118\n",
      "l 10, m9\n",
      "l 10, m 9, vind 119\n",
      "l 10, m10\n",
      "l 10, m 10, vind 120\n",
      "l 10, m -10, vind 100\n",
      "l 10, m -9, vind 101\n",
      "l 10, m -8, vind 102\n",
      "l 10, m -7, vind 103\n",
      "l 10, m -6, vind 104\n",
      "l 10, m -5, vind 105\n",
      "l 10, m -4, vind 106\n",
      "l 10, m -3, vind 107\n",
      "l 10, m -2, vind 108\n",
      "l 10, m -1, vind 109\n",
      "l 11, m0\n",
      "l 11, m 0, vind 132\n",
      "l 11, m1\n",
      "l 11, m 1, vind 133\n",
      "l 11, m2\n",
      "l 11, m 2, vind 134\n",
      "l 11, m3\n",
      "l 11, m 3, vind 135\n",
      "l 11, m4\n",
      "l 11, m 4, vind 136\n",
      "l 11, m5\n",
      "l 11, m 5, vind 137\n",
      "l 11, m6\n",
      "l 11, m 6, vind 138\n",
      "l 11, m7\n",
      "l 11, m 7, vind 139\n",
      "l 11, m8\n",
      "l 11, m 8, vind 140\n",
      "l 11, m9\n",
      "l 11, m 9, vind 141\n",
      "l 11, m10\n",
      "l 11, m 10, vind 142\n",
      "l 11, m11\n",
      "l 11, m 11, vind 143\n",
      "l 11, m -11, vind 121\n",
      "l 11, m -10, vind 122\n",
      "l 11, m -9, vind 123\n",
      "l 11, m -8, vind 124\n",
      "l 11, m -7, vind 125\n",
      "l 11, m -6, vind 126\n",
      "l 11, m -5, vind 127\n",
      "l 11, m -4, vind 128\n",
      "l 11, m -3, vind 129\n",
      "l 11, m -2, vind 130\n",
      "l 11, m -1, vind 131\n",
      "l 12, m0\n",
      "l 12, m 0, vind 156\n",
      "l 12, m1\n",
      "l 12, m 1, vind 157\n",
      "l 12, m2\n",
      "l 12, m 2, vind 158\n",
      "l 12, m3\n",
      "l 12, m 3, vind 159\n",
      "l 12, m4\n",
      "l 12, m 4, vind 160\n",
      "l 12, m5\n",
      "l 12, m 5, vind 161\n",
      "l 12, m6\n",
      "l 12, m 6, vind 162\n",
      "l 12, m7\n",
      "l 12, m 7, vind 163\n",
      "l 12, m8\n",
      "l 12, m 8, vind 164\n",
      "l 12, m9\n",
      "l 12, m 9, vind 165\n",
      "l 12, m10\n",
      "l 12, m 10, vind 166\n",
      "l 12, m11\n",
      "l 12, m 11, vind 167\n",
      "l 12, m12\n",
      "l 12, m 12, vind 168\n",
      "l 12, m -12, vind 144\n",
      "l 12, m -11, vind 145\n",
      "l 12, m -10, vind 146\n",
      "l 12, m -9, vind 147\n",
      "l 12, m -8, vind 148\n",
      "l 12, m -7, vind 149\n",
      "l 12, m -6, vind 150\n",
      "l 12, m -5, vind 151\n",
      "l 12, m -4, vind 152\n",
      "l 12, m -3, vind 153\n",
      "l 12, m -2, vind 154\n",
      "l 12, m -1, vind 155\n",
      "l 13, m0\n",
      "l 13, m 0, vind 182\n",
      "l 13, m1\n",
      "l 13, m 1, vind 183\n",
      "l 13, m2\n",
      "l 13, m 2, vind 184\n",
      "l 13, m3\n",
      "l 13, m 3, vind 185\n",
      "l 13, m4\n",
      "l 13, m 4, vind 186\n",
      "l 13, m5\n",
      "l 13, m 5, vind 187\n",
      "l 13, m6\n",
      "l 13, m 6, vind 188\n",
      "l 13, m7\n",
      "l 13, m 7, vind 189\n",
      "l 13, m8\n",
      "l 13, m 8, vind 190\n",
      "l 13, m9\n",
      "l 13, m 9, vind 191\n",
      "l 13, m10\n",
      "l 13, m 10, vind 192\n",
      "l 13, m11\n",
      "l 13, m 11, vind 193\n",
      "l 13, m12\n",
      "l 13, m 12, vind 194\n",
      "l 13, m13\n",
      "l 13, m 13, vind 195\n",
      "l 13, m -13, vind 169\n",
      "l 13, m -12, vind 170\n",
      "l 13, m -11, vind 171\n",
      "l 13, m -10, vind 172\n",
      "l 13, m -9, vind 173\n",
      "l 13, m -8, vind 174\n",
      "l 13, m -7, vind 175\n",
      "l 13, m -6, vind 176\n",
      "l 13, m -5, vind 177\n",
      "l 13, m -4, vind 178\n",
      "l 13, m -3, vind 179\n",
      "l 13, m -2, vind 180\n",
      "l 13, m -1, vind 181\n",
      "l 14, m0\n",
      "l 14, m 0, vind 210\n",
      "l 14, m1\n",
      "l 14, m 1, vind 211\n",
      "l 14, m2\n",
      "l 14, m 2, vind 212\n",
      "l 14, m3\n",
      "l 14, m 3, vind 213\n",
      "l 14, m4\n",
      "l 14, m 4, vind 214\n",
      "l 14, m5\n",
      "l 14, m 5, vind 215\n",
      "l 14, m6\n",
      "l 14, m 6, vind 216\n",
      "l 14, m7\n",
      "l 14, m 7, vind 217\n",
      "l 14, m8\n",
      "l 14, m 8, vind 218\n",
      "l 14, m9\n",
      "l 14, m 9, vind 219\n",
      "l 14, m10\n",
      "l 14, m 10, vind 220\n",
      "l 14, m11\n",
      "l 14, m 11, vind 221\n",
      "l 14, m12\n",
      "l 14, m 12, vind 222\n",
      "l 14, m13\n",
      "l 14, m 13, vind 223\n",
      "l 14, m14\n",
      "l 14, m 14, vind 224\n",
      "l 14, m -14, vind 196\n",
      "l 14, m -13, vind 197\n",
      "l 14, m -12, vind 198\n",
      "l 14, m -11, vind 199\n",
      "l 14, m -10, vind 200\n",
      "l 14, m -9, vind 201\n",
      "l 14, m -8, vind 202\n",
      "l 14, m -7, vind 203\n",
      "l 14, m -6, vind 204\n",
      "l 14, m -5, vind 205\n",
      "l 14, m -4, vind 206\n",
      "l 14, m -3, vind 207\n",
      "l 14, m -2, vind 208\n",
      "l 14, m -1, vind 209\n"
     ]
    }
   ],
   "source": [
    "spmodes = SHExpand(func, gl_info, minfo2, err_info=False)"
   ]
  },
  {
   "cell_type": "code",
   "execution_count": 12,
   "metadata": {},
   "outputs": [
    {
     "data": {
      "text/plain": [
       "np.complex128(-0.02244383530366422+0j)"
      ]
     },
     "execution_count": 12,
     "metadata": {},
     "output_type": "execute_result"
    }
   ],
   "source": [
    "spmodes.mode(8, 0)"
   ]
  },
  {
   "cell_type": "code",
   "execution_count": null,
   "metadata": {},
   "outputs": [
    {
     "data": {
      "text/plain": [
       "(-0.02244383530366422+0j)"
      ]
     },
     "execution_count": 15,
     "metadata": {},
     "output_type": "execute_result"
    }
   ],
   "source": [
    "spmodes.mode(8, 0)"
   ]
  },
  {
   "cell_type": "code",
   "execution_count": null,
   "metadata": {},
   "outputs": [
    {
     "data": {
      "text/plain": [
       "(-0.02244371477198641+0j)"
      ]
     },
     "execution_count": 16,
     "metadata": {},
     "output_type": "execute_result"
    }
   ],
   "source": [
    "wfmodes.mode(8, 0)"
   ]
  },
  {
   "cell_type": "code",
   "execution_count": null,
   "metadata": {},
   "outputs": [
    {
     "data": {
      "text/plain": [
       "1.4142134673670463"
      ]
     },
     "execution_count": 17,
     "metadata": {},
     "output_type": "execute_result"
    }
   ],
   "source": [
    "3.5449077018110318/2.5066284430248484"
   ]
  },
  {
   "cell_type": "code",
   "execution_count": null,
   "metadata": {},
   "outputs": [
    {
     "data": {
      "text/plain": [
       "1.4142135623730951"
      ]
     },
     "execution_count": 18,
     "metadata": {},
     "output_type": "execute_result"
    }
   ],
   "source": [
    "np.sqrt(2)"
   ]
  },
  {
   "cell_type": "code",
   "execution_count": null,
   "metadata": {},
   "outputs": [],
   "source": [
    "aaa = np.array([-2, -1, 0, 1, 2])"
   ]
  },
  {
   "cell_type": "code",
   "execution_count": null,
   "metadata": {},
   "outputs": [
    {
     "data": {
      "text/plain": [
       "array([1, 2])"
      ]
     },
     "execution_count": 20,
     "metadata": {},
     "output_type": "execute_result"
    }
   ],
   "source": [
    "aaa[aaa>0]"
   ]
  },
  {
   "cell_type": "code",
   "execution_count": 13,
   "metadata": {},
   "outputs": [
    {
     "data": {
      "text/plain": [
       "np.clongdouble('1.0000000000000531427+9.6296497219361792653e-35j')"
      ]
     },
     "execution_count": 13,
     "metadata": {},
     "output_type": "execute_result"
    }
   ],
   "source": [
    "wfmodes.evaluate_old(theta=np.pi/2 , phi=0, ell_max=wfmodes.ell_max)"
   ]
  },
  {
   "cell_type": "code",
   "execution_count": 14,
   "metadata": {},
   "outputs": [
    {
     "name": "stdout",
     "output_type": "stream",
     "text": [
      "12.1 s ± 983 ms per loop (mean ± std. dev. of 7 runs, 1 loop each)\n"
     ]
    }
   ],
   "source": [
    "%%timeit\n",
    "wfmodes.evaluate_old(theta=np.pi/2 , phi=0, ell_max=wfmodes.ell_max)"
   ]
  },
  {
   "cell_type": "code",
   "execution_count": 16,
   "metadata": {},
   "outputs": [
    {
     "data": {
      "text/plain": [
       "array(1.-8.75142567e-31j)"
      ]
     },
     "execution_count": 16,
     "metadata": {},
     "output_type": "execute_result"
    }
   ],
   "source": [
    "wfmodes.evaluate(theta=np.pi/2 , phi=0, ell_max=wfmodes.ell_max)"
   ]
  },
  {
   "cell_type": "code",
   "execution_count": 12,
   "metadata": {},
   "outputs": [
    {
     "data": {
      "text/plain": [
       "(15, 30)"
      ]
     },
     "execution_count": 12,
     "metadata": {},
     "output_type": "execute_result"
    }
   ],
   "source": [
    "wfmodes.evaluate(theta=theta_grid , phi=phi_grid, ell_max=wfmodes.ell_max).shape"
   ]
  },
  {
   "cell_type": "code",
   "execution_count": 17,
   "metadata": {},
   "outputs": [
    {
     "name": "stdout",
     "output_type": "stream",
     "text": [
      "7.05 s ± 865 ms per loop (mean ± std. dev. of 7 runs, 1 loop each)\n"
     ]
    }
   ],
   "source": [
    "%%timeit\n",
    "wfmodes.evaluate(theta=np.pi/2 , phi=0, ell_max=wfmodes.ell_max)"
   ]
  },
  {
   "cell_type": "code",
   "execution_count": 14,
   "metadata": {},
   "outputs": [
    {
     "data": {
      "text/plain": [
       "float"
      ]
     },
     "execution_count": 14,
     "metadata": {},
     "output_type": "execute_result"
    }
   ],
   "source": [
    "m = 2.0\n",
    "\n",
    "type(m)"
   ]
  },
  {
   "cell_type": "code",
   "execution_count": 16,
   "metadata": {},
   "outputs": [
    {
     "name": "stdout",
     "output_type": "stream",
     "text": [
      "1\n"
     ]
    }
   ],
   "source": [
    "if int(m)==m:\n",
    "    print(1)"
   ]
  },
  {
   "cell_type": "code",
   "execution_count": 10,
   "metadata": {},
   "outputs": [
    {
     "data": {
      "text/plain": [
       "(1.0000000000000526+0j)"
      ]
     },
     "execution_count": 10,
     "metadata": {},
     "output_type": "execute_result"
    }
   ],
   "source": [
    "wfmodes.evaluate_sp(theta=np.pi/2 , phi=0, ell_max=wfmodes.ell_max)"
   ]
  },
  {
   "cell_type": "code",
   "execution_count": 85,
   "metadata": {},
   "outputs": [
    {
     "data": {
      "text/plain": [
       "<module 'spectral.spherical.swsh' from '/home/vaishakprasad/Documents/Projects/Codes/custom_libraries/spectral/spectral/spherical/swsh.py'>"
      ]
     },
     "execution_count": 85,
     "metadata": {},
     "output_type": "execute_result"
    }
   ],
   "source": [
    "from importlib import reload\n",
    "import spectral\n",
    "reload(spectral.spherical.swsh)"
   ]
  },
  {
   "cell_type": "code",
   "execution_count": 86,
   "metadata": {},
   "outputs": [],
   "source": [
    "from spectral.spherical.swsh import create_Ylm_modes_array"
   ]
  },
  {
   "cell_type": "code",
   "execution_count": 87,
   "metadata": {},
   "outputs": [],
   "source": [
    "sYlm = create_Ylm_modes_array(theta=np.pi/2, phi=0.0, ell_max=2, spin_weight=-2)"
   ]
  },
  {
   "cell_type": "code",
   "execution_count": 88,
   "metadata": {},
   "outputs": [
    {
     "data": {
      "text/plain": [
       "(0.15769578262625997-3.862432708645721e-17j)"
      ]
     },
     "execution_count": 88,
     "metadata": {},
     "output_type": "execute_result"
    }
   ],
   "source": [
    "sYlm.mode(2, 2)"
   ]
  },
  {
   "cell_type": "code",
   "execution_count": 89,
   "metadata": {},
   "outputs": [
    {
     "data": {
      "text/plain": [
       "(0.3862742020231896+0j)"
      ]
     },
     "execution_count": 89,
     "metadata": {},
     "output_type": "execute_result"
    }
   ],
   "source": [
    "Yslm(spin_weight=0, theta=np.pi/2, phi=0, ell=2, emm=2)"
   ]
  },
  {
   "cell_type": "code",
   "execution_count": 37,
   "metadata": {},
   "outputs": [
    {
     "data": {
      "text/plain": [
       "<module 'spectral.spherical.Yslm_mp' from '/home/vaishakprasad/Documents/Projects/Codes/custom_libraries/spectral/spectral/spherical/Yslm_mp.py'>"
      ]
     },
     "execution_count": 37,
     "metadata": {},
     "output_type": "execute_result"
    }
   ],
   "source": [
    "from importlib import reload\n",
    "import spectral\n",
    "reload(spectral.spherical.Yslm_mp)"
   ]
  },
  {
   "cell_type": "code",
   "execution_count": 18,
   "metadata": {},
   "outputs": [],
   "source": [
    "from spectral.spherical.Yslm_mp import Yslm_mp"
   ]
  },
  {
   "cell_type": "code",
   "execution_count": 19,
   "metadata": {},
   "outputs": [
    {
     "data": {
      "text/plain": [
       "array([[0.15512311, 0.15512311, 0.15512311, 0.15512311, 0.15512311,\n",
       "        0.15512311, 0.15512311, 0.15512311, 0.15512311, 0.15512311,\n",
       "        0.15512311, 0.15512311, 0.15512311, 0.15512311, 0.15512311,\n",
       "        0.15512311, 0.15512311, 0.15512311, 0.15512311, 0.15512311,\n",
       "        0.15512311, 0.15512311, 0.15512311, 0.15512311, 0.15512311,\n",
       "        0.15512311, 0.15512311, 0.15512311, 0.15512311, 0.15512311],\n",
       "       [0.35607183, 0.35607183, 0.35607183, 0.35607183, 0.35607183,\n",
       "        0.35607183, 0.35607183, 0.35607183, 0.35607183, 0.35607183,\n",
       "        0.35607183, 0.35607183, 0.35607183, 0.35607183, 0.35607183,\n",
       "        0.35607183, 0.35607183, 0.35607183, 0.35607183, 0.35607183,\n",
       "        0.35607183, 0.35607183, 0.35607183, 0.35607183, 0.35607183,\n",
       "        0.35607183, 0.35607183, 0.35607183, 0.35607183, 0.35607183],\n",
       "       [0.55820621, 0.55820621, 0.55820621, 0.55820621, 0.55820621,\n",
       "        0.55820621, 0.55820621, 0.55820621, 0.55820621, 0.55820621,\n",
       "        0.55820621, 0.55820621, 0.55820621, 0.55820621, 0.55820621,\n",
       "        0.55820621, 0.55820621, 0.55820621, 0.55820621, 0.55820621,\n",
       "        0.55820621, 0.55820621, 0.55820621, 0.55820621, 0.55820621,\n",
       "        0.55820621, 0.55820621, 0.55820621, 0.55820621, 0.55820621],\n",
       "       [0.76060696, 0.76060696, 0.76060696, 0.76060696, 0.76060696,\n",
       "        0.76060696, 0.76060696, 0.76060696, 0.76060696, 0.76060696,\n",
       "        0.76060696, 0.76060696, 0.76060696, 0.76060696, 0.76060696,\n",
       "        0.76060696, 0.76060696, 0.76060696, 0.76060696, 0.76060696,\n",
       "        0.76060696, 0.76060696, 0.76060696, 0.76060696, 0.76060696,\n",
       "        0.76060696, 0.76060696, 0.76060696, 0.76060696, 0.76060696],\n",
       "       [0.96310678, 0.96310678, 0.96310678, 0.96310678, 0.96310678,\n",
       "        0.96310678, 0.96310678, 0.96310678, 0.96310678, 0.96310678,\n",
       "        0.96310678, 0.96310678, 0.96310678, 0.96310678, 0.96310678,\n",
       "        0.96310678, 0.96310678, 0.96310678, 0.96310678, 0.96310678,\n",
       "        0.96310678, 0.96310678, 0.96310678, 0.96310678, 0.96310678,\n",
       "        0.96310678, 0.96310678, 0.96310678, 0.96310678, 0.96310678],\n",
       "       [1.16565207, 1.16565207, 1.16565207, 1.16565207, 1.16565207,\n",
       "        1.16565207, 1.16565207, 1.16565207, 1.16565207, 1.16565207,\n",
       "        1.16565207, 1.16565207, 1.16565207, 1.16565207, 1.16565207,\n",
       "        1.16565207, 1.16565207, 1.16565207, 1.16565207, 1.16565207,\n",
       "        1.16565207, 1.16565207, 1.16565207, 1.16565207, 1.16565207,\n",
       "        1.16565207, 1.16565207, 1.16565207, 1.16565207, 1.16565207],\n",
       "       [1.36821954, 1.36821954, 1.36821954, 1.36821954, 1.36821954,\n",
       "        1.36821954, 1.36821954, 1.36821954, 1.36821954, 1.36821954,\n",
       "        1.36821954, 1.36821954, 1.36821954, 1.36821954, 1.36821954,\n",
       "        1.36821954, 1.36821954, 1.36821954, 1.36821954, 1.36821954,\n",
       "        1.36821954, 1.36821954, 1.36821954, 1.36821954, 1.36821954,\n",
       "        1.36821954, 1.36821954, 1.36821954, 1.36821954, 1.36821954],\n",
       "       [1.57079633, 1.57079633, 1.57079633, 1.57079633, 1.57079633,\n",
       "        1.57079633, 1.57079633, 1.57079633, 1.57079633, 1.57079633,\n",
       "        1.57079633, 1.57079633, 1.57079633, 1.57079633, 1.57079633,\n",
       "        1.57079633, 1.57079633, 1.57079633, 1.57079633, 1.57079633,\n",
       "        1.57079633, 1.57079633, 1.57079633, 1.57079633, 1.57079633,\n",
       "        1.57079633, 1.57079633, 1.57079633, 1.57079633, 1.57079633],\n",
       "       [1.77337312, 1.77337312, 1.77337312, 1.77337312, 1.77337312,\n",
       "        1.77337312, 1.77337312, 1.77337312, 1.77337312, 1.77337312,\n",
       "        1.77337312, 1.77337312, 1.77337312, 1.77337312, 1.77337312,\n",
       "        1.77337312, 1.77337312, 1.77337312, 1.77337312, 1.77337312,\n",
       "        1.77337312, 1.77337312, 1.77337312, 1.77337312, 1.77337312,\n",
       "        1.77337312, 1.77337312, 1.77337312, 1.77337312, 1.77337312],\n",
       "       [1.97594059, 1.97594059, 1.97594059, 1.97594059, 1.97594059,\n",
       "        1.97594059, 1.97594059, 1.97594059, 1.97594059, 1.97594059,\n",
       "        1.97594059, 1.97594059, 1.97594059, 1.97594059, 1.97594059,\n",
       "        1.97594059, 1.97594059, 1.97594059, 1.97594059, 1.97594059,\n",
       "        1.97594059, 1.97594059, 1.97594059, 1.97594059, 1.97594059,\n",
       "        1.97594059, 1.97594059, 1.97594059, 1.97594059, 1.97594059],\n",
       "       [2.17848587, 2.17848587, 2.17848587, 2.17848587, 2.17848587,\n",
       "        2.17848587, 2.17848587, 2.17848587, 2.17848587, 2.17848587,\n",
       "        2.17848587, 2.17848587, 2.17848587, 2.17848587, 2.17848587,\n",
       "        2.17848587, 2.17848587, 2.17848587, 2.17848587, 2.17848587,\n",
       "        2.17848587, 2.17848587, 2.17848587, 2.17848587, 2.17848587,\n",
       "        2.17848587, 2.17848587, 2.17848587, 2.17848587, 2.17848587],\n",
       "       [2.3809857 , 2.3809857 , 2.3809857 , 2.3809857 , 2.3809857 ,\n",
       "        2.3809857 , 2.3809857 , 2.3809857 , 2.3809857 , 2.3809857 ,\n",
       "        2.3809857 , 2.3809857 , 2.3809857 , 2.3809857 , 2.3809857 ,\n",
       "        2.3809857 , 2.3809857 , 2.3809857 , 2.3809857 , 2.3809857 ,\n",
       "        2.3809857 , 2.3809857 , 2.3809857 , 2.3809857 , 2.3809857 ,\n",
       "        2.3809857 , 2.3809857 , 2.3809857 , 2.3809857 , 2.3809857 ],\n",
       "       [2.58338644, 2.58338644, 2.58338644, 2.58338644, 2.58338644,\n",
       "        2.58338644, 2.58338644, 2.58338644, 2.58338644, 2.58338644,\n",
       "        2.58338644, 2.58338644, 2.58338644, 2.58338644, 2.58338644,\n",
       "        2.58338644, 2.58338644, 2.58338644, 2.58338644, 2.58338644,\n",
       "        2.58338644, 2.58338644, 2.58338644, 2.58338644, 2.58338644,\n",
       "        2.58338644, 2.58338644, 2.58338644, 2.58338644, 2.58338644],\n",
       "       [2.78552082, 2.78552082, 2.78552082, 2.78552082, 2.78552082,\n",
       "        2.78552082, 2.78552082, 2.78552082, 2.78552082, 2.78552082,\n",
       "        2.78552082, 2.78552082, 2.78552082, 2.78552082, 2.78552082,\n",
       "        2.78552082, 2.78552082, 2.78552082, 2.78552082, 2.78552082,\n",
       "        2.78552082, 2.78552082, 2.78552082, 2.78552082, 2.78552082,\n",
       "        2.78552082, 2.78552082, 2.78552082, 2.78552082, 2.78552082],\n",
       "       [2.98646955, 2.98646955, 2.98646955, 2.98646955, 2.98646955,\n",
       "        2.98646955, 2.98646955, 2.98646955, 2.98646955, 2.98646955,\n",
       "        2.98646955, 2.98646955, 2.98646955, 2.98646955, 2.98646955,\n",
       "        2.98646955, 2.98646955, 2.98646955, 2.98646955, 2.98646955,\n",
       "        2.98646955, 2.98646955, 2.98646955, 2.98646955, 2.98646955,\n",
       "        2.98646955, 2.98646955, 2.98646955, 2.98646955, 2.98646955]])"
      ]
     },
     "execution_count": 19,
     "metadata": {},
     "output_type": "execute_result"
    }
   ],
   "source": [
    "theta_grid"
   ]
  },
  {
   "cell_type": "code",
   "execution_count": 20,
   "metadata": {},
   "outputs": [],
   "source": [
    "cYslm = Yslm_mp(ell_max=14, spin_weight=0, grid_info=gl_info)"
   ]
  },
  {
   "cell_type": "code",
   "execution_count": 21,
   "metadata": {},
   "outputs": [],
   "source": [
    "cYslm.run()"
   ]
  },
  {
   "cell_type": "code",
   "execution_count": 22,
   "metadata": {},
   "outputs": [
    {
     "data": {
      "text/plain": [
       "array([[ 0.00922067+0.00000000e+00j,  0.0084235 +3.75038362e-03j,\n",
       "         0.00616983+6.85229184e-03j,  0.00284934+8.76937655e-03j,\n",
       "        -0.00096382+9.17015639e-03j, -0.00461033+7.98533288e-03j,\n",
       "        -0.00745968+5.41977277e-03j, -0.00901917+1.91708471e-03j,\n",
       "        -0.00901917-1.91708471e-03j, -0.00745968-5.41977277e-03j,\n",
       "        -0.00461033-7.98533288e-03j, -0.00096382-9.17015639e-03j,\n",
       "         0.00284934-8.76937655e-03j,  0.00616983-6.85229184e-03j,\n",
       "         0.0084235 -3.75038362e-03j,  0.00922067-2.25841235e-18j,\n",
       "         0.0084235 +3.75038362e-03j,  0.00616983+6.85229184e-03j,\n",
       "         0.00284934+8.76937655e-03j, -0.00096382+9.17015639e-03j,\n",
       "        -0.00461033+7.98533288e-03j, -0.00745968+5.41977277e-03j,\n",
       "        -0.00901917+1.91708471e-03j, -0.00901917-1.91708471e-03j,\n",
       "        -0.00745968-5.41977277e-03j, -0.00461033-7.98533288e-03j,\n",
       "        -0.00096382-9.17015639e-03j,  0.00284934-8.76937655e-03j,\n",
       "         0.00616983-6.85229184e-03j,  0.0084235 -3.75038362e-03j],\n",
       "       [ 0.0469395 +0.00000000e+00j,  0.04288136+1.90920129e-02j,\n",
       "         0.03140865+3.48828432e-02j,  0.0145051 +4.46421131e-02j,\n",
       "        -0.00490651+4.66823561e-02j, -0.02346975+4.06507956e-02j,\n",
       "        -0.03797485+2.75903432e-02j, -0.04591375+9.75926989e-03j,\n",
       "        -0.04591375-9.75926989e-03j, -0.03797485-2.75903432e-02j,\n",
       "        -0.02346975-4.06507956e-02j, -0.00490651-4.66823561e-02j,\n",
       "         0.0145051 -4.46421131e-02j,  0.03140865-3.48828432e-02j,\n",
       "         0.04288136-1.90920129e-02j,  0.0469395 -1.14968606e-17j,\n",
       "         0.04288136+1.90920129e-02j,  0.03140865+3.48828432e-02j,\n",
       "         0.0145051 +4.46421131e-02j, -0.00490651+4.66823561e-02j,\n",
       "        -0.02346975+4.06507956e-02j, -0.03797485+2.75903432e-02j,\n",
       "        -0.04591375+9.75926989e-03j, -0.04591375-9.75926989e-03j,\n",
       "        -0.03797485-2.75903432e-02j, -0.02346975-4.06507956e-02j,\n",
       "        -0.00490651-4.66823561e-02j,  0.0145051 -4.46421131e-02j,\n",
       "         0.03140865-3.48828432e-02j,  0.04288136-1.90920129e-02j],\n",
       "       [ 0.10836752+0.00000000e+00j,  0.09899866+4.40770432e-02j,\n",
       "         0.07251203+8.05327652e-02j,  0.03348741+1.03063640e-01j,\n",
       "        -0.01132749+1.07773876e-01j, -0.05418376+9.38490293e-02j,\n",
       "        -0.08767117+6.36968328e-02j, -0.10599943+2.25308753e-02j,\n",
       "        -0.10599943-2.25308753e-02j, -0.08767117-6.36968328e-02j,\n",
       "        -0.05418376-9.38490293e-02j, -0.01132749-1.07773876e-01j,\n",
       "         0.03348741-1.03063640e-01j,  0.07251203-8.05327652e-02j,\n",
       "         0.09899866-4.40770432e-02j,  0.10836752-2.65423884e-17j,\n",
       "         0.09899866+4.40770432e-02j,  0.07251203+8.05327652e-02j,\n",
       "         0.03348741+1.03063640e-01j, -0.01132749+1.07773876e-01j,\n",
       "        -0.05418376+9.38490293e-02j, -0.08767117+6.36968328e-02j,\n",
       "        -0.10599943+2.25308753e-02j, -0.10599943-2.25308753e-02j,\n",
       "        -0.08767117-6.36968328e-02j, -0.05418376-9.38490293e-02j,\n",
       "        -0.01132749-1.07773876e-01j,  0.03348741-1.03063640e-01j,\n",
       "         0.07251203-8.05327652e-02j,  0.09899866-4.40770432e-02j],\n",
       "       [ 0.18356482+0.00000000e+00j,  0.16769481+7.46625390e-02j,\n",
       "         0.12282884+1.36415247e-01j,  0.05672465+1.74580519e-01j,\n",
       "        -0.01918775+1.82559234e-01j, -0.09178241+1.58971798e-01j,\n",
       "        -0.14850706+1.07896695e-01j, -0.17955349+3.81652723e-02j,\n",
       "        -0.17955349-3.81652723e-02j, -0.14850706-1.07896695e-01j,\n",
       "        -0.09178241-1.58971798e-01j, -0.01918775-1.82559234e-01j,\n",
       "         0.05672465-1.74580519e-01j,  0.12282884-1.36415247e-01j,\n",
       "         0.16769481-7.46625390e-02j,  0.18356482-4.49604141e-17j,\n",
       "         0.16769481+7.46625390e-02j,  0.12282884+1.36415247e-01j,\n",
       "         0.05672465+1.74580519e-01j, -0.01918775+1.82559234e-01j,\n",
       "        -0.09178241+1.58971798e-01j, -0.14850706+1.07896695e-01j,\n",
       "        -0.17955349+3.81652723e-02j, -0.17955349-3.81652723e-02j,\n",
       "        -0.14850706-1.07896695e-01j, -0.09178241-1.58971798e-01j,\n",
       "        -0.01918775-1.82559234e-01j,  0.05672465-1.74580519e-01j,\n",
       "         0.12282884-1.36415247e-01j,  0.16769481-7.46625390e-02j],\n",
       "       [ 0.26034525+0.00000000e+00j,  0.23783722+1.05891953e-01j,\n",
       "         0.17420497+1.93474225e-01j,  0.08045111+2.47603046e-01j,\n",
       "        -0.02721349+2.58919051e-01j, -0.13017262+2.25465600e-01j,\n",
       "        -0.21062373+1.53027098e-01j, -0.25465608+5.41288211e-02j,\n",
       "        -0.25465608-5.41288211e-02j, -0.21062373-1.53027098e-01j,\n",
       "        -0.13017262-2.25465600e-01j, -0.02721349-2.58919051e-01j,\n",
       "         0.08045111-2.47603046e-01j,  0.17420497-1.93474225e-01j,\n",
       "         0.23783722-1.05891953e-01j,  0.26034525-6.37661954e-17j,\n",
       "         0.23783722+1.05891953e-01j,  0.17420497+1.93474225e-01j,\n",
       "         0.08045111+2.47603046e-01j, -0.02721349+2.58919051e-01j,\n",
       "        -0.13017262+2.25465600e-01j, -0.21062373+1.53027098e-01j,\n",
       "        -0.25465608+5.41288211e-02j, -0.25465608-5.41288211e-02j,\n",
       "        -0.21062373-1.53027098e-01j, -0.13017262-2.25465600e-01j,\n",
       "        -0.02721349-2.58919051e-01j,  0.08045111-2.47603046e-01j,\n",
       "         0.17420497-1.93474225e-01j,  0.23783722-1.05891953e-01j],\n",
       "       [ 0.32626446+0.00000000e+00j,  0.29805742+1.32703713e-01j,\n",
       "         0.21831354+2.42461748e-01j,  0.10082126+3.10295944e-01j,\n",
       "        -0.03410392+3.24477153e-01j, -0.16313223+2.82553314e-01j,\n",
       "        -0.2639535 +1.91773440e-01j, -0.3191348 +6.78341963e-02j,\n",
       "        -0.3191348 -6.78341963e-02j, -0.2639535 -1.91773440e-01j,\n",
       "        -0.16313223-2.82553314e-01j, -0.03410392-3.24477153e-01j,\n",
       "         0.10082126-3.10295944e-01j,  0.21831354-2.42461748e-01j,\n",
       "         0.29805742-1.32703713e-01j,  0.32626446-7.99117462e-17j,\n",
       "         0.29805742+1.32703713e-01j,  0.21831354+2.42461748e-01j,\n",
       "         0.10082126+3.10295944e-01j, -0.03410392+3.24477153e-01j,\n",
       "        -0.16313223+2.82553314e-01j, -0.2639535 +1.91773440e-01j,\n",
       "        -0.3191348 +6.78341963e-02j, -0.3191348 -6.78341963e-02j,\n",
       "        -0.2639535 -1.91773440e-01j, -0.16313223-2.82553314e-01j,\n",
       "        -0.03410392-3.24477153e-01j,  0.10082126-3.10295944e-01j,\n",
       "         0.21831354-2.42461748e-01j,  0.29805742-1.32703713e-01j],\n",
       "       [ 0.37063818+0.00000000e+00j,  0.33859483+1.50752131e-01j,\n",
       "         0.24800535+2.75437849e-01j,  0.1145335 +3.52497860e-01j,\n",
       "        -0.03874224+3.68607789e-01j, -0.18531909+3.20982083e-01j,\n",
       "        -0.29985259+2.17855659e-01j, -0.36253885+7.70600115e-02j,\n",
       "        -0.36253885-7.70600115e-02j, -0.29985259-2.17855659e-01j,\n",
       "        -0.18531909-3.20982083e-01j, -0.03874224-3.68607789e-01j,\n",
       "         0.1145335 -3.52497860e-01j,  0.24800535-2.75437849e-01j,\n",
       "         0.33859483-1.50752131e-01j,  0.37063818-9.07801732e-17j,\n",
       "         0.33859483+1.50752131e-01j,  0.24800535+2.75437849e-01j,\n",
       "         0.1145335 +3.52497860e-01j, -0.03874224+3.68607789e-01j,\n",
       "        -0.18531909+3.20982083e-01j, -0.29985259+2.17855659e-01j,\n",
       "        -0.36253885+7.70600115e-02j, -0.36253885-7.70600115e-02j,\n",
       "        -0.29985259-2.17855659e-01j, -0.18531909-3.20982083e-01j,\n",
       "        -0.03874224-3.68607789e-01j,  0.1145335 -3.52497860e-01j,\n",
       "         0.24800535-2.75437849e-01j,  0.33859483-1.50752131e-01j],\n",
       "       [ 0.3862742 +0.00000000e+00j,  0.35287904+1.57111872e-01j,\n",
       "         0.25846789+2.87057674e-01j,  0.11936529+3.67368597e-01j,\n",
       "        -0.04037665+3.84158152e-01j, -0.1931371 +3.34523272e-01j,\n",
       "        -0.31250239+2.27046279e-01j, -0.37783318+8.03109225e-02j,\n",
       "        -0.37783318-8.03109225e-02j, -0.31250239-2.27046279e-01j,\n",
       "        -0.1931371 -3.34523272e-01j, -0.04037665-3.84158152e-01j,\n",
       "         0.11936529-3.67368597e-01j,  0.25846789-2.87057674e-01j,\n",
       "         0.35287904-1.57111872e-01j,  0.3862742 -9.46098930e-17j,\n",
       "         0.35287904+1.57111872e-01j,  0.25846789+2.87057674e-01j,\n",
       "         0.11936529+3.67368597e-01j, -0.04037665+3.84158152e-01j,\n",
       "        -0.1931371 +3.34523272e-01j, -0.31250239+2.27046279e-01j,\n",
       "        -0.37783318+8.03109225e-02j, -0.37783318-8.03109225e-02j,\n",
       "        -0.31250239-2.27046279e-01j, -0.1931371 -3.34523272e-01j,\n",
       "        -0.04037665-3.84158152e-01j,  0.11936529-3.67368597e-01j,\n",
       "         0.25846789-2.87057674e-01j,  0.35287904-1.57111872e-01j],\n",
       "       [ 0.37063818+0.00000000e+00j,  0.33859483+1.50752131e-01j,\n",
       "         0.24800535+2.75437849e-01j,  0.1145335 +3.52497860e-01j,\n",
       "        -0.03874224+3.68607789e-01j, -0.18531909+3.20982083e-01j,\n",
       "        -0.29985259+2.17855659e-01j, -0.36253885+7.70600115e-02j,\n",
       "        -0.36253885-7.70600115e-02j, -0.29985259-2.17855659e-01j,\n",
       "        -0.18531909-3.20982083e-01j, -0.03874224-3.68607789e-01j,\n",
       "         0.1145335 -3.52497860e-01j,  0.24800535-2.75437849e-01j,\n",
       "         0.33859483-1.50752131e-01j,  0.37063818-9.07801732e-17j,\n",
       "         0.33859483+1.50752131e-01j,  0.24800535+2.75437849e-01j,\n",
       "         0.1145335 +3.52497860e-01j, -0.03874224+3.68607789e-01j,\n",
       "        -0.18531909+3.20982083e-01j, -0.29985259+2.17855659e-01j,\n",
       "        -0.36253885+7.70600115e-02j, -0.36253885-7.70600115e-02j,\n",
       "        -0.29985259-2.17855659e-01j, -0.18531909-3.20982083e-01j,\n",
       "        -0.03874224-3.68607789e-01j,  0.1145335 -3.52497860e-01j,\n",
       "         0.24800535-2.75437849e-01j,  0.33859483-1.50752131e-01j],\n",
       "       [ 0.32626446+0.00000000e+00j,  0.29805742+1.32703713e-01j,\n",
       "         0.21831354+2.42461748e-01j,  0.10082126+3.10295944e-01j,\n",
       "        -0.03410392+3.24477153e-01j, -0.16313223+2.82553314e-01j,\n",
       "        -0.2639535 +1.91773440e-01j, -0.3191348 +6.78341963e-02j,\n",
       "        -0.3191348 -6.78341963e-02j, -0.2639535 -1.91773440e-01j,\n",
       "        -0.16313223-2.82553314e-01j, -0.03410392-3.24477153e-01j,\n",
       "         0.10082126-3.10295944e-01j,  0.21831354-2.42461748e-01j,\n",
       "         0.29805742-1.32703713e-01j,  0.32626446-7.99117462e-17j,\n",
       "         0.29805742+1.32703713e-01j,  0.21831354+2.42461748e-01j,\n",
       "         0.10082126+3.10295944e-01j, -0.03410392+3.24477153e-01j,\n",
       "        -0.16313223+2.82553314e-01j, -0.2639535 +1.91773440e-01j,\n",
       "        -0.3191348 +6.78341963e-02j, -0.3191348 -6.78341963e-02j,\n",
       "        -0.2639535 -1.91773440e-01j, -0.16313223-2.82553314e-01j,\n",
       "        -0.03410392-3.24477153e-01j,  0.10082126-3.10295944e-01j,\n",
       "         0.21831354-2.42461748e-01j,  0.29805742-1.32703713e-01j],\n",
       "       [ 0.26034525+0.00000000e+00j,  0.23783722+1.05891953e-01j,\n",
       "         0.17420497+1.93474225e-01j,  0.08045111+2.47603046e-01j,\n",
       "        -0.02721349+2.58919051e-01j, -0.13017262+2.25465600e-01j,\n",
       "        -0.21062373+1.53027098e-01j, -0.25465608+5.41288211e-02j,\n",
       "        -0.25465608-5.41288211e-02j, -0.21062373-1.53027098e-01j,\n",
       "        -0.13017262-2.25465600e-01j, -0.02721349-2.58919051e-01j,\n",
       "         0.08045111-2.47603046e-01j,  0.17420497-1.93474225e-01j,\n",
       "         0.23783722-1.05891953e-01j,  0.26034525-6.37661954e-17j,\n",
       "         0.23783722+1.05891953e-01j,  0.17420497+1.93474225e-01j,\n",
       "         0.08045111+2.47603046e-01j, -0.02721349+2.58919051e-01j,\n",
       "        -0.13017262+2.25465600e-01j, -0.21062373+1.53027098e-01j,\n",
       "        -0.25465608+5.41288211e-02j, -0.25465608-5.41288211e-02j,\n",
       "        -0.21062373-1.53027098e-01j, -0.13017262-2.25465600e-01j,\n",
       "        -0.02721349-2.58919051e-01j,  0.08045111-2.47603046e-01j,\n",
       "         0.17420497-1.93474225e-01j,  0.23783722-1.05891953e-01j],\n",
       "       [ 0.18356482+0.00000000e+00j,  0.16769481+7.46625390e-02j,\n",
       "         0.12282884+1.36415247e-01j,  0.05672465+1.74580519e-01j,\n",
       "        -0.01918775+1.82559234e-01j, -0.09178241+1.58971798e-01j,\n",
       "        -0.14850706+1.07896695e-01j, -0.17955349+3.81652723e-02j,\n",
       "        -0.17955349-3.81652723e-02j, -0.14850706-1.07896695e-01j,\n",
       "        -0.09178241-1.58971798e-01j, -0.01918775-1.82559234e-01j,\n",
       "         0.05672465-1.74580519e-01j,  0.12282884-1.36415247e-01j,\n",
       "         0.16769481-7.46625390e-02j,  0.18356482-4.49604141e-17j,\n",
       "         0.16769481+7.46625390e-02j,  0.12282884+1.36415247e-01j,\n",
       "         0.05672465+1.74580519e-01j, -0.01918775+1.82559234e-01j,\n",
       "        -0.09178241+1.58971798e-01j, -0.14850706+1.07896695e-01j,\n",
       "        -0.17955349+3.81652723e-02j, -0.17955349-3.81652723e-02j,\n",
       "        -0.14850706-1.07896695e-01j, -0.09178241-1.58971798e-01j,\n",
       "        -0.01918775-1.82559234e-01j,  0.05672465-1.74580519e-01j,\n",
       "         0.12282884-1.36415247e-01j,  0.16769481-7.46625390e-02j],\n",
       "       [ 0.10836752+0.00000000e+00j,  0.09899866+4.40770432e-02j,\n",
       "         0.07251203+8.05327652e-02j,  0.03348741+1.03063640e-01j,\n",
       "        -0.01132749+1.07773876e-01j, -0.05418376+9.38490293e-02j,\n",
       "        -0.08767117+6.36968328e-02j, -0.10599943+2.25308753e-02j,\n",
       "        -0.10599943-2.25308753e-02j, -0.08767117-6.36968328e-02j,\n",
       "        -0.05418376-9.38490293e-02j, -0.01132749-1.07773876e-01j,\n",
       "         0.03348741-1.03063640e-01j,  0.07251203-8.05327652e-02j,\n",
       "         0.09899866-4.40770432e-02j,  0.10836752-2.65423884e-17j,\n",
       "         0.09899866+4.40770432e-02j,  0.07251203+8.05327652e-02j,\n",
       "         0.03348741+1.03063640e-01j, -0.01132749+1.07773876e-01j,\n",
       "        -0.05418376+9.38490293e-02j, -0.08767117+6.36968328e-02j,\n",
       "        -0.10599943+2.25308753e-02j, -0.10599943-2.25308753e-02j,\n",
       "        -0.08767117-6.36968328e-02j, -0.05418376-9.38490293e-02j,\n",
       "        -0.01132749-1.07773876e-01j,  0.03348741-1.03063640e-01j,\n",
       "         0.07251203-8.05327652e-02j,  0.09899866-4.40770432e-02j],\n",
       "       [ 0.0469395 +0.00000000e+00j,  0.04288136+1.90920129e-02j,\n",
       "         0.03140865+3.48828432e-02j,  0.0145051 +4.46421131e-02j,\n",
       "        -0.00490651+4.66823561e-02j, -0.02346975+4.06507956e-02j,\n",
       "        -0.03797485+2.75903432e-02j, -0.04591375+9.75926989e-03j,\n",
       "        -0.04591375-9.75926989e-03j, -0.03797485-2.75903432e-02j,\n",
       "        -0.02346975-4.06507956e-02j, -0.00490651-4.66823561e-02j,\n",
       "         0.0145051 -4.46421131e-02j,  0.03140865-3.48828432e-02j,\n",
       "         0.04288136-1.90920129e-02j,  0.0469395 -1.14968606e-17j,\n",
       "         0.04288136+1.90920129e-02j,  0.03140865+3.48828432e-02j,\n",
       "         0.0145051 +4.46421131e-02j, -0.00490651+4.66823561e-02j,\n",
       "        -0.02346975+4.06507956e-02j, -0.03797485+2.75903432e-02j,\n",
       "        -0.04591375+9.75926989e-03j, -0.04591375-9.75926989e-03j,\n",
       "        -0.03797485-2.75903432e-02j, -0.02346975-4.06507956e-02j,\n",
       "        -0.00490651-4.66823561e-02j,  0.0145051 -4.46421131e-02j,\n",
       "         0.03140865-3.48828432e-02j,  0.04288136-1.90920129e-02j],\n",
       "       [ 0.00922067+0.00000000e+00j,  0.0084235 +3.75038362e-03j,\n",
       "         0.00616983+6.85229184e-03j,  0.00284934+8.76937655e-03j,\n",
       "        -0.00096382+9.17015639e-03j, -0.00461033+7.98533288e-03j,\n",
       "        -0.00745968+5.41977277e-03j, -0.00901917+1.91708471e-03j,\n",
       "        -0.00901917-1.91708471e-03j, -0.00745968-5.41977277e-03j,\n",
       "        -0.00461033-7.98533288e-03j, -0.00096382-9.17015639e-03j,\n",
       "         0.00284934-8.76937655e-03j,  0.00616983-6.85229184e-03j,\n",
       "         0.0084235 -3.75038362e-03j,  0.00922067-2.25841235e-18j,\n",
       "         0.0084235 +3.75038362e-03j,  0.00616983+6.85229184e-03j,\n",
       "         0.00284934+8.76937655e-03j, -0.00096382+9.17015639e-03j,\n",
       "        -0.00461033+7.98533288e-03j, -0.00745968+5.41977277e-03j,\n",
       "        -0.00901917+1.91708471e-03j, -0.00901917-1.91708471e-03j,\n",
       "        -0.00745968-5.41977277e-03j, -0.00461033-7.98533288e-03j,\n",
       "        -0.00096382-9.17015639e-03j,  0.00284934-8.76937655e-03j,\n",
       "         0.00616983-6.85229184e-03j,  0.0084235 -3.75038362e-03j]])"
      ]
     },
     "execution_count": 22,
     "metadata": {},
     "output_type": "execute_result"
    }
   ],
   "source": [
    "cYslm.sYlm_modes.mode(2, 2)"
   ]
  },
  {
   "cell_type": "code",
   "execution_count": 16,
   "metadata": {},
   "outputs": [
    {
     "name": "stdout",
     "output_type": "stream",
     "text": [
      "643 ns ± 8.25 ns per loop (mean ± std. dev. of 7 runs, 1,000,000 loops each)\n"
     ]
    }
   ],
   "source": [
    "%%timeit\n",
    "cYslm.run()"
   ]
  },
  {
   "cell_type": "code",
   "execution_count": 34,
   "metadata": {},
   "outputs": [
    {
     "name": "stdout",
     "output_type": "stream",
     "text": [
      "1.48 s ± 31.5 ms per loop (mean ± std. dev. of 7 runs, 1 loop each)\n"
     ]
    }
   ],
   "source": [
    "%%timeit\n",
    "cYslm.run()"
   ]
  },
  {
   "cell_type": "code",
   "execution_count": 53,
   "metadata": {},
   "outputs": [
    {
     "data": {
      "text/plain": [
       "(225, 15, 30)"
      ]
     },
     "execution_count": 53,
     "metadata": {},
     "output_type": "execute_result"
    }
   ],
   "source": [
    "np.array(cYslm.sYlm_modes._modes_data).shape"
   ]
  },
  {
   "cell_type": "code",
   "execution_count": 14,
   "metadata": {},
   "outputs": [
    {
     "name": "stdout",
     "output_type": "stream",
     "text": [
      "3.84 s ± 73.7 ms per loop (mean ± std. dev. of 7 runs, 1 loop each)\n"
     ]
    }
   ],
   "source": [
    "%%timeit\n",
    "cYslm.store_as_modes()"
   ]
  },
  {
   "cell_type": "code",
   "execution_count": 45,
   "metadata": {},
   "outputs": [
    {
     "data": {
      "text/plain": [
       "[[0, array(0.28209479+0.j)],\n",
       " [1, array(0.34549415+0.j)],\n",
       " [2, array(5.42457759e-17+0.j)],\n",
       " [3, array(-0.34549415+0.j)],\n",
       " [4, array(0.3862742+0.j)],\n",
       " [5, array(1.71540205e-16+0.j)],\n",
       " [6, array(-0.31539157+0.j)],\n",
       " [7, array(-1.71540205e-16+0.j)],\n",
       " [8, array(0.3862742+0.j)]]"
      ]
     },
     "execution_count": 45,
     "metadata": {},
     "output_type": "execute_result"
    }
   ],
   "source": [
    "cYslm.result_list"
   ]
  },
  {
   "cell_type": "code",
   "execution_count": 47,
   "metadata": {},
   "outputs": [
    {
     "data": {
      "text/plain": [
       "(2.1236804377400126e-16+0j)"
      ]
     },
     "execution_count": 47,
     "metadata": {},
     "output_type": "execute_result"
    }
   ],
   "source": [
    "wfmodes.mode(1,0)"
   ]
  },
  {
   "cell_type": "code",
   "execution_count": 50,
   "metadata": {},
   "outputs": [
    {
     "data": {
      "text/plain": [
       "1"
      ]
     },
     "execution_count": 50,
     "metadata": {},
     "output_type": "execute_result"
    }
   ],
   "source": [
    "int(np.sqrt(5)-1)"
   ]
  },
  {
   "cell_type": "code",
   "execution_count": 52,
   "metadata": {},
   "outputs": [
    {
     "data": {
      "text/plain": [
       "1"
      ]
     },
     "execution_count": 52,
     "metadata": {},
     "output_type": "execute_result"
    }
   ],
   "source": [
    "int(1.99)"
   ]
  },
  {
   "cell_type": "code",
   "execution_count": 54,
   "metadata": {},
   "outputs": [
    {
     "data": {
      "text/plain": [
       "2"
      ]
     },
     "execution_count": 54,
     "metadata": {},
     "output_type": "execute_result"
    }
   ],
   "source": [
    "int(np.sqrt(5))"
   ]
  },
  {
   "cell_type": "code",
   "execution_count": 51,
   "metadata": {},
   "outputs": [
    {
     "data": {
      "text/plain": [
       "1"
      ]
     },
     "execution_count": 51,
     "metadata": {},
     "output_type": "execute_result"
    }
   ],
   "source": [
    "5- (4)"
   ]
  },
  {
   "cell_type": "code",
   "execution_count": 55,
   "metadata": {},
   "outputs": [
    {
     "data": {
      "text/plain": [
       "-1"
      ]
     },
     "execution_count": 55,
     "metadata": {},
     "output_type": "execute_result"
    }
   ],
   "source": [
    "1 - 2"
   ]
  },
  {
   "cell_type": "code",
   "execution_count": 21,
   "metadata": {},
   "outputs": [
    {
     "name": "stdout",
     "output_type": "stream",
     "text": [
      "313 µs ± 17.3 µs per loop (mean ± std. dev. of 7 runs, 1,000 loops each)\n"
     ]
    }
   ],
   "source": [
    "%%timeit\n",
    "def get_index(ell, emm):\n",
    "    ind = 0\n",
    "    for ell_ind in range(ell + 1):\n",
    "        ind += 2 * ell_ind + 1\n",
    "\n",
    "    return ind + emm - ell_ind - 1\n",
    "\n",
    "#info = GLGrid(L=24)\n",
    "# minfo = method_info(ell_max=24, int_method='GL')\n",
    "\n",
    "ell_max = 24\n",
    "\n",
    "#from waveformtools.transforms import Yslm_prec_grid\n",
    "\n",
    "#theta_grid, phi_grid = info.meshgrid\n",
    "\n",
    "theta = np.pi/2\n",
    "phi = 0\n",
    "spin_weight = 0\n",
    "\n",
    "import quaternionic, spherical\n",
    "\n",
    "R = quaternionic.array.from_spherical_coordinates(theta, phi)\n",
    "# ell_max = ell\n",
    "\n",
    "wigner = spherical.Wigner(ell_max)\n",
    "\n",
    "Y2 = wigner.sYlm(spin_weight, R)\n",
    "\n",
    "\n",
    "Ylm_spherical = Y2.T[get_index(2, 0)].T"
   ]
  },
  {
   "cell_type": "code",
   "execution_count": 18,
   "metadata": {},
   "outputs": [
    {
     "data": {
      "text/plain": [
       "(625,)"
      ]
     },
     "execution_count": 18,
     "metadata": {},
     "output_type": "execute_result"
    }
   ],
   "source": [
    "Y2.shape"
   ]
  },
  {
   "cell_type": "code",
   "execution_count": 1,
   "metadata": {},
   "outputs": [],
   "source": [
    "import numpy as np"
   ]
  },
  {
   "cell_type": "code",
   "execution_count": 3,
   "metadata": {},
   "outputs": [],
   "source": [
    "aa = np.zeros((10, *(2, 2)))"
   ]
  },
  {
   "cell_type": "code",
   "execution_count": 4,
   "metadata": {},
   "outputs": [
    {
     "data": {
      "text/plain": [
       "(10, 2, 2)"
      ]
     },
     "execution_count": 4,
     "metadata": {},
     "output_type": "execute_result"
    }
   ],
   "source": [
    "aa.shape"
   ]
  },
  {
   "cell_type": "code",
   "execution_count": 54,
   "metadata": {},
   "outputs": [],
   "source": [
    "from qlmtools.integration import TwoDIntegral"
   ]
  },
  {
   "cell_type": "code",
   "execution_count": 55,
   "metadata": {},
   "outputs": [],
   "source": [
    "func = np.sin(theta_grid)"
   ]
  },
  {
   "cell_type": "code",
   "execution_count": 56,
   "metadata": {},
   "outputs": [
    {
     "ename": "NameError",
     "evalue": "name 'sYlm' is not defined",
     "output_type": "error",
     "traceback": [
      "\u001b[0;31m---------------------------------------------------------------------------\u001b[0m",
      "\u001b[0;31mNameError\u001b[0m                                 Traceback (most recent call last)",
      "Cell \u001b[0;32mIn[56], line 1\u001b[0m\n\u001b[0;32m----> 1\u001b[0m \u001b[43msYlm\u001b[49m\n",
      "\u001b[0;31mNameError\u001b[0m: name 'sYlm' is not defined"
     ]
    }
   ],
   "source": [
    "cYslm"
   ]
  },
  {
   "cell_type": "code",
   "execution_count": 60,
   "metadata": {},
   "outputs": [],
   "source": [
    "Ym = np.array(cYslm.sYlm_modes._modes_data)"
   ]
  },
  {
   "cell_type": "code",
   "execution_count": 62,
   "metadata": {},
   "outputs": [
    {
     "data": {
      "text/plain": [
       "(225, 15, 30)"
      ]
     },
     "execution_count": 62,
     "metadata": {},
     "output_type": "execute_result"
    }
   ],
   "source": [
    "Ym.shape"
   ]
  },
  {
   "cell_type": "code",
   "execution_count": 63,
   "metadata": {},
   "outputs": [],
   "source": [
    "integrand = Ym*func"
   ]
  },
  {
   "cell_type": "code",
   "execution_count": 70,
   "metadata": {},
   "outputs": [
    {
     "data": {
      "text/plain": [
       "(225, 15, 30)"
      ]
     },
     "execution_count": 70,
     "metadata": {},
     "output_type": "execute_result"
    }
   ],
   "source": [
    "integrand.shape"
   ]
  },
  {
   "cell_type": "code",
   "execution_count": 67,
   "metadata": {},
   "outputs": [],
   "source": [
    "modes_vec = TwoDIntegral(integrand, gl_info, method='GL')"
   ]
  },
  {
   "cell_type": "code",
   "execution_count": 69,
   "metadata": {},
   "outputs": [
    {
     "data": {
      "text/plain": [
       "()"
      ]
     },
     "execution_count": 69,
     "metadata": {},
     "output_type": "execute_result"
    }
   ],
   "source": [
    "modes_vec.shape"
   ]
  },
  {
   "cell_type": "code",
   "execution_count": 74,
   "metadata": {},
   "outputs": [
    {
     "data": {
      "text/plain": [
       "(225,)"
      ]
     },
     "execution_count": 74,
     "metadata": {},
     "output_type": "execute_result"
    }
   ],
   "source": [
    "np.tensordot(integrand, gl_info.weights_grid, axes=((-2, -1), (0,1))).shape"
   ]
  },
  {
   "cell_type": "code",
   "execution_count": 15,
   "metadata": {},
   "outputs": [],
   "source": [
    "class trial:\n",
    "\n",
    "    def __init__(self, a):\n",
    "        self.a = a\n",
    "\n",
    "    b = 0"
   ]
  },
  {
   "cell_type": "code",
   "execution_count": 22,
   "metadata": {},
   "outputs": [],
   "source": [
    "tt = trial(1)\n",
    "tt2 = trial(2)"
   ]
  },
  {
   "cell_type": "code",
   "execution_count": 23,
   "metadata": {},
   "outputs": [
    {
     "data": {
      "text/plain": [
       "1"
      ]
     },
     "execution_count": 23,
     "metadata": {},
     "output_type": "execute_result"
    }
   ],
   "source": [
    "tt.a"
   ]
  },
  {
   "cell_type": "code",
   "execution_count": 24,
   "metadata": {},
   "outputs": [
    {
     "data": {
      "text/plain": [
       "0"
      ]
     },
     "execution_count": 24,
     "metadata": {},
     "output_type": "execute_result"
    }
   ],
   "source": [
    "tt.b"
   ]
  },
  {
   "cell_type": "code",
   "execution_count": 19,
   "metadata": {},
   "outputs": [],
   "source": [
    "tt.b = 3"
   ]
  },
  {
   "cell_type": "code",
   "execution_count": 1,
   "metadata": {},
   "outputs": [],
   "source": [
    "import numpy as np\n",
    "import numba as nb"
   ]
  },
  {
   "cell_type": "code",
   "execution_count": 6,
   "metadata": {},
   "outputs": [
    {
     "data": {
      "text/plain": [
       "List(float64, True)"
      ]
     },
     "execution_count": 6,
     "metadata": {},
     "output_type": "execute_result"
    }
   ],
   "source": [
    "nb.typeof([2.0, 3.4])"
   ]
  },
  {
   "cell_type": "code",
   "execution_count": 9,
   "metadata": {},
   "outputs": [
    {
     "data": {
      "text/plain": [
       "List(reflected list(int64)<iv=None>, True)"
      ]
     },
     "execution_count": 9,
     "metadata": {},
     "output_type": "execute_result"
    }
   ],
   "source": [
    "nb.typeof([[2, [1, 2, 3], [0, [1, 2]]]])"
   ]
  },
  {
   "cell_type": "code",
   "execution_count": 10,
   "metadata": {},
   "outputs": [
    {
     "ename": "ValueError",
     "evalue": "Cannot determine Numba type of <class 'dict'>",
     "output_type": "error",
     "traceback": [
      "\u001b[0;31m---------------------------------------------------------------------------\u001b[0m",
      "\u001b[0;31mValueError\u001b[0m                                Traceback (most recent call last)",
      "Cell \u001b[0;32mIn[10], line 1\u001b[0m\n\u001b[0;32m----> 1\u001b[0m \u001b[43mnb\u001b[49m\u001b[38;5;241;43m.\u001b[39;49m\u001b[43mtypeof\u001b[49m\u001b[43m(\u001b[49m\u001b[43m{\u001b[49m\u001b[38;5;124;43m'\u001b[39;49m\u001b[38;5;124;43ml0\u001b[39;49m\u001b[38;5;124;43m'\u001b[39;49m\u001b[43m:\u001b[49m\u001b[43m \u001b[49m\u001b[43m{\u001b[49m\u001b[38;5;124;43m'\u001b[39;49m\u001b[38;5;124;43mm1\u001b[39;49m\u001b[38;5;124;43m'\u001b[39;49m\u001b[43m \u001b[49m\u001b[43m:\u001b[49m\u001b[43m \u001b[49m\u001b[38;5;241;43m4.2\u001b[39;49m\u001b[43m}\u001b[49m\u001b[43m}\u001b[49m\u001b[43m)\u001b[49m\n",
      "File \u001b[0;32m~/Installations/anaconda3/envs/wftools/lib/python3.10/site-packages/numba/core/typing/typeof.py:37\u001b[0m, in \u001b[0;36mtypeof\u001b[0;34m(val, purpose)\u001b[0m\n\u001b[1;32m     34\u001b[0m \u001b[38;5;28;01mif\u001b[39;00m ty \u001b[38;5;129;01mis\u001b[39;00m \u001b[38;5;28;01mNone\u001b[39;00m:\n\u001b[1;32m     35\u001b[0m     msg \u001b[38;5;241m=\u001b[39m _termcolor\u001b[38;5;241m.\u001b[39merrmsg(\n\u001b[1;32m     36\u001b[0m         \u001b[38;5;124mf\u001b[39m\u001b[38;5;124m\"\u001b[39m\u001b[38;5;124mCannot determine Numba type of \u001b[39m\u001b[38;5;132;01m{\u001b[39;00m\u001b[38;5;28mtype\u001b[39m(val)\u001b[38;5;132;01m}\u001b[39;00m\u001b[38;5;124m\"\u001b[39m)\n\u001b[0;32m---> 37\u001b[0m     \u001b[38;5;28;01mraise\u001b[39;00m \u001b[38;5;167;01mValueError\u001b[39;00m(msg)\n\u001b[1;32m     38\u001b[0m \u001b[38;5;28;01mreturn\u001b[39;00m ty\n",
      "\u001b[0;31mValueError\u001b[0m: Cannot determine Numba type of <class 'dict'>"
     ]
    }
   ],
   "source": [
    "nb.typeof({'l0': {'m1' : 4.2}})"
   ]
  },
  {
   "cell_type": "code",
   "execution_count": null,
   "metadata": {},
   "outputs": [],
   "source": []
  }
 ],
 "metadata": {
  "kernelspec": {
   "display_name": "wftools",
   "language": "python",
   "name": "python3"
  },
  "language_info": {
   "codemirror_mode": {
    "name": "ipython",
    "version": 3
   },
   "file_extension": ".py",
   "mimetype": "text/x-python",
   "name": "python",
   "nbconvert_exporter": "python",
   "pygments_lexer": "ipython3",
   "version": "undefined.undefined.undefined"
  }
 },
 "nbformat": 4,
 "nbformat_minor": 2
}
