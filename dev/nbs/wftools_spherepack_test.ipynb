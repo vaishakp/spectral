{
 "cells": [
  {
   "cell_type": "code",
   "execution_count": 1,
   "metadata": {},
   "outputs": [
    {
     "name": "stdout",
     "output_type": "stream",
     "text": [
      "/home/vaishakprasad/Documents/Projects/Codes/custom_libraries/waveformtools/waveformtools\n",
      "No module named 'pycbc'\n"
     ]
    }
   ],
   "source": [
    "import numpy as np\n",
    "import config\n",
    "import matplotlib\n",
    "import matplotlib.pyplot as plt\n",
    "config.conf_matplolib()\n",
    "#from spharm import Spharmt, getspecindx\n",
    "from spectral.spherical.transforms import Yslm_vec, SHExpand\n",
    "from spectral.spherical.grids import GLGrid\n",
    "#from waveformtools.grids import GLGrid\n",
    "import h5py\n",
    "from waveformtools.diagnostics import method_info"
   ]
  },
  {
   "cell_type": "code",
   "execution_count": 2,
   "metadata": {},
   "outputs": [
    {
     "name": "stdout",
     "output_type": "stream",
     "text": [
      "print verbosity has been set to 1 at /home/vaishakprasad/Documents/Projects/Codes/custom_libraries/config/config/__init__.py\n"
     ]
    }
   ],
   "source": [
    "from config.verbosity import levels\n",
    "vl = levels()\n",
    "vl.set_print_verbosity(1)"
   ]
  },
  {
   "cell_type": "code",
   "execution_count": 3,
   "metadata": {},
   "outputs": [],
   "source": [
    "ell_max=14\n",
    "\n",
    "gl_info = GLGrid(L=ell_max)\n",
    "theta_grid, phi_grid = gl_info.meshgrid"
   ]
  },
  {
   "cell_type": "code",
   "execution_count": 4,
   "metadata": {},
   "outputs": [],
   "source": [
    "from spectral.spherical.swsh import Yslm\n",
    "\n",
    "\n",
    "func = np.sin(theta_grid)\n",
    "#func = np.ones(gl_info.shape)\n",
    "#func = Yslm_vec(ell=1, emm=-1, spin_weight=0, theta_grid=theta_grid, phi_grid=phi_grid)"
   ]
  },
  {
   "cell_type": "code",
   "execution_count": 5,
   "metadata": {},
   "outputs": [],
   "source": [
    "minfo = method_info(ell_max=ell_max, int_method='GL', diff_method='SH', swsh_routine='waveformtools')"
   ]
  },
  {
   "cell_type": "code",
   "execution_count": 6,
   "metadata": {},
   "outputs": [
    {
     "name": "stdout",
     "output_type": "stream",
     "text": [
      "Help on function SHExpand in module spectral.spherical.transforms:\n",
      "\n",
      "SHExpand(func, info, method_info, err_info=False, auto_ell_max=False, res_tol_percent=3, reg=False, reg_order=1)\n",
      "    Expand a given function in spin weight 0 spherical harmonics\n",
      "    upto an optimal :math:`\\ell \\leq \\ell_{max}`.\n",
      "    \n",
      "    Parameters\n",
      "    ----------\n",
      "    func : ndarray\n",
      "           The function to be expanded.\n",
      "    info : Grid\n",
      "           An instance of the Spherical grid class\n",
      "           that stores the details of the structure\n",
      "           of a grid on a topological sphere.\n",
      "    method_info : MethodInfo\n",
      "                  An instance of the method info\n",
      "                  class that contains informations\n",
      "                  about the numerical methods\n",
      "                  to be used during the following\n",
      "                  operations.\n",
      "    err_info : bool\n",
      "               Whether or not to compute and return\n",
      "               the error measures related to the\n",
      "               SH representation.\n",
      "    \n",
      "    Returns\n",
      "    -------\n",
      "    modes : dict\n",
      "            The modes as a dictionary whose keys are lm.\n",
      "\n"
     ]
    }
   ],
   "source": [
    "help(SHExpand)"
   ]
  },
  {
   "cell_type": "code",
   "execution_count": 7,
   "metadata": {},
   "outputs": [
    {
     "data": {
      "text/plain": [
       "<waveformtools.diagnostics.method_info at 0x7f2191ca6680>"
      ]
     },
     "execution_count": 7,
     "metadata": {},
     "output_type": "execute_result"
    }
   ],
   "source": [
    "minfo"
   ]
  },
  {
   "cell_type": "code",
   "execution_count": 8,
   "metadata": {},
   "outputs": [
    {
     "data": {
      "text/plain": [
       "'waveformtools'"
      ]
     },
     "execution_count": 8,
     "metadata": {},
     "output_type": "execute_result"
    }
   ],
   "source": [
    "minfo.swsh_routine"
   ]
  },
  {
   "cell_type": "code",
   "execution_count": 9,
   "metadata": {},
   "outputs": [],
   "source": [
    "wfmodes = SHExpand(func, gl_info, minfo, err_info=False)"
   ]
  },
  {
   "cell_type": "code",
   "execution_count": 10,
   "metadata": {},
   "outputs": [],
   "source": [
    "wfmodes = SHExpand(func, gl_info, minfo, err_info=True)"
   ]
  },
  {
   "cell_type": "code",
   "execution_count": null,
   "metadata": {},
   "outputs": [
    {
     "data": {
      "text/plain": [
       "[0.7191949522280763,\n",
       " 0.31485649428238766,\n",
       " 0.31485649428238766,\n",
       " 0.06425147045912404,\n",
       " 0.06425147045912404,\n",
       " 0.025180709942656105,\n",
       " 0.02518070994265611,\n",
       " 0.011473855549904323,\n",
       " 0.011473855549904323,\n",
       " 0.005198455556385577,\n",
       " 0.005198455556385577,\n",
       " 0.0020190549348910866,\n",
       " 0.0020190549348910866,\n",
       " 0.0004531773725272312,\n",
       " 0.0004531773725272312,\n",
       " 7.007085219131713e-14]"
      ]
     },
     "execution_count": 11,
     "metadata": {},
     "output_type": "execute_result"
    }
   ],
   "source": [
    "wfmodes.residuals"
   ]
  },
  {
   "cell_type": "code",
   "execution_count": null,
   "metadata": {},
   "outputs": [
    {
     "data": {
      "text/plain": [
       "[0.7191949522280763,\n",
       " 0.31485649428238766,\n",
       " 0.31485649428238766,\n",
       " 0.06425147045912404,\n",
       " 0.06425147045912404,\n",
       " 0.025180709942656105,\n",
       " 0.02518070994265611,\n",
       " 0.011473855549904323,\n",
       " 0.011473855549904323,\n",
       " 0.005198455556385577,\n",
       " 0.005198455556385577,\n",
       " 0.0020190549348910866,\n",
       " 0.0020190549348910866,\n",
       " 0.0004531773725272312,\n",
       " 0.0004531773725272312,\n",
       " 7.007085219131713e-14]"
      ]
     },
     "execution_count": 12,
     "metadata": {},
     "output_type": "execute_result"
    }
   ],
   "source": [
    "wfmodes.residuals"
   ]
  },
  {
   "cell_type": "code",
   "execution_count": 11,
   "metadata": {},
   "outputs": [],
   "source": [
    "minfo2 = method_info(ell_max=ell_max, int_method='GL', diff_method='SH', swsh_routine='spherepack')"
   ]
  },
  {
   "cell_type": "code",
   "execution_count": 12,
   "metadata": {},
   "outputs": [],
   "source": [
    "spmodes = SHExpand(func, gl_info, minfo2, err_info=False)"
   ]
  },
  {
   "cell_type": "code",
   "execution_count": null,
   "metadata": {},
   "outputs": [
    {
     "data": {
      "text/plain": [
       "(-0.02244383530366422+0j)"
      ]
     },
     "execution_count": 15,
     "metadata": {},
     "output_type": "execute_result"
    }
   ],
   "source": [
    "spmodes.mode(8, 0)"
   ]
  },
  {
   "cell_type": "code",
   "execution_count": null,
   "metadata": {},
   "outputs": [
    {
     "data": {
      "text/plain": [
       "(-0.02244371477198641+0j)"
      ]
     },
     "execution_count": 16,
     "metadata": {},
     "output_type": "execute_result"
    }
   ],
   "source": [
    "wfmodes.mode(8, 0)"
   ]
  },
  {
   "cell_type": "code",
   "execution_count": null,
   "metadata": {},
   "outputs": [
    {
     "data": {
      "text/plain": [
       "1.4142134673670463"
      ]
     },
     "execution_count": 17,
     "metadata": {},
     "output_type": "execute_result"
    }
   ],
   "source": [
    "3.5449077018110318/2.5066284430248484"
   ]
  },
  {
   "cell_type": "code",
   "execution_count": null,
   "metadata": {},
   "outputs": [
    {
     "data": {
      "text/plain": [
       "1.4142135623730951"
      ]
     },
     "execution_count": 18,
     "metadata": {},
     "output_type": "execute_result"
    }
   ],
   "source": [
    "np.sqrt(2)"
   ]
  },
  {
   "cell_type": "code",
   "execution_count": null,
   "metadata": {},
   "outputs": [],
   "source": [
    "aaa = np.array([-2, -1, 0, 1, 2])"
   ]
  },
  {
   "cell_type": "code",
   "execution_count": null,
   "metadata": {},
   "outputs": [
    {
     "data": {
      "text/plain": [
       "array([1, 2])"
      ]
     },
     "execution_count": 20,
     "metadata": {},
     "output_type": "execute_result"
    }
   ],
   "source": [
    "aaa[aaa>0]"
   ]
  },
  {
   "cell_type": "code",
   "execution_count": 10,
   "metadata": {},
   "outputs": [
    {
     "data": {
      "text/plain": [
       "(1.0000000000000497566-3.4907480242018649837e-34j)"
      ]
     },
     "execution_count": 10,
     "metadata": {},
     "output_type": "execute_result"
    }
   ],
   "source": [
    "wfmodes.evaluate_old(theta=np.pi/2 , phi=0, ell_max=wfmodes.ell_max)"
   ]
  },
  {
   "cell_type": "code",
   "execution_count": null,
   "metadata": {},
   "outputs": [
    {
     "name": "stdout",
     "output_type": "stream",
     "text": [
      "4.72 s ± 112 ms per loop (mean ± std. dev. of 7 runs, 1 loop each)\n"
     ]
    }
   ],
   "source": [
    "%%timeit\n",
    "wfmodes.evaluate_old(theta=np.pi/2 , phi=0, ell_max=wfmodes.ell_max)"
   ]
  },
  {
   "cell_type": "code",
   "execution_count": 11,
   "metadata": {},
   "outputs": [
    {
     "data": {
      "text/plain": [
       "(1.0000000000000497+1.232595164407831e-30j)"
      ]
     },
     "execution_count": 11,
     "metadata": {},
     "output_type": "execute_result"
    }
   ],
   "source": [
    "wfmodes.evaluate(theta=np.pi/2 , phi=0, ell_max=wfmodes.ell_max)"
   ]
  },
  {
   "cell_type": "code",
   "execution_count": 16,
   "metadata": {},
   "outputs": [
    {
     "name": "stdout",
     "output_type": "stream",
     "text": [
      "5.22 s ± 73.1 ms per loop (mean ± std. dev. of 7 runs, 1 loop each)\n"
     ]
    }
   ],
   "source": [
    "%%timeit\n",
    "wfmodes.evaluate(theta=np.pi/2 , phi=0, ell_max=wfmodes.ell_max)"
   ]
  },
  {
   "cell_type": "code",
   "execution_count": 10,
   "metadata": {},
   "outputs": [
    {
     "data": {
      "text/plain": [
       "(1.0000000000000497-3.2047474274603605e-31j)"
      ]
     },
     "execution_count": 10,
     "metadata": {},
     "output_type": "execute_result"
    }
   ],
   "source": [
    "wfmodes.evaluate_sp(theta=np.pi/2 , phi=0, ell_max=wfmodes.ell_max)"
   ]
  },
  {
   "cell_type": "code",
   "execution_count": 85,
   "metadata": {},
   "outputs": [
    {
     "data": {
      "text/plain": [
       "<module 'spectral.spherical.swsh' from '/home/vaishakprasad/Documents/Projects/Codes/custom_libraries/spectral/spectral/spherical/swsh.py'>"
      ]
     },
     "execution_count": 85,
     "metadata": {},
     "output_type": "execute_result"
    }
   ],
   "source": [
    "from importlib import reload\n",
    "import spectral\n",
    "reload(spectral.spherical.swsh)"
   ]
  },
  {
   "cell_type": "code",
   "execution_count": 86,
   "metadata": {},
   "outputs": [],
   "source": [
    "from spectral.spherical.swsh import create_Ylm_modes_array"
   ]
  },
  {
   "cell_type": "code",
   "execution_count": 87,
   "metadata": {},
   "outputs": [],
   "source": [
    "sYlm = create_Ylm_modes_array(theta=np.pi/2, phi=0.0, ell_max=2, spin_weight=-2)"
   ]
  },
  {
   "cell_type": "code",
   "execution_count": 88,
   "metadata": {},
   "outputs": [
    {
     "data": {
      "text/plain": [
       "(0.15769578262625997-3.862432708645721e-17j)"
      ]
     },
     "execution_count": 88,
     "metadata": {},
     "output_type": "execute_result"
    }
   ],
   "source": [
    "sYlm.mode(2, 2)"
   ]
  },
  {
   "cell_type": "code",
   "execution_count": 89,
   "metadata": {},
   "outputs": [
    {
     "data": {
      "text/plain": [
       "(0.3862742020231896+0j)"
      ]
     },
     "execution_count": 89,
     "metadata": {},
     "output_type": "execute_result"
    }
   ],
   "source": [
    "Yslm(spin_weight=0, theta=np.pi/2, phi=0, ell=2, emm=2)"
   ]
  },
  {
   "cell_type": "code",
   "execution_count": 11,
   "metadata": {},
   "outputs": [
    {
     "ename": "NameError",
     "evalue": "name 'reload' is not defined",
     "output_type": "error",
     "traceback": [
      "\u001b[0;31m---------------------------------------------------------------------------\u001b[0m",
      "\u001b[0;31mNameError\u001b[0m                                 Traceback (most recent call last)",
      "Cell \u001b[0;32mIn[11], line 1\u001b[0m\n\u001b[0;32m----> 1\u001b[0m \u001b[43mreload\u001b[49m(spectral\u001b[38;5;241m.\u001b[39mspherical\u001b[38;5;241m.\u001b[39mYslm_mp)\n",
      "\u001b[0;31mNameError\u001b[0m: name 'reload' is not defined"
     ]
    }
   ],
   "source": [
    "reload(spectral.spherical.Yslm_mp)"
   ]
  },
  {
   "cell_type": "code",
   "execution_count": 10,
   "metadata": {},
   "outputs": [],
   "source": [
    "from spectral.spherical.Yslm_mp import Yslm_mp"
   ]
  },
  {
   "cell_type": "code",
   "execution_count": 11,
   "metadata": {},
   "outputs": [],
   "source": [
    "cYslm = Yslm_mp(ell_max=14, spin_weight=0, theta=np.pi/2, phi=0)"
   ]
  },
  {
   "cell_type": "code",
   "execution_count": 13,
   "metadata": {},
   "outputs": [
    {
     "name": "stdout",
     "output_type": "stream",
     "text": [
      "1.49 s ± 60.8 ms per loop (mean ± std. dev. of 7 runs, 1 loop each)\n"
     ]
    }
   ],
   "source": [
    "%%timeit\n",
    "cYslm.run()"
   ]
  },
  {
   "cell_type": "code",
   "execution_count": 14,
   "metadata": {},
   "outputs": [
    {
     "name": "stdout",
     "output_type": "stream",
     "text": [
      "3.84 s ± 73.7 ms per loop (mean ± std. dev. of 7 runs, 1 loop each)\n"
     ]
    }
   ],
   "source": [
    "%%timeit\n",
    "cYslm.store_as_modes()"
   ]
  },
  {
   "cell_type": "code",
   "execution_count": 45,
   "metadata": {},
   "outputs": [
    {
     "data": {
      "text/plain": [
       "[[0, array(0.28209479+0.j)],\n",
       " [1, array(0.34549415+0.j)],\n",
       " [2, array(5.42457759e-17+0.j)],\n",
       " [3, array(-0.34549415+0.j)],\n",
       " [4, array(0.3862742+0.j)],\n",
       " [5, array(1.71540205e-16+0.j)],\n",
       " [6, array(-0.31539157+0.j)],\n",
       " [7, array(-1.71540205e-16+0.j)],\n",
       " [8, array(0.3862742+0.j)]]"
      ]
     },
     "execution_count": 45,
     "metadata": {},
     "output_type": "execute_result"
    }
   ],
   "source": [
    "cYslm.result_list"
   ]
  },
  {
   "cell_type": "code",
   "execution_count": 47,
   "metadata": {},
   "outputs": [
    {
     "data": {
      "text/plain": [
       "(2.1236804377400126e-16+0j)"
      ]
     },
     "execution_count": 47,
     "metadata": {},
     "output_type": "execute_result"
    }
   ],
   "source": [
    "wfmodes.mode(1,0)"
   ]
  },
  {
   "cell_type": "code",
   "execution_count": 50,
   "metadata": {},
   "outputs": [
    {
     "data": {
      "text/plain": [
       "1"
      ]
     },
     "execution_count": 50,
     "metadata": {},
     "output_type": "execute_result"
    }
   ],
   "source": [
    "int(np.sqrt(5)-1)"
   ]
  },
  {
   "cell_type": "code",
   "execution_count": 52,
   "metadata": {},
   "outputs": [
    {
     "data": {
      "text/plain": [
       "1"
      ]
     },
     "execution_count": 52,
     "metadata": {},
     "output_type": "execute_result"
    }
   ],
   "source": [
    "int(1.99)"
   ]
  },
  {
   "cell_type": "code",
   "execution_count": 54,
   "metadata": {},
   "outputs": [
    {
     "data": {
      "text/plain": [
       "2"
      ]
     },
     "execution_count": 54,
     "metadata": {},
     "output_type": "execute_result"
    }
   ],
   "source": [
    "int(np.sqrt(5))"
   ]
  },
  {
   "cell_type": "code",
   "execution_count": 51,
   "metadata": {},
   "outputs": [
    {
     "data": {
      "text/plain": [
       "1"
      ]
     },
     "execution_count": 51,
     "metadata": {},
     "output_type": "execute_result"
    }
   ],
   "source": [
    "5- (4)"
   ]
  },
  {
   "cell_type": "code",
   "execution_count": 55,
   "metadata": {},
   "outputs": [
    {
     "data": {
      "text/plain": [
       "-1"
      ]
     },
     "execution_count": 55,
     "metadata": {},
     "output_type": "execute_result"
    }
   ],
   "source": [
    "1 - 2"
   ]
  },
  {
   "cell_type": "code",
   "execution_count": 21,
   "metadata": {},
   "outputs": [
    {
     "name": "stdout",
     "output_type": "stream",
     "text": [
      "313 µs ± 17.3 µs per loop (mean ± std. dev. of 7 runs, 1,000 loops each)\n"
     ]
    }
   ],
   "source": [
    "%%timeit\n",
    "def get_index(ell, emm):\n",
    "    ind = 0\n",
    "    for ell_ind in range(ell + 1):\n",
    "        ind += 2 * ell_ind + 1\n",
    "\n",
    "    return ind + emm - ell_ind - 1\n",
    "\n",
    "#info = GLGrid(L=24)\n",
    "# minfo = method_info(ell_max=24, int_method='GL')\n",
    "\n",
    "ell_max = 24\n",
    "\n",
    "#from waveformtools.transforms import Yslm_prec_grid\n",
    "\n",
    "#theta_grid, phi_grid = info.meshgrid\n",
    "\n",
    "theta = np.pi/2\n",
    "phi = 0\n",
    "spin_weight = 0\n",
    "\n",
    "import quaternionic, spherical\n",
    "\n",
    "R = quaternionic.array.from_spherical_coordinates(theta, phi)\n",
    "# ell_max = ell\n",
    "\n",
    "wigner = spherical.Wigner(ell_max)\n",
    "\n",
    "Y2 = wigner.sYlm(spin_weight, R)\n",
    "\n",
    "\n",
    "Ylm_spherical = Y2.T[get_index(2, 0)].T"
   ]
  },
  {
   "cell_type": "code",
   "execution_count": 18,
   "metadata": {},
   "outputs": [
    {
     "data": {
      "text/plain": [
       "(625,)"
      ]
     },
     "execution_count": 18,
     "metadata": {},
     "output_type": "execute_result"
    }
   ],
   "source": [
    "Y2.shape"
   ]
  },
  {
   "cell_type": "code",
   "execution_count": null,
   "metadata": {},
   "outputs": [],
   "source": []
  }
 ],
 "metadata": {
  "kernelspec": {
   "display_name": "wftools",
   "language": "python",
   "name": "python3"
  },
  "language_info": {
   "codemirror_mode": {
    "name": "ipython",
    "version": 3
   },
   "file_extension": ".py",
   "mimetype": "text/x-python",
   "name": "python",
   "nbconvert_exporter": "python",
   "pygments_lexer": "ipython3",
   "version": "3.10.14"
  }
 },
 "nbformat": 4,
 "nbformat_minor": 2
}
