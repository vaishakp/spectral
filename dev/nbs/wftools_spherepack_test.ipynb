{
 "cells": [
  {
   "cell_type": "code",
   "execution_count": 1,
   "metadata": {},
   "outputs": [
    {
     "name": "stdout",
     "output_type": "stream",
     "text": [
      "/mnt/pfs/vaishak.p/Projects/Codes/custom_libraries/waveformtools/waveformtools\n",
      "No module named 'pycbc'\n"
     ]
    }
   ],
   "source": [
    "import numpy as np\n",
    "import config\n",
    "import matplotlib\n",
    "import matplotlib.pyplot as plt\n",
    "config.conf_matplolib()\n",
    "#from spharm import Spharmt, getspecindx\n",
    "from spectral.spherical.transforms import Yslm_vec, SHExpand\n",
    "from spectral.spherical.grids import GLGrid\n",
    "#from waveformtools.grids import GLGrid\n",
    "import h5py\n",
    "from waveformtools.diagnostics import method_info"
   ]
  },
  {
   "cell_type": "code",
   "execution_count": 2,
   "metadata": {},
   "outputs": [
    {
     "name": "stdout",
     "output_type": "stream",
     "text": [
      "print verbosity has been set to 1 at /mnt/pfs/vaishak.p/Projects/Codes/custom_libraries/config/config/__init__.py\n"
     ]
    }
   ],
   "source": [
    "from config.verbosity import levels\n",
    "vl = levels()\n",
    "vl.set_print_verbosity(1)"
   ]
  },
  {
   "cell_type": "code",
   "execution_count": 3,
   "metadata": {},
   "outputs": [],
   "source": [
    "ell_max=14\n",
    "\n",
    "gl_info = GLGrid(L=ell_max)\n",
    "theta_grid, phi_grid = gl_info.meshgrid"
   ]
  },
  {
   "cell_type": "code",
   "execution_count": 4,
   "metadata": {},
   "outputs": [],
   "source": [
    "from spectral.spherical.swsh import Yslm\n",
    "\n",
    "\n",
    "func = np.sin(theta_grid)\n",
    "#func = np.ones(gl_info.shape)\n",
    "#func = Yslm_vec(ell=1, emm=-1, spin_weight=0, theta_grid=theta_grid, phi_grid=phi_grid)"
   ]
  },
  {
   "cell_type": "code",
   "execution_count": 5,
   "metadata": {},
   "outputs": [],
   "source": [
    "minfo = method_info(ell_max=ell_max, int_method='GL', diff_method='SH', swsh_routine='waveformtools')"
   ]
  },
  {
   "cell_type": "code",
   "execution_count": 6,
   "metadata": {},
   "outputs": [
    {
     "name": "stdout",
     "output_type": "stream",
     "text": [
      "Help on function SHExpand in module spectral.spherical.transforms:\n",
      "\n",
      "SHExpand(func, info, method_info, err_info=False, auto_ell_max=False, res_tol_percent=3, reg=False, reg_order=1)\n",
      "    Expand a given function in spin weight 0 spherical harmonics\n",
      "    upto an optimal :math:`\\ell \\leq \\ell_{max}`.\n",
      "    \n",
      "    Parameters\n",
      "    ----------\n",
      "    func : ndarray\n",
      "           The function to be expanded.\n",
      "    info : Grid\n",
      "           An instance of the Spherical grid class\n",
      "           that stores the details of the structure\n",
      "           of a grid on a topological sphere.\n",
      "    method_info : MethodInfo\n",
      "                  An instance of the method info\n",
      "                  class that contains informations\n",
      "                  about the numerical methods\n",
      "                  to be used during the following\n",
      "                  operations.\n",
      "    err_info : bool\n",
      "               Whether or not to compute and return\n",
      "               the error measures related to the\n",
      "               SH representation.\n",
      "    \n",
      "    Returns\n",
      "    -------\n",
      "    modes : dict\n",
      "            The modes as a dictionary whose keys are lm.\n",
      "\n"
     ]
    }
   ],
   "source": [
    "help(SHExpand)"
   ]
  },
  {
   "cell_type": "code",
   "execution_count": 7,
   "metadata": {},
   "outputs": [
    {
     "data": {
      "text/plain": [
       "<waveformtools.diagnostics.method_info at 0x7fb34113ecb0>"
      ]
     },
     "execution_count": 7,
     "metadata": {},
     "output_type": "execute_result"
    }
   ],
   "source": [
    "minfo"
   ]
  },
  {
   "cell_type": "code",
   "execution_count": 8,
   "metadata": {},
   "outputs": [
    {
     "data": {
      "text/plain": [
       "'waveformtools'"
      ]
     },
     "execution_count": 8,
     "metadata": {},
     "output_type": "execute_result"
    }
   ],
   "source": [
    "minfo.swsh_routine"
   ]
  },
  {
   "cell_type": "code",
   "execution_count": 11,
   "metadata": {},
   "outputs": [],
   "source": [
    "wfmodes = SHExpand(func, gl_info, minfo, err_info=False)"
   ]
  },
  {
   "cell_type": "code",
   "execution_count": 10,
   "metadata": {},
   "outputs": [
    {
     "name": "stdout",
     "output_type": "stream",
     "text": [
      "161 ms ± 1.69 ms per loop (mean ± std. dev. of 7 runs, 10 loops each)\n"
     ]
    }
   ],
   "source": [
    "%%timeit\n",
    "wfmodes = SHExpand(func, gl_info, minfo, err_info=False)"
   ]
  },
  {
   "cell_type": "code",
   "execution_count": null,
   "metadata": {},
   "outputs": [],
   "source": []
  },
  {
   "cell_type": "code",
   "execution_count": 13,
   "metadata": {},
   "outputs": [],
   "source": [
    "wfmodes = SHExpand(func, gl_info, minfo, err_info=True)"
   ]
  },
  {
   "cell_type": "code",
   "execution_count": 12,
   "metadata": {},
   "outputs": [
    {
     "data": {
      "text/plain": [
       "'GL'"
      ]
     },
     "execution_count": 12,
     "metadata": {},
     "output_type": "execute_result"
    }
   ],
   "source": [
    "gl_info.grid_type"
   ]
  },
  {
   "cell_type": "code",
   "execution_count": 13,
   "metadata": {},
   "outputs": [
    {
     "name": "stdout",
     "output_type": "stream",
     "text": [
      "1.92 s ± 107 ms per loop (mean ± std. dev. of 7 runs, 1 loop each)\n"
     ]
    }
   ],
   "source": [
    "%%timeit\n",
    "wfmodes = SHExpand(func, gl_info, minfo, err_info=True)"
   ]
  },
  {
   "cell_type": "code",
   "execution_count": 11,
   "metadata": {},
   "outputs": [
    {
     "data": {
      "text/plain": [
       "[0.7191949522280763,\n",
       " 0.3148564942823888,\n",
       " 0.3148564942823888,\n",
       " 0.0642514704591249,\n",
       " 0.0642514704591249,\n",
       " 0.02518070994265695,\n",
       " 0.025180709942656955,\n",
       " 0.01147385554990487,\n",
       " 0.01147385554990487,\n",
       " 0.0051984555563858986,\n",
       " 0.0051984555563858986,\n",
       " 0.002019054934891294,\n",
       " 0.002019054934891294,\n",
       " 0.0004531773725272877,\n",
       " 0.0004531773725272877,\n",
       " 7.004545734781042e-14]"
      ]
     },
     "execution_count": 11,
     "metadata": {},
     "output_type": "execute_result"
    }
   ],
   "source": [
    "wfmodes.residuals"
   ]
  },
  {
   "cell_type": "code",
   "execution_count": 15,
   "metadata": {},
   "outputs": [
    {
     "data": {
      "text/plain": [
       "[0.7191949522280763,\n",
       " 0.3148564942823888,\n",
       " 0.3148564942823888,\n",
       " 0.06425147045912491,\n",
       " 0.06425147045912491,\n",
       " 0.02518070994265696,\n",
       " 0.025180709942656962,\n",
       " 0.011473855549904875,\n",
       " 0.011473855549904877,\n",
       " 0.005198455556385904,\n",
       " 0.005198455556385904,\n",
       " 0.0020190549348912995,\n",
       " 0.0020190549348912995,\n",
       " 0.00045317737252728997,\n",
       " 0.0004531773725272899,\n",
       " 7.004226228157524e-14]"
      ]
     },
     "execution_count": 15,
     "metadata": {},
     "output_type": "execute_result"
    }
   ],
   "source": [
    "wfmodes.residuals"
   ]
  },
  {
   "cell_type": "code",
   "execution_count": 16,
   "metadata": {},
   "outputs": [],
   "source": [
    "minfo2 = method_info(ell_max=ell_max, int_method='GL', diff_method='SH', swsh_routine='spherepack')"
   ]
  },
  {
   "cell_type": "code",
   "execution_count": 17,
   "metadata": {},
   "outputs": [
    {
     "ename": "TypeError",
     "evalue": "Please provide integer values for ell and emm",
     "output_type": "error",
     "traceback": [
      "\u001b[0;31m---------------------------------------------------------------------------\u001b[0m",
      "\u001b[0;31mTypeError\u001b[0m                                 Traceback (most recent call last)",
      "Cell \u001b[0;32mIn[17], line 1\u001b[0m\n\u001b[0;32m----> 1\u001b[0m spmodes \u001b[38;5;241m=\u001b[39m \u001b[43mSHExpand\u001b[49m\u001b[43m(\u001b[49m\u001b[43mfunc\u001b[49m\u001b[43m,\u001b[49m\u001b[43m \u001b[49m\u001b[43mgl_info\u001b[49m\u001b[43m,\u001b[49m\u001b[43m \u001b[49m\u001b[43mminfo2\u001b[49m\u001b[43m,\u001b[49m\u001b[43m \u001b[49m\u001b[43merr_info\u001b[49m\u001b[38;5;241;43m=\u001b[39;49m\u001b[38;5;28;43;01mFalse\u001b[39;49;00m\u001b[43m)\u001b[49m\n",
      "File \u001b[0;32m~/Documents/Projects/Codes/custom_libraries/spectral/spectral/spherical/transforms.py:91\u001b[0m, in \u001b[0;36mSHExpand\u001b[0;34m(func, info, method_info, err_info, auto_ell_max, res_tol_percent, reg, reg_order)\u001b[0m\n\u001b[1;32m     88\u001b[0m \u001b[38;5;28;01mif\u001b[39;00m info\u001b[38;5;241m.\u001b[39mgrid_type \u001b[38;5;241m==\u001b[39m \u001b[38;5;124m\"\u001b[39m\u001b[38;5;124mGL\u001b[39m\u001b[38;5;124m\"\u001b[39m \u001b[38;5;129;01mand\u001b[39;00m method_info\u001b[38;5;241m.\u001b[39mswsh_routine\u001b[38;5;241m==\u001b[39m\u001b[38;5;124m'\u001b[39m\u001b[38;5;124mspherepack\u001b[39m\u001b[38;5;124m'\u001b[39m:\n\u001b[1;32m     89\u001b[0m     message(\u001b[38;5;124m\"\u001b[39m\u001b[38;5;124mUsing SpherePack routine...\u001b[39m\u001b[38;5;124m\"\u001b[39m)\n\u001b[0;32m---> 91\u001b[0m     results \u001b[38;5;241m=\u001b[39m \u001b[43mSHExpandSpack\u001b[49m\u001b[43m(\u001b[49m\u001b[43mfunc\u001b[49m\u001b[43m,\u001b[49m\n\u001b[1;32m     92\u001b[0m \u001b[43m            \u001b[49m\u001b[43minfo\u001b[49m\u001b[43m,\u001b[49m\n\u001b[1;32m     93\u001b[0m \u001b[43m            \u001b[49m\u001b[43mmethod_info\u001b[49m\u001b[43m,\u001b[49m\n\u001b[1;32m     94\u001b[0m \u001b[43m            \u001b[49m\u001b[43merr_info\u001b[49m\u001b[43m,\u001b[49m\n\u001b[1;32m     95\u001b[0m \u001b[43m            \u001b[49m\u001b[43mres_tol_percent\u001b[49m\u001b[43m,\u001b[49m\n\u001b[1;32m     96\u001b[0m \u001b[43m            \u001b[49m\u001b[43mreg\u001b[49m\u001b[43m,\u001b[49m\n\u001b[1;32m     97\u001b[0m \u001b[43m            \u001b[49m\u001b[43mreg_order\u001b[49m\u001b[38;5;241;43m=\u001b[39;49m\u001b[43mreg_order\u001b[49m\u001b[43m,\u001b[49m\u001b[43m)\u001b[49m\n\u001b[1;32m     99\u001b[0m \u001b[38;5;28;01melif\u001b[39;00m method_info\u001b[38;5;241m.\u001b[39mswsh_routine\u001b[38;5;241m==\u001b[39m\u001b[38;5;124m'\u001b[39m\u001b[38;5;124mwaveformtools\u001b[39m\u001b[38;5;124m'\u001b[39m:\n\u001b[1;32m    100\u001b[0m     message(\u001b[38;5;124m\"\u001b[39m\u001b[38;5;124mUsing waveformtools routine...\u001b[39m\u001b[38;5;124m\"\u001b[39m)\n",
      "File \u001b[0;32m~/Documents/Projects/Codes/custom_libraries/spectral/spectral/spherical/transforms.py:631\u001b[0m, in \u001b[0;36mSHExpandSpack\u001b[0;34m(func, grid_info, method_info, err_info, res_tol_percent, reg, reg_order)\u001b[0m\n\u001b[1;32m    627\u001b[0m         func \u001b[38;5;241m=\u001b[39m SHRegularize(func, theta_grid, check_reg, order\u001b[38;5;241m=\u001b[39mreg_order)\n\u001b[1;32m    629\u001b[0m spack_modes \u001b[38;5;241m=\u001b[39m xcls\u001b[38;5;241m.\u001b[39mgrdtospec(func, ntrunc\u001b[38;5;241m=\u001b[39mgrid_info\u001b[38;5;241m.\u001b[39mL)\n\u001b[0;32m--> 631\u001b[0m result \u001b[38;5;241m=\u001b[39m \u001b[43mmodes_spack_to_wftools\u001b[49m\u001b[43m(\u001b[49m\u001b[43mspack_modes\u001b[49m\u001b[43m,\u001b[49m\u001b[43m \u001b[49m\u001b[43mgrid_info\u001b[49m\u001b[43m,\u001b[49m\u001b[43m \u001b[49m\u001b[43merr_info\u001b[49m\u001b[43m,\u001b[49m\u001b[43m \u001b[49m\u001b[43mell_max\u001b[49m\u001b[38;5;241;43m=\u001b[39;49m\u001b[43mgrid_info\u001b[49m\u001b[38;5;241;43m.\u001b[39;49m\u001b[43mL\u001b[49m\u001b[43m)\u001b[49m\n\u001b[1;32m    633\u001b[0m \u001b[38;5;28;01mif\u001b[39;00m err_info:\n\u001b[1;32m    634\u001b[0m     result \u001b[38;5;241m=\u001b[39m ComputeErrorInfo(result, \n\u001b[1;32m    635\u001b[0m                               func, \n\u001b[1;32m    636\u001b[0m                               grid_info,\n\u001b[0;32m   (...)\u001b[0m\n\u001b[1;32m    641\u001b[0m \n\u001b[1;32m    642\u001b[0m     )\n",
      "File \u001b[0;32m~/Documents/Projects/Codes/custom_libraries/spectral/spectral/spherical/transforms.py:681\u001b[0m, in \u001b[0;36mmodes_spack_to_wftools\u001b[0;34m(spack_modes, grid_info, err_info, ell_max)\u001b[0m\n\u001b[1;32m    678\u001b[0m     tmp_mode \u001b[38;5;241m=\u001b[39m ((\u001b[38;5;241m-\u001b[39m\u001b[38;5;241m1\u001b[39m)\u001b[38;5;241m*\u001b[39m\u001b[38;5;241m*\u001b[39memm) \u001b[38;5;241m*\u001b[39m (this_spack_mode_pm)\n\u001b[1;32m    680\u001b[0m     wf_mode \u001b[38;5;241m=\u001b[39m tmp_mode\u001b[38;5;241m*\u001b[39mfactor \n\u001b[0;32m--> 681\u001b[0m     \u001b[43mwf_modes\u001b[49m\u001b[38;5;241;43m.\u001b[39;49m\u001b[43mset_mode_data\u001b[49m\u001b[43m(\u001b[49m\u001b[43mell\u001b[49m\u001b[43m,\u001b[49m\u001b[43m \u001b[49m\u001b[43memm\u001b[49m\u001b[43m,\u001b[49m\u001b[43m \u001b[49m\u001b[43mwf_mode\u001b[49m\u001b[43m)\u001b[49m\n\u001b[1;32m    683\u001b[0m \u001b[38;5;28;01mfor\u001b[39;00m emm \u001b[38;5;129;01min\u001b[39;00m \u001b[38;5;28mrange\u001b[39m(\u001b[38;5;241m-\u001b[39mell, \u001b[38;5;241m0\u001b[39m):\n\u001b[1;32m    685\u001b[0m     wf_modes\u001b[38;5;241m.\u001b[39mset_mode_data(ell, emm, np\u001b[38;5;241m.\u001b[39mconjugate(wf_mode))\n",
      "File \u001b[0;32m~/Documents/Projects/Codes/custom_libraries/waveformtools/waveformtools/single_mode.py:320\u001b[0m, in \u001b[0;36mSingleMode.set_mode_data\u001b[0;34m(self, value, ell, emm)\u001b[0m\n\u001b[1;32m    318\u001b[0m     message(\u001b[38;5;124mf\u001b[39m\u001b[38;5;124m\"\u001b[39m\u001b[38;5;124mSet mode data \u001b[39m\u001b[38;5;132;01m{\u001b[39;00m\u001b[38;5;28mself\u001b[39m\u001b[38;5;241m.\u001b[39mmode(ell,\u001b[38;5;250m \u001b[39memm)\u001b[38;5;132;01m}\u001b[39;00m\u001b[38;5;124m\"\u001b[39m, message_verbosity\u001b[38;5;241m=\u001b[39m\u001b[38;5;241m4\u001b[39m)\n\u001b[1;32m    319\u001b[0m \u001b[38;5;28;01melse\u001b[39;00m:\n\u001b[0;32m--> 320\u001b[0m     \u001b[38;5;28;01mraise\u001b[39;00m \u001b[38;5;167;01mTypeError\u001b[39;00m(\u001b[38;5;124m\"\u001b[39m\u001b[38;5;124mPlease provide integer values for ell and emm\u001b[39m\u001b[38;5;124m\"\u001b[39m)\n",
      "\u001b[0;31mTypeError\u001b[0m: Please provide integer values for ell and emm"
     ]
    }
   ],
   "source": [
    "spmodes = SHExpand(func, gl_info, minfo2, err_info=False)"
   ]
  },
  {
   "cell_type": "code",
   "execution_count": null,
   "metadata": {},
   "outputs": [
    {
     "data": {
      "text/plain": [
       "(-0.02244383530366422+0j)"
      ]
     },
     "execution_count": 15,
     "metadata": {},
     "output_type": "execute_result"
    }
   ],
   "source": [
    "spmodes.mode(8, 0)"
   ]
  },
  {
   "cell_type": "code",
   "execution_count": null,
   "metadata": {},
   "outputs": [
    {
     "data": {
      "text/plain": [
       "(-0.02244371477198641+0j)"
      ]
     },
     "execution_count": 16,
     "metadata": {},
     "output_type": "execute_result"
    }
   ],
   "source": [
    "wfmodes.mode(8, 0)"
   ]
  },
  {
   "cell_type": "code",
   "execution_count": null,
   "metadata": {},
   "outputs": [
    {
     "data": {
      "text/plain": [
       "1.4142134673670463"
      ]
     },
     "execution_count": 17,
     "metadata": {},
     "output_type": "execute_result"
    }
   ],
   "source": [
    "3.5449077018110318/2.5066284430248484"
   ]
  },
  {
   "cell_type": "code",
   "execution_count": null,
   "metadata": {},
   "outputs": [
    {
     "data": {
      "text/plain": [
       "1.4142135623730951"
      ]
     },
     "execution_count": 18,
     "metadata": {},
     "output_type": "execute_result"
    }
   ],
   "source": [
    "np.sqrt(2)"
   ]
  },
  {
   "cell_type": "code",
   "execution_count": null,
   "metadata": {},
   "outputs": [],
   "source": [
    "aaa = np.array([-2, -1, 0, 1, 2])"
   ]
  },
  {
   "cell_type": "code",
   "execution_count": null,
   "metadata": {},
   "outputs": [
    {
     "data": {
      "text/plain": [
       "array([1, 2])"
      ]
     },
     "execution_count": 20,
     "metadata": {},
     "output_type": "execute_result"
    }
   ],
   "source": [
    "aaa[aaa>0]"
   ]
  },
  {
   "cell_type": "code",
   "execution_count": 10,
   "metadata": {},
   "outputs": [
    {
     "data": {
      "text/plain": [
       "(1.0000000000000527175+1.625003390576730251e-34j)"
      ]
     },
     "execution_count": 10,
     "metadata": {},
     "output_type": "execute_result"
    }
   ],
   "source": [
    "wfmodes.evaluate_old(theta=np.pi/2 , phi=0, ell_max=wfmodes.ell_max)"
   ]
  },
  {
   "cell_type": "code",
   "execution_count": 22,
   "metadata": {},
   "outputs": [
    {
     "name": "stdout",
     "output_type": "stream",
     "text": [
      "4.78 s ± 551 ms per loop (mean ± std. dev. of 7 runs, 1 loop each)\n"
     ]
    }
   ],
   "source": [
    "%%timeit\n",
    "wfmodes.evaluate_old(theta=np.pi/2 , phi=0, ell_max=wfmodes.ell_max)"
   ]
  },
  {
   "cell_type": "code",
   "execution_count": 11,
   "metadata": {},
   "outputs": [
    {
     "data": {
      "text/plain": [
       "array(1.-1.01072803e-30j)"
      ]
     },
     "execution_count": 11,
     "metadata": {},
     "output_type": "execute_result"
    }
   ],
   "source": [
    "wfmodes.evaluate(theta=np.pi/2 , phi=0, ell_max=wfmodes.ell_max)"
   ]
  },
  {
   "cell_type": "code",
   "execution_count": 12,
   "metadata": {},
   "outputs": [
    {
     "data": {
      "text/plain": [
       "(15, 30)"
      ]
     },
     "execution_count": 12,
     "metadata": {},
     "output_type": "execute_result"
    }
   ],
   "source": [
    "wfmodes.evaluate(theta=theta_grid , phi=phi_grid, ell_max=wfmodes.ell_max).shape"
   ]
  },
  {
   "cell_type": "code",
   "execution_count": 23,
   "metadata": {},
   "outputs": [
    {
     "name": "stdout",
     "output_type": "stream",
     "text": [
      "1.54 s ± 129 ms per loop (mean ± std. dev. of 7 runs, 1 loop each)\n"
     ]
    }
   ],
   "source": [
    "%%timeit\n",
    "wfmodes.evaluate(theta=np.pi/2 , phi=0, ell_max=wfmodes.ell_max)"
   ]
  },
  {
   "cell_type": "code",
   "execution_count": 14,
   "metadata": {},
   "outputs": [
    {
     "data": {
      "text/plain": [
       "float"
      ]
     },
     "execution_count": 14,
     "metadata": {},
     "output_type": "execute_result"
    }
   ],
   "source": [
    "m = 2.0\n",
    "\n",
    "type(m)"
   ]
  },
  {
   "cell_type": "code",
   "execution_count": 16,
   "metadata": {},
   "outputs": [
    {
     "name": "stdout",
     "output_type": "stream",
     "text": [
      "1\n"
     ]
    }
   ],
   "source": [
    "if int(m)==m:\n",
    "    print(1)"
   ]
  },
  {
   "cell_type": "code",
   "execution_count": 10,
   "metadata": {},
   "outputs": [
    {
     "data": {
      "text/plain": [
       "(1.0000000000000526+0j)"
      ]
     },
     "execution_count": 10,
     "metadata": {},
     "output_type": "execute_result"
    }
   ],
   "source": [
    "wfmodes.evaluate_sp(theta=np.pi/2 , phi=0, ell_max=wfmodes.ell_max)"
   ]
  },
  {
   "cell_type": "code",
   "execution_count": 85,
   "metadata": {},
   "outputs": [
    {
     "data": {
      "text/plain": [
       "<module 'spectral.spherical.swsh' from '/home/vaishakprasad/Documents/Projects/Codes/custom_libraries/spectral/spectral/spherical/swsh.py'>"
      ]
     },
     "execution_count": 85,
     "metadata": {},
     "output_type": "execute_result"
    }
   ],
   "source": [
    "from importlib import reload\n",
    "import spectral\n",
    "reload(spectral.spherical.swsh)"
   ]
  },
  {
   "cell_type": "code",
   "execution_count": 86,
   "metadata": {},
   "outputs": [],
   "source": [
    "from spectral.spherical.swsh import create_Ylm_modes_array"
   ]
  },
  {
   "cell_type": "code",
   "execution_count": 87,
   "metadata": {},
   "outputs": [],
   "source": [
    "sYlm = create_Ylm_modes_array(theta=np.pi/2, phi=0.0, ell_max=2, spin_weight=-2)"
   ]
  },
  {
   "cell_type": "code",
   "execution_count": 88,
   "metadata": {},
   "outputs": [
    {
     "data": {
      "text/plain": [
       "(0.15769578262625997-3.862432708645721e-17j)"
      ]
     },
     "execution_count": 88,
     "metadata": {},
     "output_type": "execute_result"
    }
   ],
   "source": [
    "sYlm.mode(2, 2)"
   ]
  },
  {
   "cell_type": "code",
   "execution_count": 89,
   "metadata": {},
   "outputs": [
    {
     "data": {
      "text/plain": [
       "(0.3862742020231896+0j)"
      ]
     },
     "execution_count": 89,
     "metadata": {},
     "output_type": "execute_result"
    }
   ],
   "source": [
    "Yslm(spin_weight=0, theta=np.pi/2, phi=0, ell=2, emm=2)"
   ]
  },
  {
   "cell_type": "code",
   "execution_count": 37,
   "metadata": {},
   "outputs": [
    {
     "data": {
      "text/plain": [
       "<module 'spectral.spherical.Yslm_mp' from '/home/vaishakprasad/Documents/Projects/Codes/custom_libraries/spectral/spectral/spherical/Yslm_mp.py'>"
      ]
     },
     "execution_count": 37,
     "metadata": {},
     "output_type": "execute_result"
    }
   ],
   "source": [
    "from importlib import reload\n",
    "import spectral\n",
    "reload(spectral.spherical.Yslm_mp)"
   ]
  },
  {
   "cell_type": "code",
   "execution_count": 11,
   "metadata": {},
   "outputs": [],
   "source": [
    "from spectral.spherical.Yslm_mp import Yslm_mp"
   ]
  },
  {
   "cell_type": "code",
   "execution_count": 12,
   "metadata": {},
   "outputs": [
    {
     "data": {
      "text/plain": [
       "array([[0.15512311, 0.15512311, 0.15512311, 0.15512311, 0.15512311,\n",
       "        0.15512311, 0.15512311, 0.15512311, 0.15512311, 0.15512311,\n",
       "        0.15512311, 0.15512311, 0.15512311, 0.15512311, 0.15512311,\n",
       "        0.15512311, 0.15512311, 0.15512311, 0.15512311, 0.15512311,\n",
       "        0.15512311, 0.15512311, 0.15512311, 0.15512311, 0.15512311,\n",
       "        0.15512311, 0.15512311, 0.15512311, 0.15512311, 0.15512311],\n",
       "       [0.35607183, 0.35607183, 0.35607183, 0.35607183, 0.35607183,\n",
       "        0.35607183, 0.35607183, 0.35607183, 0.35607183, 0.35607183,\n",
       "        0.35607183, 0.35607183, 0.35607183, 0.35607183, 0.35607183,\n",
       "        0.35607183, 0.35607183, 0.35607183, 0.35607183, 0.35607183,\n",
       "        0.35607183, 0.35607183, 0.35607183, 0.35607183, 0.35607183,\n",
       "        0.35607183, 0.35607183, 0.35607183, 0.35607183, 0.35607183],\n",
       "       [0.55820621, 0.55820621, 0.55820621, 0.55820621, 0.55820621,\n",
       "        0.55820621, 0.55820621, 0.55820621, 0.55820621, 0.55820621,\n",
       "        0.55820621, 0.55820621, 0.55820621, 0.55820621, 0.55820621,\n",
       "        0.55820621, 0.55820621, 0.55820621, 0.55820621, 0.55820621,\n",
       "        0.55820621, 0.55820621, 0.55820621, 0.55820621, 0.55820621,\n",
       "        0.55820621, 0.55820621, 0.55820621, 0.55820621, 0.55820621],\n",
       "       [0.76060696, 0.76060696, 0.76060696, 0.76060696, 0.76060696,\n",
       "        0.76060696, 0.76060696, 0.76060696, 0.76060696, 0.76060696,\n",
       "        0.76060696, 0.76060696, 0.76060696, 0.76060696, 0.76060696,\n",
       "        0.76060696, 0.76060696, 0.76060696, 0.76060696, 0.76060696,\n",
       "        0.76060696, 0.76060696, 0.76060696, 0.76060696, 0.76060696,\n",
       "        0.76060696, 0.76060696, 0.76060696, 0.76060696, 0.76060696],\n",
       "       [0.96310678, 0.96310678, 0.96310678, 0.96310678, 0.96310678,\n",
       "        0.96310678, 0.96310678, 0.96310678, 0.96310678, 0.96310678,\n",
       "        0.96310678, 0.96310678, 0.96310678, 0.96310678, 0.96310678,\n",
       "        0.96310678, 0.96310678, 0.96310678, 0.96310678, 0.96310678,\n",
       "        0.96310678, 0.96310678, 0.96310678, 0.96310678, 0.96310678,\n",
       "        0.96310678, 0.96310678, 0.96310678, 0.96310678, 0.96310678],\n",
       "       [1.16565207, 1.16565207, 1.16565207, 1.16565207, 1.16565207,\n",
       "        1.16565207, 1.16565207, 1.16565207, 1.16565207, 1.16565207,\n",
       "        1.16565207, 1.16565207, 1.16565207, 1.16565207, 1.16565207,\n",
       "        1.16565207, 1.16565207, 1.16565207, 1.16565207, 1.16565207,\n",
       "        1.16565207, 1.16565207, 1.16565207, 1.16565207, 1.16565207,\n",
       "        1.16565207, 1.16565207, 1.16565207, 1.16565207, 1.16565207],\n",
       "       [1.36821954, 1.36821954, 1.36821954, 1.36821954, 1.36821954,\n",
       "        1.36821954, 1.36821954, 1.36821954, 1.36821954, 1.36821954,\n",
       "        1.36821954, 1.36821954, 1.36821954, 1.36821954, 1.36821954,\n",
       "        1.36821954, 1.36821954, 1.36821954, 1.36821954, 1.36821954,\n",
       "        1.36821954, 1.36821954, 1.36821954, 1.36821954, 1.36821954,\n",
       "        1.36821954, 1.36821954, 1.36821954, 1.36821954, 1.36821954],\n",
       "       [1.57079633, 1.57079633, 1.57079633, 1.57079633, 1.57079633,\n",
       "        1.57079633, 1.57079633, 1.57079633, 1.57079633, 1.57079633,\n",
       "        1.57079633, 1.57079633, 1.57079633, 1.57079633, 1.57079633,\n",
       "        1.57079633, 1.57079633, 1.57079633, 1.57079633, 1.57079633,\n",
       "        1.57079633, 1.57079633, 1.57079633, 1.57079633, 1.57079633,\n",
       "        1.57079633, 1.57079633, 1.57079633, 1.57079633, 1.57079633],\n",
       "       [1.77337312, 1.77337312, 1.77337312, 1.77337312, 1.77337312,\n",
       "        1.77337312, 1.77337312, 1.77337312, 1.77337312, 1.77337312,\n",
       "        1.77337312, 1.77337312, 1.77337312, 1.77337312, 1.77337312,\n",
       "        1.77337312, 1.77337312, 1.77337312, 1.77337312, 1.77337312,\n",
       "        1.77337312, 1.77337312, 1.77337312, 1.77337312, 1.77337312,\n",
       "        1.77337312, 1.77337312, 1.77337312, 1.77337312, 1.77337312],\n",
       "       [1.97594059, 1.97594059, 1.97594059, 1.97594059, 1.97594059,\n",
       "        1.97594059, 1.97594059, 1.97594059, 1.97594059, 1.97594059,\n",
       "        1.97594059, 1.97594059, 1.97594059, 1.97594059, 1.97594059,\n",
       "        1.97594059, 1.97594059, 1.97594059, 1.97594059, 1.97594059,\n",
       "        1.97594059, 1.97594059, 1.97594059, 1.97594059, 1.97594059,\n",
       "        1.97594059, 1.97594059, 1.97594059, 1.97594059, 1.97594059],\n",
       "       [2.17848587, 2.17848587, 2.17848587, 2.17848587, 2.17848587,\n",
       "        2.17848587, 2.17848587, 2.17848587, 2.17848587, 2.17848587,\n",
       "        2.17848587, 2.17848587, 2.17848587, 2.17848587, 2.17848587,\n",
       "        2.17848587, 2.17848587, 2.17848587, 2.17848587, 2.17848587,\n",
       "        2.17848587, 2.17848587, 2.17848587, 2.17848587, 2.17848587,\n",
       "        2.17848587, 2.17848587, 2.17848587, 2.17848587, 2.17848587],\n",
       "       [2.3809857 , 2.3809857 , 2.3809857 , 2.3809857 , 2.3809857 ,\n",
       "        2.3809857 , 2.3809857 , 2.3809857 , 2.3809857 , 2.3809857 ,\n",
       "        2.3809857 , 2.3809857 , 2.3809857 , 2.3809857 , 2.3809857 ,\n",
       "        2.3809857 , 2.3809857 , 2.3809857 , 2.3809857 , 2.3809857 ,\n",
       "        2.3809857 , 2.3809857 , 2.3809857 , 2.3809857 , 2.3809857 ,\n",
       "        2.3809857 , 2.3809857 , 2.3809857 , 2.3809857 , 2.3809857 ],\n",
       "       [2.58338644, 2.58338644, 2.58338644, 2.58338644, 2.58338644,\n",
       "        2.58338644, 2.58338644, 2.58338644, 2.58338644, 2.58338644,\n",
       "        2.58338644, 2.58338644, 2.58338644, 2.58338644, 2.58338644,\n",
       "        2.58338644, 2.58338644, 2.58338644, 2.58338644, 2.58338644,\n",
       "        2.58338644, 2.58338644, 2.58338644, 2.58338644, 2.58338644,\n",
       "        2.58338644, 2.58338644, 2.58338644, 2.58338644, 2.58338644],\n",
       "       [2.78552082, 2.78552082, 2.78552082, 2.78552082, 2.78552082,\n",
       "        2.78552082, 2.78552082, 2.78552082, 2.78552082, 2.78552082,\n",
       "        2.78552082, 2.78552082, 2.78552082, 2.78552082, 2.78552082,\n",
       "        2.78552082, 2.78552082, 2.78552082, 2.78552082, 2.78552082,\n",
       "        2.78552082, 2.78552082, 2.78552082, 2.78552082, 2.78552082,\n",
       "        2.78552082, 2.78552082, 2.78552082, 2.78552082, 2.78552082],\n",
       "       [2.98646955, 2.98646955, 2.98646955, 2.98646955, 2.98646955,\n",
       "        2.98646955, 2.98646955, 2.98646955, 2.98646955, 2.98646955,\n",
       "        2.98646955, 2.98646955, 2.98646955, 2.98646955, 2.98646955,\n",
       "        2.98646955, 2.98646955, 2.98646955, 2.98646955, 2.98646955,\n",
       "        2.98646955, 2.98646955, 2.98646955, 2.98646955, 2.98646955,\n",
       "        2.98646955, 2.98646955, 2.98646955, 2.98646955, 2.98646955]])"
      ]
     },
     "execution_count": 12,
     "metadata": {},
     "output_type": "execute_result"
    }
   ],
   "source": [
    "theta_grid"
   ]
  },
  {
   "cell_type": "code",
   "execution_count": 13,
   "metadata": {},
   "outputs": [],
   "source": [
    "cYslm = Yslm_mp(ell_max=14, spin_weight=0, grid_info=gl_info)"
   ]
  },
  {
   "cell_type": "code",
   "execution_count": 14,
   "metadata": {},
   "outputs": [],
   "source": [
    "cYslm.run()"
   ]
  },
  {
   "cell_type": "code",
   "execution_count": 15,
   "metadata": {},
   "outputs": [
    {
     "data": {
      "text/plain": [
       "array([[ 0.00922067+0.00000000e+00j,  0.0084235 +3.75038362e-03j,\n",
       "         0.00616983+6.85229184e-03j,  0.00284934+8.76937655e-03j,\n",
       "        -0.00096382+9.17015639e-03j, -0.00461033+7.98533288e-03j,\n",
       "        -0.00745968+5.41977277e-03j, -0.00901917+1.91708471e-03j,\n",
       "        -0.00901917-1.91708471e-03j, -0.00745968-5.41977277e-03j,\n",
       "        -0.00461033-7.98533288e-03j, -0.00096382-9.17015639e-03j,\n",
       "         0.00284934-8.76937655e-03j,  0.00616983-6.85229184e-03j,\n",
       "         0.0084235 -3.75038362e-03j,  0.00922067-2.25841235e-18j,\n",
       "         0.0084235 +3.75038362e-03j,  0.00616983+6.85229184e-03j,\n",
       "         0.00284934+8.76937655e-03j, -0.00096382+9.17015639e-03j,\n",
       "        -0.00461033+7.98533288e-03j, -0.00745968+5.41977277e-03j,\n",
       "        -0.00901917+1.91708471e-03j, -0.00901917-1.91708471e-03j,\n",
       "        -0.00745968-5.41977277e-03j, -0.00461033-7.98533288e-03j,\n",
       "        -0.00096382-9.17015639e-03j,  0.00284934-8.76937655e-03j,\n",
       "         0.00616983-6.85229184e-03j,  0.0084235 -3.75038362e-03j],\n",
       "       [ 0.0469395 +0.00000000e+00j,  0.04288136+1.90920129e-02j,\n",
       "         0.03140865+3.48828432e-02j,  0.0145051 +4.46421131e-02j,\n",
       "        -0.00490651+4.66823561e-02j, -0.02346975+4.06507956e-02j,\n",
       "        -0.03797485+2.75903432e-02j, -0.04591375+9.75926989e-03j,\n",
       "        -0.04591375-9.75926989e-03j, -0.03797485-2.75903432e-02j,\n",
       "        -0.02346975-4.06507956e-02j, -0.00490651-4.66823561e-02j,\n",
       "         0.0145051 -4.46421131e-02j,  0.03140865-3.48828432e-02j,\n",
       "         0.04288136-1.90920129e-02j,  0.0469395 -1.14968606e-17j,\n",
       "         0.04288136+1.90920129e-02j,  0.03140865+3.48828432e-02j,\n",
       "         0.0145051 +4.46421131e-02j, -0.00490651+4.66823561e-02j,\n",
       "        -0.02346975+4.06507956e-02j, -0.03797485+2.75903432e-02j,\n",
       "        -0.04591375+9.75926989e-03j, -0.04591375-9.75926989e-03j,\n",
       "        -0.03797485-2.75903432e-02j, -0.02346975-4.06507956e-02j,\n",
       "        -0.00490651-4.66823561e-02j,  0.0145051 -4.46421131e-02j,\n",
       "         0.03140865-3.48828432e-02j,  0.04288136-1.90920129e-02j],\n",
       "       [ 0.10836752+0.00000000e+00j,  0.09899866+4.40770432e-02j,\n",
       "         0.07251203+8.05327652e-02j,  0.03348741+1.03063640e-01j,\n",
       "        -0.01132749+1.07773876e-01j, -0.05418376+9.38490293e-02j,\n",
       "        -0.08767117+6.36968328e-02j, -0.10599943+2.25308753e-02j,\n",
       "        -0.10599943-2.25308753e-02j, -0.08767117-6.36968328e-02j,\n",
       "        -0.05418376-9.38490293e-02j, -0.01132749-1.07773876e-01j,\n",
       "         0.03348741-1.03063640e-01j,  0.07251203-8.05327652e-02j,\n",
       "         0.09899866-4.40770432e-02j,  0.10836752-2.65423884e-17j,\n",
       "         0.09899866+4.40770432e-02j,  0.07251203+8.05327652e-02j,\n",
       "         0.03348741+1.03063640e-01j, -0.01132749+1.07773876e-01j,\n",
       "        -0.05418376+9.38490293e-02j, -0.08767117+6.36968328e-02j,\n",
       "        -0.10599943+2.25308753e-02j, -0.10599943-2.25308753e-02j,\n",
       "        -0.08767117-6.36968328e-02j, -0.05418376-9.38490293e-02j,\n",
       "        -0.01132749-1.07773876e-01j,  0.03348741-1.03063640e-01j,\n",
       "         0.07251203-8.05327652e-02j,  0.09899866-4.40770432e-02j],\n",
       "       [ 0.18356482+0.00000000e+00j,  0.16769481+7.46625390e-02j,\n",
       "         0.12282884+1.36415247e-01j,  0.05672465+1.74580519e-01j,\n",
       "        -0.01918775+1.82559234e-01j, -0.09178241+1.58971798e-01j,\n",
       "        -0.14850706+1.07896695e-01j, -0.17955349+3.81652723e-02j,\n",
       "        -0.17955349-3.81652723e-02j, -0.14850706-1.07896695e-01j,\n",
       "        -0.09178241-1.58971798e-01j, -0.01918775-1.82559234e-01j,\n",
       "         0.05672465-1.74580519e-01j,  0.12282884-1.36415247e-01j,\n",
       "         0.16769481-7.46625390e-02j,  0.18356482-4.49604141e-17j,\n",
       "         0.16769481+7.46625390e-02j,  0.12282884+1.36415247e-01j,\n",
       "         0.05672465+1.74580519e-01j, -0.01918775+1.82559234e-01j,\n",
       "        -0.09178241+1.58971798e-01j, -0.14850706+1.07896695e-01j,\n",
       "        -0.17955349+3.81652723e-02j, -0.17955349-3.81652723e-02j,\n",
       "        -0.14850706-1.07896695e-01j, -0.09178241-1.58971798e-01j,\n",
       "        -0.01918775-1.82559234e-01j,  0.05672465-1.74580519e-01j,\n",
       "         0.12282884-1.36415247e-01j,  0.16769481-7.46625390e-02j],\n",
       "       [ 0.26034525+0.00000000e+00j,  0.23783722+1.05891953e-01j,\n",
       "         0.17420497+1.93474225e-01j,  0.08045111+2.47603046e-01j,\n",
       "        -0.02721349+2.58919051e-01j, -0.13017262+2.25465600e-01j,\n",
       "        -0.21062373+1.53027098e-01j, -0.25465608+5.41288211e-02j,\n",
       "        -0.25465608-5.41288211e-02j, -0.21062373-1.53027098e-01j,\n",
       "        -0.13017262-2.25465600e-01j, -0.02721349-2.58919051e-01j,\n",
       "         0.08045111-2.47603046e-01j,  0.17420497-1.93474225e-01j,\n",
       "         0.23783722-1.05891953e-01j,  0.26034525-6.37661954e-17j,\n",
       "         0.23783722+1.05891953e-01j,  0.17420497+1.93474225e-01j,\n",
       "         0.08045111+2.47603046e-01j, -0.02721349+2.58919051e-01j,\n",
       "        -0.13017262+2.25465600e-01j, -0.21062373+1.53027098e-01j,\n",
       "        -0.25465608+5.41288211e-02j, -0.25465608-5.41288211e-02j,\n",
       "        -0.21062373-1.53027098e-01j, -0.13017262-2.25465600e-01j,\n",
       "        -0.02721349-2.58919051e-01j,  0.08045111-2.47603046e-01j,\n",
       "         0.17420497-1.93474225e-01j,  0.23783722-1.05891953e-01j],\n",
       "       [ 0.32626446+0.00000000e+00j,  0.29805742+1.32703713e-01j,\n",
       "         0.21831354+2.42461748e-01j,  0.10082126+3.10295944e-01j,\n",
       "        -0.03410392+3.24477153e-01j, -0.16313223+2.82553314e-01j,\n",
       "        -0.2639535 +1.91773440e-01j, -0.3191348 +6.78341963e-02j,\n",
       "        -0.3191348 -6.78341963e-02j, -0.2639535 -1.91773440e-01j,\n",
       "        -0.16313223-2.82553314e-01j, -0.03410392-3.24477153e-01j,\n",
       "         0.10082126-3.10295944e-01j,  0.21831354-2.42461748e-01j,\n",
       "         0.29805742-1.32703713e-01j,  0.32626446-7.99117462e-17j,\n",
       "         0.29805742+1.32703713e-01j,  0.21831354+2.42461748e-01j,\n",
       "         0.10082126+3.10295944e-01j, -0.03410392+3.24477153e-01j,\n",
       "        -0.16313223+2.82553314e-01j, -0.2639535 +1.91773440e-01j,\n",
       "        -0.3191348 +6.78341963e-02j, -0.3191348 -6.78341963e-02j,\n",
       "        -0.2639535 -1.91773440e-01j, -0.16313223-2.82553314e-01j,\n",
       "        -0.03410392-3.24477153e-01j,  0.10082126-3.10295944e-01j,\n",
       "         0.21831354-2.42461748e-01j,  0.29805742-1.32703713e-01j],\n",
       "       [ 0.37063818+0.00000000e+00j,  0.33859483+1.50752131e-01j,\n",
       "         0.24800535+2.75437849e-01j,  0.1145335 +3.52497860e-01j,\n",
       "        -0.03874224+3.68607789e-01j, -0.18531909+3.20982083e-01j,\n",
       "        -0.29985259+2.17855659e-01j, -0.36253885+7.70600115e-02j,\n",
       "        -0.36253885-7.70600115e-02j, -0.29985259-2.17855659e-01j,\n",
       "        -0.18531909-3.20982083e-01j, -0.03874224-3.68607789e-01j,\n",
       "         0.1145335 -3.52497860e-01j,  0.24800535-2.75437849e-01j,\n",
       "         0.33859483-1.50752131e-01j,  0.37063818-9.07801732e-17j,\n",
       "         0.33859483+1.50752131e-01j,  0.24800535+2.75437849e-01j,\n",
       "         0.1145335 +3.52497860e-01j, -0.03874224+3.68607789e-01j,\n",
       "        -0.18531909+3.20982083e-01j, -0.29985259+2.17855659e-01j,\n",
       "        -0.36253885+7.70600115e-02j, -0.36253885-7.70600115e-02j,\n",
       "        -0.29985259-2.17855659e-01j, -0.18531909-3.20982083e-01j,\n",
       "        -0.03874224-3.68607789e-01j,  0.1145335 -3.52497860e-01j,\n",
       "         0.24800535-2.75437849e-01j,  0.33859483-1.50752131e-01j],\n",
       "       [ 0.3862742 +0.00000000e+00j,  0.35287904+1.57111872e-01j,\n",
       "         0.25846789+2.87057674e-01j,  0.11936529+3.67368597e-01j,\n",
       "        -0.04037665+3.84158152e-01j, -0.1931371 +3.34523272e-01j,\n",
       "        -0.31250239+2.27046279e-01j, -0.37783318+8.03109225e-02j,\n",
       "        -0.37783318-8.03109225e-02j, -0.31250239-2.27046279e-01j,\n",
       "        -0.1931371 -3.34523272e-01j, -0.04037665-3.84158152e-01j,\n",
       "         0.11936529-3.67368597e-01j,  0.25846789-2.87057674e-01j,\n",
       "         0.35287904-1.57111872e-01j,  0.3862742 -9.46098930e-17j,\n",
       "         0.35287904+1.57111872e-01j,  0.25846789+2.87057674e-01j,\n",
       "         0.11936529+3.67368597e-01j, -0.04037665+3.84158152e-01j,\n",
       "        -0.1931371 +3.34523272e-01j, -0.31250239+2.27046279e-01j,\n",
       "        -0.37783318+8.03109225e-02j, -0.37783318-8.03109225e-02j,\n",
       "        -0.31250239-2.27046279e-01j, -0.1931371 -3.34523272e-01j,\n",
       "        -0.04037665-3.84158152e-01j,  0.11936529-3.67368597e-01j,\n",
       "         0.25846789-2.87057674e-01j,  0.35287904-1.57111872e-01j],\n",
       "       [ 0.37063818+0.00000000e+00j,  0.33859483+1.50752131e-01j,\n",
       "         0.24800535+2.75437849e-01j,  0.1145335 +3.52497860e-01j,\n",
       "        -0.03874224+3.68607789e-01j, -0.18531909+3.20982083e-01j,\n",
       "        -0.29985259+2.17855659e-01j, -0.36253885+7.70600115e-02j,\n",
       "        -0.36253885-7.70600115e-02j, -0.29985259-2.17855659e-01j,\n",
       "        -0.18531909-3.20982083e-01j, -0.03874224-3.68607789e-01j,\n",
       "         0.1145335 -3.52497860e-01j,  0.24800535-2.75437849e-01j,\n",
       "         0.33859483-1.50752131e-01j,  0.37063818-9.07801732e-17j,\n",
       "         0.33859483+1.50752131e-01j,  0.24800535+2.75437849e-01j,\n",
       "         0.1145335 +3.52497860e-01j, -0.03874224+3.68607789e-01j,\n",
       "        -0.18531909+3.20982083e-01j, -0.29985259+2.17855659e-01j,\n",
       "        -0.36253885+7.70600115e-02j, -0.36253885-7.70600115e-02j,\n",
       "        -0.29985259-2.17855659e-01j, -0.18531909-3.20982083e-01j,\n",
       "        -0.03874224-3.68607789e-01j,  0.1145335 -3.52497860e-01j,\n",
       "         0.24800535-2.75437849e-01j,  0.33859483-1.50752131e-01j],\n",
       "       [ 0.32626446+0.00000000e+00j,  0.29805742+1.32703713e-01j,\n",
       "         0.21831354+2.42461748e-01j,  0.10082126+3.10295944e-01j,\n",
       "        -0.03410392+3.24477153e-01j, -0.16313223+2.82553314e-01j,\n",
       "        -0.2639535 +1.91773440e-01j, -0.3191348 +6.78341963e-02j,\n",
       "        -0.3191348 -6.78341963e-02j, -0.2639535 -1.91773440e-01j,\n",
       "        -0.16313223-2.82553314e-01j, -0.03410392-3.24477153e-01j,\n",
       "         0.10082126-3.10295944e-01j,  0.21831354-2.42461748e-01j,\n",
       "         0.29805742-1.32703713e-01j,  0.32626446-7.99117462e-17j,\n",
       "         0.29805742+1.32703713e-01j,  0.21831354+2.42461748e-01j,\n",
       "         0.10082126+3.10295944e-01j, -0.03410392+3.24477153e-01j,\n",
       "        -0.16313223+2.82553314e-01j, -0.2639535 +1.91773440e-01j,\n",
       "        -0.3191348 +6.78341963e-02j, -0.3191348 -6.78341963e-02j,\n",
       "        -0.2639535 -1.91773440e-01j, -0.16313223-2.82553314e-01j,\n",
       "        -0.03410392-3.24477153e-01j,  0.10082126-3.10295944e-01j,\n",
       "         0.21831354-2.42461748e-01j,  0.29805742-1.32703713e-01j],\n",
       "       [ 0.26034525+0.00000000e+00j,  0.23783722+1.05891953e-01j,\n",
       "         0.17420497+1.93474225e-01j,  0.08045111+2.47603046e-01j,\n",
       "        -0.02721349+2.58919051e-01j, -0.13017262+2.25465600e-01j,\n",
       "        -0.21062373+1.53027098e-01j, -0.25465608+5.41288211e-02j,\n",
       "        -0.25465608-5.41288211e-02j, -0.21062373-1.53027098e-01j,\n",
       "        -0.13017262-2.25465600e-01j, -0.02721349-2.58919051e-01j,\n",
       "         0.08045111-2.47603046e-01j,  0.17420497-1.93474225e-01j,\n",
       "         0.23783722-1.05891953e-01j,  0.26034525-6.37661954e-17j,\n",
       "         0.23783722+1.05891953e-01j,  0.17420497+1.93474225e-01j,\n",
       "         0.08045111+2.47603046e-01j, -0.02721349+2.58919051e-01j,\n",
       "        -0.13017262+2.25465600e-01j, -0.21062373+1.53027098e-01j,\n",
       "        -0.25465608+5.41288211e-02j, -0.25465608-5.41288211e-02j,\n",
       "        -0.21062373-1.53027098e-01j, -0.13017262-2.25465600e-01j,\n",
       "        -0.02721349-2.58919051e-01j,  0.08045111-2.47603046e-01j,\n",
       "         0.17420497-1.93474225e-01j,  0.23783722-1.05891953e-01j],\n",
       "       [ 0.18356482+0.00000000e+00j,  0.16769481+7.46625390e-02j,\n",
       "         0.12282884+1.36415247e-01j,  0.05672465+1.74580519e-01j,\n",
       "        -0.01918775+1.82559234e-01j, -0.09178241+1.58971798e-01j,\n",
       "        -0.14850706+1.07896695e-01j, -0.17955349+3.81652723e-02j,\n",
       "        -0.17955349-3.81652723e-02j, -0.14850706-1.07896695e-01j,\n",
       "        -0.09178241-1.58971798e-01j, -0.01918775-1.82559234e-01j,\n",
       "         0.05672465-1.74580519e-01j,  0.12282884-1.36415247e-01j,\n",
       "         0.16769481-7.46625390e-02j,  0.18356482-4.49604141e-17j,\n",
       "         0.16769481+7.46625390e-02j,  0.12282884+1.36415247e-01j,\n",
       "         0.05672465+1.74580519e-01j, -0.01918775+1.82559234e-01j,\n",
       "        -0.09178241+1.58971798e-01j, -0.14850706+1.07896695e-01j,\n",
       "        -0.17955349+3.81652723e-02j, -0.17955349-3.81652723e-02j,\n",
       "        -0.14850706-1.07896695e-01j, -0.09178241-1.58971798e-01j,\n",
       "        -0.01918775-1.82559234e-01j,  0.05672465-1.74580519e-01j,\n",
       "         0.12282884-1.36415247e-01j,  0.16769481-7.46625390e-02j],\n",
       "       [ 0.10836752+0.00000000e+00j,  0.09899866+4.40770432e-02j,\n",
       "         0.07251203+8.05327652e-02j,  0.03348741+1.03063640e-01j,\n",
       "        -0.01132749+1.07773876e-01j, -0.05418376+9.38490293e-02j,\n",
       "        -0.08767117+6.36968328e-02j, -0.10599943+2.25308753e-02j,\n",
       "        -0.10599943-2.25308753e-02j, -0.08767117-6.36968328e-02j,\n",
       "        -0.05418376-9.38490293e-02j, -0.01132749-1.07773876e-01j,\n",
       "         0.03348741-1.03063640e-01j,  0.07251203-8.05327652e-02j,\n",
       "         0.09899866-4.40770432e-02j,  0.10836752-2.65423884e-17j,\n",
       "         0.09899866+4.40770432e-02j,  0.07251203+8.05327652e-02j,\n",
       "         0.03348741+1.03063640e-01j, -0.01132749+1.07773876e-01j,\n",
       "        -0.05418376+9.38490293e-02j, -0.08767117+6.36968328e-02j,\n",
       "        -0.10599943+2.25308753e-02j, -0.10599943-2.25308753e-02j,\n",
       "        -0.08767117-6.36968328e-02j, -0.05418376-9.38490293e-02j,\n",
       "        -0.01132749-1.07773876e-01j,  0.03348741-1.03063640e-01j,\n",
       "         0.07251203-8.05327652e-02j,  0.09899866-4.40770432e-02j],\n",
       "       [ 0.0469395 +0.00000000e+00j,  0.04288136+1.90920129e-02j,\n",
       "         0.03140865+3.48828432e-02j,  0.0145051 +4.46421131e-02j,\n",
       "        -0.00490651+4.66823561e-02j, -0.02346975+4.06507956e-02j,\n",
       "        -0.03797485+2.75903432e-02j, -0.04591375+9.75926989e-03j,\n",
       "        -0.04591375-9.75926989e-03j, -0.03797485-2.75903432e-02j,\n",
       "        -0.02346975-4.06507956e-02j, -0.00490651-4.66823561e-02j,\n",
       "         0.0145051 -4.46421131e-02j,  0.03140865-3.48828432e-02j,\n",
       "         0.04288136-1.90920129e-02j,  0.0469395 -1.14968606e-17j,\n",
       "         0.04288136+1.90920129e-02j,  0.03140865+3.48828432e-02j,\n",
       "         0.0145051 +4.46421131e-02j, -0.00490651+4.66823561e-02j,\n",
       "        -0.02346975+4.06507956e-02j, -0.03797485+2.75903432e-02j,\n",
       "        -0.04591375+9.75926989e-03j, -0.04591375-9.75926989e-03j,\n",
       "        -0.03797485-2.75903432e-02j, -0.02346975-4.06507956e-02j,\n",
       "        -0.00490651-4.66823561e-02j,  0.0145051 -4.46421131e-02j,\n",
       "         0.03140865-3.48828432e-02j,  0.04288136-1.90920129e-02j],\n",
       "       [ 0.00922067+0.00000000e+00j,  0.0084235 +3.75038362e-03j,\n",
       "         0.00616983+6.85229184e-03j,  0.00284934+8.76937655e-03j,\n",
       "        -0.00096382+9.17015639e-03j, -0.00461033+7.98533288e-03j,\n",
       "        -0.00745968+5.41977277e-03j, -0.00901917+1.91708471e-03j,\n",
       "        -0.00901917-1.91708471e-03j, -0.00745968-5.41977277e-03j,\n",
       "        -0.00461033-7.98533288e-03j, -0.00096382-9.17015639e-03j,\n",
       "         0.00284934-8.76937655e-03j,  0.00616983-6.85229184e-03j,\n",
       "         0.0084235 -3.75038362e-03j,  0.00922067-2.25841235e-18j,\n",
       "         0.0084235 +3.75038362e-03j,  0.00616983+6.85229184e-03j,\n",
       "         0.00284934+8.76937655e-03j, -0.00096382+9.17015639e-03j,\n",
       "        -0.00461033+7.98533288e-03j, -0.00745968+5.41977277e-03j,\n",
       "        -0.00901917+1.91708471e-03j, -0.00901917-1.91708471e-03j,\n",
       "        -0.00745968-5.41977277e-03j, -0.00461033-7.98533288e-03j,\n",
       "        -0.00096382-9.17015639e-03j,  0.00284934-8.76937655e-03j,\n",
       "         0.00616983-6.85229184e-03j,  0.0084235 -3.75038362e-03j]])"
      ]
     },
     "execution_count": 15,
     "metadata": {},
     "output_type": "execute_result"
    }
   ],
   "source": [
    "cYslm.sYlm_modes.mode(2, 2)"
   ]
  },
  {
   "cell_type": "code",
   "execution_count": 16,
   "metadata": {},
   "outputs": [
    {
     "name": "stdout",
     "output_type": "stream",
     "text": [
      "643 ns ± 8.25 ns per loop (mean ± std. dev. of 7 runs, 1,000,000 loops each)\n"
     ]
    }
   ],
   "source": [
    "%%timeit\n",
    "cYslm.run()"
   ]
  },
  {
   "cell_type": "code",
   "execution_count": 34,
   "metadata": {},
   "outputs": [
    {
     "name": "stdout",
     "output_type": "stream",
     "text": [
      "1.48 s ± 31.5 ms per loop (mean ± std. dev. of 7 runs, 1 loop each)\n"
     ]
    }
   ],
   "source": [
    "%%timeit\n",
    "cYslm.run()"
   ]
  },
  {
   "cell_type": "code",
   "execution_count": 53,
   "metadata": {},
   "outputs": [
    {
     "data": {
      "text/plain": [
       "(225, 15, 30)"
      ]
     },
     "execution_count": 53,
     "metadata": {},
     "output_type": "execute_result"
    }
   ],
   "source": [
    "np.array(cYslm.sYlm_modes._modes_data).shape"
   ]
  },
  {
   "cell_type": "code",
   "execution_count": 14,
   "metadata": {},
   "outputs": [
    {
     "name": "stdout",
     "output_type": "stream",
     "text": [
      "3.84 s ± 73.7 ms per loop (mean ± std. dev. of 7 runs, 1 loop each)\n"
     ]
    }
   ],
   "source": [
    "%%timeit\n",
    "cYslm.store_as_modes()"
   ]
  },
  {
   "cell_type": "code",
   "execution_count": 45,
   "metadata": {},
   "outputs": [
    {
     "data": {
      "text/plain": [
       "[[0, array(0.28209479+0.j)],\n",
       " [1, array(0.34549415+0.j)],\n",
       " [2, array(5.42457759e-17+0.j)],\n",
       " [3, array(-0.34549415+0.j)],\n",
       " [4, array(0.3862742+0.j)],\n",
       " [5, array(1.71540205e-16+0.j)],\n",
       " [6, array(-0.31539157+0.j)],\n",
       " [7, array(-1.71540205e-16+0.j)],\n",
       " [8, array(0.3862742+0.j)]]"
      ]
     },
     "execution_count": 45,
     "metadata": {},
     "output_type": "execute_result"
    }
   ],
   "source": [
    "cYslm.result_list"
   ]
  },
  {
   "cell_type": "code",
   "execution_count": 47,
   "metadata": {},
   "outputs": [
    {
     "data": {
      "text/plain": [
       "(2.1236804377400126e-16+0j)"
      ]
     },
     "execution_count": 47,
     "metadata": {},
     "output_type": "execute_result"
    }
   ],
   "source": [
    "wfmodes.mode(1,0)"
   ]
  },
  {
   "cell_type": "code",
   "execution_count": 50,
   "metadata": {},
   "outputs": [
    {
     "data": {
      "text/plain": [
       "1"
      ]
     },
     "execution_count": 50,
     "metadata": {},
     "output_type": "execute_result"
    }
   ],
   "source": [
    "int(np.sqrt(5)-1)"
   ]
  },
  {
   "cell_type": "code",
   "execution_count": 52,
   "metadata": {},
   "outputs": [
    {
     "data": {
      "text/plain": [
       "1"
      ]
     },
     "execution_count": 52,
     "metadata": {},
     "output_type": "execute_result"
    }
   ],
   "source": [
    "int(1.99)"
   ]
  },
  {
   "cell_type": "code",
   "execution_count": 54,
   "metadata": {},
   "outputs": [
    {
     "data": {
      "text/plain": [
       "2"
      ]
     },
     "execution_count": 54,
     "metadata": {},
     "output_type": "execute_result"
    }
   ],
   "source": [
    "int(np.sqrt(5))"
   ]
  },
  {
   "cell_type": "code",
   "execution_count": 51,
   "metadata": {},
   "outputs": [
    {
     "data": {
      "text/plain": [
       "1"
      ]
     },
     "execution_count": 51,
     "metadata": {},
     "output_type": "execute_result"
    }
   ],
   "source": [
    "5- (4)"
   ]
  },
  {
   "cell_type": "code",
   "execution_count": 55,
   "metadata": {},
   "outputs": [
    {
     "data": {
      "text/plain": [
       "-1"
      ]
     },
     "execution_count": 55,
     "metadata": {},
     "output_type": "execute_result"
    }
   ],
   "source": [
    "1 - 2"
   ]
  },
  {
   "cell_type": "code",
   "execution_count": 21,
   "metadata": {},
   "outputs": [
    {
     "name": "stdout",
     "output_type": "stream",
     "text": [
      "313 µs ± 17.3 µs per loop (mean ± std. dev. of 7 runs, 1,000 loops each)\n"
     ]
    }
   ],
   "source": [
    "%%timeit\n",
    "def get_index(ell, emm):\n",
    "    ind = 0\n",
    "    for ell_ind in range(ell + 1):\n",
    "        ind += 2 * ell_ind + 1\n",
    "\n",
    "    return ind + emm - ell_ind - 1\n",
    "\n",
    "#info = GLGrid(L=24)\n",
    "# minfo = method_info(ell_max=24, int_method='GL')\n",
    "\n",
    "ell_max = 24\n",
    "\n",
    "#from waveformtools.transforms import Yslm_prec_grid\n",
    "\n",
    "#theta_grid, phi_grid = info.meshgrid\n",
    "\n",
    "theta = np.pi/2\n",
    "phi = 0\n",
    "spin_weight = 0\n",
    "\n",
    "import quaternionic, spherical\n",
    "\n",
    "R = quaternionic.array.from_spherical_coordinates(theta, phi)\n",
    "# ell_max = ell\n",
    "\n",
    "wigner = spherical.Wigner(ell_max)\n",
    "\n",
    "Y2 = wigner.sYlm(spin_weight, R)\n",
    "\n",
    "\n",
    "Ylm_spherical = Y2.T[get_index(2, 0)].T"
   ]
  },
  {
   "cell_type": "code",
   "execution_count": 18,
   "metadata": {},
   "outputs": [
    {
     "data": {
      "text/plain": [
       "(625,)"
      ]
     },
     "execution_count": 18,
     "metadata": {},
     "output_type": "execute_result"
    }
   ],
   "source": [
    "Y2.shape"
   ]
  },
  {
   "cell_type": "code",
   "execution_count": 1,
   "metadata": {},
   "outputs": [],
   "source": [
    "import numpy as np"
   ]
  },
  {
   "cell_type": "code",
   "execution_count": 3,
   "metadata": {},
   "outputs": [],
   "source": [
    "aa = np.zeros((10, *(2, 2)))"
   ]
  },
  {
   "cell_type": "code",
   "execution_count": 4,
   "metadata": {},
   "outputs": [
    {
     "data": {
      "text/plain": [
       "(10, 2, 2)"
      ]
     },
     "execution_count": 4,
     "metadata": {},
     "output_type": "execute_result"
    }
   ],
   "source": [
    "aa.shape"
   ]
  },
  {
   "cell_type": "code",
   "execution_count": 54,
   "metadata": {},
   "outputs": [],
   "source": [
    "from qlmtools.integration import TwoDIntegral"
   ]
  },
  {
   "cell_type": "code",
   "execution_count": 55,
   "metadata": {},
   "outputs": [],
   "source": [
    "func = np.sin(theta_grid)"
   ]
  },
  {
   "cell_type": "code",
   "execution_count": 56,
   "metadata": {},
   "outputs": [
    {
     "ename": "NameError",
     "evalue": "name 'sYlm' is not defined",
     "output_type": "error",
     "traceback": [
      "\u001b[0;31m---------------------------------------------------------------------------\u001b[0m",
      "\u001b[0;31mNameError\u001b[0m                                 Traceback (most recent call last)",
      "Cell \u001b[0;32mIn[56], line 1\u001b[0m\n\u001b[0;32m----> 1\u001b[0m \u001b[43msYlm\u001b[49m\n",
      "\u001b[0;31mNameError\u001b[0m: name 'sYlm' is not defined"
     ]
    }
   ],
   "source": [
    "cYslm"
   ]
  },
  {
   "cell_type": "code",
   "execution_count": 60,
   "metadata": {},
   "outputs": [],
   "source": [
    "Ym = np.array(cYslm.sYlm_modes._modes_data)"
   ]
  },
  {
   "cell_type": "code",
   "execution_count": 62,
   "metadata": {},
   "outputs": [
    {
     "data": {
      "text/plain": [
       "(225, 15, 30)"
      ]
     },
     "execution_count": 62,
     "metadata": {},
     "output_type": "execute_result"
    }
   ],
   "source": [
    "Ym.shape"
   ]
  },
  {
   "cell_type": "code",
   "execution_count": 63,
   "metadata": {},
   "outputs": [],
   "source": [
    "integrand = Ym*func"
   ]
  },
  {
   "cell_type": "code",
   "execution_count": 70,
   "metadata": {},
   "outputs": [
    {
     "data": {
      "text/plain": [
       "(225, 15, 30)"
      ]
     },
     "execution_count": 70,
     "metadata": {},
     "output_type": "execute_result"
    }
   ],
   "source": [
    "integrand.shape"
   ]
  },
  {
   "cell_type": "code",
   "execution_count": 67,
   "metadata": {},
   "outputs": [],
   "source": [
    "modes_vec = TwoDIntegral(integrand, gl_info, method='GL')"
   ]
  },
  {
   "cell_type": "code",
   "execution_count": 69,
   "metadata": {},
   "outputs": [
    {
     "data": {
      "text/plain": [
       "()"
      ]
     },
     "execution_count": 69,
     "metadata": {},
     "output_type": "execute_result"
    }
   ],
   "source": [
    "modes_vec.shape"
   ]
  },
  {
   "cell_type": "code",
   "execution_count": 74,
   "metadata": {},
   "outputs": [
    {
     "data": {
      "text/plain": [
       "(225,)"
      ]
     },
     "execution_count": 74,
     "metadata": {},
     "output_type": "execute_result"
    }
   ],
   "source": [
    "np.tensordot(integrand, gl_info.weights_grid, axes=((-2, -1), (0,1))).shape"
   ]
  },
  {
   "cell_type": "code",
   "execution_count": 15,
   "metadata": {},
   "outputs": [],
   "source": [
    "class trial:\n",
    "\n",
    "    def __init__(self, a):\n",
    "        self.a = a\n",
    "\n",
    "    b = 0"
   ]
  },
  {
   "cell_type": "code",
   "execution_count": 22,
   "metadata": {},
   "outputs": [],
   "source": [
    "tt = trial(1)\n",
    "tt2 = trial(2)"
   ]
  },
  {
   "cell_type": "code",
   "execution_count": 23,
   "metadata": {},
   "outputs": [
    {
     "data": {
      "text/plain": [
       "1"
      ]
     },
     "execution_count": 23,
     "metadata": {},
     "output_type": "execute_result"
    }
   ],
   "source": [
    "tt.a"
   ]
  },
  {
   "cell_type": "code",
   "execution_count": 24,
   "metadata": {},
   "outputs": [
    {
     "data": {
      "text/plain": [
       "0"
      ]
     },
     "execution_count": 24,
     "metadata": {},
     "output_type": "execute_result"
    }
   ],
   "source": [
    "tt.b"
   ]
  },
  {
   "cell_type": "code",
   "execution_count": 19,
   "metadata": {},
   "outputs": [],
   "source": [
    "tt.b = 3"
   ]
  },
  {
   "cell_type": "code",
   "execution_count": 1,
   "metadata": {},
   "outputs": [],
   "source": [
    "import numpy as np\n",
    "import numba as nb"
   ]
  },
  {
   "cell_type": "code",
   "execution_count": 6,
   "metadata": {},
   "outputs": [
    {
     "data": {
      "text/plain": [
       "List(float64, True)"
      ]
     },
     "execution_count": 6,
     "metadata": {},
     "output_type": "execute_result"
    }
   ],
   "source": [
    "nb.typeof([2.0, 3.4])"
   ]
  },
  {
   "cell_type": "code",
   "execution_count": 9,
   "metadata": {},
   "outputs": [
    {
     "data": {
      "text/plain": [
       "List(reflected list(int64)<iv=None>, True)"
      ]
     },
     "execution_count": 9,
     "metadata": {},
     "output_type": "execute_result"
    }
   ],
   "source": [
    "nb.typeof([[2, [1, 2, 3], [0, [1, 2]]]])"
   ]
  },
  {
   "cell_type": "code",
   "execution_count": 10,
   "metadata": {},
   "outputs": [
    {
     "ename": "ValueError",
     "evalue": "Cannot determine Numba type of <class 'dict'>",
     "output_type": "error",
     "traceback": [
      "\u001b[0;31m---------------------------------------------------------------------------\u001b[0m",
      "\u001b[0;31mValueError\u001b[0m                                Traceback (most recent call last)",
      "Cell \u001b[0;32mIn[10], line 1\u001b[0m\n\u001b[0;32m----> 1\u001b[0m \u001b[43mnb\u001b[49m\u001b[38;5;241;43m.\u001b[39;49m\u001b[43mtypeof\u001b[49m\u001b[43m(\u001b[49m\u001b[43m{\u001b[49m\u001b[38;5;124;43m'\u001b[39;49m\u001b[38;5;124;43ml0\u001b[39;49m\u001b[38;5;124;43m'\u001b[39;49m\u001b[43m:\u001b[49m\u001b[43m \u001b[49m\u001b[43m{\u001b[49m\u001b[38;5;124;43m'\u001b[39;49m\u001b[38;5;124;43mm1\u001b[39;49m\u001b[38;5;124;43m'\u001b[39;49m\u001b[43m \u001b[49m\u001b[43m:\u001b[49m\u001b[43m \u001b[49m\u001b[38;5;241;43m4.2\u001b[39;49m\u001b[43m}\u001b[49m\u001b[43m}\u001b[49m\u001b[43m)\u001b[49m\n",
      "File \u001b[0;32m~/Installations/anaconda3/envs/wftools/lib/python3.10/site-packages/numba/core/typing/typeof.py:37\u001b[0m, in \u001b[0;36mtypeof\u001b[0;34m(val, purpose)\u001b[0m\n\u001b[1;32m     34\u001b[0m \u001b[38;5;28;01mif\u001b[39;00m ty \u001b[38;5;129;01mis\u001b[39;00m \u001b[38;5;28;01mNone\u001b[39;00m:\n\u001b[1;32m     35\u001b[0m     msg \u001b[38;5;241m=\u001b[39m _termcolor\u001b[38;5;241m.\u001b[39merrmsg(\n\u001b[1;32m     36\u001b[0m         \u001b[38;5;124mf\u001b[39m\u001b[38;5;124m\"\u001b[39m\u001b[38;5;124mCannot determine Numba type of \u001b[39m\u001b[38;5;132;01m{\u001b[39;00m\u001b[38;5;28mtype\u001b[39m(val)\u001b[38;5;132;01m}\u001b[39;00m\u001b[38;5;124m\"\u001b[39m)\n\u001b[0;32m---> 37\u001b[0m     \u001b[38;5;28;01mraise\u001b[39;00m \u001b[38;5;167;01mValueError\u001b[39;00m(msg)\n\u001b[1;32m     38\u001b[0m \u001b[38;5;28;01mreturn\u001b[39;00m ty\n",
      "\u001b[0;31mValueError\u001b[0m: Cannot determine Numba type of <class 'dict'>"
     ]
    }
   ],
   "source": [
    "nb.typeof({'l0': {'m1' : 4.2}})"
   ]
  },
  {
   "cell_type": "code",
   "execution_count": null,
   "metadata": {},
   "outputs": [],
   "source": []
  }
 ],
 "metadata": {
  "kernelspec": {
   "display_name": "wftools",
   "language": "python",
   "name": "python3"
  },
  "language_info": {
   "codemirror_mode": {
    "name": "ipython",
    "version": 3
   },
   "file_extension": ".py",
   "mimetype": "text/x-python",
   "name": "python",
   "nbconvert_exporter": "python",
   "pygments_lexer": "ipython3",
   "version": "3.10.14"
  }
 },
 "nbformat": 4,
 "nbformat_minor": 2
}
