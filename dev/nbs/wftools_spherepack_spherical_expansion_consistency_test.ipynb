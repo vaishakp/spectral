{
 "cells": [
  {
   "cell_type": "code",
   "execution_count": 1,
   "metadata": {},
   "outputs": [
    {
     "name": "stdout",
     "output_type": "stream",
     "text": [
      "/home/vaishakp/Projects/Codes/spectral/spectral\n",
      "/home/vaishakp/Projects/Codes/waveformtools/waveformtools\n",
      "No module named 'pycbc'\n"
     ]
    }
   ],
   "source": [
    "import numpy as np\n",
    "import config\n",
    "import matplotlib\n",
    "import matplotlib.pyplot as plt\n",
    "\n",
    "config.conf_matplolib()\n",
    "# from spharm import Spharmt, getspecindx\n",
    "from spectral.spherical.transforms import Yslm_vec, SHExpand\n",
    "from spectral.spherical.grids import GLGrid\n",
    "\n",
    "# from waveformtools.grids import GLGrid\n",
    "import h5py\n",
    "from waveformtools.diagnostics import method_info\n",
    "\n",
    "# np.show_config()"
   ]
  },
  {
   "cell_type": "code",
   "execution_count": 2,
   "metadata": {},
   "outputs": [],
   "source": [
    "import scipy\n",
    "\n",
    "# scipy.show_config()"
   ]
  },
  {
   "cell_type": "code",
   "execution_count": 3,
   "metadata": {},
   "outputs": [
    {
     "name": "stderr",
     "output_type": "stream",
     "text": [
      "ERROR: Loaded environment state is inconsistent\n",
      "  LOADEDMODULES=\n",
      "  _LMFILES_=/usr/share/modules/modulefiles/use.own /home/vaishakp/privatemodules/cuda/12.6\n"
     ]
    },
    {
     "ename": "CalledProcessError",
     "evalue": "Command 'b'module list\\n'' returned non-zero exit status 1.",
     "output_type": "error",
     "traceback": [
      "\u001b[0;31m---------------------------------------------------------------------------\u001b[0m",
      "\u001b[0;31mCalledProcessError\u001b[0m                        Traceback (most recent call last)",
      "Cell \u001b[0;32mIn[3], line 1\u001b[0m\n\u001b[0;32m----> 1\u001b[0m \u001b[43mget_ipython\u001b[49m\u001b[43m(\u001b[49m\u001b[43m)\u001b[49m\u001b[38;5;241;43m.\u001b[39;49m\u001b[43mrun_cell_magic\u001b[49m\u001b[43m(\u001b[49m\u001b[38;5;124;43m'\u001b[39;49m\u001b[38;5;124;43mbash\u001b[39;49m\u001b[38;5;124;43m'\u001b[39;49m\u001b[43m,\u001b[49m\u001b[43m \u001b[49m\u001b[38;5;124;43m'\u001b[39;49m\u001b[38;5;124;43m'\u001b[39;49m\u001b[43m,\u001b[49m\u001b[43m \u001b[49m\u001b[38;5;124;43m'\u001b[39;49m\u001b[38;5;124;43mmodule list\u001b[39;49m\u001b[38;5;130;43;01m\\n\u001b[39;49;00m\u001b[38;5;124;43m'\u001b[39;49m\u001b[43m)\u001b[49m\n",
      "File \u001b[0;32m~/soft/anaconda3/envs/wftools/lib/python3.12/site-packages/IPython/core/interactiveshell.py:2541\u001b[0m, in \u001b[0;36mInteractiveShell.run_cell_magic\u001b[0;34m(self, magic_name, line, cell)\u001b[0m\n\u001b[1;32m   2539\u001b[0m \u001b[38;5;28;01mwith\u001b[39;00m \u001b[38;5;28mself\u001b[39m\u001b[38;5;241m.\u001b[39mbuiltin_trap:\n\u001b[1;32m   2540\u001b[0m     args \u001b[38;5;241m=\u001b[39m (magic_arg_s, cell)\n\u001b[0;32m-> 2541\u001b[0m     result \u001b[38;5;241m=\u001b[39m \u001b[43mfn\u001b[49m\u001b[43m(\u001b[49m\u001b[38;5;241;43m*\u001b[39;49m\u001b[43margs\u001b[49m\u001b[43m,\u001b[49m\u001b[43m \u001b[49m\u001b[38;5;241;43m*\u001b[39;49m\u001b[38;5;241;43m*\u001b[39;49m\u001b[43mkwargs\u001b[49m\u001b[43m)\u001b[49m\n\u001b[1;32m   2543\u001b[0m \u001b[38;5;66;03m# The code below prevents the output from being displayed\u001b[39;00m\n\u001b[1;32m   2544\u001b[0m \u001b[38;5;66;03m# when using magics with decorator @output_can_be_silenced\u001b[39;00m\n\u001b[1;32m   2545\u001b[0m \u001b[38;5;66;03m# when the last Python token in the expression is a ';'.\u001b[39;00m\n\u001b[1;32m   2546\u001b[0m \u001b[38;5;28;01mif\u001b[39;00m \u001b[38;5;28mgetattr\u001b[39m(fn, magic\u001b[38;5;241m.\u001b[39mMAGIC_OUTPUT_CAN_BE_SILENCED, \u001b[38;5;28;01mFalse\u001b[39;00m):\n",
      "File \u001b[0;32m~/soft/anaconda3/envs/wftools/lib/python3.12/site-packages/IPython/core/magics/script.py:155\u001b[0m, in \u001b[0;36mScriptMagics._make_script_magic.<locals>.named_script_magic\u001b[0;34m(line, cell)\u001b[0m\n\u001b[1;32m    153\u001b[0m \u001b[38;5;28;01melse\u001b[39;00m:\n\u001b[1;32m    154\u001b[0m     line \u001b[38;5;241m=\u001b[39m script\n\u001b[0;32m--> 155\u001b[0m \u001b[38;5;28;01mreturn\u001b[39;00m \u001b[38;5;28;43mself\u001b[39;49m\u001b[38;5;241;43m.\u001b[39;49m\u001b[43mshebang\u001b[49m\u001b[43m(\u001b[49m\u001b[43mline\u001b[49m\u001b[43m,\u001b[49m\u001b[43m \u001b[49m\u001b[43mcell\u001b[49m\u001b[43m)\u001b[49m\n",
      "File \u001b[0;32m~/soft/anaconda3/envs/wftools/lib/python3.12/site-packages/IPython/core/magics/script.py:315\u001b[0m, in \u001b[0;36mScriptMagics.shebang\u001b[0;34m(self, line, cell)\u001b[0m\n\u001b[1;32m    310\u001b[0m \u001b[38;5;28;01mif\u001b[39;00m args\u001b[38;5;241m.\u001b[39mraise_error \u001b[38;5;129;01mand\u001b[39;00m p\u001b[38;5;241m.\u001b[39mreturncode \u001b[38;5;241m!=\u001b[39m \u001b[38;5;241m0\u001b[39m:\n\u001b[1;32m    311\u001b[0m     \u001b[38;5;66;03m# If we get here and p.returncode is still None, we must have\u001b[39;00m\n\u001b[1;32m    312\u001b[0m     \u001b[38;5;66;03m# killed it but not yet seen its return code. We don't wait for it,\u001b[39;00m\n\u001b[1;32m    313\u001b[0m     \u001b[38;5;66;03m# in case it's stuck in uninterruptible sleep. -9 = SIGKILL\u001b[39;00m\n\u001b[1;32m    314\u001b[0m     rc \u001b[38;5;241m=\u001b[39m p\u001b[38;5;241m.\u001b[39mreturncode \u001b[38;5;129;01mor\u001b[39;00m \u001b[38;5;241m-\u001b[39m\u001b[38;5;241m9\u001b[39m\n\u001b[0;32m--> 315\u001b[0m     \u001b[38;5;28;01mraise\u001b[39;00m CalledProcessError(rc, cell)\n",
      "\u001b[0;31mCalledProcessError\u001b[0m: Command 'b'module list\\n'' returned non-zero exit status 1."
     ]
    }
   ],
   "source": [
    "%%bash\n",
    "module list"
   ]
  },
  {
   "cell_type": "code",
   "execution_count": 3,
   "metadata": {},
   "outputs": [
    {
     "name": "stdout",
     "output_type": "stream",
     "text": [
      "print verbosity has been set to 1 at /home/vaishakp/Projects/Codes/config/config/__init__.py\n"
     ]
    }
   ],
   "source": [
    "from config.verbosity import levels\n",
    "\n",
    "vl = levels()\n",
    "vl.set_print_verbosity(1)"
   ]
  },
  {
   "cell_type": "code",
   "execution_count": 4,
   "metadata": {},
   "outputs": [],
   "source": [
    "ell_max = 14\n",
    "\n",
    "gl_info = GLGrid(L=ell_max)\n",
    "theta_grid, phi_grid = gl_info.meshgrid"
   ]
  },
  {
   "cell_type": "code",
   "execution_count": 22,
   "metadata": {},
   "outputs": [],
   "source": [
    "from spectral.spherical.swsh import Yslm\n",
    "\n",
    "func = np.sin(theta_grid)\n",
    "# func = np.sin(theta_grid)*np.cos(phi_grid)**3\n",
    "# func = np.ones(gl_info.shape)\n",
    "# func = 2.4*Yslm_vec(ell=6, emm=0, spin_weight=0, theta_grid=theta_grid, phi_grid=phi_grid) -4.5 * Yslm_vec(ell=13, emm=0, spin_weight=0, theta_grid=theta_grid, phi_grid=phi_grid)\n",
    "# func = 2.4*Yslm_vec(ell=0, emm=0, spin_weight=0, theta_grid=theta_grid, phi_grid=phi_grid)\n",
    "# func = np.cos(phi_grid)**4 * np.sin(theta_grid)\n",
    "# func = np.load(\"/mnt/pfs/vaishak.p/Projects/Codes/custom_libraries/qlmtools/dev/nbs/matrix_KT_phi.npy\")[0,0].real\n",
    "# func = np.load(\"/mnt/sonic_icts/Projects/Codes/custom_libraries/qlmtools/dev/nbs/matrix_KT_phi.npy\")[0,0].real"
   ]
  },
  {
   "cell_type": "code",
   "execution_count": 33,
   "metadata": {},
   "outputs": [
    {
     "data": {
      "text/plain": [
       "(15, 30)"
      ]
     },
     "execution_count": 33,
     "metadata": {},
     "output_type": "execute_result"
    }
   ],
   "source": [
    "func.shape"
   ]
  },
  {
   "cell_type": "code",
   "execution_count": 38,
   "metadata": {},
   "outputs": [
    {
     "data": {
      "text/plain": [
       "array([[0., 0., 0., 0., 0., 0., 0., 0., 0., 0., 0., 0., 0., 0., 0., 0.,\n",
       "        0., 0., 0., 0., 0., 0., 0., 0., 0., 0., 0., 0., 0., 0.],\n",
       "       [0., 0., 0., 0., 0., 0., 0., 0., 0., 0., 0., 0., 0., 0., 0., 0.,\n",
       "        0., 0., 0., 0., 0., 0., 0., 0., 0., 0., 0., 0., 0., 0.],\n",
       "       [0., 0., 0., 0., 0., 0., 0., 0., 0., 0., 0., 0., 0., 0., 0., 0.,\n",
       "        0., 0., 0., 0., 0., 0., 0., 0., 0., 0., 0., 0., 0., 0.],\n",
       "       [0., 0., 0., 0., 0., 0., 0., 0., 0., 0., 0., 0., 0., 0., 0., 0.,\n",
       "        0., 0., 0., 0., 0., 0., 0., 0., 0., 0., 0., 0., 0., 0.],\n",
       "       [0., 0., 0., 0., 0., 0., 0., 0., 0., 0., 0., 0., 0., 0., 0., 0.,\n",
       "        0., 0., 0., 0., 0., 0., 0., 0., 0., 0., 0., 0., 0., 0.],\n",
       "       [0., 0., 0., 0., 0., 0., 0., 0., 0., 0., 0., 0., 0., 0., 0., 0.,\n",
       "        0., 0., 0., 0., 0., 0., 0., 0., 0., 0., 0., 0., 0., 0.],\n",
       "       [0., 0., 0., 0., 0., 0., 0., 0., 0., 0., 0., 0., 0., 0., 0., 0.,\n",
       "        0., 0., 0., 0., 0., 0., 0., 0., 0., 0., 0., 0., 0., 0.],\n",
       "       [0., 0., 0., 0., 0., 0., 0., 0., 0., 0., 0., 0., 0., 0., 0., 0.,\n",
       "        0., 0., 0., 0., 0., 0., 0., 0., 0., 0., 0., 0., 0., 0.],\n",
       "       [0., 0., 0., 0., 0., 0., 0., 0., 0., 0., 0., 0., 0., 0., 0., 0.,\n",
       "        0., 0., 0., 0., 0., 0., 0., 0., 0., 0., 0., 0., 0., 0.],\n",
       "       [0., 0., 0., 0., 0., 0., 0., 0., 0., 0., 0., 0., 0., 0., 0., 0.,\n",
       "        0., 0., 0., 0., 0., 0., 0., 0., 0., 0., 0., 0., 0., 0.],\n",
       "       [0., 0., 0., 0., 0., 0., 0., 0., 0., 0., 0., 0., 0., 0., 0., 0.,\n",
       "        0., 0., 0., 0., 0., 0., 0., 0., 0., 0., 0., 0., 0., 0.],\n",
       "       [0., 0., 0., 0., 0., 0., 0., 0., 0., 0., 0., 0., 0., 0., 0., 0.,\n",
       "        0., 0., 0., 0., 0., 0., 0., 0., 0., 0., 0., 0., 0., 0.],\n",
       "       [0., 0., 0., 0., 0., 0., 0., 0., 0., 0., 0., 0., 0., 0., 0., 0.,\n",
       "        0., 0., 0., 0., 0., 0., 0., 0., 0., 0., 0., 0., 0., 0.],\n",
       "       [0., 0., 0., 0., 0., 0., 0., 0., 0., 0., 0., 0., 0., 0., 0., 0.,\n",
       "        0., 0., 0., 0., 0., 0., 0., 0., 0., 0., 0., 0., 0., 0.],\n",
       "       [0., 0., 0., 0., 0., 0., 0., 0., 0., 0., 0., 0., 0., 0., 0., 0.,\n",
       "        0., 0., 0., 0., 0., 0., 0., 0., 0., 0., 0., 0., 0., 0.]])"
      ]
     },
     "execution_count": 38,
     "metadata": {},
     "output_type": "execute_result"
    }
   ],
   "source": [
    "func.imag"
   ]
  },
  {
   "cell_type": "markdown",
   "metadata": {},
   "source": [
    "## Testing waveformtools expansion\n",
    "1. waveformtools vectorized expansion\n",
    "    1. With residue calc\n",
    "    1. Without residue calc"
   ]
  },
  {
   "cell_type": "code",
   "execution_count": 6,
   "metadata": {},
   "outputs": [],
   "source": [
    "minfo = method_info(\n",
    "    ell_max=ell_max,\n",
    "    int_method=\"GL\",\n",
    "    diff_method=\"SH\",\n",
    "    swsh_routine=\"waveformtools\",\n",
    ")\n",
    "minfo_slow = method_info(\n",
    "    ell_max=ell_max,\n",
    "    int_method=\"GL\",\n",
    "    diff_method=\"SH\",\n",
    "    swsh_routine=\"waveformtools_slow\",\n",
    ")\n",
    "minfo_spack = method_info(\n",
    "    ell_max=ell_max,\n",
    "    int_method=\"GL\",\n",
    "    diff_method=\"SH\",\n",
    "    swsh_routine=\"spherepack\",\n",
    ")\n",
    "minfo_sp = method_info(\n",
    "    ell_max=ell_max, int_method=\"GL\", diff_method=\"SH\", swsh_routine=\"spherical\"\n",
    ")"
   ]
  },
  {
   "cell_type": "code",
   "execution_count": 11,
   "metadata": {},
   "outputs": [
    {
     "name": "stdout",
     "output_type": "stream",
     "text": [
      "Help on function SHExpand in module spectral.spherical.transforms:\n",
      "\n",
      "SHExpand(func, info, method_info, error_info=False, auto_ell_max=False, res_tol_percent=3, reg=False, reg_order=1, label=None)\n",
      "    Expand a given function in spin weight 0 spherical harmonics\n",
      "    upto an optimal :math:`\\ell \\leq \\ell_{max}`.\n",
      "\n",
      "    Parameters\n",
      "    ----------\n",
      "    func : ndarray\n",
      "           The function to be expanded.\n",
      "    info : Grid\n",
      "           An instance of the Spherical grid class\n",
      "           that stores the details of the structure\n",
      "           of a grid on a topological sphere.\n",
      "    method_info : MethodInfo\n",
      "                  An instance of the method info\n",
      "                  class that contains informations\n",
      "                  about the numerical methods\n",
      "                  to be used during the following\n",
      "                  operations.\n",
      "    error_info : bool\n",
      "               Whether or not to compute and return\n",
      "               the error measures related to the\n",
      "               SH representation.\n",
      "\n",
      "    Returns\n",
      "    -------\n",
      "    modes : dict\n",
      "            The modes as a dictionary whose keys are lm.\n",
      "\n"
     ]
    }
   ],
   "source": [
    "help(SHExpand)"
   ]
  },
  {
   "cell_type": "markdown",
   "metadata": {},
   "source": [
    "## Without caching, conda\n",
    "\n",
    "Time stat err  1.5981713008880616 0.08455542693288153\n",
    "\n",
    "Time stat no err  0.8094721794128418 0.06192949675373192"
   ]
  },
  {
   "cell_type": "markdown",
   "metadata": {},
   "source": [
    "## Without caching, opt\n",
    "\n",
    "Time stat err  1.409931287765503 0.10512480445225708\n",
    "\n",
    "\n",
    "Time stat no err  0.7261994361877442 0.06773736996504073"
   ]
  },
  {
   "cell_type": "code",
   "execution_count": 14,
   "metadata": {},
   "outputs": [
    {
     "data": {
      "text/plain": [
       "0.11778462860518053"
      ]
     },
     "execution_count": 14,
     "metadata": {},
     "output_type": "execute_result"
    }
   ],
   "source": [
    "(1.5981713008880616 - 1.409931287765503) / (1.5981713008880616)"
   ]
  },
  {
   "cell_type": "code",
   "execution_count": 15,
   "metadata": {},
   "outputs": [
    {
     "data": {
      "text/plain": [
       "0.10287289093184185"
      ]
     },
     "execution_count": 15,
     "metadata": {},
     "output_type": "execute_result"
    }
   ],
   "source": [
    "(0.8094721794128418 - 0.7261994361877442) / (0.8094721794128418)"
   ]
  },
  {
   "cell_type": "markdown",
   "metadata": {},
   "source": [
    "## With caching, conda\n",
    "\n",
    "Time stat err  0.7879845809936523 0.21783936744540372\n",
    "\n",
    "Time stat no err  0.023445510864257814 0.0003406548353136277"
   ]
  },
  {
   "cell_type": "markdown",
   "metadata": {},
   "source": [
    "## With caching, opt\n",
    "\n",
    "Time stat err  0.6322350597381592 0.1530482935634428\n",
    "\n",
    "Time stat no err  0.020553946495056152 0.00032997021526776836"
   ]
  },
  {
   "cell_type": "code",
   "execution_count": 16,
   "metadata": {},
   "outputs": [
    {
     "data": {
      "text/plain": [
       "0.19765554429896615"
      ]
     },
     "execution_count": 16,
     "metadata": {},
     "output_type": "execute_result"
    }
   ],
   "source": [
    "(0.7879845809936523 - 0.6322350597381592) / 0.7879845809936523"
   ]
  },
  {
   "cell_type": "code",
   "execution_count": 17,
   "metadata": {},
   "outputs": [
    {
     "data": {
      "text/plain": [
       "0.1233312588470738"
      ]
     },
     "execution_count": 17,
     "metadata": {},
     "output_type": "execute_result"
    }
   ],
   "source": [
    "(0.023445510864257814 - 0.020553946495056152) / 0.023445510864257814"
   ]
  },
  {
   "cell_type": "code",
   "execution_count": null,
   "metadata": {},
   "outputs": [],
   "source": []
  },
  {
   "cell_type": "code",
   "execution_count": 12,
   "metadata": {},
   "outputs": [
    {
     "name": "stdout",
     "output_type": "stream",
     "text": [
      "10.09% Residue warning for None! \n",
      "Error report for None: \n",
      "\t {'RMS': 0.0014347666476189852, 'dAmin': (-0.005028752389569317+3.8300760425514635e-21j), 'dAmax': (0.005312743601980077+7.72886116708866e-21j)}\n",
      "10.09% Residue warning for None! \n",
      "Error report for None: \n",
      "\t {'RMS': 0.0014347666476189852, 'dAmin': (-0.005028752389569317+3.8300760425514635e-21j), 'dAmax': (0.005312743601980077+7.72886116708866e-21j)}\n",
      "10.09% Residue warning for None! \n",
      "Error report for None: \n",
      "\t {'RMS': 0.0014347666476189852, 'dAmin': (-0.005028752389569317+3.8300760425514635e-21j), 'dAmax': (0.005312743601980077+7.72886116708866e-21j)}\n",
      "10.09% Residue warning for None! \n",
      "Error report for None: \n",
      "\t {'RMS': 0.0014347666476189852, 'dAmin': (-0.005028752389569317+3.8300760425514635e-21j), 'dAmax': (0.005312743601980077+7.72886116708866e-21j)}\n",
      "10.09% Residue warning for None! \n",
      "Error report for None: \n",
      "\t {'RMS': 0.0014347666476189852, 'dAmin': (-0.005028752389569317+3.8300760425514635e-21j), 'dAmax': (0.005312743601980077+7.72886116708866e-21j)}\n",
      "10.09% Residue warning for None! \n",
      "Error report for None: \n",
      "\t {'RMS': 0.0014347666476189852, 'dAmin': (-0.005028752389569317+3.8300760425514635e-21j), 'dAmax': (0.005312743601980077+7.72886116708866e-21j)}\n",
      "10.09% Residue warning for None! \n",
      "Error report for None: \n",
      "\t {'RMS': 0.0014347666476189852, 'dAmin': (-0.005028752389569317+3.8300760425514635e-21j), 'dAmax': (0.005312743601980077+7.72886116708866e-21j)}\n",
      "10.09% Residue warning for None! \n",
      "Error report for None: \n",
      "\t {'RMS': 0.0014347666476189852, 'dAmin': (-0.005028752389569317+3.8300760425514635e-21j), 'dAmax': (0.005312743601980077+7.72886116708866e-21j)}\n",
      "3.85 s ± 354 ms per loop (mean ± std. dev. of 7 runs, 1 loop each)\n"
     ]
    }
   ],
   "source": [
    "%%timeit\n",
    "wfmodes = SHExpand(func, gl_info, minfo, error_info=True)"
   ]
  },
  {
   "cell_type": "code",
   "execution_count": 15,
   "metadata": {},
   "outputs": [
    {
     "name": "stdout",
     "output_type": "stream",
     "text": [
      "10.09% Residue warning! \n",
      "10.09% Residue warning! \n",
      "10.09% Residue warning! \n",
      "10.09% Residue warning! \n",
      "10.09% Residue warning! \n",
      "10.09% Residue warning! \n",
      "10.09% Residue warning! \n",
      "10.09% Residue warning! \n",
      "1.35 s ± 21.2 ms per loop (mean ± std. dev. of 7 runs, 1 loop each)\n"
     ]
    }
   ],
   "source": [
    "%%timeit\n",
    "wfmodes = SHExpand(func, gl_info, minfo, err_info=True)"
   ]
  },
  {
   "cell_type": "code",
   "execution_count": 14,
   "metadata": {},
   "outputs": [],
   "source": [
    "# import spectral.spherical.Yslm_mp\n",
    "from spectral.spherical.Yslm_mp import Yslm_mp\n",
    "\n",
    "# from spectral.spherical.Yslm_mp import _Yslm_mp_cache"
   ]
  },
  {
   "cell_type": "code",
   "execution_count": 18,
   "metadata": {},
   "outputs": [],
   "source": [
    "Yslm_mp._Yslm_mp_cache.update({\"a\": 1})"
   ]
  },
  {
   "cell_type": "code",
   "execution_count": 16,
   "metadata": {},
   "outputs": [],
   "source": [
    "i1 = Yslm_mp(ell_max=14, grid_info=gl_info, cache=True)"
   ]
  },
  {
   "cell_type": "code",
   "execution_count": 17,
   "metadata": {},
   "outputs": [
    {
     "data": {
      "text/plain": [
       "{}"
      ]
     },
     "execution_count": 17,
     "metadata": {},
     "output_type": "execute_result"
    }
   ],
   "source": [
    "i1._Yslm_mp_cache"
   ]
  },
  {
   "cell_type": "code",
   "execution_count": 18,
   "metadata": {},
   "outputs": [
    {
     "name": "stdout",
     "output_type": "stream",
     "text": [
      "False {}\n",
      "Updating cache\n",
      "{0: {14: <waveformtools.single_mode.SingleMode object at 0x7f1bb70a4310>}}\n"
     ]
    }
   ],
   "source": [
    "i1.run()"
   ]
  },
  {
   "cell_type": "code",
   "execution_count": 15,
   "metadata": {},
   "outputs": [
    {
     "data": {
      "text/plain": [
       "{}"
      ]
     },
     "execution_count": 15,
     "metadata": {},
     "output_type": "execute_result"
    }
   ],
   "source": [
    "Yslm_mp._Yslm_mp_cache"
   ]
  },
  {
   "cell_type": "code",
   "execution_count": 30,
   "metadata": {},
   "outputs": [
    {
     "ename": "AttributeError",
     "evalue": "'Yslm_mp' object has no attribute '_Yslm_mp_cache'",
     "output_type": "error",
     "traceback": [
      "\u001b[0;31m---------------------------------------------------------------------------\u001b[0m",
      "\u001b[0;31mAttributeError\u001b[0m                            Traceback (most recent call last)",
      "Cell \u001b[0;32mIn[30], line 1\u001b[0m\n\u001b[0;32m----> 1\u001b[0m \u001b[43mi1\u001b[49m\u001b[38;5;241;43m.\u001b[39;49m\u001b[43m_Yslm_mp_cache\u001b[49m\n",
      "\u001b[0;31mAttributeError\u001b[0m: 'Yslm_mp' object has no attribute '_Yslm_mp_cache'"
     ]
    }
   ],
   "source": [
    "i1._Yslm_mp_cache"
   ]
  },
  {
   "cell_type": "code",
   "execution_count": 23,
   "metadata": {},
   "outputs": [],
   "source": [
    "# %%timeit\n",
    "wfmodes = SHExpand(func, gl_info, minfo, error_info=True)"
   ]
  },
  {
   "cell_type": "code",
   "execution_count": 24,
   "metadata": {},
   "outputs": [],
   "source": [
    "func_r = wfmodes.contract(ell_max=14)"
   ]
  },
  {
   "cell_type": "code",
   "execution_count": 25,
   "metadata": {},
   "outputs": [],
   "source": [
    "from spectral.spherical.transforms import SHContractWftoolsVec\n",
    "\n",
    "\n",
    "func_r_vec = SHContractWftoolsVec(wfmodes)"
   ]
  },
  {
   "cell_type": "code",
   "execution_count": null,
   "metadata": {},
   "outputs": [],
   "source": []
  },
  {
   "cell_type": "code",
   "execution_count": 8,
   "metadata": {},
   "outputs": [],
   "source": [
    "from waveformtools.transforms import SHExpand as SHExpand2\n",
    "\n",
    "wfmodes2 = SHExpand2(func, gl_info, minfo)"
   ]
  },
  {
   "cell_type": "code",
   "execution_count": 13,
   "metadata": {},
   "outputs": [],
   "source": [
    "from spectral.spherical.transforms import SHContract\n",
    "from waveformtools.transforms import SHContract as SHContract0\n",
    "\n",
    "func3 = SHContract(wfmodes, wfmodes.Grid, ell_max=14, method_info=minfo)"
   ]
  },
  {
   "cell_type": "code",
   "execution_count": 14,
   "metadata": {},
   "outputs": [],
   "source": [
    "func4 = SHContract0(wfmodes, wfmodes.Grid, ell_max=14)"
   ]
  },
  {
   "cell_type": "code",
   "execution_count": 46,
   "metadata": {},
   "outputs": [
    {
     "data": {
      "text/plain": [
       "{'int_method': 'GL',\n",
       " 'diff_method': 'SH',\n",
       " 'ell_max': 14,\n",
       " 'eval_ell_max': 8,\n",
       " 'reg': True,\n",
       " 'degree': 8,\n",
       " 'swsh_routine': 'waveformtools',\n",
       " 'atol': 0.0001,\n",
       " 'rtol': 0.01,\n",
       " 'ode_solver': 'solve_ivp',\n",
       " 'vectorized': True,\n",
       " 'ivp_method': 'RK45',\n",
       " 'error_info': False}"
      ]
     },
     "execution_count": 46,
     "metadata": {},
     "output_type": "execute_result"
    }
   ],
   "source": [
    "minfo.__dict__"
   ]
  },
  {
   "cell_type": "code",
   "execution_count": 26,
   "metadata": {},
   "outputs": [
    {
     "data": {
      "text/plain": [
       "[[0, [0]],\n",
       " [2, [0]],\n",
       " [4, [0]],\n",
       " [6, [0]],\n",
       " [8, [0]],\n",
       " [10, [0]],\n",
       " [12, [0]],\n",
       " [14, [0]]]"
      ]
     },
     "execution_count": 26,
     "metadata": {},
     "output_type": "execute_result"
    }
   ],
   "source": [
    "wfmodes.non_zero_modes()"
   ]
  },
  {
   "cell_type": "code",
   "execution_count": 69,
   "metadata": {},
   "outputs": [
    {
     "data": {
      "text/plain": [
       "[[1, [-1, 1]],\n",
       " [3, [-3, 3]],\n",
       " [5, [-3, 3]],\n",
       " [7, [-3, 3]],\n",
       " [9, [-3, 3]],\n",
       " [11, [-3, 3]],\n",
       " [13, [-3, 3]]]"
      ]
     },
     "execution_count": 69,
     "metadata": {},
     "output_type": "execute_result"
    }
   ],
   "source": [
    "wfmodes2.non_zero_modes()"
   ]
  },
  {
   "cell_type": "code",
   "execution_count": 11,
   "metadata": {},
   "outputs": [
    {
     "data": {
      "text/plain": [
       "(2.399999999999999729+0j)"
      ]
     },
     "execution_count": 11,
     "metadata": {},
     "output_type": "execute_result"
    }
   ],
   "source": [
    "wfmodes.mode(0, 0)"
   ]
  },
  {
   "cell_type": "code",
   "execution_count": 58,
   "metadata": {},
   "outputs": [
    {
     "data": {
      "text/plain": [
       "12.566370614359174"
      ]
     },
     "execution_count": 58,
     "metadata": {},
     "output_type": "execute_result"
    }
   ],
   "source": [
    "3.544907701811032**2 / "
   ]
  },
  {
   "cell_type": "code",
   "execution_count": 12,
   "metadata": {},
   "outputs": [
    {
     "data": {
      "text/plain": [
       "((-0.011561786241114523-1.4929485035063378e-15j),\n",
       " (-0.011561786241114513-1.4933587903648976e-15j))"
      ]
     },
     "execution_count": 12,
     "metadata": {},
     "output_type": "execute_result"
    }
   ],
   "source": [
    "wfmodes.mode(11, 3), wfmodes2.mode(11, 3)"
   ]
  },
  {
   "cell_type": "code",
   "execution_count": 16,
   "metadata": {},
   "outputs": [],
   "source": [
    "func2 = wfmodes.contract()"
   ]
  },
  {
   "cell_type": "code",
   "execution_count": 29,
   "metadata": {},
   "outputs": [],
   "source": [
    "from waveformtools.waveforms import construct_mode_list"
   ]
  },
  {
   "cell_type": "code",
   "execution_count": 30,
   "metadata": {},
   "outputs": [],
   "source": [
    "ml = construct_mode_list(ell_max=14, spin_weight=0)"
   ]
  },
  {
   "cell_type": "code",
   "execution_count": 31,
   "metadata": {},
   "outputs": [
    {
     "data": {
      "text/plain": [
       "[[0, [0]],\n",
       " [1, [-1, 0, 1]],\n",
       " [2, [-2, -1, 0, 1, 2]],\n",
       " [3, [-3, -2, -1, 0, 1, 2, 3]],\n",
       " [4, [-4, -3, -2, -1, 0, 1, 2, 3, 4]],\n",
       " [5, [-5, -4, -3, -2, -1, 0, 1, 2, 3, 4, 5]],\n",
       " [6, [-6, -5, -4, -3, -2, -1, 0, 1, 2, 3, 4, 5, 6]],\n",
       " [7, [-7, -6, -5, -4, -3, -2, -1, 0, 1, 2, 3, 4, 5, 6, 7]],\n",
       " [8, [-8, -7, -6, -5, -4, -3, -2, -1, 0, 1, 2, 3, 4, 5, 6, 7, 8]],\n",
       " [9, [-9, -8, -7, -6, -5, -4, -3, -2, -1, 0, 1, 2, 3, 4, 5, 6, 7, 8, 9]],\n",
       " [10,\n",
       "  [-10, -9, -8, -7, -6, -5, -4, -3, -2, -1, 0, 1, 2, 3, 4, 5, 6, 7, 8, 9, 10]],\n",
       " [11,\n",
       "  [-11,\n",
       "   -10,\n",
       "   -9,\n",
       "   -8,\n",
       "   -7,\n",
       "   -6,\n",
       "   -5,\n",
       "   -4,\n",
       "   -3,\n",
       "   -2,\n",
       "   -1,\n",
       "   0,\n",
       "   1,\n",
       "   2,\n",
       "   3,\n",
       "   4,\n",
       "   5,\n",
       "   6,\n",
       "   7,\n",
       "   8,\n",
       "   9,\n",
       "   10,\n",
       "   11]],\n",
       " [12,\n",
       "  [-12,\n",
       "   -11,\n",
       "   -10,\n",
       "   -9,\n",
       "   -8,\n",
       "   -7,\n",
       "   -6,\n",
       "   -5,\n",
       "   -4,\n",
       "   -3,\n",
       "   -2,\n",
       "   -1,\n",
       "   0,\n",
       "   1,\n",
       "   2,\n",
       "   3,\n",
       "   4,\n",
       "   5,\n",
       "   6,\n",
       "   7,\n",
       "   8,\n",
       "   9,\n",
       "   10,\n",
       "   11,\n",
       "   12]],\n",
       " [13,\n",
       "  [-13,\n",
       "   -12,\n",
       "   -11,\n",
       "   -10,\n",
       "   -9,\n",
       "   -8,\n",
       "   -7,\n",
       "   -6,\n",
       "   -5,\n",
       "   -4,\n",
       "   -3,\n",
       "   -2,\n",
       "   -1,\n",
       "   0,\n",
       "   1,\n",
       "   2,\n",
       "   3,\n",
       "   4,\n",
       "   5,\n",
       "   6,\n",
       "   7,\n",
       "   8,\n",
       "   9,\n",
       "   10,\n",
       "   11,\n",
       "   12,\n",
       "   13]],\n",
       " [14,\n",
       "  [-14,\n",
       "   -13,\n",
       "   -12,\n",
       "   -11,\n",
       "   -10,\n",
       "   -9,\n",
       "   -8,\n",
       "   -7,\n",
       "   -6,\n",
       "   -5,\n",
       "   -4,\n",
       "   -3,\n",
       "   -2,\n",
       "   -1,\n",
       "   0,\n",
       "   1,\n",
       "   2,\n",
       "   3,\n",
       "   4,\n",
       "   5,\n",
       "   6,\n",
       "   7,\n",
       "   8,\n",
       "   9,\n",
       "   10,\n",
       "   11,\n",
       "   12,\n",
       "   13,\n",
       "   14]]]"
      ]
     },
     "execution_count": 31,
     "metadata": {},
     "output_type": "execute_result"
    }
   ],
   "source": [
    "ml"
   ]
  },
  {
   "cell_type": "code",
   "execution_count": 27,
   "metadata": {},
   "outputs": [
    {
     "data": {
      "text/plain": [
       "[[0, [0]],\n",
       " [1, [-1, 0, 1]],\n",
       " [2, [-2, -1, 0, 1, 2]],\n",
       " [3, [-3, -2, -1, 0, 1, 2, 3]],\n",
       " [4, [-4, -3, -2, -1, 0, 1, 2, 3, 4]],\n",
       " [5, [-5, -4, -3, -2, -1, 0, 1, 2, 3, 4, 5]],\n",
       " [6, [-6, -5, -4, -3, -2, -1, 0, 1, 2, 3, 4, 5, 6]],\n",
       " [7, [-7, -6, -5, -4, -3, -2, -1, 0, 1, 2, 3, 4, 5, 6, 7]],\n",
       " [8, [-8, -7, -6, -5, -4, -3, -2, -1, 0, 1, 2, 3, 4, 5, 6, 7, 8]],\n",
       " [9, [-9, -8, -7, -6, -5, -4, -3, -2, -1, 0, 1, 2, 3, 4, 5, 6, 7, 8, 9]],\n",
       " [10,\n",
       "  [-10, -9, -8, -7, -6, -5, -4, -3, -2, -1, 0, 1, 2, 3, 4, 5, 6, 7, 8, 9, 10]],\n",
       " [11,\n",
       "  [-11,\n",
       "   -10,\n",
       "   -9,\n",
       "   -8,\n",
       "   -7,\n",
       "   -6,\n",
       "   -5,\n",
       "   -4,\n",
       "   -3,\n",
       "   -2,\n",
       "   -1,\n",
       "   0,\n",
       "   1,\n",
       "   2,\n",
       "   3,\n",
       "   4,\n",
       "   5,\n",
       "   6,\n",
       "   7,\n",
       "   8,\n",
       "   9,\n",
       "   10,\n",
       "   11]],\n",
       " [12,\n",
       "  [-12,\n",
       "   -11,\n",
       "   -10,\n",
       "   -9,\n",
       "   -8,\n",
       "   -7,\n",
       "   -6,\n",
       "   -5,\n",
       "   -4,\n",
       "   -3,\n",
       "   -2,\n",
       "   -1,\n",
       "   0,\n",
       "   1,\n",
       "   2,\n",
       "   3,\n",
       "   4,\n",
       "   5,\n",
       "   6,\n",
       "   7,\n",
       "   8,\n",
       "   9,\n",
       "   10,\n",
       "   11,\n",
       "   12]],\n",
       " [13,\n",
       "  [-13,\n",
       "   -12,\n",
       "   -11,\n",
       "   -10,\n",
       "   -9,\n",
       "   -8,\n",
       "   -7,\n",
       "   -6,\n",
       "   -5,\n",
       "   -4,\n",
       "   -3,\n",
       "   -2,\n",
       "   -1,\n",
       "   0,\n",
       "   1,\n",
       "   2,\n",
       "   3,\n",
       "   4,\n",
       "   5,\n",
       "   6,\n",
       "   7,\n",
       "   8,\n",
       "   9,\n",
       "   10,\n",
       "   11,\n",
       "   12,\n",
       "   13]],\n",
       " [14,\n",
       "  [-14,\n",
       "   -13,\n",
       "   -12,\n",
       "   -11,\n",
       "   -10,\n",
       "   -9,\n",
       "   -8,\n",
       "   -7,\n",
       "   -6,\n",
       "   -5,\n",
       "   -4,\n",
       "   -3,\n",
       "   -2,\n",
       "   -1,\n",
       "   0,\n",
       "   1,\n",
       "   2,\n",
       "   3,\n",
       "   4,\n",
       "   5,\n",
       "   6,\n",
       "   7,\n",
       "   8,\n",
       "   9,\n",
       "   10,\n",
       "   11,\n",
       "   12,\n",
       "   13,\n",
       "   14]]]"
      ]
     },
     "execution_count": 27,
     "metadata": {},
     "output_type": "execute_result"
    }
   ],
   "source": [
    "wfmodes.modes_list"
   ]
  },
  {
   "cell_type": "code",
   "execution_count": 76,
   "metadata": {},
   "outputs": [
    {
     "ename": "AssertionError",
     "evalue": "\nArrays are not almost equal to 15 decimals\n\nMismatched elements: 62 / 225 (27.6%)\nMax absolute difference: 2.4\nMax relative difference: 1.06698525e+16\n x: array([ 2.400000000000000e+00+0.000000000000000e+00j,\n       -2.130931529507412e-16+2.677691656558767e-19j,\n        1.943589742290389e-16+0.000000000000000e+00j,...\n y: array([-2.249328182579596e-16+0.000000000000000e+00j,\n        1.085401881837401e+00+3.707187053299461e-17j,\n        3.413217666711735e-19+0.000000000000000e+00j,...",
     "output_type": "error",
     "traceback": [
      "\u001b[0;31m---------------------------------------------------------------------------\u001b[0m",
      "\u001b[0;31mAssertionError\u001b[0m                            Traceback (most recent call last)",
      "Cell \u001b[0;32mIn[76], line 1\u001b[0m\n\u001b[0;32m----> 1\u001b[0m \u001b[43mnp\u001b[49m\u001b[38;5;241;43m.\u001b[39;49m\u001b[43mtesting\u001b[49m\u001b[38;5;241;43m.\u001b[39;49m\u001b[43massert_array_almost_equal\u001b[49m\u001b[43m(\u001b[49m\u001b[43mwfmodes\u001b[49m\u001b[38;5;241;43m.\u001b[39;49m\u001b[43m_modes_data\u001b[49m\u001b[43m,\u001b[49m\u001b[43m \u001b[49m\u001b[43mwfmodes2\u001b[49m\u001b[38;5;241;43m.\u001b[39;49m\u001b[43m_modes_data\u001b[49m\u001b[43m,\u001b[49m\u001b[43m \u001b[49m\u001b[38;5;241;43m15\u001b[39;49m\u001b[43m)\u001b[49m\n",
      "File \u001b[0;32m~/soft/anaconda3/envs/wftools/lib/python3.12/contextlib.py:81\u001b[0m, in \u001b[0;36mContextDecorator.__call__.<locals>.inner\u001b[0;34m(*args, **kwds)\u001b[0m\n\u001b[1;32m     78\u001b[0m \u001b[38;5;129m@wraps\u001b[39m(func)\n\u001b[1;32m     79\u001b[0m \u001b[38;5;28;01mdef\u001b[39;00m \u001b[38;5;21minner\u001b[39m(\u001b[38;5;241m*\u001b[39margs, \u001b[38;5;241m*\u001b[39m\u001b[38;5;241m*\u001b[39mkwds):\n\u001b[1;32m     80\u001b[0m     \u001b[38;5;28;01mwith\u001b[39;00m \u001b[38;5;28mself\u001b[39m\u001b[38;5;241m.\u001b[39m_recreate_cm():\n\u001b[0;32m---> 81\u001b[0m         \u001b[38;5;28;01mreturn\u001b[39;00m \u001b[43mfunc\u001b[49m\u001b[43m(\u001b[49m\u001b[38;5;241;43m*\u001b[39;49m\u001b[43margs\u001b[49m\u001b[43m,\u001b[49m\u001b[43m \u001b[49m\u001b[38;5;241;43m*\u001b[39;49m\u001b[38;5;241;43m*\u001b[39;49m\u001b[43mkwds\u001b[49m\u001b[43m)\u001b[49m\n",
      "    \u001b[0;31m[... skipping hidden 1 frame]\u001b[0m\n",
      "File \u001b[0;32m~/soft/anaconda3/envs/wftools/lib/python3.12/contextlib.py:81\u001b[0m, in \u001b[0;36mContextDecorator.__call__.<locals>.inner\u001b[0;34m(*args, **kwds)\u001b[0m\n\u001b[1;32m     78\u001b[0m \u001b[38;5;129m@wraps\u001b[39m(func)\n\u001b[1;32m     79\u001b[0m \u001b[38;5;28;01mdef\u001b[39;00m \u001b[38;5;21minner\u001b[39m(\u001b[38;5;241m*\u001b[39margs, \u001b[38;5;241m*\u001b[39m\u001b[38;5;241m*\u001b[39mkwds):\n\u001b[1;32m     80\u001b[0m     \u001b[38;5;28;01mwith\u001b[39;00m \u001b[38;5;28mself\u001b[39m\u001b[38;5;241m.\u001b[39m_recreate_cm():\n\u001b[0;32m---> 81\u001b[0m         \u001b[38;5;28;01mreturn\u001b[39;00m \u001b[43mfunc\u001b[49m\u001b[43m(\u001b[49m\u001b[38;5;241;43m*\u001b[39;49m\u001b[43margs\u001b[49m\u001b[43m,\u001b[49m\u001b[43m \u001b[49m\u001b[38;5;241;43m*\u001b[39;49m\u001b[38;5;241;43m*\u001b[39;49m\u001b[43mkwds\u001b[49m\u001b[43m)\u001b[49m\n",
      "File \u001b[0;32m~/soft/anaconda3/envs/wftools/lib/python3.12/site-packages/numpy/testing/_private/utils.py:797\u001b[0m, in \u001b[0;36massert_array_compare\u001b[0;34m(comparison, x, y, err_msg, verbose, header, precision, equal_nan, equal_inf, strict)\u001b[0m\n\u001b[1;32m    793\u001b[0m         err_msg \u001b[38;5;241m+\u001b[39m\u001b[38;5;241m=\u001b[39m \u001b[38;5;124m'\u001b[39m\u001b[38;5;130;01m\\n\u001b[39;00m\u001b[38;5;124m'\u001b[39m \u001b[38;5;241m+\u001b[39m \u001b[38;5;124m'\u001b[39m\u001b[38;5;130;01m\\n\u001b[39;00m\u001b[38;5;124m'\u001b[39m\u001b[38;5;241m.\u001b[39mjoin(remarks)\n\u001b[1;32m    794\u001b[0m         msg \u001b[38;5;241m=\u001b[39m build_err_msg([ox, oy], err_msg,\n\u001b[1;32m    795\u001b[0m                             verbose\u001b[38;5;241m=\u001b[39mverbose, header\u001b[38;5;241m=\u001b[39mheader,\n\u001b[1;32m    796\u001b[0m                             names\u001b[38;5;241m=\u001b[39m(\u001b[38;5;124m'\u001b[39m\u001b[38;5;124mx\u001b[39m\u001b[38;5;124m'\u001b[39m, \u001b[38;5;124m'\u001b[39m\u001b[38;5;124my\u001b[39m\u001b[38;5;124m'\u001b[39m), precision\u001b[38;5;241m=\u001b[39mprecision)\n\u001b[0;32m--> 797\u001b[0m         \u001b[38;5;28;01mraise\u001b[39;00m \u001b[38;5;167;01mAssertionError\u001b[39;00m(msg)\n\u001b[1;32m    798\u001b[0m \u001b[38;5;28;01mexcept\u001b[39;00m \u001b[38;5;167;01mValueError\u001b[39;00m:\n\u001b[1;32m    799\u001b[0m     \u001b[38;5;28;01mimport\u001b[39;00m \u001b[38;5;21;01mtraceback\u001b[39;00m\n",
      "\u001b[0;31mAssertionError\u001b[0m: \nArrays are not almost equal to 15 decimals\n\nMismatched elements: 62 / 225 (27.6%)\nMax absolute difference: 2.4\nMax relative difference: 1.06698525e+16\n x: array([ 2.400000000000000e+00+0.000000000000000e+00j,\n       -2.130931529507412e-16+2.677691656558767e-19j,\n        1.943589742290389e-16+0.000000000000000e+00j,...\n y: array([-2.249328182579596e-16+0.000000000000000e+00j,\n        1.085401881837401e+00+3.707187053299461e-17j,\n        3.413217666711735e-19+0.000000000000000e+00j,..."
     ]
    }
   ],
   "source": [
    "np.testing.assert_array_almost_equal(\n",
    "    wfmodes._modes_data, wfmodes2._modes_data, 15\n",
    ")"
   ]
  },
  {
   "cell_type": "code",
   "execution_count": null,
   "metadata": {},
   "outputs": [],
   "source": []
  },
  {
   "cell_type": "code",
   "execution_count": 30,
   "metadata": {},
   "outputs": [],
   "source": [
    "np.testing.assert_array_almost_equal(func, func_r, 12)"
   ]
  },
  {
   "cell_type": "code",
   "execution_count": 52,
   "metadata": {},
   "outputs": [
    {
     "data": {
      "text/plain": [
       "1.1933166273965623"
      ]
     },
     "execution_count": 52,
     "metadata": {},
     "output_type": "execute_result"
    }
   ],
   "source": [
    "(0.15450173 / 1.29472536e-01)"
   ]
  },
  {
   "cell_type": "code",
   "execution_count": 46,
   "metadata": {},
   "outputs": [
    {
     "data": {
      "text/plain": [
       "array([[ 1.19331662e+00+1.00927408e-28j,  1.24253755e+00-3.96972394e-18j,\n",
       "         1.40379886e+00+1.21419573e-17j,  1.72541987e+00-2.52896319e-17j,\n",
       "         2.32204971e+00-5.91831320e-17j,  3.48432742e+00+7.29483429e-17j,\n",
       "         6.22786023e+00+8.04867681e-17j,  1.95302288e+01-2.75177726e-15j,\n",
       "        -1.95302288e+01-2.30565066e-15j, -6.22786023e+00-1.97955795e-16j,\n",
       "        -3.48432742e+00-7.32145777e-17j, -2.32204971e+00-1.15860393e-16j,\n",
       "        -1.72541987e+00+4.29984101e-17j, -1.40379886e+00+1.49828877e-17j,\n",
       "        -1.24253755e+00+4.37405941e-18j, -1.19331662e+00+9.61355031e-29j,\n",
       "        -1.24253755e+00-1.17621815e-18j, -1.40379886e+00+8.97660648e-18j,\n",
       "        -1.72541987e+00+3.96228862e-17j, -2.32204971e+00+7.80146471e-17j,\n",
       "        -3.48432742e+00+6.65587075e-18j, -6.22786023e+00-6.36395442e-17j,\n",
       "        -1.95302288e+01+2.61385009e-15j,  1.95302288e+01+2.09306011e-15j,\n",
       "         6.22786023e+00+1.84545034e-16j,  3.48432742e+00-4.60586253e-17j,\n",
       "         2.32204971e+00+1.05627803e-16j,  1.72541987e+00-5.20572218e-17j,\n",
       "         1.40379886e+00-5.62555301e-19j,  1.24253755e+00+6.81600713e-18j],\n",
       "       [ 9.99679113e-01+2.16024328e-24j,  1.06823382e+00+3.79425240e-18j,\n",
       "         1.31145385e+00-1.47658888e-17j,  1.88889766e+00-2.87318555e-17j,\n",
       "         3.34074958e+00-2.03537249e-16j,  8.02059628e+00+1.13805298e-16j,\n",
       "         3.41894246e+01+2.49126952e-15j,  9.58857948e+02+4.26209966e-12j,\n",
       "        -9.58857948e+02+2.57278875e-11j, -3.41894246e+01-7.41702125e-15j,\n",
       "        -8.02059628e+00-9.89152515e-16j, -3.34074958e+00-7.17416809e-17j,\n",
       "        -1.88889766e+00+1.83109428e-17j, -1.31145385e+00+2.19396182e-18j,\n",
       "        -1.06823382e+00-4.79352096e-18j, -9.99679113e-01+2.16024236e-24j,\n",
       "        -1.06823382e+00-1.14897098e-18j, -1.31145385e+00+1.66079237e-18j,\n",
       "        -1.88889766e+00+2.02422726e-17j, -3.34074958e+00+1.99368581e-16j,\n",
       "        -8.02059628e+00-3.47627662e-16j, -3.41894246e+01-3.23924116e-15j,\n",
       "        -9.58857948e+02+2.46180976e-12j,  9.58857948e+02-2.85965425e-11j,\n",
       "         3.41894246e+01+7.51304236e-15j,  8.02059628e+00-1.22049424e-15j,\n",
       "         3.34074958e+00+7.70166870e-17j,  1.88889766e+00-2.09224439e-17j,\n",
       "         1.31145385e+00+1.36213925e-17j,  1.06823382e+00+6.68445827e-18j],\n",
       "       [ 9.96697950e-01+4.94029572e-22j,  1.06547877e+00+4.34161309e-18j,\n",
       "         1.30986559e+00+9.77509007e-18j,  1.89220227e+00-3.77787519e-17j,\n",
       "         3.36798495e+00-2.90465715e-17j,  8.21780401e+00-1.44210463e-15j,\n",
       "         3.72741669e+01-4.29871420e-15j,  8.45103616e+03+1.48427243e-09j,\n",
       "        -8.45103615e+03-1.32760418e-09j, -3.72741669e+01+6.23474843e-15j,\n",
       "        -8.21780401e+00-1.75290077e-15j, -3.36798495e+00+1.18012940e-16j,\n",
       "        -1.89220227e+00+2.68303427e-17j, -1.30986559e+00-6.09993640e-19j,\n",
       "        -1.06547877e+00-3.31241396e-18j, -9.96697950e-01+4.94029576e-22j,\n",
       "        -1.06547877e+00-3.34961878e-18j, -1.30986559e+00+8.75457361e-18j,\n",
       "        -1.89220227e+00-1.66963019e-17j, -3.36798495e+00+1.74074010e-16j,\n",
       "        -8.21780401e+00-6.36881883e-16j, -3.72741669e+01+5.83451030e-15j,\n",
       "        -8.45103615e+03-1.47574909e-09j,  8.45103616e+03+1.47969257e-09j,\n",
       "         3.72741669e+01-4.90452756e-16j,  8.21780401e+00-4.32750162e-16j,\n",
       "         3.36798495e+00-1.91948277e-16j,  1.89220227e+00+3.91064688e-17j,\n",
       "         1.30986559e+00+5.78711841e-18j,  1.06547877e+00+7.10406289e-19j],\n",
       "       [ 1.00297354e+00+1.53812535e-20j,  1.07127580e+00-5.24416112e-18j,\n",
       "         1.31320248e+00+1.05219801e-17j,  1.88528192e+00+2.31939987e-17j,\n",
       "         3.31134360e+00-5.10505385e-17j,  7.81465367e+00-2.23399930e-16j,\n",
       "         3.13410759e+01-1.35335370e-14j,  4.85849876e+02+1.97872748e-12j,\n",
       "        -4.85849876e+02-8.78066853e-12j, -3.13410759e+01+2.06962307e-14j,\n",
       "        -7.81465367e+00+1.07728264e-15j, -3.31134360e+00+1.31678535e-16j,\n",
       "        -1.88528192e+00-3.77315440e-17j, -1.31320248e+00+9.80567351e-18j,\n",
       "        -1.07127580e+00+6.92555498e-20j, -1.00297354e+00+1.53812535e-20j,\n",
       "        -1.07127580e+00+1.24018267e-20j, -1.31320248e+00-7.93340327e-18j,\n",
       "        -1.88528192e+00-4.00483656e-17j, -3.31134360e+00-9.76857807e-18j,\n",
       "        -7.81465367e+00+1.92002451e-16j, -3.13410759e+01+9.39076949e-15j,\n",
       "        -4.85849876e+02-4.63847959e-13j,  4.85849876e+02+7.17352710e-12j,\n",
       "         3.13410759e+01-2.09155949e-14j,  7.81465367e+00-9.64912305e-16j,\n",
       "         3.31134360e+00-9.24003542e-17j,  1.88528192e+00+5.11419994e-17j,\n",
       "         1.31320248e+00-1.37621827e-18j,  1.07127580e+00-1.30166676e-18j],\n",
       "       [ 9.97485410e-01+1.47457615e-19j,  1.06620672e+00+5.01853063e-18j,\n",
       "         1.31028567e+00-1.55043790e-17j,  1.89132633e+00-6.11490479e-18j,\n",
       "         3.36073190e+00+5.47676496e-17j,  8.16466021e+00+3.68736926e-16j,\n",
       "         3.64046438e+01-5.71444831e-15j,  2.75414519e+03+3.02352152e-10j,\n",
       "        -2.75414519e+03-1.89949100e-10j, -3.64046438e+01+5.55997931e-14j,\n",
       "        -8.16466021e+00-3.76415424e-16j, -3.36073190e+00+1.07406356e-16j,\n",
       "        -1.89132633e+00-3.18388870e-17j, -1.31028567e+00+6.30114772e-18j,\n",
       "        -1.06620672e+00-2.53830055e-18j, -9.97485410e-01+1.47457615e-19j,\n",
       "        -1.06620672e+00+9.02436249e-18j, -1.31028567e+00+2.20012824e-17j,\n",
       "        -1.89132633e+00+2.48279380e-18j, -3.36073190e+00+9.71129107e-17j,\n",
       "        -8.16466021e+00+3.42007230e-17j, -3.64046438e+01-2.57082525e-14j,\n",
       "        -2.75414519e+03-1.37582112e-10j,  2.75414519e+03+7.23268348e-11j,\n",
       "         3.64046438e+01-1.60440877e-14j,  8.16466021e+00-1.77838622e-15j,\n",
       "         3.36073190e+00+2.37153704e-16j,  1.89132633e+00+3.16605309e-17j,\n",
       "         1.31028567e+00-2.50575044e-17j,  1.06620672e+00-1.89586917e-18j],\n",
       "       [ 1.00223107e+00+6.45536155e-19j,  1.07059046e+00+2.87431397e-18j,\n",
       "         1.31280899e+00-4.15393038e-17j,  1.88609353e+00+9.71442012e-17j,\n",
       "         3.31790881e+00-2.00151226e-16j,  7.86002232e+00+2.23544152e-15j,\n",
       "         3.19392373e+01-2.70315519e-14j,  5.46447442e+02+1.18544521e-11j,\n",
       "        -5.46447442e+02-1.34012611e-11j, -3.19392373e+01+1.66262096e-14j,\n",
       "        -7.86002232e+00-3.40299564e-15j, -3.31790881e+00+3.45086072e-16j,\n",
       "        -1.88609353e+00-1.26892757e-16j, -1.31280899e+00+5.00722090e-17j,\n",
       "        -1.07059046e+00-6.84747568e-19j, -1.00223107e+00+6.45536155e-19j,\n",
       "        -1.07059046e+00+5.51306598e-18j, -1.31280899e+00-3.71938058e-17j,\n",
       "        -1.88609353e+00+8.05718920e-17j, -3.31790881e+00-3.47463454e-16j,\n",
       "        -7.86002232e+00+2.16438149e-15j, -3.19392373e+01-6.83541146e-14j,\n",
       "        -5.46447442e+02+1.80055336e-11j,  5.46447442e+02-1.85331533e-11j,\n",
       "         3.19392373e+01+7.79143513e-14j,  7.86002232e+00-2.23506020e-15j,\n",
       "         3.31790881e+00+2.89096438e-16j,  1.88609353e+00-1.65578440e-16j,\n",
       "         1.31280899e+00+3.79001706e-17j,  1.07059046e+00-7.69985419e-18j],\n",
       "       [ 9.97939196e-01+1.46610650e-18j,  1.06662614e+00+1.97455877e-17j,\n",
       "         1.31052757e+00-6.00858449e-17j,  1.89082255e+00+2.63571864e-16j,\n",
       "         3.35657157e+00-1.12412727e-15j,  8.13438391e+00+5.77468120e-15j,\n",
       "         3.59223418e+01-1.81458107e-13j,  1.98428321e+03+4.98932933e-10j,\n",
       "        -1.98428321e+03-4.62211808e-10j, -3.59223418e+01+1.30192460e-13j,\n",
       "        -8.13438391e+00-8.60201258e-15j, -3.35657157e+00+1.17286235e-15j,\n",
       "        -1.89082255e+00-2.24701720e-16j, -1.31052757e+00+9.26651047e-17j,\n",
       "        -1.06662614e+00-3.83889313e-17j, -9.97939196e-01+1.46610650e-18j,\n",
       "        -1.06662614e+00+2.05970205e-17j, -1.31052757e+00-6.32651241e-17j,\n",
       "        -1.89082255e+00+2.62469252e-16j, -3.35657157e+00-7.49493338e-16j,\n",
       "        -8.13438391e+00+6.72493528e-15j, -3.59223418e+01-1.17903733e-13j,\n",
       "        -1.98428321e+03+5.05529857e-10j,  1.98428321e+03-5.94171210e-10j,\n",
       "         3.59223418e+01+1.74947036e-13j,  8.13438391e+00-8.83820290e-15j,\n",
       "         3.35657157e+00+1.31313884e-15j,  1.89082255e+00-2.21840377e-16j,\n",
       "         1.31052757e+00+8.97742022e-17j,  1.06662614e+00-2.66258887e-17j],\n",
       "       [ 1.00201823e+00+1.93354658e-18j,  1.07039397e+00+2.87467545e-17j,\n",
       "         1.31269612e+00-1.17151738e-16j,  1.88632654e+00+2.71841485e-16j,\n",
       "         3.31979746e+00-1.09767503e-15j,  7.87313791e+00+8.84103834e-15j,\n",
       "         3.21151139e+01-1.65856197e-13j,  5.66730031e+02+6.06139084e-11j,\n",
       "        -5.66730031e+02-5.84190178e-11j, -3.21151139e+01+1.56553953e-13j,\n",
       "        -7.87313791e+00-8.84447962e-15j, -3.31979746e+00+1.22209085e-15j,\n",
       "        -1.88632654e+00-3.57349669e-16j, -1.31269612e+00+1.29839994e-16j,\n",
       "        -1.07039397e+00-3.08512500e-17j, -1.00201823e+00+1.93354658e-18j,\n",
       "        -1.07039397e+00+4.04627095e-17j, -1.31269612e+00-1.11805971e-16j,\n",
       "        -1.88632654e+00+3.09404314e-16j, -3.31979746e+00-1.35926757e-15j,\n",
       "        -7.87313791e+00+1.03531662e-14j, -3.21151139e+01-1.47144375e-13j,\n",
       "        -5.66730031e+02+4.70780133e-11j,  5.66730031e+02-4.30052490e-11j,\n",
       "         3.21151139e+01+1.61747271e-13j,  7.87313791e+00-8.00944902e-15j,\n",
       "         3.31979746e+00+1.44423615e-15j,  1.88632654e+00-3.50166760e-16j,\n",
       "         1.31269612e+00+1.19869607e-16j,  1.07039397e+00-3.14212707e-17j],\n",
       "       [ 9.97939196e-01+1.46610650e-18j,  1.06662614e+00+2.18852058e-17j,\n",
       "         1.31052757e+00-1.24983980e-16j,  1.89082255e+00+2.47901304e-16j,\n",
       "         3.35657157e+00-1.01104288e-15j,  8.13438391e+00+6.60775558e-15j,\n",
       "         3.59223418e+01-1.62132702e-13j,  1.98428321e+03+6.18086359e-10j,\n",
       "        -1.98428321e+03-5.64553407e-10j, -3.59223418e+01+1.50449474e-13j,\n",
       "        -8.13438391e+00-7.76710726e-15j, -3.35657157e+00+1.28360502e-15j,\n",
       "        -1.89082255e+00-3.39152169e-16j, -1.31052757e+00+7.91744143e-17j,\n",
       "        -1.06662614e+00-3.48619795e-17j, -9.97939196e-01+1.46610650e-18j,\n",
       "        -1.06662614e+00+2.02325523e-17j, -1.31052757e+00-9.77655538e-17j,\n",
       "        -1.89082255e+00+1.74866713e-16j, -3.35657157e+00-8.53458742e-16j,\n",
       "        -8.13438391e+00+5.89002996e-15j, -3.59223418e+01-1.39476416e-13j,\n",
       "        -1.98428321e+03+3.99612663e-10j,  1.98428321e+03-3.66325960e-10j,\n",
       "         3.59223418e+01+1.56349138e-13j,  8.13438391e+00-5.92152708e-15j,\n",
       "         3.35657157e+00+1.20792713e-15j,  1.89082255e+00-3.07638450e-16j,\n",
       "         1.31052757e+00+5.65084069e-17j,  1.06662614e+00-2.78850829e-17j],\n",
       "       [ 1.00223107e+00+6.45536155e-19j,  1.07059046e+00+4.21768907e-18j,\n",
       "         1.31280899e+00-5.24239539e-17j,  1.88609353e+00+8.48275694e-17j,\n",
       "         3.31790881e+00-1.87087971e-16j,  7.86002232e+00+3.09909425e-15j,\n",
       "         3.19392373e+01-6.48471650e-14j,  5.46447442e+02+2.18572391e-11j,\n",
       "        -5.46447442e+02-2.53868613e-11j, -3.19392373e+01+4.06857481e-14j,\n",
       "        -7.86002232e+00-2.54116497e-15j, -3.31790881e+00+3.68914906e-16j,\n",
       "        -1.88609353e+00-8.46001970e-17j, -1.31280899e+00+7.09094357e-17j,\n",
       "        -1.07059046e+00-1.64755148e-17j, -1.00223107e+00+6.45536155e-19j,\n",
       "        -1.07059046e+00+4.77621346e-18j, -1.31280899e+00-2.72454853e-17j,\n",
       "        -1.88609353e+00+9.76990195e-17j, -3.31790881e+00-5.19725884e-16j,\n",
       "        -7.86002232e+00+1.30072876e-15j, -3.19392373e+01-3.01619919e-14j,\n",
       "        -5.46447442e+02+1.22041417e-11j,  5.46447442e+02-6.48229641e-12j,\n",
       "         3.19392373e+01+7.02679253e-14j,  7.86002232e+00-3.09871293e-15j,\n",
       "         3.31790881e+00+2.65603988e-16j,  1.88609353e+00-1.10238653e-16j,\n",
       "         1.31280899e+00+1.60224015e-17j,  1.07059046e+00-8.14461828e-18j],\n",
       "       [ 9.97485410e-01+1.47457615e-19j,  1.06620672e+00-9.26229329e-18j,\n",
       "         1.31028567e+00+1.24432994e-17j,  1.89132633e+00+7.28110466e-17j,\n",
       "         3.36073190e+00-6.24699411e-17j,  8.16466021e+00+2.63786077e-15j,\n",
       "         3.64046438e+01-3.99912834e-14j,  2.75414519e+03+8.78305138e-11j,\n",
       "        -2.75414519e+03+1.00612707e-10j, -3.64046438e+01+6.99921414e-15j,\n",
       "        -8.16466021e+00-2.61472673e-15j, -3.36073190e+00+9.20612834e-17j,\n",
       "        -1.89132633e+00-8.24564182e-17j, -1.31028567e+00+2.89512503e-17j,\n",
       "        -1.06620672e+00-9.59603603e-18j, -9.97485410e-01+1.47457615e-19j,\n",
       "        -1.06620672e+00+6.34417865e-18j, -1.31028567e+00-2.56309872e-18j,\n",
       "        -1.89132633e+00+4.59040681e-17j, -3.36073190e+00-2.84541281e-16j,\n",
       "        -8.16466021e+00+2.27251203e-15j, -3.64046438e+01+8.75295071e-15j,\n",
       "        -2.75414519e+03+7.10785109e-11j,  2.75414519e+03-2.40880806e-10j,\n",
       "         3.64046438e+01+1.46192782e-14j,  8.16466021e+00+4.59925083e-16j,\n",
       "         3.36073190e+00+2.26397035e-16j,  1.89132633e+00-3.93190525e-17j,\n",
       "         1.31028567e+00+1.40518514e-17j,  1.06620672e+00-7.00008812e-18j],\n",
       "       [ 1.00297354e+00+1.53812535e-20j,  1.07127580e+00-5.72983137e-19j,\n",
       "         1.31320248e+00-9.01645632e-18j,  1.88528192e+00+1.04713695e-17j,\n",
       "         3.31134360e+00-2.16431848e-16j,  7.81465367e+00+1.25331952e-15j,\n",
       "         3.13410759e+01+6.85927677e-15j,  4.85849876e+02-1.78264520e-12j,\n",
       "        -4.85849876e+02+6.27979188e-12j, -3.13410759e+01+7.25041844e-15j,\n",
       "        -7.81465367e+00+9.76053450e-17j, -3.31134360e+00-2.44713598e-17j,\n",
       "        -1.88528192e+00+2.58193536e-17j, -1.31320248e+00+7.29009732e-18j,\n",
       "        -1.07127580e+00-5.56573528e-18j, -1.00297354e+00+1.53812535e-20j,\n",
       "        -1.07127580e+00+5.74143406e-18j, -1.31320248e+00+8.94463836e-18j,\n",
       "        -1.88528192e+00-1.41832449e-17j, -3.31134360e+00+1.62015137e-16j,\n",
       "        -7.81465367e+00+1.17288033e-15j, -3.13410759e+01-1.60823824e-14j,\n",
       "        -4.85849876e+02+4.98923554e-12j,  4.85849876e+02-4.39971619e-12j,\n",
       "         3.13410759e+01-3.66780426e-15j,  7.81465367e+00+1.59655708e-17j,\n",
       "         3.31134360e+00+2.59892482e-17j,  1.88528192e+00-2.56425707e-17j,\n",
       "         1.31320248e+00+6.52434064e-18j,  1.07127580e+00+6.48301197e-18j],\n",
       "       [ 9.96697950e-01+4.94029574e-22j,  1.06547877e+00-6.49804403e-18j,\n",
       "         1.30986559e+00+2.50012398e-17j,  1.89220227e+00+2.64849170e-17j,\n",
       "         3.36798495e+00+1.35871572e-16j,  8.21780401e+00-9.08510049e-17j,\n",
       "         3.72741669e+01+2.50801193e-14j,  8.45103616e+03-6.34158937e-10j,\n",
       "        -8.45103615e+03-1.72591976e-10j, -3.72741669e+01+3.46199942e-14j,\n",
       "        -8.21780401e+00-4.03375083e-16j, -3.36798495e+00+2.97106011e-16j,\n",
       "        -1.89220227e+00-1.40737767e-17j, -1.30986559e+00+2.64279784e-17j,\n",
       "        -1.06547877e+00+4.89626012e-18j, -9.96697950e-01+4.94029575e-22j,\n",
       "        -1.06547877e+00+5.60710707e-18j, -1.30986559e+00-6.81385824e-18j,\n",
       "        -1.89220227e+00+6.32108628e-18j, -3.36798495e+00-4.10361350e-17j,\n",
       "        -8.21780401e+00+1.55069752e-15j, -3.72741669e+01-3.09029525e-14j,\n",
       "        -8.45103615e+03+5.43177970e-10j,  8.45103616e+03-2.97891027e-10j,\n",
       "         3.72741669e+01-3.20543805e-14j,  8.21780401e+00+1.75655719e-15j,\n",
       "         3.36798495e+00+1.78415493e-16j,  1.89220227e+00-2.34356667e-18j,\n",
       "         1.30986559e+00-1.76268276e-17j,  1.06547877e+00-6.62129656e-18j],\n",
       "       [ 9.99679113e-01+2.16023722e-24j,  1.06823382e+00+5.39344913e-18j,\n",
       "         1.31145385e+00+2.18694994e-17j,  1.88889766e+00-6.60903495e-17j,\n",
       "         3.34074958e+00+2.87972721e-17j,  8.02059628e+00+4.87703550e-16j,\n",
       "         3.41894246e+01-1.63534797e-14j,  9.58857948e+02+2.89745701e-11j,\n",
       "        -9.58857948e+02-1.33844231e-11j, -3.41894246e+01+1.33109469e-14j,\n",
       "        -8.02059628e+00-6.15254263e-16j, -3.34074958e+00+1.96043282e-16j,\n",
       "        -1.88889766e+00+5.78898656e-18j, -1.31145385e+00+3.44431330e-18j,\n",
       "        -1.06823382e+00-1.16052796e-18j, -9.99679113e-01+2.16023858e-24j,\n",
       "        -1.06823382e+00+2.13467479e-18j, -1.31145385e+00+9.67755807e-18j,\n",
       "        -1.88889766e+00+5.01116878e-17j, -3.34074958e+00-6.49057188e-17j,\n",
       "        -8.02059628e+00-7.22776410e-16j, -3.41894246e+01+1.67505709e-14j,\n",
       "        -9.58857948e+02-2.54246563e-11j,  9.58857948e+02+1.23529187e-11j,\n",
       "         3.41894246e+01-1.73165148e-14j,  8.02059628e+00+9.67873452e-16j,\n",
       "         3.34074958e+00-1.65996963e-16j,  1.88889766e+00+7.19838001e-18j,\n",
       "         1.31145385e+00-9.45701045e-18j,  1.06823382e+00+4.91681648e-18j],\n",
       "       [ 1.19331662e+00+9.66225388e-29j,  1.24253755e+00-1.68759157e-18j,\n",
       "         1.40379886e+00+8.97729151e-18j,  1.72541987e+00+3.35692673e-17j,\n",
       "         2.32204971e+00-1.00979366e-16j,  3.48432742e+00+1.53085026e-16j,\n",
       "         6.22786023e+00+6.73058732e-16j,  1.95302288e+01+5.34617772e-15j,\n",
       "        -1.95302288e+01+5.60975835e-15j, -6.22786023e+00+4.66637952e-16j,\n",
       "        -3.48432742e+00+6.92210548e-18j, -2.32204971e+00+8.68703033e-17j,\n",
       "        -1.72541987e+00-2.94221062e-17j, -1.40379886e+00+1.80478383e-17j,\n",
       "        -1.24253755e+00+4.75402751e-18j, -1.19331662e+00+8.69298529e-29j,\n",
       "        -1.24253755e+00-4.23393899e-18j, -1.40379886e+00+8.58514239e-18j,\n",
       "        -1.72541987e+00-2.78282594e-17j, -2.32204971e+00+1.12743766e-16j,\n",
       "        -3.48432742e+00-7.37470473e-17j, -6.22786023e+00-7.07933830e-16j,\n",
       "        -1.95302288e+01-5.29960690e-15j,  1.95302288e+01-5.48486469e-15j,\n",
       "         6.22786023e+00-4.55891834e-16j,  3.48432742e+00-1.26461543e-16j,\n",
       "         2.32204971e+00-1.03448976e-16j,  1.72541987e+00+1.88350915e-17j,\n",
       "         1.40379886e+00-1.63478674e-18j,  1.24253755e+00+6.18185807e-18j]])"
      ]
     },
     "execution_count": 46,
     "metadata": {},
     "output_type": "execute_result"
    }
   ],
   "source": [
    "func / func2"
   ]
  },
  {
   "cell_type": "code",
   "execution_count": 12,
   "metadata": {},
   "outputs": [
    {
     "data": {
      "text/plain": [
       "array([[0.6770275+0.j, 0.6770275+0.j, 0.6770275+0.j, 0.6770275+0.j,\n",
       "        0.6770275+0.j, 0.6770275+0.j, 0.6770275+0.j, 0.6770275+0.j,\n",
       "        0.6770275+0.j, 0.6770275+0.j, 0.6770275+0.j, 0.6770275+0.j,\n",
       "        0.6770275+0.j, 0.6770275+0.j, 0.6770275+0.j, 0.6770275+0.j,\n",
       "        0.6770275+0.j, 0.6770275+0.j, 0.6770275+0.j, 0.6770275+0.j,\n",
       "        0.6770275+0.j, 0.6770275+0.j, 0.6770275+0.j, 0.6770275+0.j,\n",
       "        0.6770275+0.j, 0.6770275+0.j, 0.6770275+0.j, 0.6770275+0.j,\n",
       "        0.6770275+0.j, 0.6770275+0.j],\n",
       "       [0.6770275+0.j, 0.6770275+0.j, 0.6770275+0.j, 0.6770275+0.j,\n",
       "        0.6770275+0.j, 0.6770275+0.j, 0.6770275+0.j, 0.6770275+0.j,\n",
       "        0.6770275+0.j, 0.6770275+0.j, 0.6770275+0.j, 0.6770275+0.j,\n",
       "        0.6770275+0.j, 0.6770275+0.j, 0.6770275+0.j, 0.6770275+0.j,\n",
       "        0.6770275+0.j, 0.6770275+0.j, 0.6770275+0.j, 0.6770275+0.j,\n",
       "        0.6770275+0.j, 0.6770275+0.j, 0.6770275+0.j, 0.6770275+0.j,\n",
       "        0.6770275+0.j, 0.6770275+0.j, 0.6770275+0.j, 0.6770275+0.j,\n",
       "        0.6770275+0.j, 0.6770275+0.j],\n",
       "       [0.6770275+0.j, 0.6770275+0.j, 0.6770275+0.j, 0.6770275+0.j,\n",
       "        0.6770275+0.j, 0.6770275+0.j, 0.6770275+0.j, 0.6770275+0.j,\n",
       "        0.6770275+0.j, 0.6770275+0.j, 0.6770275+0.j, 0.6770275+0.j,\n",
       "        0.6770275+0.j, 0.6770275+0.j, 0.6770275+0.j, 0.6770275+0.j,\n",
       "        0.6770275+0.j, 0.6770275+0.j, 0.6770275+0.j, 0.6770275+0.j,\n",
       "        0.6770275+0.j, 0.6770275+0.j, 0.6770275+0.j, 0.6770275+0.j,\n",
       "        0.6770275+0.j, 0.6770275+0.j, 0.6770275+0.j, 0.6770275+0.j,\n",
       "        0.6770275+0.j, 0.6770275+0.j],\n",
       "       [0.6770275+0.j, 0.6770275+0.j, 0.6770275+0.j, 0.6770275+0.j,\n",
       "        0.6770275+0.j, 0.6770275+0.j, 0.6770275+0.j, 0.6770275+0.j,\n",
       "        0.6770275+0.j, 0.6770275+0.j, 0.6770275+0.j, 0.6770275+0.j,\n",
       "        0.6770275+0.j, 0.6770275+0.j, 0.6770275+0.j, 0.6770275+0.j,\n",
       "        0.6770275+0.j, 0.6770275+0.j, 0.6770275+0.j, 0.6770275+0.j,\n",
       "        0.6770275+0.j, 0.6770275+0.j, 0.6770275+0.j, 0.6770275+0.j,\n",
       "        0.6770275+0.j, 0.6770275+0.j, 0.6770275+0.j, 0.6770275+0.j,\n",
       "        0.6770275+0.j, 0.6770275+0.j],\n",
       "       [0.6770275+0.j, 0.6770275+0.j, 0.6770275+0.j, 0.6770275+0.j,\n",
       "        0.6770275+0.j, 0.6770275+0.j, 0.6770275+0.j, 0.6770275+0.j,\n",
       "        0.6770275+0.j, 0.6770275+0.j, 0.6770275+0.j, 0.6770275+0.j,\n",
       "        0.6770275+0.j, 0.6770275+0.j, 0.6770275+0.j, 0.6770275+0.j,\n",
       "        0.6770275+0.j, 0.6770275+0.j, 0.6770275+0.j, 0.6770275+0.j,\n",
       "        0.6770275+0.j, 0.6770275+0.j, 0.6770275+0.j, 0.6770275+0.j,\n",
       "        0.6770275+0.j, 0.6770275+0.j, 0.6770275+0.j, 0.6770275+0.j,\n",
       "        0.6770275+0.j, 0.6770275+0.j],\n",
       "       [0.6770275+0.j, 0.6770275+0.j, 0.6770275+0.j, 0.6770275+0.j,\n",
       "        0.6770275+0.j, 0.6770275+0.j, 0.6770275+0.j, 0.6770275+0.j,\n",
       "        0.6770275+0.j, 0.6770275+0.j, 0.6770275+0.j, 0.6770275+0.j,\n",
       "        0.6770275+0.j, 0.6770275+0.j, 0.6770275+0.j, 0.6770275+0.j,\n",
       "        0.6770275+0.j, 0.6770275+0.j, 0.6770275+0.j, 0.6770275+0.j,\n",
       "        0.6770275+0.j, 0.6770275+0.j, 0.6770275+0.j, 0.6770275+0.j,\n",
       "        0.6770275+0.j, 0.6770275+0.j, 0.6770275+0.j, 0.6770275+0.j,\n",
       "        0.6770275+0.j, 0.6770275+0.j],\n",
       "       [0.6770275+0.j, 0.6770275+0.j, 0.6770275+0.j, 0.6770275+0.j,\n",
       "        0.6770275+0.j, 0.6770275+0.j, 0.6770275+0.j, 0.6770275+0.j,\n",
       "        0.6770275+0.j, 0.6770275+0.j, 0.6770275+0.j, 0.6770275+0.j,\n",
       "        0.6770275+0.j, 0.6770275+0.j, 0.6770275+0.j, 0.6770275+0.j,\n",
       "        0.6770275+0.j, 0.6770275+0.j, 0.6770275+0.j, 0.6770275+0.j,\n",
       "        0.6770275+0.j, 0.6770275+0.j, 0.6770275+0.j, 0.6770275+0.j,\n",
       "        0.6770275+0.j, 0.6770275+0.j, 0.6770275+0.j, 0.6770275+0.j,\n",
       "        0.6770275+0.j, 0.6770275+0.j],\n",
       "       [0.6770275+0.j, 0.6770275+0.j, 0.6770275+0.j, 0.6770275+0.j,\n",
       "        0.6770275+0.j, 0.6770275+0.j, 0.6770275+0.j, 0.6770275+0.j,\n",
       "        0.6770275+0.j, 0.6770275+0.j, 0.6770275+0.j, 0.6770275+0.j,\n",
       "        0.6770275+0.j, 0.6770275+0.j, 0.6770275+0.j, 0.6770275+0.j,\n",
       "        0.6770275+0.j, 0.6770275+0.j, 0.6770275+0.j, 0.6770275+0.j,\n",
       "        0.6770275+0.j, 0.6770275+0.j, 0.6770275+0.j, 0.6770275+0.j,\n",
       "        0.6770275+0.j, 0.6770275+0.j, 0.6770275+0.j, 0.6770275+0.j,\n",
       "        0.6770275+0.j, 0.6770275+0.j],\n",
       "       [0.6770275+0.j, 0.6770275+0.j, 0.6770275+0.j, 0.6770275+0.j,\n",
       "        0.6770275+0.j, 0.6770275+0.j, 0.6770275+0.j, 0.6770275+0.j,\n",
       "        0.6770275+0.j, 0.6770275+0.j, 0.6770275+0.j, 0.6770275+0.j,\n",
       "        0.6770275+0.j, 0.6770275+0.j, 0.6770275+0.j, 0.6770275+0.j,\n",
       "        0.6770275+0.j, 0.6770275+0.j, 0.6770275+0.j, 0.6770275+0.j,\n",
       "        0.6770275+0.j, 0.6770275+0.j, 0.6770275+0.j, 0.6770275+0.j,\n",
       "        0.6770275+0.j, 0.6770275+0.j, 0.6770275+0.j, 0.6770275+0.j,\n",
       "        0.6770275+0.j, 0.6770275+0.j],\n",
       "       [0.6770275+0.j, 0.6770275+0.j, 0.6770275+0.j, 0.6770275+0.j,\n",
       "        0.6770275+0.j, 0.6770275+0.j, 0.6770275+0.j, 0.6770275+0.j,\n",
       "        0.6770275+0.j, 0.6770275+0.j, 0.6770275+0.j, 0.6770275+0.j,\n",
       "        0.6770275+0.j, 0.6770275+0.j, 0.6770275+0.j, 0.6770275+0.j,\n",
       "        0.6770275+0.j, 0.6770275+0.j, 0.6770275+0.j, 0.6770275+0.j,\n",
       "        0.6770275+0.j, 0.6770275+0.j, 0.6770275+0.j, 0.6770275+0.j,\n",
       "        0.6770275+0.j, 0.6770275+0.j, 0.6770275+0.j, 0.6770275+0.j,\n",
       "        0.6770275+0.j, 0.6770275+0.j],\n",
       "       [0.6770275+0.j, 0.6770275+0.j, 0.6770275+0.j, 0.6770275+0.j,\n",
       "        0.6770275+0.j, 0.6770275+0.j, 0.6770275+0.j, 0.6770275+0.j,\n",
       "        0.6770275+0.j, 0.6770275+0.j, 0.6770275+0.j, 0.6770275+0.j,\n",
       "        0.6770275+0.j, 0.6770275+0.j, 0.6770275+0.j, 0.6770275+0.j,\n",
       "        0.6770275+0.j, 0.6770275+0.j, 0.6770275+0.j, 0.6770275+0.j,\n",
       "        0.6770275+0.j, 0.6770275+0.j, 0.6770275+0.j, 0.6770275+0.j,\n",
       "        0.6770275+0.j, 0.6770275+0.j, 0.6770275+0.j, 0.6770275+0.j,\n",
       "        0.6770275+0.j, 0.6770275+0.j],\n",
       "       [0.6770275+0.j, 0.6770275+0.j, 0.6770275+0.j, 0.6770275+0.j,\n",
       "        0.6770275+0.j, 0.6770275+0.j, 0.6770275+0.j, 0.6770275+0.j,\n",
       "        0.6770275+0.j, 0.6770275+0.j, 0.6770275+0.j, 0.6770275+0.j,\n",
       "        0.6770275+0.j, 0.6770275+0.j, 0.6770275+0.j, 0.6770275+0.j,\n",
       "        0.6770275+0.j, 0.6770275+0.j, 0.6770275+0.j, 0.6770275+0.j,\n",
       "        0.6770275+0.j, 0.6770275+0.j, 0.6770275+0.j, 0.6770275+0.j,\n",
       "        0.6770275+0.j, 0.6770275+0.j, 0.6770275+0.j, 0.6770275+0.j,\n",
       "        0.6770275+0.j, 0.6770275+0.j],\n",
       "       [0.6770275+0.j, 0.6770275+0.j, 0.6770275+0.j, 0.6770275+0.j,\n",
       "        0.6770275+0.j, 0.6770275+0.j, 0.6770275+0.j, 0.6770275+0.j,\n",
       "        0.6770275+0.j, 0.6770275+0.j, 0.6770275+0.j, 0.6770275+0.j,\n",
       "        0.6770275+0.j, 0.6770275+0.j, 0.6770275+0.j, 0.6770275+0.j,\n",
       "        0.6770275+0.j, 0.6770275+0.j, 0.6770275+0.j, 0.6770275+0.j,\n",
       "        0.6770275+0.j, 0.6770275+0.j, 0.6770275+0.j, 0.6770275+0.j,\n",
       "        0.6770275+0.j, 0.6770275+0.j, 0.6770275+0.j, 0.6770275+0.j,\n",
       "        0.6770275+0.j, 0.6770275+0.j],\n",
       "       [0.6770275+0.j, 0.6770275+0.j, 0.6770275+0.j, 0.6770275+0.j,\n",
       "        0.6770275+0.j, 0.6770275+0.j, 0.6770275+0.j, 0.6770275+0.j,\n",
       "        0.6770275+0.j, 0.6770275+0.j, 0.6770275+0.j, 0.6770275+0.j,\n",
       "        0.6770275+0.j, 0.6770275+0.j, 0.6770275+0.j, 0.6770275+0.j,\n",
       "        0.6770275+0.j, 0.6770275+0.j, 0.6770275+0.j, 0.6770275+0.j,\n",
       "        0.6770275+0.j, 0.6770275+0.j, 0.6770275+0.j, 0.6770275+0.j,\n",
       "        0.6770275+0.j, 0.6770275+0.j, 0.6770275+0.j, 0.6770275+0.j,\n",
       "        0.6770275+0.j, 0.6770275+0.j],\n",
       "       [0.6770275+0.j, 0.6770275+0.j, 0.6770275+0.j, 0.6770275+0.j,\n",
       "        0.6770275+0.j, 0.6770275+0.j, 0.6770275+0.j, 0.6770275+0.j,\n",
       "        0.6770275+0.j, 0.6770275+0.j, 0.6770275+0.j, 0.6770275+0.j,\n",
       "        0.6770275+0.j, 0.6770275+0.j, 0.6770275+0.j, 0.6770275+0.j,\n",
       "        0.6770275+0.j, 0.6770275+0.j, 0.6770275+0.j, 0.6770275+0.j,\n",
       "        0.6770275+0.j, 0.6770275+0.j, 0.6770275+0.j, 0.6770275+0.j,\n",
       "        0.6770275+0.j, 0.6770275+0.j, 0.6770275+0.j, 0.6770275+0.j,\n",
       "        0.6770275+0.j, 0.6770275+0.j]], dtype=complex256)"
      ]
     },
     "execution_count": 12,
     "metadata": {},
     "output_type": "execute_result"
    }
   ],
   "source": [
    "func"
   ]
  },
  {
   "cell_type": "code",
   "execution_count": 13,
   "metadata": {},
   "outputs": [
    {
     "data": {
      "text/plain": [
       "array([[0.6770275+5.04878205e-31j, 0.6770275+3.90415801e-31j,\n",
       "        0.6770275+4.48128410e-31j, 0.6770275+7.77630587e-31j,\n",
       "        0.6770275-7.75041172e-31j, 0.6770275+4.05211513e-31j,\n",
       "        0.6770275+5.94748008e-31j, 0.6770275+5.54599990e-31j,\n",
       "        0.6770275-1.12587594e-30j, 0.6770275-4.30581329e-31j,\n",
       "        0.6770275+1.59168879e-30j, 0.6770275-1.67263069e-30j,\n",
       "        0.6770275-2.47469401e-30j, 0.6770275+5.66955104e-31j,\n",
       "        0.6770275+4.45270142e-31j, 0.6770275-5.14749167e-31j,\n",
       "        0.6770275-1.59838027e-30j, 0.6770275-4.50281415e-31j,\n",
       "        0.6770275-1.59724091e-31j, 0.6770275-5.07345279e-31j,\n",
       "        0.6770275-2.18171689e-31j, 0.6770275-5.67288067e-32j,\n",
       "        0.6770275+1.23282660e-31j, 0.6770275+1.24488528e-30j,\n",
       "        0.6770275-1.02937636e-30j, 0.6770275-2.10082280e-30j,\n",
       "        0.6770275+4.16669157e-31j, 0.6770275+1.69476287e-30j,\n",
       "        0.6770275-2.20586265e-31j, 0.6770275-4.20839552e-31j],\n",
       "       [0.6770275+7.05446797e-31j, 0.6770275+5.19579152e-31j,\n",
       "        0.6770275+6.75331554e-31j, 0.6770275+3.55677086e-31j,\n",
       "        0.6770275+5.44955082e-31j, 0.6770275-2.86939314e-32j,\n",
       "        0.6770275-5.29548366e-31j, 0.6770275+2.09408275e-30j,\n",
       "        0.6770275-1.37278393e-30j, 0.6770275-3.78143303e-31j,\n",
       "        0.6770275-1.47324540e-30j, 0.6770275+2.19064329e-30j,\n",
       "        0.6770275-1.56781936e-30j, 0.6770275+2.02942098e-30j,\n",
       "        0.6770275+2.37791168e-31j, 0.6770275+2.54091103e-30j,\n",
       "        0.6770275-8.49070080e-31j, 0.6770275-8.22107856e-31j,\n",
       "        0.6770275-9.71273654e-31j, 0.6770275+3.13261070e-30j,\n",
       "        0.6770275-7.77254279e-31j, 0.6770275+6.53924655e-31j,\n",
       "        0.6770275-3.17867575e-30j, 0.6770275+8.97399572e-31j,\n",
       "        0.6770275-1.52422731e-30j, 0.6770275+6.43792284e-31j,\n",
       "        0.6770275-7.88993987e-32j, 0.6770275-2.68084857e-30j,\n",
       "        0.6770275+1.28142861e-30j, 0.6770275-1.23916091e-30j],\n",
       "       [0.6770275-9.83692501e-32j, 0.6770275-1.86978547e-32j,\n",
       "        0.6770275-3.32947475e-31j, 0.6770275-5.14666514e-31j,\n",
       "        0.6770275+5.42787812e-31j, 0.6770275-4.08972107e-31j,\n",
       "        0.6770275+4.73446257e-31j, 0.6770275+1.42202993e-31j,\n",
       "        0.6770275+4.67853038e-31j, 0.6770275-1.07381283e-30j,\n",
       "        0.6770275-9.62339841e-31j, 0.6770275+5.15652989e-31j,\n",
       "        0.6770275+2.48110107e-31j, 0.6770275+4.98227984e-31j,\n",
       "        0.6770275-5.82861380e-31j, 0.6770275-3.08737018e-31j,\n",
       "        0.6770275+2.61957476e-31j, 0.6770275-2.88796473e-31j,\n",
       "        0.6770275+1.28102226e-31j, 0.6770275-1.59847225e-31j,\n",
       "        0.6770275+1.30826916e-30j, 0.6770275+4.51462914e-31j,\n",
       "        0.6770275+1.48250664e-31j, 0.6770275+8.41071326e-31j,\n",
       "        0.6770275+1.33547102e-31j, 0.6770275+7.47531463e-31j,\n",
       "        0.6770275-1.57376289e-31j, 0.6770275+2.54037789e-32j,\n",
       "        0.6770275-1.24935904e-32j, 0.6770275-2.14506263e-31j],\n",
       "       [0.6770275+5.54398401e-31j, 0.6770275+6.01358930e-32j,\n",
       "        0.6770275-4.24394720e-31j, 0.6770275-2.83516330e-31j,\n",
       "        0.6770275-1.22492617e-30j, 0.6770275+9.54440757e-31j,\n",
       "        0.6770275+3.74409950e-31j, 0.6770275+9.19056967e-32j,\n",
       "        0.6770275-5.55414592e-31j, 0.6770275+5.08289306e-31j,\n",
       "        0.6770275+6.03520993e-31j, 0.6770275-6.24673967e-31j,\n",
       "        0.6770275-1.17351200e-31j, 0.6770275+6.15122088e-33j,\n",
       "        0.6770275-2.90453416e-31j, 0.6770275-2.30166008e-31j,\n",
       "        0.6770275+6.02761718e-31j, 0.6770275-8.57002385e-32j,\n",
       "        0.6770275+3.05534327e-31j, 0.6770275-6.21991912e-32j,\n",
       "        0.6770275-1.44515332e-30j, 0.6770275+4.26334874e-31j,\n",
       "        0.6770275-2.16915383e-31j, 0.6770275+2.32804305e-32j,\n",
       "        0.6770275-6.81637201e-31j, 0.6770275-9.40512090e-32j,\n",
       "        0.6770275-2.42331452e-31j, 0.6770275+1.80503458e-31j,\n",
       "        0.6770275+3.59378246e-31j, 0.6770275-3.08125469e-31j],\n",
       "       [0.6770275-9.15353396e-32j, 0.6770275+5.15403680e-31j,\n",
       "        0.6770275+4.83872219e-31j, 0.6770275+3.93128193e-31j,\n",
       "        0.6770275+4.54186567e-31j, 0.6770275+3.36025875e-31j,\n",
       "        0.6770275+5.74165608e-31j, 0.6770275-2.48564581e-31j,\n",
       "        0.6770275+3.78739390e-31j, 0.6770275+1.91486337e-31j,\n",
       "        0.6770275-2.07557320e-31j, 0.6770275-3.96940556e-31j,\n",
       "        0.6770275-5.50642931e-31j, 0.6770275+3.79803165e-31j,\n",
       "        0.6770275-1.57407157e-31j, 0.6770275-2.11285488e-31j,\n",
       "        0.6770275+3.17116402e-32j, 0.6770275-2.84734448e-31j,\n",
       "        0.6770275+4.05264937e-31j, 0.6770275-1.67542740e-30j,\n",
       "        0.6770275-1.12630038e-31j, 0.6770275+2.01363499e-31j,\n",
       "        0.6770275+2.10783252e-31j, 0.6770275+3.67925594e-31j,\n",
       "        0.6770275-1.49283344e-30j, 0.6770275-5.24354740e-31j,\n",
       "        0.6770275+5.74474434e-31j, 0.6770275+1.96595318e-32j,\n",
       "        0.6770275-7.23344681e-32j, 0.6770275-6.45785375e-31j],\n",
       "       [0.6770275-8.13423976e-31j, 0.6770275+9.43643230e-31j,\n",
       "        0.6770275+1.42028306e-31j, 0.6770275-5.69139382e-31j,\n",
       "        0.6770275+3.04093806e-31j, 0.6770275+4.39556646e-31j,\n",
       "        0.6770275-1.63208269e-31j, 0.6770275-2.94814736e-31j,\n",
       "        0.6770275-1.58454081e-30j, 0.6770275-1.08348606e-31j,\n",
       "        0.6770275-7.69841595e-31j, 0.6770275-1.81886028e-31j,\n",
       "        0.6770275-6.39553186e-31j, 0.6770275+1.77465417e-31j,\n",
       "        0.6770275-9.44989125e-31j, 0.6770275-3.68704541e-31j,\n",
       "        0.6770275-4.55505754e-31j, 0.6770275-5.65290531e-32j,\n",
       "        0.6770275+2.72997560e-31j, 0.6770275-1.26816920e-30j,\n",
       "        0.6770275+4.01439032e-31j, 0.6770275+4.22105915e-31j,\n",
       "        0.6770275+7.15758322e-31j, 0.6770275-4.94765384e-31j,\n",
       "        0.6770275+5.42949744e-31j, 0.6770275+8.16200083e-31j,\n",
       "        0.6770275+6.67371589e-31j, 0.6770275-2.98707220e-31j,\n",
       "        0.6770275+3.40942262e-31j, 0.6770275+3.46489843e-31j],\n",
       "       [0.6770275+1.25930263e-30j, 0.6770275-1.66347685e-31j,\n",
       "        0.6770275+1.83547142e-31j, 0.6770275+1.00157385e-30j,\n",
       "        0.6770275+5.06639946e-32j, 0.6770275-1.76199118e-30j,\n",
       "        0.6770275-4.16377026e-32j, 0.6770275-9.84321730e-31j,\n",
       "        0.6770275+2.32869004e-30j, 0.6770275+1.61093808e-30j,\n",
       "        0.6770275-1.48951873e-30j, 0.6770275-4.13181186e-31j,\n",
       "        0.6770275+1.70700588e-31j, 0.6770275-1.02498593e-31j,\n",
       "        0.6770275-6.94977839e-31j, 0.6770275+8.83917009e-31j,\n",
       "        0.6770275+2.67236321e-31j, 0.6770275-2.04539779e-31j,\n",
       "        0.6770275+6.15816100e-32j, 0.6770275-9.87680070e-31j,\n",
       "        0.6770275+1.25946941e-30j, 0.6770275+4.45014702e-31j,\n",
       "        0.6770275-1.58134045e-30j, 0.6770275-5.23494842e-31j,\n",
       "        0.6770275-1.55563982e-31j, 0.6770275-6.13768295e-31j,\n",
       "        0.6770275+8.27763938e-31j, 0.6770275-2.57945214e-31j,\n",
       "        0.6770275-1.12832411e-31j, 0.6770275+6.44491391e-31j],\n",
       "       [0.6770275-2.44257582e-31j, 0.6770275+3.63960134e-31j,\n",
       "        0.6770275+1.57565144e-31j, 0.6770275+2.57367435e-30j,\n",
       "        0.6770275-1.19008628e-30j, 0.6770275-2.71095404e-30j,\n",
       "        0.6770275+2.34853615e-31j, 0.6770275-4.70733390e-31j,\n",
       "        0.6770275-6.87785694e-31j, 0.6770275-7.11300095e-31j,\n",
       "        0.6770275-1.37679917e-31j, 0.6770275+1.90122387e-31j,\n",
       "        0.6770275+5.33362224e-32j, 0.6770275-9.46113085e-33j,\n",
       "        0.6770275+7.80690749e-31j, 0.6770275-2.25820176e-31j,\n",
       "        0.6770275+2.25293178e-31j, 0.6770275-4.79625769e-31j,\n",
       "        0.6770275-2.04651422e-30j, 0.6770275-6.41614533e-31j,\n",
       "        0.6770275-5.95077746e-31j, 0.6770275-1.39550476e-30j,\n",
       "        0.6770275+9.88466993e-31j, 0.6770275+1.57711695e-30j,\n",
       "        0.6770275+8.86385183e-31j, 0.6770275+2.74512726e-31j,\n",
       "        0.6770275+2.00478775e-31j, 0.6770275-7.85731269e-31j,\n",
       "        0.6770275+1.52795458e-31j, 0.6770275+4.37467464e-31j],\n",
       "       [0.6770275-8.93356916e-31j, 0.6770275+3.43468541e-31j,\n",
       "        0.6770275-4.66947734e-31j, 0.6770275+1.63825319e-30j,\n",
       "        0.6770275+1.00188681e-30j, 0.6770275+6.38063600e-31j,\n",
       "        0.6770275-4.29118256e-31j, 0.6770275-7.68527298e-31j,\n",
       "        0.6770275-2.29774878e-30j, 0.6770275+6.72983117e-31j,\n",
       "        0.6770275-3.70812232e-31j, 0.6770275-1.90764038e-30j,\n",
       "        0.6770275+4.36512022e-31j, 0.6770275+1.76090182e-31j,\n",
       "        0.6770275+1.09444279e-30j, 0.6770275-1.41869223e-30j,\n",
       "        0.6770275-3.18133534e-31j, 0.6770275-4.20400414e-31j,\n",
       "        0.6770275+3.01606648e-31j, 0.6770275+8.15378553e-31j,\n",
       "        0.6770275-1.96951765e-30j, 0.6770275+1.76454303e-31j,\n",
       "        0.6770275-1.16478588e-30j, 0.6770275-1.54239905e-30j,\n",
       "        0.6770275+3.01504333e-31j, 0.6770275-6.40204692e-31j,\n",
       "        0.6770275-8.53879849e-31j, 0.6770275+1.92407925e-31j,\n",
       "        0.6770275-4.59854895e-31j, 0.6770275+6.36805727e-32j],\n",
       "       [0.6770275-1.18550792e-31j, 0.6770275+8.54043101e-31j,\n",
       "        0.6770275+3.39717491e-31j, 0.6770275-4.84556451e-31j,\n",
       "        0.6770275+1.24663038e-30j, 0.6770275-4.75245783e-31j,\n",
       "        0.6770275+6.25129024e-31j, 0.6770275-4.80755748e-31j,\n",
       "        0.6770275-1.15388331e-30j, 0.6770275-2.40915780e-31j,\n",
       "        0.6770275-3.45617156e-31j, 0.6770275+8.92360080e-32j,\n",
       "        0.6770275-1.10551388e-30j, 0.6770275+2.36192738e-31j,\n",
       "        0.6770275+3.33896067e-31j, 0.6770275-6.69582112e-31j,\n",
       "        0.6770275+1.43309500e-31j, 0.6770275-3.63489184e-32j,\n",
       "        0.6770275-6.36161744e-31j, 0.6770275+1.36763896e-30j,\n",
       "        0.6770275-7.97606583e-31j, 0.6770275-1.59966537e-31j,\n",
       "        0.6770275+9.56525144e-32j, 0.6770275+1.01556994e-30j,\n",
       "        0.6770275+5.69154428e-31j, 0.6770275+5.32527905e-31j,\n",
       "        0.6770275-4.63900852e-31j, 0.6770275-6.88771229e-31j,\n",
       "        0.6770275-2.81042832e-31j, 0.6770275-9.86631341e-31j],\n",
       "       [0.6770275-3.15045469e-31j, 0.6770275-1.13966904e-31j,\n",
       "        0.6770275-1.39465164e-31j, 0.6770275-1.04192396e-30j,\n",
       "        0.6770275+1.77588007e-30j, 0.6770275+1.84095957e-31j,\n",
       "        0.6770275-5.28943870e-31j, 0.6770275+6.68115630e-31j,\n",
       "        0.6770275-3.17600894e-31j, 0.6770275-5.67095338e-31j,\n",
       "        0.6770275-1.06831560e-31j, 0.6770275+4.01026010e-32j,\n",
       "        0.6770275-1.01061669e-31j, 0.6770275+5.50680547e-32j,\n",
       "        0.6770275+2.68197782e-31j, 0.6770275+5.04661607e-31j,\n",
       "        0.6770275+1.15249228e-31j, 0.6770275-2.48437440e-31j,\n",
       "        0.6770275-1.70049082e-31j, 0.6770275-3.18560850e-32j,\n",
       "        0.6770275+1.53898730e-31j, 0.6770275-2.80565863e-31j,\n",
       "        0.6770275-4.19876050e-31j, 0.6770275+3.73754541e-31j,\n",
       "        0.6770275+1.25480354e-31j, 0.6770275-2.68439652e-31j,\n",
       "        0.6770275-8.48358975e-31j, 0.6770275-3.06328185e-31j,\n",
       "        0.6770275-1.78765419e-31j, 0.6770275-3.94128774e-31j],\n",
       "       [0.6770275-9.75486062e-31j, 0.6770275+8.75063432e-31j,\n",
       "        0.6770275-1.91755361e-31j, 0.6770275-2.42456548e-31j,\n",
       "        0.6770275+6.67255027e-31j, 0.6770275+1.13295448e-30j,\n",
       "        0.6770275+2.85772175e-31j, 0.6770275-1.26743682e-31j,\n",
       "        0.6770275-7.58587506e-31j, 0.6770275-1.04547565e-30j,\n",
       "        0.6770275+3.73812188e-31j, 0.6770275+4.18160956e-32j,\n",
       "        0.6770275-2.35477850e-32j, 0.6770275-1.00016420e-31j,\n",
       "        0.6770275+2.02342357e-31j, 0.6770275-4.84988045e-32j,\n",
       "        0.6770275+4.09707647e-31j, 0.6770275+3.23148734e-31j,\n",
       "        0.6770275-1.46603870e-31j, 0.6770275-1.99214023e-30j,\n",
       "        0.6770275+1.75267712e-31j, 0.6770275-3.20660518e-31j,\n",
       "        0.6770275+2.62567023e-31j, 0.6770275-1.63378386e-31j,\n",
       "        0.6770275-7.80442485e-31j, 0.6770275+6.38000123e-31j,\n",
       "        0.6770275-8.71284218e-31j, 0.6770275-6.56242761e-32j,\n",
       "        0.6770275+4.22532949e-31j, 0.6770275+3.07953330e-31j],\n",
       "       [0.6770275+2.94604708e-32j, 0.6770275+1.40247330e-31j,\n",
       "        0.6770275-3.17301994e-31j, 0.6770275-6.90519567e-31j,\n",
       "        0.6770275-1.44337312e-30j, 0.6770275-4.50664486e-31j,\n",
       "        0.6770275+6.61427940e-32j, 0.6770275-4.51747510e-31j,\n",
       "        0.6770275-4.37899943e-31j, 0.6770275-6.11469930e-32j,\n",
       "        0.6770275+9.37438342e-31j, 0.6770275+1.39538702e-30j,\n",
       "        0.6770275-7.45103309e-31j, 0.6770275+9.29019330e-31j,\n",
       "        0.6770275+9.42462405e-31j, 0.6770275+5.68788540e-31j,\n",
       "        0.6770275-6.26768614e-32j, 0.6770275-1.94708485e-31j,\n",
       "        0.6770275-1.08330043e-30j, 0.6770275-3.65104284e-33j,\n",
       "        0.6770275+2.59746488e-31j, 0.6770275+3.89930431e-32j,\n",
       "        0.6770275+1.32704850e-31j, 0.6770275+6.88262249e-31j,\n",
       "        0.6770275-6.38596056e-31j, 0.6770275-1.51880913e-30j,\n",
       "        0.6770275-1.68114569e-30j, 0.6770275+1.10277110e-31j,\n",
       "        0.6770275-6.93805610e-31j, 0.6770275+8.23535179e-34j],\n",
       "       [0.6770275+3.59839935e-31j, 0.6770275+1.10657361e-30j,\n",
       "        0.6770275+4.88988428e-31j, 0.6770275+2.26550052e-31j,\n",
       "        0.6770275-1.57892902e-30j, 0.6770275-1.28827535e-30j,\n",
       "        0.6770275+4.80931723e-32j, 0.6770275+1.68704862e-30j,\n",
       "        0.6770275-1.44735469e-31j, 0.6770275-3.33498461e-31j,\n",
       "        0.6770275+9.58879112e-31j, 0.6770275-6.89529065e-31j,\n",
       "        0.6770275+3.16663047e-30j, 0.6770275+5.70489914e-31j,\n",
       "        0.6770275+1.02040951e-30j, 0.6770275+3.83850411e-31j,\n",
       "        0.6770275-5.73565899e-32j, 0.6770275-8.58572073e-31j,\n",
       "        0.6770275-3.42620606e-31j, 0.6770275+2.57146966e-30j,\n",
       "        0.6770275+1.16911697e-30j, 0.6770275+5.36407161e-31j,\n",
       "        0.6770275+1.39091345e-30j, 0.6770275-1.48137945e-30j,\n",
       "        0.6770275+8.33767670e-32j, 0.6770275-1.16917028e-30j,\n",
       "        0.6770275-1.14265320e-30j, 0.6770275+2.58935127e-30j,\n",
       "        0.6770275+3.97023911e-31j, 0.6770275-1.48170685e-30j],\n",
       "       [0.6770275-8.04994495e-31j, 0.6770275-8.45121478e-31j,\n",
       "        0.6770275+8.08286093e-31j, 0.6770275-5.33821886e-32j,\n",
       "        0.6770275-5.27918372e-32j, 0.6770275-3.23644778e-31j,\n",
       "        0.6770275-3.51840021e-32j, 0.6770275+2.13738089e-31j,\n",
       "        0.6770275+5.36608193e-31j, 0.6770275-1.24403175e-30j,\n",
       "        0.6770275+3.83682216e-31j, 0.6770275+5.23788218e-31j,\n",
       "        0.6770275+4.26673897e-31j, 0.6770275-5.98582880e-31j,\n",
       "        0.6770275-1.09442608e-32j, 0.6770275+4.46919206e-31j,\n",
       "        0.6770275+6.01879894e-31j, 0.6770275-8.20830728e-31j,\n",
       "        0.6770275+7.87518996e-31j, 0.6770275+4.15585131e-32j,\n",
       "        0.6770275-9.73016871e-31j, 0.6770275+2.40185542e-31j,\n",
       "        0.6770275+7.99227679e-32j, 0.6770275-1.49003849e-30j,\n",
       "        0.6770275+1.02362954e-30j, 0.6770275+1.09132788e-30j,\n",
       "        0.6770275+2.91118132e-31j, 0.6770275+1.57090683e-30j,\n",
       "        0.6770275-7.37179525e-32j, 0.6770275-4.20233567e-31j]])"
      ]
     },
     "execution_count": 13,
     "metadata": {},
     "output_type": "execute_result"
    }
   ],
   "source": [
    "func_r"
   ]
  },
  {
   "cell_type": "code",
   "execution_count": 14,
   "metadata": {},
   "outputs": [
    {
     "data": {
      "text/plain": [
       "array([[0.6770275-2.05553565e-34j, 0.6770275-1.19883727e-34j,\n",
       "        0.6770275-7.33243362e-35j, 0.6770275+1.00533640e-35j,\n",
       "        0.6770275+5.12212823e-34j, 0.6770275-1.37912464e-34j,\n",
       "        0.6770275-4.39732079e-34j, 0.6770275-2.65861488e-34j,\n",
       "        0.6770275-2.01663750e-34j, 0.6770275+5.91238570e-35j,\n",
       "        0.6770275-2.70487077e-35j, 0.6770275-7.92966213e-34j,\n",
       "        0.6770275-4.90137169e-34j, 0.6770275+4.74592274e-34j,\n",
       "        0.6770275-3.43071828e-34j, 0.6770275+1.86191951e-34j,\n",
       "        0.6770275-2.02037198e-34j, 0.6770275+2.41011599e-34j,\n",
       "        0.6770275-1.48481922e-34j, 0.6770275-1.05502062e-34j,\n",
       "        0.6770275+1.02110569e-34j, 0.6770275+8.84246935e-35j,\n",
       "        0.6770275+5.55155215e-34j, 0.6770275-1.58730270e-34j,\n",
       "        0.6770275+4.30920376e-34j, 0.6770275-3.86547758e-34j,\n",
       "        0.6770275-1.16038055e-34j, 0.6770275+1.52986489e-34j,\n",
       "        0.6770275+1.87402046e-34j, 0.6770275-4.77611929e-34j],\n",
       "       [0.6770275-6.42381713e-34j, 0.6770275-3.44512924e-34j,\n",
       "        0.6770275-1.21631250e-35j, 0.6770275-6.91367453e-34j,\n",
       "        0.6770275-6.17083609e-34j, 0.6770275+6.87471292e-34j,\n",
       "        0.6770275+3.27813691e-36j, 0.6770275+5.81385845e-34j,\n",
       "        0.6770275+1.18219742e-34j, 0.6770275-5.07670067e-35j,\n",
       "        0.6770275+2.26649568e-34j, 0.6770275-1.01624781e-33j,\n",
       "        0.6770275-1.41806710e-33j, 0.6770275-6.12244328e-34j,\n",
       "        0.6770275+1.28482204e-34j, 0.6770275-7.59295483e-34j,\n",
       "        0.6770275-1.03332675e-33j, 0.6770275+2.98955002e-34j,\n",
       "        0.6770275-4.53508625e-34j, 0.6770275+1.23438888e-33j,\n",
       "        0.6770275+3.30260229e-34j, 0.6770275+1.45367251e-34j,\n",
       "        0.6770275+2.48899914e-34j, 0.6770275-5.88658534e-34j,\n",
       "        0.6770275-1.25629834e-34j, 0.6770275-1.97778922e-34j,\n",
       "        0.6770275-9.97778139e-34j, 0.6770275-7.24500647e-34j,\n",
       "        0.6770275-2.56166490e-34j, 0.6770275+7.42963444e-34j],\n",
       "       [0.6770275-1.75590938e-34j, 0.6770275-1.70368070e-34j,\n",
       "        0.6770275-1.67568740e-34j, 0.6770275+5.80384540e-34j,\n",
       "        0.6770275-2.58898957e-34j, 0.6770275+7.11874971e-34j,\n",
       "        0.6770275+3.05878324e-35j, 0.6770275+3.21203831e-35j,\n",
       "        0.6770275+6.61465365e-35j, 0.6770275-1.07565080e-34j,\n",
       "        0.6770275-6.06558024e-34j, 0.6770275+2.22892831e-34j,\n",
       "        0.6770275-5.78654727e-34j, 0.6770275+2.42138612e-34j,\n",
       "        0.6770275+2.52628430e-35j, 0.6770275-1.37983200e-34j,\n",
       "        0.6770275+3.79116765e-34j, 0.6770275+5.59215723e-35j,\n",
       "        0.6770275-6.56515064e-34j, 0.6770275-4.29048826e-34j,\n",
       "        0.6770275-2.10199696e-34j, 0.6770275+5.68542536e-35j,\n",
       "        0.6770275+5.21259746e-34j, 0.6770275+1.41310584e-34j,\n",
       "        0.6770275+3.84048698e-35j, 0.6770275-2.67762919e-35j,\n",
       "        0.6770275+7.02562117e-34j, 0.6770275+1.05823879e-34j,\n",
       "        0.6770275+2.24269628e-34j, 0.6770275+4.11496491e-35j],\n",
       "       [0.6770275+1.60525509e-34j, 0.6770275-5.31793644e-35j,\n",
       "        0.6770275-6.64683281e-35j, 0.6770275+2.01274020e-34j,\n",
       "        0.6770275-4.98503644e-34j, 0.6770275-3.53212543e-34j,\n",
       "        0.6770275+1.55494393e-34j, 0.6770275+3.36708602e-34j,\n",
       "        0.6770275-1.25636836e-34j, 0.6770275+1.01280593e-34j,\n",
       "        0.6770275-5.09788390e-34j, 0.6770275-1.25636836e-34j,\n",
       "        0.6770275-3.19734463e-35j, 0.6770275+4.43866667e-35j,\n",
       "        0.6770275+1.38661314e-34j, 0.6770275-8.92435311e-35j,\n",
       "        0.6770275+2.62605438e-35j, 0.6770275+5.12045339e-35j,\n",
       "        0.6770275-1.08321804e-34j, 0.6770275-7.26784647e-34j,\n",
       "        0.6770275+7.03886017e-35j, 0.6770275+3.18700028e-34j,\n",
       "        0.6770275-6.26303390e-35j, 0.6770275+2.53906780e-35j,\n",
       "        0.6770275-3.87913136e-34j, 0.6770275+8.05636808e-34j,\n",
       "        0.6770275+3.98257486e-34j, 0.6770275-1.05794492e-34j,\n",
       "        0.6770275+2.21933333e-35j, 0.6770275-3.80907189e-34j],\n",
       "       [0.6770275+3.78038983e-34j, 0.6770275-1.50463277e-34j,\n",
       "        0.6770275+5.71760452e-35j, 0.6770275+2.83811356e-34j,\n",
       "        0.6770275+1.18358175e-33j, 0.6770275-9.47918645e-35j,\n",
       "        0.6770275+3.67130396e-34j, 0.6770275+1.10590509e-34j,\n",
       "        0.6770275+1.74537401e-34j, 0.6770275-2.93403390e-34j,\n",
       "        0.6770275-1.49710961e-34j, 0.6770275+3.30266893e-34j,\n",
       "        0.6770275+4.31829605e-34j, 0.6770275+1.70023503e-34j,\n",
       "        0.6770275-4.89005650e-35j, 0.6770275-3.27633785e-34j,\n",
       "        0.6770275+3.62616497e-34j, 0.6770275+1.49710961e-34j,\n",
       "        0.6770275-3.86502543e-34j, 0.6770275+1.11173554e-33j,\n",
       "        0.6770275-4.85996384e-34j, 0.6770275+1.15104407e-34j,\n",
       "        0.6770275-1.56481808e-34j, 0.6770275-3.51331752e-34j,\n",
       "        0.6770275+2.23437966e-34j, 0.6770275+3.44560904e-34j,\n",
       "        0.6770275-4.70950057e-34j, 0.6770275+3.85938305e-34j,\n",
       "        0.6770275+1.80555932e-35j, 0.6770275-4.09260113e-34j],\n",
       "       [0.6770275+1.53472542e-34j, 0.6770275-1.02916881e-33j,\n",
       "        0.6770275-4.13774011e-35j, 0.6770275+4.10764746e-34j,\n",
       "        0.6770275-6.03357740e-34j, 0.6770275-2.24190283e-34j,\n",
       "        0.6770275-3.31019209e-34j, 0.6770275+9.08798193e-34j,\n",
       "        0.6770275-4.12269379e-34j, 0.6770275-2.01620791e-34j,\n",
       "        0.6770275-1.50463277e-35j, 0.6770275-3.73148927e-34j,\n",
       "        0.6770275-6.68056949e-34j, 0.6770275-1.71528136e-34j,\n",
       "        0.6770275-1.26389153e-34j, 0.6770275-4.06250848e-35j,\n",
       "        0.6770275-6.31945763e-35j, 0.6770275-9.29110735e-35j,\n",
       "        0.6770275-4.36343503e-35j, 0.6770275+4.81482486e-34j,\n",
       "        0.6770275+5.56714125e-34j, 0.6770275+9.02779661e-35j,\n",
       "        0.6770275-2.64815367e-34j, 0.6770275+2.01620791e-34j,\n",
       "        0.6770275-2.04630057e-34j, 0.6770275-2.31713446e-34j,\n",
       "        0.6770275-6.01853108e-35j, 0.6770275-4.69445424e-34j,\n",
       "        0.6770275+2.31713446e-34j, 0.6770275-1.05324294e-34j],\n",
       "       [0.6770275-1.20370622e-35j, 0.6770275+7.40279322e-34j,\n",
       "        0.6770275-4.81482486e-35j, 0.6770275-7.25985311e-34j,\n",
       "        0.6770275-5.68751187e-34j, 0.6770275-6.74075481e-34j,\n",
       "        0.6770275-4.03241582e-34j, 0.6770275+4.81482486e-34j,\n",
       "        0.6770275+2.16667119e-34j, 0.6770275+6.50001356e-34j,\n",
       "        0.6770275-3.61111865e-34j, 0.6770275+4.93519548e-34j,\n",
       "        0.6770275-1.56481808e-34j, 0.6770275-1.20370622e-34j,\n",
       "        0.6770275-1.08333559e-34j, 0.6770275+4.93519548e-34j,\n",
       "        0.6770275-1.08333559e-34j, 0.6770275+1.20370622e-35j,\n",
       "        0.6770275-6.20661017e-34j, 0.6770275-3.43056271e-34j,\n",
       "        0.6770275-4.15278644e-34j, 0.6770275+9.02779661e-35j,\n",
       "        0.6770275+1.14352090e-34j, 0.6770275-6.13890170e-34j,\n",
       "        0.6770275+1.36018802e-33j, 0.6770275+1.92592994e-34j,\n",
       "        0.6770275-1.68518870e-34j, 0.6770275-5.77778983e-34j,\n",
       "        0.6770275+2.58796836e-34j, 0.6770275+1.80555932e-35j],\n",
       "       [0.6770275+0.00000000e+00j, 0.6770275-1.07731706e-33j,\n",
       "        0.6770275+2.36227345e-34j, 0.6770275+2.64815367e-34j,\n",
       "        0.6770275-2.41042170e-33j, 0.6770275-3.73148927e-34j,\n",
       "        0.6770275+4.45371300e-34j, 0.6770275+3.12963616e-34j,\n",
       "        0.6770275+2.40741243e-34j, 0.6770275+3.61111865e-35j,\n",
       "        0.6770275+8.66668475e-34j, 0.6770275+2.76852430e-34j,\n",
       "        0.6770275+1.44444746e-34j, 0.6770275-2.04630057e-34j,\n",
       "        0.6770275+3.73148927e-34j, 0.6770275+7.22223729e-34j,\n",
       "        0.6770275-9.02779661e-36j, 0.6770275+6.46992091e-35j,\n",
       "        0.6770275+9.05788927e-34j, 0.6770275+8.45603616e-34j,\n",
       "        0.6770275-2.46759774e-34j, 0.6770275+3.61111865e-34j,\n",
       "        0.6770275-1.68518870e-34j, 0.6770275+6.50001356e-34j,\n",
       "        0.6770275+6.62038418e-34j, 0.6770275-1.08333559e-33j,\n",
       "        0.6770275-7.22223729e-35j, 0.6770275-2.28704181e-34j,\n",
       "        0.6770275+1.56481808e-34j, 0.6770275-3.73148927e-34j],\n",
       "       [0.6770275-7.04168136e-34j, 0.6770275+1.23379887e-34j,\n",
       "        0.6770275+1.11342825e-34j, 0.6770275+6.19908701e-34j,\n",
       "        0.6770275+2.40741243e-34j, 0.6770275+6.01853108e-35j,\n",
       "        0.6770275+1.08333559e-34j, 0.6770275-3.37037740e-34j,\n",
       "        0.6770275+2.40741243e-35j, 0.6770275+1.20370622e-35j,\n",
       "        0.6770275-7.22223729e-35j, 0.6770275-4.81482486e-35j,\n",
       "        0.6770275+1.08333559e-34j, 0.6770275+1.44444746e-34j,\n",
       "        0.6770275+6.01853108e-35j, 0.6770275-1.50463277e-34j,\n",
       "        0.6770275+1.83565198e-34j, 0.6770275+9.78011300e-35j,\n",
       "        0.6770275-1.11342825e-34j, 0.6770275-4.33334237e-34j,\n",
       "        0.6770275+6.25927232e-34j, 0.6770275-4.21297175e-35j,\n",
       "        0.6770275+9.56946441e-34j, 0.6770275+1.68518870e-34j,\n",
       "        0.6770275-1.56481808e-34j, 0.6770275-3.97223051e-34j,\n",
       "        0.6770275-3.61111865e-35j, 0.6770275-1.32407684e-34j,\n",
       "        0.6770275+5.41667797e-35j, 0.6770275+6.68056949e-34j],\n",
       "       [0.6770275+4.42362034e-34j, 0.6770275+4.01736949e-34j,\n",
       "        0.6770275+1.20370622e-35j, 0.6770275-1.91088362e-34j,\n",
       "        0.6770275-4.25811074e-34j, 0.6770275+9.08798193e-34j,\n",
       "        0.6770275-4.51389831e-35j, 0.6770275+4.75463955e-34j,\n",
       "        0.6770275+4.33334237e-34j, 0.6770275+2.34722712e-34j,\n",
       "        0.6770275+1.47454011e-34j, 0.6770275-4.33334237e-34j,\n",
       "        0.6770275-2.37731978e-34j, 0.6770275+2.04630057e-34j,\n",
       "        0.6770275+1.50463277e-35j, 0.6770275+3.61111865e-35j,\n",
       "        0.6770275+1.38426215e-34j, 0.6770275-4.47628249e-35j,\n",
       "        0.6770275-2.14410170e-35j, 0.6770275-3.38542373e-34j,\n",
       "        0.6770275-7.82409040e-35j, 0.6770275+2.04630057e-34j,\n",
       "        0.6770275+6.37964294e-34j, 0.6770275-1.14352090e-34j,\n",
       "        0.6770275-1.47454011e-34j, 0.6770275+1.20370622e-34j,\n",
       "        0.6770275-3.31019209e-34j, 0.6770275-4.09260113e-34j,\n",
       "        0.6770275-1.02315028e-34j, 0.6770275-4.00232317e-34j],\n",
       "       [0.6770275-2.40741243e-34j, 0.6770275-3.50579435e-34j,\n",
       "        0.6770275+4.50449435e-35j, 0.6770275-5.91414718e-34j,\n",
       "        0.6770275-1.97859209e-34j, 0.6770275+1.29774576e-33j,\n",
       "        0.6770275+1.24132203e-34j, 0.6770275+2.74595480e-34j,\n",
       "        0.6770275-3.52836384e-34j, 0.6770275+1.93345311e-34j,\n",
       "        0.6770275-2.27199548e-34j, 0.6770275+2.97164972e-34j,\n",
       "        0.6770275-8.04978531e-35j, 0.6770275+5.04051978e-35j,\n",
       "        0.6770275+3.94966102e-34j, 0.6770275+5.94329944e-35j,\n",
       "        0.6770275+3.96470735e-34j, 0.6770275+1.37767938e-34j,\n",
       "        0.6770275+8.16451356e-34j, 0.6770275-7.00970791e-34j,\n",
       "        0.6770275+1.22627571e-34j, 0.6770275-2.93403390e-35j,\n",
       "        0.6770275+3.09954350e-34j, 0.6770275+1.19618305e-34j,\n",
       "        0.6770275-2.41493559e-34j, 0.6770275+1.15856723e-34j,\n",
       "        0.6770275-1.57986441e-34j, 0.6770275-1.50463277e-34j,\n",
       "        0.6770275+3.68635028e-35j, 0.6770275-2.56539887e-34j],\n",
       "       [0.6770275+3.29044379e-34j, 0.6770275+2.77016999e-34j,\n",
       "        0.6770275+2.22450551e-34j, 0.6770275+1.17496538e-34j,\n",
       "        0.6770275-3.46206596e-34j, 0.6770275-1.08380579e-34j,\n",
       "        0.6770275-3.26975509e-34j, 0.6770275-4.37189859e-34j,\n",
       "        0.6770275-6.67868870e-34j, 0.6770275+4.27879944e-35j,\n",
       "        0.6770275+4.84585791e-34j, 0.6770275-3.76910509e-34j,\n",
       "        0.6770275+2.18077712e-34j, 0.6770275+9.06541243e-35j,\n",
       "        0.6770275+1.81496328e-35j, 0.6770275+4.97187091e-34j,\n",
       "        0.6770275-2.36509463e-35j, 0.6770275-1.65527237e-34j,\n",
       "        0.6770275-3.00908921e-34j, 0.6770275+2.53812740e-34j,\n",
       "        0.6770275-2.17842613e-34j, 0.6770275-5.92025975e-34j,\n",
       "        0.6770275-4.44336865e-35j, 0.6770275-4.35779266e-34j,\n",
       "        0.6770275-6.29124577e-35j, 0.6770275-1.65509605e-34j,\n",
       "        0.6770275+1.58644718e-34j, 0.6770275-4.62392458e-34j,\n",
       "        0.6770275-1.92687034e-34j, 0.6770275+1.73785085e-34j],\n",
       "       [0.6770275-2.02600859e-34j, 0.6770275-3.30343300e-35j,\n",
       "        0.6770275-4.12967696e-35j, 0.6770275+7.59733019e-34j,\n",
       "        0.6770275-2.37552715e-34j, 0.6770275+1.51408080e-34j,\n",
       "        0.6770275-8.33102234e-35j, 0.6770275-8.01525517e-35j,\n",
       "        0.6770275+4.69389588e-35j, 0.6770275-3.92526951e-34j,\n",
       "        0.6770275-4.16091205e-34j, 0.6770275-6.27963776e-35j,\n",
       "        0.6770275-2.50486091e-34j, 0.6770275+2.54782523e-34j,\n",
       "        0.6770275-3.88102684e-34j, 0.6770275-1.89585933e-34j,\n",
       "        0.6770275+3.08273394e-36j, 0.6770275+2.13220900e-34j,\n",
       "        0.6770275+4.65584292e-34j, 0.6770275-6.46288998e-34j,\n",
       "        0.6770275-6.59430290e-34j, 0.6770275+1.33170286e-34j,\n",
       "        0.6770275-1.43783530e-34j, 0.6770275-2.40169659e-34j,\n",
       "        0.6770275-1.35098096e-34j, 0.6770275+9.03969849e-35j,\n",
       "        0.6770275+3.36539625e-34j, 0.6770275-6.32587877e-34j,\n",
       "        0.6770275+2.18615501e-34j, 0.6770275-3.48570809e-34j],\n",
       "       [0.6770275+8.90444915e-34j, 0.6770275+8.83555836e-34j,\n",
       "        0.6770275-1.37507442e-34j, 0.6770275+4.69206292e-34j,\n",
       "        0.6770275-1.02085811e-34j, 0.6770275+8.74889434e-34j,\n",
       "        0.6770275+5.66523131e-34j, 0.6770275+1.29923356e-33j,\n",
       "        0.6770275+8.71760851e-34j, 0.6770275-1.53721354e-34j,\n",
       "        0.6770275-5.02325981e-34j, 0.6770275-2.91679477e-34j,\n",
       "        0.6770275+8.51385189e-34j, 0.6770275+1.45682281e-34j,\n",
       "        0.6770275-7.54613859e-34j, 0.6770275+3.50949885e-34j,\n",
       "        0.6770275-3.53215778e-34j, 0.6770275-2.26606589e-34j,\n",
       "        0.6770275-7.92838648e-34j, 0.6770275-1.58641358e-34j,\n",
       "        0.6770275-1.81797531e-34j, 0.6770275+3.37978704e-34j,\n",
       "        0.6770275+4.17345735e-34j, 0.6770275-1.48179584e-33j,\n",
       "        0.6770275-1.29447263e-34j, 0.6770275-3.83941251e-36j,\n",
       "        0.6770275-1.15201612e-33j, 0.6770275+8.78750445e-34j,\n",
       "        0.6770275-1.18174984e-34j, 0.6770275-9.59909749e-35j],\n",
       "       [0.6770275-1.00007936e-34j, 0.6770275+6.05452286e-35j,\n",
       "        0.6770275+5.51332124e-35j, 0.6770275+4.04107647e-34j,\n",
       "        0.6770275-1.98659197e-34j, 0.6770275+4.22462042e-34j,\n",
       "        0.6770275-1.36934269e-34j, 0.6770275-3.93719593e-34j,\n",
       "        0.6770275-4.49171378e-34j, 0.6770275+2.00515912e-34j,\n",
       "        0.6770275+1.97214304e-35j, 0.6770275-6.59503430e-34j,\n",
       "        0.6770275+3.09161606e-34j, 0.6770275-2.08804407e-34j,\n",
       "        0.6770275+1.24385391e-34j, 0.6770275-3.04784240e-34j,\n",
       "        0.6770275-2.21179428e-34j, 0.6770275-2.26059679e-34j,\n",
       "        0.6770275-4.29373473e-34j, 0.6770275+1.27622611e-35j,\n",
       "        0.6770275+2.65220186e-35j, 0.6770275-5.76793179e-35j,\n",
       "        0.6770275-9.54430351e-35j, 0.6770275+2.29344908e-34j,\n",
       "        0.6770275-5.27131469e-34j, 0.6770275-3.64844410e-34j,\n",
       "        0.6770275+1.02832601e-34j, 0.6770275-6.98327535e-34j,\n",
       "        0.6770275-2.10823488e-35j, 0.6770275-3.59254622e-34j]],\n",
       "      dtype=complex256)"
      ]
     },
     "execution_count": 14,
     "metadata": {},
     "output_type": "execute_result"
    }
   ],
   "source": [
    "func_r_vec"
   ]
  },
  {
   "cell_type": "code",
   "execution_count": 21,
   "metadata": {},
   "outputs": [
    {
     "data": {
      "text/plain": [
       "array([[ 1.29472536e-01-9.84766710e-30j,  1.24343711e-01+3.07254444e-19j,\n",
       "         1.10059734e-01-8.75452785e-19j,  8.95444244e-02+1.20703546e-18j,\n",
       "         6.65367880e-02+1.86096748e-18j,  4.43419089e-02-9.28348111e-19j,\n",
       "         2.48081562e-02-1.78984343e-19j,  7.91090218e-03+8.62893142e-19j,\n",
       "        -7.91090218e-03+8.80008532e-19j, -2.48081562e-02+5.65796163e-19j,\n",
       "        -4.43419089e-02+9.31736243e-19j, -6.65367880e-02+3.45859486e-18j,\n",
       "        -8.95444244e-02-2.13482009e-18j, -1.10059734e-01-1.25083280e-18j,\n",
       "        -1.24343711e-01-4.58272262e-19j, -1.29472536e-01-9.61174690e-30j,\n",
       "        -1.24343711e-01+3.08944944e-19j, -1.10059734e-01-6.35601184e-19j,\n",
       "        -8.95444244e-02-1.78768615e-18j, -6.65367880e-02-2.20743571e-18j,\n",
       "        -4.43419089e-02-8.47032953e-20j, -2.48081562e-02+2.82656753e-19j,\n",
       "        -7.91090218e-03-8.05935255e-19j,  7.91090218e-03-1.04148188e-18j,\n",
       "         2.48081562e-02-5.40878164e-19j,  4.43419089e-02+5.86146800e-19j,\n",
       "         6.65367880e-02-2.97056860e-18j,  8.95444244e-02+2.93180985e-18j,\n",
       "         1.10059734e-01+2.42466992e-19j,  1.24343711e-01-7.30182353e-19j],\n",
       "       [ 3.48707059e-01-7.53534056e-25j,  3.26328520e-01-2.06717086e-18j,\n",
       "         2.65808181e-01+3.05820142e-18j,  1.84549523e-01+1.55867954e-18j,\n",
       "         1.04346391e-01+6.88298023e-18j,  4.34624997e-02-6.16695137e-19j,\n",
       "         1.01959939e-02-9.19290643e-19j,  3.63552457e-04+1.69649753e-18j,\n",
       "        -3.63552457e-04-1.17209161e-17j, -1.01959939e-02+3.36057482e-18j,\n",
       "        -4.34624997e-02+5.36008040e-18j, -1.04346391e-01+1.81180122e-18j,\n",
       "        -1.84549523e-01-2.43538976e-18j, -2.65808181e-01+1.26936069e-18j,\n",
       "        -3.26328520e-01+1.51118088e-19j, -3.48707059e-01-7.53534197e-25j,\n",
       "        -3.26328520e-01+2.57408716e-19j, -2.65808181e-01+6.23751194e-20j,\n",
       "        -1.84549523e-01-8.41504389e-19j, -1.04346391e-01-6.17118355e-18j,\n",
       "        -4.34624997e-02+1.88374612e-18j, -1.01959939e-02+6.33116036e-19j,\n",
       "        -3.63552457e-04-4.59914997e-19j,  3.63552457e-04+1.17735827e-17j,\n",
       "         1.01959939e-02-3.27335354e-18j,  4.34624997e-02+6.61368916e-18j,\n",
       "         1.04346391e-01-2.77163180e-18j,  1.84549523e-01+1.78899508e-18j,\n",
       "         2.65808181e-01-3.95652485e-18j,  3.26328520e-01-2.25243726e-18j],\n",
       "       [ 5.31420324e-01-2.63407139e-22j,  4.97115064e-01-2.21820451e-18j,\n",
       "         4.04366336e-01-1.14823866e-19j,  2.79920152e-01+4.06005290e-18j,\n",
       "         1.57264820e-01+1.19086363e-18j,  6.44534168e-02+1.13106337e-17j,\n",
       "         1.42099902e-02+1.86961419e-18j,  6.26746280e-05-1.31917597e-17j,\n",
       "        -6.26746280e-05+1.10431487e-17j, -1.42099902e-02-1.97614539e-19j,\n",
       "        -6.44534168e-02+1.37482524e-17j, -1.57264820e-01-4.28419624e-18j,\n",
       "        -2.79920152e-01-3.17869396e-18j, -4.04366336e-01-3.51159002e-18j,\n",
       "        -4.97115064e-01+1.70364275e-19j, -5.31420324e-01-2.63407141e-22j,\n",
       "        -4.97115064e-01+1.14167381e-18j, -4.04366336e-01-5.69081787e-19j,\n",
       "        -2.79920152e-01+2.36257110e-18j, -1.57264820e-01-8.78525304e-18j,\n",
       "        -6.44534168e-02+4.99515606e-18j, -1.42099902e-02-7.92250103e-19j,\n",
       "        -6.26746280e-05+9.37245145e-18j,  6.26746280e-05-1.10013841e-17j,\n",
       "         1.42099902e-02+2.29572130e-19j,  6.44534168e-02+3.39412166e-18j,\n",
       "         1.57264820e-01+1.10925377e-17j,  2.79920152e-01-3.64785839e-18j,\n",
       "         4.04366336e-01-3.46210767e-20j,  4.97115064e-01+1.49185219e-18j],\n",
       "       [ 6.87317497e-01-1.05404622e-20j,  6.43495602e-01+3.62423047e-18j,\n",
       "         5.24946666e-01-2.64778109e-18j,  3.65654205e-01-1.42937315e-18j,\n",
       "         2.08181737e-01+3.70324685e-18j,  8.82139237e-02+2.52179881e-18j,\n",
       "         2.19954562e-02+8.53892662e-18j,  1.41887710e-03-3.21306084e-18j,\n",
       "        -1.41887710e-03+2.31984493e-17j, -2.19954562e-02-1.41874088e-17j,\n",
       "        -8.82139237e-02-1.21606577e-17j, -2.08181737e-01-8.75366387e-18j,\n",
       "        -3.65654205e-01+1.22448682e-17j, -5.24946666e-01-6.25647914e-18j,\n",
       "        -6.43495602e-01-2.67104187e-19j, -6.87317497e-01-1.05404622e-20j,\n",
       "        -6.43495602e-01-3.28626020e-19j, -5.24946666e-01-1.52449998e-18j,\n",
       "        -3.65654205e-01+1.34549374e-18j, -2.08181737e-01-1.11057322e-18j,\n",
       "        -8.82139237e-02-2.16737558e-18j, -2.19954562e-02-6.83068981e-18j,\n",
       "        -1.41887710e-03+4.55510975e-18j,  1.41887710e-03-2.35464836e-17j,\n",
       "         2.19954562e-02+1.41698695e-17j,  8.82139237e-02+1.08921910e-17j,\n",
       "         2.08181737e-01+4.17512833e-18j,  3.65654205e-01-1.23309469e-17j,\n",
       "         5.24946666e-01+6.68268862e-18j,  6.43495602e-01+1.46286090e-18j],\n",
       "       [ 8.23039019e-01-1.21669319e-19j,  7.69990844e-01-5.07400449e-18j,\n",
       "         6.26557577e-01+1.50940259e-17j,  4.34070737e-01-4.94295899e-18j,\n",
       "         2.44282923e-01-2.58481008e-18j,  1.00551571e-01-4.54116600e-18j,\n",
       "         2.25512278e-02-6.34232367e-19j,  2.98085016e-04-3.50234787e-17j,\n",
       "        -2.98085016e-04+2.29344857e-17j, -2.25512278e-02-3.16196129e-17j,\n",
       "        -1.00551571e-01+4.63573026e-18j, -2.44282923e-01-4.61458747e-18j,\n",
       "        -4.34070737e-01+1.58635096e-17j, -6.26557577e-01-5.48657125e-18j,\n",
       "        -7.69990844e-01+1.47277323e-18j, -8.23039019e-01-1.21669319e-19j,\n",
       "        -7.69990844e-01-8.10154493e-18j, -6.26557577e-01-1.18274578e-17j,\n",
       "        -4.34070737e-01-2.81583936e-18j, -2.44282923e-01-3.23232779e-18j,\n",
       "        -1.00551571e-01-4.21197741e-19j, -2.25512278e-02+2.21864604e-17j,\n",
       "        -2.98085016e-04+1.52801905e-17j,  2.98085016e-04-8.08071462e-18j,\n",
       "         2.25512278e-02+1.42524887e-17j,  1.00551571e-01+2.19016499e-17j,\n",
       "         2.44282923e-01-8.76869523e-18j,  4.34070737e-01-8.46353772e-18j,\n",
       "         6.26557577e-01+8.12549765e-19j,  7.69990844e-01+4.20953379e-18j],\n",
       "       [ 9.16999657e-01-5.90638678e-19j,  8.58447354e-01-7.25328221e-18j,\n",
       "         7.00060372e-01+2.64109426e-17j,  4.87274640e-01-2.67006526e-17j,\n",
       "         2.76995420e-01+1.85315251e-17j,  1.16926582e-01-3.32546813e-17j,\n",
       "         2.87748119e-02+2.85479951e-17j,  1.68185534e-03-4.53187442e-17j,\n",
       "        -1.68185534e-03+4.76267332e-17j, -2.87748119e-02-1.40675399e-17j,\n",
       "        -1.16926582e-01+5.06233486e-17j, -2.76995420e-01-3.64457324e-17j,\n",
       "        -4.87274640e-01+3.69179463e-17j, -7.00060372e-01-3.24609677e-17j,\n",
       "        -8.58447354e-01+5.15130670e-18j, -9.16999657e-01-5.90638678e-19j,\n",
       "        -8.58447354e-01-1.67286977e-17j, -7.00060372e-01+1.20685283e-17j,\n",
       "        -4.87274640e-01-1.38147523e-17j, -2.76995420e-01+3.04264517e-17j,\n",
       "        -1.16926582e-01-3.21975841e-17j, -2.87748119e-02+7.03710135e-17j,\n",
       "        -1.68185534e-03-6.32977384e-17j,  1.68185534e-03+6.32815300e-17j,\n",
       "         2.87748119e-02-7.00542377e-17j,  1.16926582e-01+3.32490087e-17j,\n",
       "         2.76995420e-01-3.37753760e-17j,  4.87274640e-01+3.47062366e-17j,\n",
       "         7.00060372e-01-2.19115504e-17j,  8.58447354e-01+6.67486018e-18j],\n",
       "       [ 9.81574228e-01-1.44206417e-18j,  9.18364323e-01-2.23042392e-17j,\n",
       "         7.47448142e-01+4.57926034e-17j,  5.18055698e-01-5.38911700e-17j,\n",
       "         2.91830927e-01+1.01081260e-16j,  1.20421092e-01-8.54881483e-17j,\n",
       "         2.72685841e-02+1.43184221e-16j,  4.93655034e-04-1.20655836e-16j,\n",
       "        -4.93655034e-04+1.02713562e-16j, -2.72685841e-02-1.02289063e-16j,\n",
       "        -1.20421092e-01+1.27343848e-16j, -2.91830927e-01-1.02004398e-16j,\n",
       "        -5.18055698e-01+7.06040441e-17j, -7.47448142e-01-3.25338855e-17j,\n",
       "        -9.18364323e-01+4.00315854e-17j, -9.81574228e-01-1.44206417e-18j,\n",
       "        -9.18364323e-01-2.14364795e-17j, -7.47448142e-01+3.91398246e-17j,\n",
       "        -5.18055698e-01-7.75657113e-17j, -2.91830927e-01+6.19268728e-17j,\n",
       "        -1.20421092e-01-9.95556715e-17j, -2.72685841e-02+1.00292017e-16j,\n",
       "        -4.93655034e-04-1.04584438e-16j,  4.93655034e-04+1.26891433e-16j,\n",
       "         2.72685841e-02-1.28793642e-16j,  1.20421092e-01+1.30840400e-16j,\n",
       "         2.91830927e-01-1.15108168e-16j,  5.18055698e-01+6.32187566e-17j,\n",
       "         7.47448142e-01-5.68558899e-17j,  9.18364323e-01+2.42639695e-17j],\n",
       "       [ 9.97985840e-01-1.92576548e-18j,  9.34235459e-01-2.70804435e-17j,\n",
       "         7.61790932e-01+7.18550088e-17j,  5.30130907e-01-9.05021547e-17j,\n",
       "         3.01223196e-01+1.04130186e-16j,  1.27014160e-01-1.42628908e-16j,\n",
       "         3.11379870e-02+1.68418738e-16j,  1.76450857e-03-1.95949023e-16j,\n",
       "        -1.76450857e-03+1.86371921e-16j, -3.11379870e-02-1.55767253e-16j,\n",
       "        -1.27014160e-01+1.42684424e-16j, -3.01223196e-01-1.12452176e-16j,\n",
       "        -5.30130907e-01+1.03635086e-16j, -7.61790932e-01-9.08080288e-17j,\n",
       "        -9.34235459e-01+3.54039707e-17j, -9.97985840e-01-1.92576548e-18j,\n",
       "        -9.34235459e-01-4.36250014e-17j, -7.61790932e-01+4.72904961e-17j,\n",
       "        -5.30130907e-01-8.78471731e-17j, -3.01223196e-01+1.19018571e-16j,\n",
       "        -1.27014160e-01-1.67023456e-16j, -3.11379870e-02+1.48466237e-16j,\n",
       "        -1.76450857e-03-1.43127367e-16j,  1.76450857e-03+1.28795778e-16j,\n",
       "         3.11379870e-02-1.52856400e-16j,  1.27014160e-01+1.29213212e-16j,\n",
       "         3.01223196e-01-1.30374691e-16j,  5.30130907e-01+8.14799922e-17j,\n",
       "         7.61790932e-01-8.86171585e-17j,  9.34235459e-01+2.91207306e-17j],\n",
       "       [ 9.81574228e-01-1.44206417e-18j,  9.18364323e-01-1.95935382e-17j,\n",
       "         7.47448142e-01+6.08926123e-17j,  5.18055698e-01-6.84344212e-17j,\n",
       "         2.91830927e-01+8.96108618e-17j,  1.20421092e-01-9.78209480e-17j,\n",
       "         2.72685841e-02+1.28383267e-16j,  4.93655034e-04-1.33056889e-16j,\n",
       "        -4.93655034e-04+1.45414365e-16j, -2.72685841e-02-1.17984974e-16j,\n",
       "        -1.20421092e-01+1.14983944e-16j, -2.91830927e-01-1.14654859e-16j,\n",
       "        -5.18055698e-01+8.31776770e-17j, -7.47448142e-01-4.62112152e-17j,\n",
       "        -9.18364323e-01+2.81172568e-17j, -9.81574228e-01-1.44206417e-18j,\n",
       "        -9.18364323e-01-2.43941230e-17j, -7.47448142e-01+5.31814658e-17j,\n",
       "        -5.18055698e-01-6.23482482e-17j, -2.91830927e-01+7.41760444e-17j,\n",
       "        -1.20421092e-01-8.71957667e-17j, -2.72685841e-02+1.01164243e-16j,\n",
       "        -4.93655034e-04-9.16613240e-17j,  4.93655034e-04+8.51877326e-17j,\n",
       "         2.72685841e-02-1.28121806e-16j,  1.20421092e-01+8.76620489e-17j,\n",
       "         2.91830927e-01-1.02583857e-16j,  5.18055698e-01+7.82034688e-17j,\n",
       "         7.47448142e-01-4.12061861e-17j,  9.18364323e-01+2.22845961e-17j],\n",
       "       [ 9.16999657e-01-5.90638678e-19j,  8.58447354e-01-4.41774969e-18j,\n",
       "         7.00060372e-01+2.11695147e-17j,  4.87274640e-01-1.94922126e-17j,\n",
       "         2.76995420e-01+2.01073794e-17j,  1.16926582e-01-4.61024770e-17j,\n",
       "         2.87748119e-02+6.87982327e-17j,  1.68185534e-03-6.45433553e-17j,\n",
       "        -1.68185534e-03+6.83665973e-17j, -2.87748119e-02-4.38511193e-17j,\n",
       "        -1.16926582e-01+3.78026579e-17j, -2.76995420e-01-3.51828806e-17j,\n",
       "        -4.87274640e-01+1.85480536e-17j, -7.00060372e-01-4.05516258e-17j,\n",
       "        -8.58447354e-01+2.11177878e-17j, -9.16999657e-01-5.90638678e-19j,\n",
       "        -8.58447354e-01-4.71873953e-18j, -7.00060372e-01+1.64115959e-17j,\n",
       "        -4.87274640e-01-2.28833209e-17j, -2.76995420e-01+4.29170667e-17j,\n",
       "        -1.16926582e-01-1.93497884e-17j, -2.87748119e-02+2.97793150e-17j,\n",
       "        -1.68185534e-03-4.09345140e-17j,  1.68185534e-03+3.09094637e-17j,\n",
       "         2.87748119e-02-5.44152518e-17j,  1.16926582e-01+4.60968045e-17j,\n",
       "         2.76995420e-01-2.12294630e-17j,  4.87274640e-01+2.70050415e-17j,\n",
       "         7.00060372e-01-1.41868328e-17j,  8.58447354e-01+1.85726186e-17j],\n",
       "       [ 8.23039019e-01-1.21669319e-19j,  7.69990844e-01+8.72526535e-18j,\n",
       "         6.26557577e-01-1.14264282e-17j,  4.34070737e-01-1.69446611e-17j,\n",
       "         2.44282923e-01+2.00975668e-18j,  1.00551571e-01-3.24864770e-17j,\n",
       "         2.25512278e-02+2.32094316e-17j,  2.98085016e-04-8.87313617e-18j,\n",
       "        -2.98085016e-04-6.01536398e-18j, -2.25512278e-02-6.39771244e-18j,\n",
       "        -1.00551571e-01+3.22015705e-17j, -2.44282923e-01-3.66410211e-18j,\n",
       "        -4.34070737e-01+1.97352515e-17j, -6.26557577e-01-1.54545097e-17j,\n",
       "        -7.69990844e-01+6.73261980e-18j, -8.23039019e-01-1.21669319e-19j,\n",
       "        -7.69990844e-01+8.92361413e-19j, -6.26557577e-01-2.00646624e-18j,\n",
       "        -4.34070737e-01-1.82930500e-17j, -2.44282923e-01+2.13326818e-17j,\n",
       "        -1.00551571e-01-2.79870380e-17j, -2.25512278e-02-4.63634247e-18j,\n",
       "        -2.98085016e-04-1.05760194e-17j,  2.98085016e-04+3.67554551e-17j,\n",
       "         2.25512278e-02-8.61320650e-18j,  1.00551571e-01-5.66419038e-18j,\n",
       "         2.44282923e-01-1.56795227e-17j,  4.34070737e-01+1.61913487e-17j,\n",
       "         6.26557577e-01-1.46361480e-18j,  7.69990844e-01+5.56259971e-18j],\n",
       "       [ 6.87317497e-01-1.05404622e-20j,  6.43495602e-01-2.97349667e-18j,\n",
       "         5.24946666e-01+5.82785117e-18j,  3.65654205e-01-3.35551594e-18j,\n",
       "         2.08181737e-01+1.48594068e-17j,  8.82139237e-02-1.41478096e-17j,\n",
       "         2.19954562e-02-7.86721842e-18j,  1.41887710e-03+5.93748099e-18j,\n",
       "        -1.41887710e-03-1.53279976e-17j, -2.19954562e-02-2.26648737e-18j,\n",
       "        -8.82139237e-02-1.10179553e-18j, -2.08181737e-01+2.77482840e-18j,\n",
       "        -3.65654205e-01-3.17078527e-18j, -5.24946666e-01-5.98004507e-19j,\n",
       "        -6.43495602e-01+1.19256107e-19j, -6.87317497e-01-1.05404622e-20j,\n",
       "        -6.43495602e-01-9.67211686e-19j, -5.24946666e-01-1.29854512e-18j,\n",
       "        -3.65654205e-01+5.17952681e-19j, -2.08181737e-01-8.62884278e-18j,\n",
       "        -8.82139237e-02-1.32397903e-17j, -2.19954562e-02+9.34576977e-18j,\n",
       "        -1.41887710e-03-8.63283069e-18j,  1.41887710e-03+2.00951947e-17j,\n",
       "         2.19954562e-02-3.20702185e-19j,  8.82139237e-02-1.80223681e-19j,\n",
       "         2.08181737e-01-3.82821800e-18j,  3.65654205e-01+6.93812834e-18j,\n",
       "         5.24946666e-01-8.46111890e-18j,  6.43495602e-01-4.37408869e-18j],\n",
       "       [ 5.31420324e-01-2.63407140e-22j,  4.97115064e-01+4.74942353e-18j,\n",
       "         4.04366336e-01-8.20070998e-18j,  2.79920152e-01-5.94772604e-18j,\n",
       "         1.57264820e-01-5.61289854e-18j,  6.44534168e-02+7.12557477e-19j,\n",
       "         1.42099902e-02-1.14993499e-17j,  6.26746280e-05+4.81254034e-18j,\n",
       "        -6.26746280e-05-2.30830073e-18j, -1.42099902e-02-1.05161727e-17j,\n",
       "        -6.44534168e-02+3.16372870e-18j, -1.57264820e-01-1.22645096e-17j,\n",
       "        -2.79920152e-01+2.25966474e-18j, -4.04366336e-01-4.41068719e-18j,\n",
       "        -4.97115064e-01-2.82541107e-18j, -5.31420324e-01-2.63407140e-22j,\n",
       "        -4.97115064e-01-2.60153564e-18j, -4.04366336e-01+3.85592049e-18j,\n",
       "        -2.79920152e-01-2.93888102e-18j, -1.57264820e-01+5.81902542e-19j,\n",
       "        -6.44534168e-02-1.21623433e-17j, -1.42099902e-02+1.06373694e-17j,\n",
       "        -6.26746280e-05-6.38386417e-18j,  6.26746280e-05+1.29850042e-18j,\n",
       "         1.42099902e-02+1.29854620e-17j,  6.44534168e-02-1.37769302e-17j,\n",
       "         1.57264820e-01-8.67942722e-18j,  2.79920152e-01+4.32672872e-18j,\n",
       "         4.04366336e-01+1.60420422e-18j,  4.97115064e-01+3.39235080e-18j],\n",
       "       [ 3.48707059e-01-7.53532027e-25j,  3.26328520e-01-2.06415518e-18j,\n",
       "         2.65808181e-01-2.02871132e-18j,  1.84549523e-01+5.12614640e-18j,\n",
       "         1.04346391e-01-1.91661625e-18j,  4.34624997e-02-2.64279795e-18j,\n",
       "         1.01959939e-02+4.98664555e-18j,  3.63552457e-04-1.08722427e-17j,\n",
       "        -3.63552457e-04+6.49323399e-18j, -1.01959939e-02-4.27256190e-18j,\n",
       "        -4.34624997e-02+3.33397759e-18j, -1.04346391e-01-5.46543641e-18j,\n",
       "        -1.84549523e-01+5.81503222e-19j, -2.65808181e-01+1.30229358e-18j,\n",
       "        -3.26328520e-01+3.59292152e-21j, -3.48707059e-01-7.53532109e-25j,\n",
       "        -3.26328520e-01-8.50856204e-21j, -2.65808181e-01-2.92220185e-18j,\n",
       "        -1.84549523e-01-5.58343075e-18j, -1.04346391e-01+1.24291288e-18j,\n",
       "        -4.34624997e-02+3.91662520e-18j, -1.01959939e-02-5.33740848e-18j,\n",
       "        -3.63552457e-04+1.00237700e-17j,  3.63552457e-04-5.07096089e-18j,\n",
       "         1.01959939e-02+3.67221731e-18j,  4.34624997e-02-5.24477210e-18j,\n",
       "         1.04346391e-01+4.42882947e-18j,  1.84549523e-01-3.06700702e-20j,\n",
       "         2.65808181e-01+3.37952610e-18j,  3.26328520e-01-9.32477845e-19j],\n",
       "       [ 1.29472536e-01-1.00604586e-29j,  1.24343711e-01+3.30511991e-19j,\n",
       "         1.10059734e-01-7.62532574e-19j,  8.95444244e-02-1.73702970e-18j,\n",
       "         6.65367880e-02+2.84435155e-18j,  4.43419089e-02-1.94817578e-18j,\n",
       "         2.48081562e-02-2.76345744e-18j,  7.91090218e-03-2.43597747e-18j,\n",
       "        -7.91090218e-03-2.37269617e-18j, -2.48081562e-02-1.72424676e-18j,\n",
       "        -4.43419089e-02-8.80914259e-20j, -6.65367880e-02-2.45563034e-18j,\n",
       "        -8.95444244e-02+1.74158855e-18j, -1.10059734e-01-1.38193807e-18j,\n",
       "        -1.24343711e-01-5.73930748e-19j, -1.29472536e-01-9.00592602e-30j,\n",
       "        -1.24343711e-01+3.69313122e-19j, -1.10059734e-01-3.21193011e-19j,\n",
       "        -8.95444244e-02+1.32453426e-18j, -6.65367880e-02-3.46371263e-18j,\n",
       "        -4.43419089e-02+9.38512505e-19j, -2.48081562e-02+2.75661148e-18j,\n",
       "        -7.91090218e-03+2.19902508e-18j,  7.91090218e-03+2.22627305e-18j,\n",
       "         2.48081562e-02+1.90245784e-18j,  4.43419089e-02+1.60936260e-18j,\n",
       "         6.65367880e-02+2.97043815e-18j,  8.95444244e-02-7.96549184e-19j,\n",
       "         1.10059734e-01+9.61151305e-20j,  1.24343711e-01-5.91995653e-19j]])"
      ]
     },
     "execution_count": 21,
     "metadata": {},
     "output_type": "execute_result"
    }
   ],
   "source": [
    "func4"
   ]
  },
  {
   "cell_type": "code",
   "execution_count": null,
   "metadata": {},
   "outputs": [],
   "source": []
  },
  {
   "cell_type": "code",
   "execution_count": 20,
   "metadata": {},
   "outputs": [
    {
     "data": {
      "text/plain": [
       "{}"
      ]
     },
     "execution_count": 20,
     "metadata": {},
     "output_type": "execute_result"
    }
   ],
   "source": [
    "_Yslm_mp_cache"
   ]
  },
  {
   "cell_type": "code",
   "execution_count": 20,
   "metadata": {},
   "outputs": [],
   "source": [
    "wfmodes_slow = SHExpand(func, gl_info, minfo_slow, error_info=True)"
   ]
  },
  {
   "cell_type": "code",
   "execution_count": 31,
   "metadata": {},
   "outputs": [
    {
     "name": "stdout",
     "output_type": "stream",
     "text": [
      "Using SpherePack routine...\n",
      "Warning: spherepack only works with real functions!\n",
      "Total num modes 120.0\n",
      "N fully un occupied levels 14\n",
      "N unocc sublevel 14\n",
      "N unocc modes 119.0\n",
      "Total num modes 120.0\n"
     ]
    },
    {
     "name": "stdout",
     "output_type": "stream",
     "text": [
      "N fully un occupied levels 14\n",
      "N unocc sublevel 13\n",
      "N unocc modes 118.0\n",
      "Total num modes 120.0\n",
      "N fully un occupied levels 13\n",
      "N unocc sublevel 13\n",
      "N unocc modes 104.0\n",
      "Total num modes 120.0\n",
      "N fully un occupied levels 14\n",
      "N unocc sublevel 12\n",
      "N unocc modes 117.0\n",
      "Total num modes 120.0\n",
      "N fully un occupied levels 13\n",
      "N unocc sublevel 12\n",
      "N unocc modes 103.0\n",
      "Total num modes 120.0\n",
      "N fully un occupied levels 12\n",
      "N unocc sublevel 12\n",
      "N unocc modes 90.0\n",
      "Total num modes 120.0\n",
      "N fully un occupied levels 14\n",
      "N unocc sublevel 11\n",
      "N unocc modes 116.0\n",
      "Total num modes 120.0\n",
      "N fully un occupied levels 13\n",
      "N unocc sublevel 11\n",
      "N unocc modes 102.0\n",
      "Total num modes 120.0\n",
      "N fully un occupied levels 12\n",
      "N unocc sublevel 11\n",
      "N unocc modes 89.0\n",
      "Total num modes 120.0\n",
      "N fully un occupied levels 11\n",
      "N unocc sublevel 11\n",
      "N unocc modes 77.0\n",
      "Total num modes 120.0\n",
      "N fully un occupied levels 14\n",
      "N unocc sublevel 10\n",
      "N unocc modes 115.0\n",
      "Total num modes 120.0\n",
      "N fully un occupied levels 13\n",
      "N unocc sublevel 10\n",
      "N unocc modes 101.0\n",
      "Total num modes 120.0\n",
      "N fully un occupied levels 12\n",
      "N unocc sublevel 10\n",
      "N unocc modes 88.0\n",
      "Total num modes 120.0\n",
      "N fully un occupied levels 11\n",
      "N unocc sublevel 10\n",
      "N unocc modes 76.0\n",
      "Total num modes 120.0\n",
      "N fully un occupied levels 10\n",
      "N unocc sublevel 10\n",
      "N unocc modes 65.0\n",
      "Total num modes 120.0\n",
      "N fully un occupied levels 14\n",
      "N unocc sublevel 9\n",
      "N unocc modes 114.0\n",
      "Total num modes 120.0\n",
      "N fully un occupied levels 13\n",
      "N unocc sublevel 9\n",
      "N unocc modes 100.0\n",
      "Total num modes 120.0\n",
      "N fully un occupied levels 12\n",
      "N unocc sublevel 9\n",
      "N unocc modes 87.0\n",
      "Total num modes 120.0\n",
      "N fully un occupied levels 11\n",
      "N unocc sublevel 9\n",
      "N unocc modes 75.0\n",
      "Total num modes 120.0\n",
      "N fully un occupied levels 10\n",
      "N unocc sublevel 9\n",
      "N unocc modes 64.0\n",
      "Total num modes 120.0\n",
      "N fully un occupied levels 9\n",
      "N unocc sublevel 9\n",
      "N unocc modes 54.0\n",
      "Total num modes 120.0\n",
      "N fully un occupied levels 14\n",
      "N unocc sublevel 8\n",
      "N unocc modes 113.0\n",
      "Total num modes 120.0\n",
      "N fully un occupied levels 13\n",
      "N unocc sublevel 8\n",
      "N unocc modes 99.0\n",
      "Total num modes 120.0\n",
      "N fully un occupied levels 12\n",
      "N unocc sublevel 8\n",
      "N unocc modes 86.0\n",
      "Total num modes 120.0\n",
      "N fully un occupied levels 11\n",
      "N unocc sublevel 8\n",
      "N unocc modes 74.0\n",
      "Total num modes 120.0\n",
      "N fully un occupied levels 10\n",
      "N unocc sublevel 8\n",
      "N unocc modes 63.0\n",
      "Total num modes 120.0\n",
      "N fully un occupied levels 9\n",
      "N unocc sublevel 8\n",
      "N unocc modes 53.0\n",
      "Total num modes 120.0\n",
      "N fully un occupied levels 8\n",
      "N unocc sublevel 8\n",
      "N unocc modes 44.0\n",
      "Total num modes 120.0\n",
      "N fully un occupied levels 14\n",
      "N unocc sublevel 7\n",
      "N unocc modes 112.0\n",
      "Total num modes 120.0\n",
      "N fully un occupied levels 13\n",
      "N unocc sublevel 7\n",
      "N unocc modes 98.0\n",
      "Total num modes 120.0\n",
      "N fully un occupied levels 12\n",
      "N unocc sublevel 7\n",
      "N unocc modes 85.0\n",
      "Total num modes 120.0\n",
      "N fully un occupied levels 11\n",
      "N unocc sublevel 7\n",
      "N unocc modes 73.0\n",
      "Total num modes 120.0\n",
      "N fully un occupied levels 10\n",
      "N unocc sublevel 7\n",
      "N unocc modes 62.0\n",
      "Total num modes 120.0\n",
      "N fully un occupied levels 9\n",
      "N unocc sublevel 7\n",
      "N unocc modes 52.0\n",
      "Total num modes 120.0\n",
      "N fully un occupied levels 8\n",
      "N unocc sublevel 7\n",
      "N unocc modes 43.0\n",
      "Total num modes 120.0\n",
      "N fully un occupied levels 7\n",
      "N unocc sublevel 7\n",
      "N unocc modes 35.0\n",
      "Total num modes 120.0\n",
      "N fully un occupied levels 14\n",
      "N unocc sublevel 6\n",
      "N unocc modes 111.0\n",
      "Total num modes 120.0\n",
      "N fully un occupied levels 13\n",
      "N unocc sublevel 6\n",
      "N unocc modes 97.0\n",
      "Total num modes 120.0\n",
      "N fully un occupied levels 12\n",
      "N unocc sublevel 6\n",
      "N unocc modes 84.0\n",
      "Total num modes 120.0\n",
      "N fully un occupied levels 11\n",
      "N unocc sublevel 6\n",
      "N unocc modes 72.0\n",
      "Total num modes 120.0\n",
      "N fully un occupied levels 10\n",
      "N unocc sublevel 6\n",
      "N unocc modes 61.0\n",
      "Total num modes 120.0\n",
      "N fully un occupied levels 9\n",
      "N unocc sublevel 6\n",
      "N unocc modes 51.0\n",
      "Total num modes 120.0\n",
      "N fully un occupied levels 8\n",
      "N unocc sublevel 6\n",
      "N unocc modes 42.0\n",
      "Total num modes 120.0\n",
      "N fully un occupied levels 7\n",
      "N unocc sublevel 6\n",
      "N unocc modes 34.0\n",
      "Total num modes 120.0\n",
      "N fully un occupied levels 6\n",
      "N unocc sublevel 6\n",
      "N unocc modes 27.0\n",
      "Total num modes 120.0\n",
      "N fully un occupied levels 14\n",
      "N unocc sublevel 5\n",
      "N unocc modes 110.0\n",
      "Total num modes 120.0\n",
      "N fully un occupied levels 13\n",
      "N unocc sublevel 5\n",
      "N unocc modes 96.0\n",
      "Total num modes 120.0\n",
      "N fully un occupied levels 12\n",
      "N unocc sublevel 5\n",
      "N unocc modes 83.0\n",
      "Total num modes 120.0\n",
      "N fully un occupied levels 11\n",
      "N unocc sublevel 5\n",
      "N unocc modes 71.0\n",
      "Total num modes 120.0\n",
      "N fully un occupied levels 10\n",
      "N unocc sublevel 5\n",
      "N unocc modes 60.0\n",
      "Total num modes 120.0\n",
      "N fully un occupied levels 9\n",
      "N unocc sublevel 5\n",
      "N unocc modes 50.0\n",
      "Total num modes 120.0\n",
      "N fully un occupied levels 8\n",
      "N unocc sublevel 5\n",
      "N unocc modes 41.0\n",
      "Total num modes 120.0\n",
      "N fully un occupied levels 7\n",
      "N unocc sublevel 5\n",
      "N unocc modes 33.0\n",
      "Total num modes 120.0\n",
      "N fully un occupied levels 6\n",
      "N unocc sublevel 5\n",
      "N unocc modes 26.0\n",
      "Total num modes 120.0\n",
      "N fully un occupied levels 5\n",
      "N unocc sublevel 5\n",
      "N unocc modes 20.0\n",
      "Total num modes 120.0\n",
      "N fully un occupied levels 14\n",
      "N unocc sublevel 4\n",
      "N unocc modes 109.0\n",
      "Total num modes 120.0\n",
      "N fully un occupied levels 13\n",
      "N unocc sublevel 4\n",
      "N unocc modes 95.0\n",
      "Total num modes 120.0\n",
      "N fully un occupied levels 12\n",
      "N unocc sublevel 4\n",
      "N unocc modes 82.0\n",
      "Total num modes 120.0\n",
      "N fully un occupied levels 11\n",
      "N unocc sublevel 4\n",
      "N unocc modes 70.0\n",
      "Total num modes 120.0\n",
      "N fully un occupied levels 10\n",
      "N unocc sublevel 4\n",
      "N unocc modes 59.0\n",
      "Total num modes 120.0\n",
      "N fully un occupied levels 9\n",
      "N unocc sublevel 4\n",
      "N unocc modes 49.0\n",
      "Total num modes 120.0\n",
      "N fully un occupied levels 8\n",
      "N unocc sublevel 4\n",
      "N unocc modes 40.0\n",
      "Total num modes 120.0\n",
      "N fully un occupied levels 7\n",
      "N unocc sublevel 4\n",
      "N unocc modes 32.0\n",
      "Total num modes 120.0\n",
      "N fully un occupied levels 6\n",
      "N unocc sublevel 4\n",
      "N unocc modes 25.0\n",
      "Total num modes 120.0\n",
      "N fully un occupied levels 5\n",
      "N unocc sublevel 4\n",
      "N unocc modes 19.0\n",
      "Total num modes 120.0\n",
      "N fully un occupied levels 4\n",
      "N unocc sublevel 4\n",
      "N unocc modes 14.0\n",
      "Total num modes 120.0\n",
      "N fully un occupied levels 14\n",
      "N unocc sublevel 3\n",
      "N unocc modes 108.0\n",
      "Total num modes 120.0\n",
      "N fully un occupied levels 13\n",
      "N unocc sublevel 3\n",
      "N unocc modes 94.0\n",
      "Total num modes 120.0\n",
      "N fully un occupied levels 12\n",
      "N unocc sublevel 3\n",
      "N unocc modes 81.0\n",
      "Total num modes 120.0\n",
      "N fully un occupied levels 11\n",
      "N unocc sublevel 3\n",
      "N unocc modes 69.0\n",
      "Total num modes 120.0\n",
      "N fully un occupied levels 10\n",
      "N unocc sublevel 3\n",
      "N unocc modes 58.0\n",
      "Total num modes 120.0\n",
      "N fully un occupied levels 9\n",
      "N unocc sublevel 3\n",
      "N unocc modes 48.0\n",
      "Total num modes 120.0\n",
      "N fully un occupied levels 8\n",
      "N unocc sublevel 3\n",
      "N unocc modes 39.0\n",
      "Total num modes 120.0\n",
      "N fully un occupied levels 7\n",
      "N unocc sublevel 3\n",
      "N unocc modes 31.0\n",
      "Total num modes 120.0\n",
      "N fully un occupied levels 6\n",
      "N unocc sublevel 3\n",
      "N unocc modes 24.0\n",
      "Total num modes 120.0\n",
      "N fully un occupied levels 5\n",
      "N unocc sublevel 3\n",
      "N unocc modes 18.0\n",
      "Total num modes 120.0\n",
      "N fully un occupied levels 4\n",
      "N unocc sublevel 3\n",
      "N unocc modes 13.0\n",
      "Total num modes 120.0\n",
      "N fully un occupied levels 3\n",
      "N unocc sublevel 3\n",
      "N unocc modes 9.0\n",
      "Total num modes 120.0\n",
      "N fully un occupied levels 14\n",
      "N unocc sublevel 2\n",
      "N unocc modes 107.0\n",
      "Total num modes 120.0\n",
      "N fully un occupied levels 13\n",
      "N unocc sublevel 2\n",
      "N unocc modes 93.0\n",
      "Total num modes 120.0\n",
      "N fully un occupied levels 12\n",
      "N unocc sublevel 2\n",
      "N unocc modes 80.0\n",
      "Total num modes 120.0\n",
      "N fully un occupied levels 11\n",
      "N unocc sublevel 2\n",
      "N unocc modes 68.0\n",
      "Total num modes 120.0\n",
      "N fully un occupied levels 10\n",
      "N unocc sublevel 2\n",
      "N unocc modes 57.0\n",
      "Total num modes 120.0\n",
      "N fully un occupied levels 9\n",
      "N unocc sublevel 2\n",
      "N unocc modes 47.0\n",
      "Total num modes 120.0\n",
      "N fully un occupied levels 8\n",
      "N unocc sublevel 2\n",
      "N unocc modes 38.0\n",
      "Total num modes 120.0\n",
      "N fully un occupied levels 7\n",
      "N unocc sublevel 2\n",
      "N unocc modes 30.0\n",
      "Total num modes 120.0\n",
      "N fully un occupied levels 6\n",
      "N unocc sublevel 2\n",
      "N unocc modes 23.0\n",
      "Total num modes 120.0\n",
      "N fully un occupied levels 5\n",
      "N unocc sublevel 2\n",
      "N unocc modes 17.0\n",
      "Total num modes 120.0\n",
      "N fully un occupied levels 4\n",
      "N unocc sublevel 2\n",
      "N unocc modes 12.0\n",
      "Total num modes 120.0\n",
      "N fully un occupied levels 3\n",
      "N unocc sublevel 2\n",
      "N unocc modes 8.0\n",
      "Total num modes 120.0\n",
      "N fully un occupied levels 2\n",
      "N unocc sublevel 2\n",
      "N unocc modes 5.0\n",
      "Total num modes 120.0\n",
      "N fully un occupied levels 14\n",
      "N unocc sublevel 1\n",
      "N unocc modes 106.0\n",
      "Total num modes 120.0\n",
      "N fully un occupied levels 13\n",
      "N unocc sublevel 1\n",
      "N unocc modes 92.0\n",
      "Total num modes 120.0\n",
      "N fully un occupied levels 12\n",
      "N unocc sublevel 1\n",
      "N unocc modes 79.0\n",
      "Total num modes 120.0\n",
      "N fully un occupied levels 11\n",
      "N unocc sublevel 1\n",
      "N unocc modes 67.0\n",
      "Total num modes 120.0\n",
      "N fully un occupied levels 10\n",
      "N unocc sublevel 1\n",
      "N unocc modes 56.0\n",
      "Total num modes 120.0\n",
      "N fully un occupied levels 9\n",
      "N unocc sublevel 1\n",
      "N unocc modes 46.0\n",
      "Total num modes 120.0\n",
      "N fully un occupied levels 8\n",
      "N unocc sublevel 1\n",
      "N unocc modes 37.0\n",
      "Total num modes 120.0\n",
      "N fully un occupied levels 7\n",
      "N unocc sublevel 1\n",
      "N unocc modes 29.0\n",
      "Total num modes 120.0\n",
      "N fully un occupied levels 6\n",
      "N unocc sublevel 1\n",
      "N unocc modes 22.0\n",
      "Total num modes 120.0\n",
      "N fully un occupied levels 5\n",
      "N unocc sublevel 1\n",
      "N unocc modes 16.0\n",
      "Total num modes 120.0\n",
      "N fully un occupied levels 4\n",
      "N unocc sublevel 1\n",
      "N unocc modes 11.0\n",
      "Total num modes 120.0\n",
      "N fully un occupied levels 3\n",
      "N unocc sublevel 1\n",
      "N unocc modes 7.0\n",
      "Total num modes 120.0\n",
      "N fully un occupied levels 2\n",
      "N unocc sublevel 1\n",
      "N unocc modes 4.0\n",
      "Total num modes 120.0\n",
      "N fully un occupied levels 1\n",
      "N unocc sublevel 1\n",
      "N unocc modes 2.0\n",
      "Total num modes 120.0\n",
      "N fully un occupied levels 14\n",
      "N unocc sublevel 0\n",
      "N unocc modes 105.0\n",
      "Total num modes 120.0\n",
      "N fully un occupied levels 13\n",
      "N unocc sublevel 0\n",
      "N unocc modes 91.0\n",
      "Total num modes 120.0\n",
      "N fully un occupied levels 12\n",
      "N unocc sublevel 0\n",
      "N unocc modes 78.0\n",
      "Total num modes 120.0\n",
      "N fully un occupied levels 11\n",
      "N unocc sublevel 0\n",
      "N unocc modes 66.0\n",
      "Total num modes 120.0\n",
      "N fully un occupied levels 10\n",
      "N unocc sublevel 0\n",
      "N unocc modes 55.0\n",
      "Total num modes 120.0\n",
      "N fully un occupied levels 9\n",
      "N unocc sublevel 0\n",
      "N unocc modes 45.0\n",
      "Total num modes 120.0\n",
      "N fully un occupied levels 8\n",
      "N unocc sublevel 0\n",
      "N unocc modes 36.0\n",
      "Total num modes 120.0\n",
      "N fully un occupied levels 7\n",
      "N unocc sublevel 0\n",
      "N unocc modes 28.0\n",
      "Total num modes 120.0\n",
      "N fully un occupied levels 6\n",
      "N unocc sublevel 0\n",
      "N unocc modes 21.0\n",
      "Total num modes 120.0\n",
      "N fully un occupied levels 5\n",
      "N unocc sublevel 0\n",
      "N unocc modes 15.0\n",
      "Total num modes 120.0\n",
      "N fully un occupied levels 4\n",
      "N unocc sublevel 0\n",
      "N unocc modes 10.0\n",
      "Total num modes 120.0\n",
      "N fully un occupied levels 3\n",
      "N unocc sublevel 0\n",
      "N unocc modes 6.0\n",
      "Total num modes 120.0\n",
      "N fully un occupied levels 2\n",
      "N unocc sublevel 0\n",
      "N unocc modes 3.0\n",
      "Total num modes 120.0\n",
      "N fully un occupied levels 1\n",
      "N unocc sublevel 0\n",
      "N unocc modes 1.0\n",
      "Total num modes 120.0\n",
      "N fully un occupied levels 0\n",
      "N unocc sublevel 0\n",
      "N unocc modes 0.0\n",
      "10.09% Residue warning! \n"
     ]
    }
   ],
   "source": [
    "spmodes = SHExpand(func, gl_info, minfo_spack, err_info=True)"
   ]
  },
  {
   "cell_type": "code",
   "execution_count": 32,
   "metadata": {},
   "outputs": [
    {
     "name": "stdout",
     "output_type": "stream",
     "text": [
      "Created a modes array of mode axis shape (15, 30)\n",
      "10.09% Residue warning! \n"
     ]
    }
   ],
   "source": [
    "modes_spherical = SHExpand(func, gl_info, minfo_sp, err_info=True)"
   ]
  },
  {
   "cell_type": "code",
   "execution_count": 33,
   "metadata": {},
   "outputs": [
    {
     "data": {
      "text/plain": [
       "[0.014223766391502067,\n",
       " 0.014222089245485868,\n",
       " 0.00848139930333354,\n",
       " 0.008246403650727662,\n",
       " 0.008239553391466434,\n",
       " 0.005876526443869684,\n",
       " 0.005874486653905475,\n",
       " 0.004486960872548328,\n",
       " 0.004486315165402046,\n",
       " 0.003497811332640215,\n",
       " 0.0034975224563505132,\n",
       " 0.0027151547450398445,\n",
       " 0.002714998430622305,\n",
       " 0.00205045281731648,\n",
       " 0.002050361986178857,\n",
       " 0.001434766647618993]"
      ]
     },
     "execution_count": 33,
     "metadata": {},
     "output_type": "execute_result"
    }
   ],
   "source": [
    "wfmodes.residuals"
   ]
  },
  {
   "cell_type": "code",
   "execution_count": 34,
   "metadata": {},
   "outputs": [
    {
     "data": {
      "text/plain": [
       "[0.014223766391502067,\n",
       " 0.014222089245485868,\n",
       " 0.00848139930333354,\n",
       " 0.008246403650727662,\n",
       " 0.008239553391466432,\n",
       " 0.005876526443869684,\n",
       " 0.005874486653905475,\n",
       " 0.004486960872548328,\n",
       " 0.0044863151654020465,\n",
       " 0.003497811332640215,\n",
       " 0.0034975224563505137,\n",
       " 0.002715154745039844,\n",
       " 0.0027149984306223045,\n",
       " 0.00205045281731648,\n",
       " 0.002050361986178857,\n",
       " 0.0014347666476189926]"
      ]
     },
     "execution_count": 34,
     "metadata": {},
     "output_type": "execute_result"
    }
   ],
   "source": [
    "wfmodes_slow.residuals"
   ]
  },
  {
   "cell_type": "code",
   "execution_count": 35,
   "metadata": {},
   "outputs": [
    {
     "data": {
      "text/plain": [
       "[0.014223766391502067,\n",
       " 0.01422208924557774,\n",
       " 0.008481399299252871,\n",
       " 0.00824640368107513,\n",
       " 0.008239553426221803,\n",
       " 0.005876526264923262,\n",
       " 0.005874486475331732,\n",
       " 0.004486960722336023,\n",
       " 0.00448631501509108,\n",
       " 0.0034978112475619705,\n",
       " 0.0034975223709893494,\n",
       " 0.0027151547422448355,\n",
       " 0.0027149984274019924,\n",
       " 0.0020504528073488864,\n",
       " 0.0020503619759560158,\n",
       " 0.0014347665508654152]"
      ]
     },
     "execution_count": 35,
     "metadata": {},
     "output_type": "execute_result"
    }
   ],
   "source": [
    "spmodes.residuals"
   ]
  },
  {
   "cell_type": "code",
   "execution_count": 36,
   "metadata": {},
   "outputs": [
    {
     "data": {
      "text/plain": [
       "[0.014223766391502067,\n",
       " 0.014222089245485868,\n",
       " 0.00848139930333354,\n",
       " 0.008246403650727664,\n",
       " 0.008239553391466432,\n",
       " 0.005876526443869684,\n",
       " 0.005874486653905475,\n",
       " 0.004486960872548327,\n",
       " 0.004486315165402046,\n",
       " 0.0034978113326402114,\n",
       " 0.0034975224563505098,\n",
       " 0.002715154745039827,\n",
       " 0.0027149984306222875,\n",
       " 0.0020504528173164744,\n",
       " 0.0020503619861788522,\n",
       " 0.0014347666476189583]"
      ]
     },
     "execution_count": 36,
     "metadata": {},
     "output_type": "execute_result"
    }
   ],
   "source": [
    "modes_spherical.residuals"
   ]
  },
  {
   "cell_type": "code",
   "execution_count": 88,
   "metadata": {},
   "outputs": [
    {
     "ename": "AssertionError",
     "evalue": "\nArrays are not almost equal to 2 decimals\nMA\nMismatched elements: 1 / 225 (0.444%)\nMax absolute difference: 1.\nMax relative difference: 577.7101326\n x: array([-2.09e-21+0.00e+00j,  1.37e-19+1.87e-18j,  6.68e-18+0.00e+00j,\n       -1.37e-19+1.87e-18j,  1.80e-19+6.96e-19j, -3.15e-17+1.08e-17j,\n        2.77e-23+0.00e+00j,  3.15e-17+1.08e-17j,  1.80e-19-6.96e-19j,...\n y: array([-2.09e-21-0.00e+00j, -1.18e-20+3.71e-21j,  6.69e-18-0.00e+00j,\n       -1.18e-20-3.71e-21j, -4.94e-24-3.19e-21j,  3.22e-17-1.10e-17j,\n        3.38e-21-0.00e+00j,  3.22e-17+1.10e-17j, -4.94e-24+3.19e-21j,...",
     "output_type": "error",
     "traceback": [
      "\u001b[0;31m---------------------------------------------------------------------------\u001b[0m",
      "\u001b[0;31mAssertionError\u001b[0m                            Traceback (most recent call last)",
      "Cell \u001b[0;32mIn[88], line 1\u001b[0m\n\u001b[0;32m----> 1\u001b[0m \u001b[43mnp\u001b[49m\u001b[38;5;241;43m.\u001b[39;49m\u001b[43mtesting\u001b[49m\u001b[38;5;241;43m.\u001b[39;49m\u001b[43massert_array_almost_equal\u001b[49m\u001b[43m(\u001b[49m\u001b[43mwfmodes\u001b[49m\u001b[38;5;241;43m.\u001b[39;49m\u001b[43m_modes_data\u001b[49m\u001b[43m,\u001b[49m\u001b[43m \u001b[49m\u001b[43mwfmodes_slow\u001b[49m\u001b[38;5;241;43m.\u001b[39;49m\u001b[43m_modes_data\u001b[49m\u001b[43m,\u001b[49m\u001b[43m \u001b[49m\u001b[38;5;241;43m2\u001b[39;49m\u001b[43m,\u001b[49m\u001b[43m \u001b[49m\u001b[38;5;124;43m\"\u001b[39;49m\u001b[38;5;124;43mMA\u001b[39;49m\u001b[38;5;124;43m\"\u001b[39;49m\u001b[43m)\u001b[49m\n",
      "    \u001b[0;31m[... skipping hidden 1 frame]\u001b[0m\n",
      "File \u001b[0;32m/mnt/pfs/vaishak.p/soft/anaconda3_2023/envs/pyspharm/lib/python3.10/site-packages/numpy/testing/_private/utils.py:844\u001b[0m, in \u001b[0;36massert_array_compare\u001b[0;34m(comparison, x, y, err_msg, verbose, header, precision, equal_nan, equal_inf)\u001b[0m\n\u001b[1;32m    840\u001b[0m         err_msg \u001b[38;5;241m+\u001b[39m\u001b[38;5;241m=\u001b[39m \u001b[38;5;124m'\u001b[39m\u001b[38;5;130;01m\\n\u001b[39;00m\u001b[38;5;124m'\u001b[39m \u001b[38;5;241m+\u001b[39m \u001b[38;5;124m'\u001b[39m\u001b[38;5;130;01m\\n\u001b[39;00m\u001b[38;5;124m'\u001b[39m\u001b[38;5;241m.\u001b[39mjoin(remarks)\n\u001b[1;32m    841\u001b[0m         msg \u001b[38;5;241m=\u001b[39m build_err_msg([ox, oy], err_msg,\n\u001b[1;32m    842\u001b[0m                             verbose\u001b[38;5;241m=\u001b[39mverbose, header\u001b[38;5;241m=\u001b[39mheader,\n\u001b[1;32m    843\u001b[0m                             names\u001b[38;5;241m=\u001b[39m(\u001b[38;5;124m'\u001b[39m\u001b[38;5;124mx\u001b[39m\u001b[38;5;124m'\u001b[39m, \u001b[38;5;124m'\u001b[39m\u001b[38;5;124my\u001b[39m\u001b[38;5;124m'\u001b[39m), precision\u001b[38;5;241m=\u001b[39mprecision)\n\u001b[0;32m--> 844\u001b[0m         \u001b[38;5;28;01mraise\u001b[39;00m \u001b[38;5;167;01mAssertionError\u001b[39;00m(msg)\n\u001b[1;32m    845\u001b[0m \u001b[38;5;28;01mexcept\u001b[39;00m \u001b[38;5;167;01mValueError\u001b[39;00m:\n\u001b[1;32m    846\u001b[0m     \u001b[38;5;28;01mimport\u001b[39;00m \u001b[38;5;21;01mtraceback\u001b[39;00m\n",
      "\u001b[0;31mAssertionError\u001b[0m: \nArrays are not almost equal to 2 decimals\nMA\nMismatched elements: 1 / 225 (0.444%)\nMax absolute difference: 1.\nMax relative difference: 577.7101326\n x: array([-2.09e-21+0.00e+00j,  1.37e-19+1.87e-18j,  6.68e-18+0.00e+00j,\n       -1.37e-19+1.87e-18j,  1.80e-19+6.96e-19j, -3.15e-17+1.08e-17j,\n        2.77e-23+0.00e+00j,  3.15e-17+1.08e-17j,  1.80e-19-6.96e-19j,...\n y: array([-2.09e-21-0.00e+00j, -1.18e-20+3.71e-21j,  6.69e-18-0.00e+00j,\n       -1.18e-20-3.71e-21j, -4.94e-24-3.19e-21j,  3.22e-17-1.10e-17j,\n        3.38e-21-0.00e+00j,  3.22e-17+1.10e-17j, -4.94e-24+3.19e-21j,..."
     ]
    }
   ],
   "source": [
    "np.testing.assert_array_almost_equal(\n",
    "    wfmodes._modes_data, wfmodes_slow._modes_data, 2, \"MA\"\n",
    ")"
   ]
  },
  {
   "cell_type": "code",
   "execution_count": 37,
   "metadata": {},
   "outputs": [
    {
     "data": {
      "image/png": "[encoded data removed]",
      "text/plain": [
       "<Figure size 800x600 with 1 Axes>"
      ]
     },
     "metadata": {},
     "output_type": "display_data"
    },
    {
     "data": {
      "image/png": "[encoded data removed]",
      "text/plain": [
       "<Figure size 800x600 with 1 Axes>"
      ]
     },
     "metadata": {},
     "output_type": "display_data"
    }
   ],
   "source": [
    "fig, ax = plt.subplots()\n",
    "ax.set_yscale(\"log\")\n",
    "\n",
    "ax.scatter(wfmodes.residual_axis, wfmodes.residuals, label=\"wftools\")\n",
    "ax.scatter(\n",
    "    wfmodes_slow.residual_axis,\n",
    "    wfmodes_slow.residuals,\n",
    "    label=\"wftools slow\",\n",
    "    marker=\"v\",\n",
    ")\n",
    "ax.scatter(\n",
    "    spmodes.residual_axis, spmodes.residuals, label=\"spherepack\", marker=\"x\"\n",
    ")\n",
    "ax.scatter(\n",
    "    modes_spherical.residual_axis,\n",
    "    modes_spherical.residuals,\n",
    "    label=\"spherical\",\n",
    "    marker=\"s\",\n",
    "    alpha=0.3,\n",
    ")\n",
    "plt.legend()\n",
    "plt.show()\n",
    "\n",
    "fig, ax = plt.subplots()\n",
    "ax.set_yscale(\"log\")\n",
    "ax.scatter(\n",
    "    wfmodes.residual_axis,\n",
    "    abs(np.array(wfmodes.residuals) - np.array(spmodes.residuals)),\n",
    "    label=\"spherepack\",\n",
    "    marker=\"s\",\n",
    ")\n",
    "ax.scatter(\n",
    "    wfmodes.residual_axis,\n",
    "    abs(np.array(wfmodes.residuals) - np.array(wfmodes_slow.residuals)),\n",
    "    label=\"wftools vec\",\n",
    "    marker=\"x\",\n",
    ")\n",
    "ax.scatter(\n",
    "    wfmodes.residual_axis,\n",
    "    abs(np.array(wfmodes.residuals) - np.array(modes_spherical.residuals)),\n",
    "    label=\"spherical\",\n",
    "    marker=\"v\",\n",
    ")\n",
    "# plt.scatter(spmodes.residual_axis, spmodes.residuals, label='spherepack', marker='x')\n",
    "plt.legend()\n",
    "plt.show()"
   ]
  },
  {
   "cell_type": "code",
   "execution_count": 44,
   "metadata": {},
   "outputs": [
    {
     "data": {
      "text/plain": [
       "((0.0005222917541377897+0.00013465139243512954j),\n",
       " (0.0005222917541377865+0.00013465139243512962j),\n",
       " (0.0005222922227322968+0.00013465161022411547j),\n",
       " (0.0005222917541377874+0.00013465139243513198j))"
      ]
     },
     "execution_count": 44,
     "metadata": {},
     "output_type": "execute_result"
    }
   ],
   "source": [
    "ell = 3\n",
    "emm = 1\n",
    "wfmodes.mode(ell, emm), wfmodes_slow.mode(ell, emm), spmodes.mode(\n",
    "    ell, emm\n",
    "), modes_spherical.mode(ell, emm)"
   ]
  },
  {
   "cell_type": "code",
   "execution_count": 25,
   "metadata": {},
   "outputs": [],
   "source": [
    "np.testing.assert_array_almost_equal(\n",
    "    wfmodes._modes_data, spmodes._modes_data, 1, \"MA\"\n",
    ")"
   ]
  },
  {
   "cell_type": "code",
   "execution_count": 28,
   "metadata": {},
   "outputs": [
    {
     "ename": "AssertionError",
     "evalue": "\nArrays are not almost equal to 8 decimals l1 m -1\n ACTUAL: (-0.03064711432213326-0.010458835080748116j)\n DESIRED: (0.030647116888504484+0.010458835833054162j)",
     "output_type": "error",
     "traceback": [
      "\u001b[0;31m---------------------------------------------------------------------------\u001b[0m",
      "\u001b[0;31mAssertionError\u001b[0m                            Traceback (most recent call last)",
      "    \u001b[0;31m[... skipping hidden 1 frame]\u001b[0m\n",
      "File \u001b[0;32m/mnt/pfs/vaishak.p/soft/anaconda3_2023/envs/pyspharm/lib/python3.10/site-packages/numpy/testing/_private/utils.py:599\u001b[0m, in \u001b[0;36massert_almost_equal\u001b[0;34m(actual, desired, decimal, err_msg, verbose)\u001b[0m\n\u001b[1;32m    598\u001b[0m \u001b[38;5;28;01mif\u001b[39;00m \u001b[38;5;28mabs\u001b[39m(desired \u001b[38;5;241m-\u001b[39m actual) \u001b[38;5;241m>\u001b[39m\u001b[38;5;241m=\u001b[39m \u001b[38;5;241m1.5\u001b[39m \u001b[38;5;241m*\u001b[39m \u001b[38;5;241m10.0\u001b[39m\u001b[38;5;241m*\u001b[39m\u001b[38;5;241m*\u001b[39m(\u001b[38;5;241m-\u001b[39mdecimal):\n\u001b[0;32m--> 599\u001b[0m     \u001b[38;5;28;01mraise\u001b[39;00m \u001b[38;5;167;01mAssertionError\u001b[39;00m(_build_err_msg())\n",
      "\u001b[0;31mAssertionError\u001b[0m: \nArrays are not almost equal to 8 decimals\n ACTUAL: -0.03064711432213326\n DESIRED: 0.030647116888504484",
      "\nDuring handling of the above exception, another exception occurred:\n",
      "\u001b[0;31mAssertionError\u001b[0m                            Traceback (most recent call last)",
      "Cell \u001b[0;32mIn[28], line 4\u001b[0m\n\u001b[1;32m      1\u001b[0m \u001b[38;5;28;01mfor\u001b[39;00m ell \u001b[38;5;129;01min\u001b[39;00m \u001b[38;5;28mrange\u001b[39m(ell_max\u001b[38;5;241m+\u001b[39m\u001b[38;5;241m1\u001b[39m):\n\u001b[1;32m      2\u001b[0m     \u001b[38;5;28;01mfor\u001b[39;00m emm \u001b[38;5;129;01min\u001b[39;00m \u001b[38;5;28mrange\u001b[39m(\u001b[38;5;241m-\u001b[39mell, ell\u001b[38;5;241m+\u001b[39m\u001b[38;5;241m1\u001b[39m):\n\u001b[0;32m----> 4\u001b[0m         \u001b[43mnp\u001b[49m\u001b[38;5;241;43m.\u001b[39;49m\u001b[43mtesting\u001b[49m\u001b[38;5;241;43m.\u001b[39;49m\u001b[43massert_almost_equal\u001b[49m\u001b[43m(\u001b[49m\u001b[43mwfmodes\u001b[49m\u001b[38;5;241;43m.\u001b[39;49m\u001b[43mmode\u001b[49m\u001b[43m(\u001b[49m\u001b[43mell\u001b[49m\u001b[43m,\u001b[49m\u001b[43m \u001b[49m\u001b[43memm\u001b[49m\u001b[43m)\u001b[49m\u001b[43m,\u001b[49m\u001b[43m \u001b[49m\u001b[43mspmodes\u001b[49m\u001b[38;5;241;43m.\u001b[39;49m\u001b[43mmode\u001b[49m\u001b[43m(\u001b[49m\u001b[43mell\u001b[49m\u001b[43m,\u001b[49m\u001b[43m \u001b[49m\u001b[43memm\u001b[49m\u001b[43m)\u001b[49m\u001b[43m,\u001b[49m\u001b[43m \u001b[49m\u001b[38;5;241;43m8\u001b[39;49m\u001b[43m,\u001b[49m\u001b[43m \u001b[49m\u001b[38;5;124;43mf\u001b[39;49m\u001b[38;5;124;43m\"\u001b[39;49m\u001b[38;5;124;43ml\u001b[39;49m\u001b[38;5;132;43;01m{\u001b[39;49;00m\u001b[43mell\u001b[49m\u001b[38;5;132;43;01m}\u001b[39;49;00m\u001b[38;5;124;43m m \u001b[39;49m\u001b[38;5;132;43;01m{\u001b[39;49;00m\u001b[43memm\u001b[49m\u001b[38;5;132;43;01m}\u001b[39;49;00m\u001b[38;5;124;43m\"\u001b[39;49m\u001b[43m)\u001b[49m\n",
      "File \u001b[0;32m/mnt/pfs/vaishak.p/soft/anaconda3_2023/envs/pyspharm/lib/python3.10/site-packages/numpy/testing/_private/utils.py:579\u001b[0m, in \u001b[0;36massert_almost_equal\u001b[0;34m(actual, desired, decimal, err_msg, verbose)\u001b[0m\n\u001b[1;32m    577\u001b[0m         assert_almost_equal(actuali, desiredi, decimal\u001b[38;5;241m=\u001b[39mdecimal)\n\u001b[1;32m    578\u001b[0m     \u001b[38;5;28;01mexcept\u001b[39;00m \u001b[38;5;167;01mAssertionError\u001b[39;00m:\n\u001b[0;32m--> 579\u001b[0m         \u001b[38;5;28;01mraise\u001b[39;00m \u001b[38;5;167;01mAssertionError\u001b[39;00m(_build_err_msg())\n\u001b[1;32m    581\u001b[0m \u001b[38;5;28;01mif\u001b[39;00m \u001b[38;5;28misinstance\u001b[39m(actual, (ndarray, \u001b[38;5;28mtuple\u001b[39m, \u001b[38;5;28mlist\u001b[39m)) \\\n\u001b[1;32m    582\u001b[0m         \u001b[38;5;129;01mor\u001b[39;00m \u001b[38;5;28misinstance\u001b[39m(desired, (ndarray, \u001b[38;5;28mtuple\u001b[39m, \u001b[38;5;28mlist\u001b[39m)):\n\u001b[1;32m    583\u001b[0m     \u001b[38;5;28;01mreturn\u001b[39;00m assert_array_almost_equal(actual, desired, decimal, err_msg)\n",
      "\u001b[0;31mAssertionError\u001b[0m: \nArrays are not almost equal to 8 decimals l1 m -1\n ACTUAL: (-0.03064711432213326-0.010458835080748116j)\n DESIRED: (0.030647116888504484+0.010458835833054162j)"
     ]
    }
   ],
   "source": [
    "for ell in range(ell_max + 1):\n",
    "    for emm in range(-ell, ell + 1):\n",
    "\n",
    "        np.testing.assert_almost_equal(\n",
    "            wfmodes.mode(ell, emm), spmodes.mode(ell, emm), 8, f\"l{ell} m {emm}\"\n",
    "        )"
   ]
  },
  {
   "cell_type": "code",
   "execution_count": 78,
   "metadata": {},
   "outputs": [
    {
     "data": {
      "text/plain": [
       "(-1.8220521293885986e-06+0j)"
      ]
     },
     "execution_count": 78,
     "metadata": {},
     "output_type": "execute_result"
    }
   ],
   "source": [
    "spmodes.mode(8, 0)"
   ]
  },
  {
   "cell_type": "code",
   "execution_count": 98,
   "metadata": {},
   "outputs": [
    {
     "data": {
      "text/plain": [
       "((3.825639992497958e-06+0.012425985740451635j),\n",
       " (3.825639992498356e-06-0.012425985740451636j),\n",
       " (3.825555325409369e-06-0.012425988484043964j))"
      ]
     },
     "execution_count": 98,
     "metadata": {},
     "output_type": "execute_result"
    }
   ],
   "source": []
  },
  {
   "cell_type": "code",
   "execution_count": null,
   "metadata": {},
   "outputs": [],
   "source": []
  },
  {
   "cell_type": "code",
   "execution_count": null,
   "metadata": {},
   "outputs": [
    {
     "data": {
      "text/plain": [
       "1.4142134673670463"
      ]
     },
     "execution_count": 17,
     "metadata": {},
     "output_type": "execute_result"
    }
   ],
   "source": [
    "3.5449077018110318 / 2.5066284430248484"
   ]
  },
  {
   "cell_type": "code",
   "execution_count": null,
   "metadata": {},
   "outputs": [
    {
     "data": {
      "text/plain": [
       "1.4142135623730951"
      ]
     },
     "execution_count": 18,
     "metadata": {},
     "output_type": "execute_result"
    }
   ],
   "source": [
    "np.sqrt(2)"
   ]
  },
  {
   "cell_type": "code",
   "execution_count": null,
   "metadata": {},
   "outputs": [],
   "source": [
    "aaa = np.array([-2, -1, 0, 1, 2])"
   ]
  },
  {
   "cell_type": "code",
   "execution_count": null,
   "metadata": {},
   "outputs": [
    {
     "data": {
      "text/plain": [
       "array([1, 2])"
      ]
     },
     "execution_count": 20,
     "metadata": {},
     "output_type": "execute_result"
    }
   ],
   "source": [
    "aaa[aaa > 0]"
   ]
  },
  {
   "cell_type": "code",
   "execution_count": 18,
   "metadata": {},
   "outputs": [
    {
     "data": {
      "text/plain": [
       "(1.0000000000000527175+1.625003390576730251e-34j)"
      ]
     },
     "execution_count": 18,
     "metadata": {},
     "output_type": "execute_result"
    }
   ],
   "source": [
    "wfmodes.evaluate_old(theta=np.pi / 2, phi=0, ell_max=wfmodes.ell_max)"
   ]
  },
  {
   "cell_type": "code",
   "execution_count": 19,
   "metadata": {},
   "outputs": [
    {
     "name": "stdout",
     "output_type": "stream",
     "text": [
      "5.68 s ± 18.4 ms per loop (mean ± std. dev. of 7 runs, 1 loop each)\n"
     ]
    }
   ],
   "source": [
    "%%timeit\n",
    "wfmodes.evaluate_old(theta=np.pi / 2, phi=0, ell_max=wfmodes.ell_max)"
   ]
  },
  {
   "cell_type": "code",
   "execution_count": 21,
   "metadata": {},
   "outputs": [
    {
     "data": {
      "text/plain": [
       "array(1.+9.61424228e-31j)"
      ]
     },
     "execution_count": 21,
     "metadata": {},
     "output_type": "execute_result"
    }
   ],
   "source": [
    "wfmodes.evaluate(theta=np.pi / 2, phi=0, ell_max=wfmodes.ell_max)"
   ]
  },
  {
   "cell_type": "code",
   "execution_count": 12,
   "metadata": {},
   "outputs": [
    {
     "data": {
      "text/plain": [
       "(15, 30)"
      ]
     },
     "execution_count": 12,
     "metadata": {},
     "output_type": "execute_result"
    }
   ],
   "source": [
    "wfmodes.evaluate(theta=theta_grid, phi=phi_grid, ell_max=wfmodes.ell_max).shape"
   ]
  },
  {
   "cell_type": "code",
   "execution_count": 16,
   "metadata": {},
   "outputs": [
    {
     "name": "stdout",
     "output_type": "stream",
     "text": [
      "1.07 s ± 20 ms per loop (mean ± std. dev. of 7 runs, 1 loop each)\n"
     ]
    }
   ],
   "source": [
    "%%timeit\n",
    "wfmodes.evaluate(theta=np.pi / 2, phi=0, ell_max=wfmodes.ell_max)"
   ]
  },
  {
   "cell_type": "code",
   "execution_count": 14,
   "metadata": {},
   "outputs": [
    {
     "data": {
      "text/plain": [
       "float"
      ]
     },
     "execution_count": 14,
     "metadata": {},
     "output_type": "execute_result"
    }
   ],
   "source": [
    "m = 2.0\n",
    "\n",
    "type(m)"
   ]
  },
  {
   "cell_type": "code",
   "execution_count": 16,
   "metadata": {},
   "outputs": [
    {
     "name": "stdout",
     "output_type": "stream",
     "text": [
      "1\n"
     ]
    }
   ],
   "source": [
    "if int(m) == m:\n",
    "    print(1)"
   ]
  },
  {
   "cell_type": "code",
   "execution_count": 10,
   "metadata": {},
   "outputs": [
    {
     "data": {
      "text/plain": [
       "(1.0000000000000526+0j)"
      ]
     },
     "execution_count": 10,
     "metadata": {},
     "output_type": "execute_result"
    }
   ],
   "source": [
    "wfmodes.evaluate_sp(theta=np.pi / 2, phi=0, ell_max=wfmodes.ell_max)"
   ]
  },
  {
   "cell_type": "code",
   "execution_count": 85,
   "metadata": {},
   "outputs": [
    {
     "data": {
      "text/plain": [
       "<module 'spectral.spherical.swsh' from '/home/vaishakprasad/Documents/Projects/Codes/custom_libraries/spectral/spectral/spherical/swsh.py'>"
      ]
     },
     "execution_count": 85,
     "metadata": {},
     "output_type": "execute_result"
    }
   ],
   "source": [
    "from importlib import reload\n",
    "import spectral\n",
    "\n",
    "reload(spectral.spherical.swsh)"
   ]
  },
  {
   "cell_type": "code",
   "execution_count": 86,
   "metadata": {},
   "outputs": [],
   "source": [
    "from spectral.spherical.swsh import create_Ylm_modes_array"
   ]
  },
  {
   "cell_type": "code",
   "execution_count": 87,
   "metadata": {},
   "outputs": [],
   "source": [
    "sYlm = create_Ylm_modes_array(\n",
    "    theta=np.pi / 2, phi=0.0, ell_max=2, spin_weight=-2\n",
    ")"
   ]
  },
  {
   "cell_type": "code",
   "execution_count": 88,
   "metadata": {},
   "outputs": [
    {
     "data": {
      "text/plain": [
       "(0.15769578262625997-3.862432708645721e-17j)"
      ]
     },
     "execution_count": 88,
     "metadata": {},
     "output_type": "execute_result"
    }
   ],
   "source": [
    "sYlm.mode(2, 2)"
   ]
  },
  {
   "cell_type": "code",
   "execution_count": 89,
   "metadata": {},
   "outputs": [
    {
     "data": {
      "text/plain": [
       "(0.3862742020231896+0j)"
      ]
     },
     "execution_count": 89,
     "metadata": {},
     "output_type": "execute_result"
    }
   ],
   "source": [
    "Yslm(spin_weight=0, theta=np.pi / 2, phi=0, ell=2, emm=2)"
   ]
  },
  {
   "cell_type": "code",
   "execution_count": 37,
   "metadata": {},
   "outputs": [
    {
     "data": {
      "text/plain": [
       "<module 'spectral.spherical.Yslm_mp' from '/home/vaishakprasad/Documents/Projects/Codes/custom_libraries/spectral/spectral/spherical/Yslm_mp.py'>"
      ]
     },
     "execution_count": 37,
     "metadata": {},
     "output_type": "execute_result"
    }
   ],
   "source": [
    "from importlib import reload\n",
    "import spectral\n",
    "\n",
    "reload(spectral.spherical.Yslm_mp)"
   ]
  },
  {
   "cell_type": "code",
   "execution_count": 11,
   "metadata": {},
   "outputs": [],
   "source": [
    "from spectral.spherical.Yslm_mp import Yslm_mp"
   ]
  },
  {
   "cell_type": "code",
   "execution_count": 12,
   "metadata": {},
   "outputs": [
    {
     "data": {
      "text/plain": [
       "array([[0.15512311, 0.15512311, 0.15512311, 0.15512311, 0.15512311,\n",
       "        0.15512311, 0.15512311, 0.15512311, 0.15512311, 0.15512311,\n",
       "        0.15512311, 0.15512311, 0.15512311, 0.15512311, 0.15512311,\n",
       "        0.15512311, 0.15512311, 0.15512311, 0.15512311, 0.15512311,\n",
       "        0.15512311, 0.15512311, 0.15512311, 0.15512311, 0.15512311,\n",
       "        0.15512311, 0.15512311, 0.15512311, 0.15512311, 0.15512311],\n",
       "       [0.35607183, 0.35607183, 0.35607183, 0.35607183, 0.35607183,\n",
       "        0.35607183, 0.35607183, 0.35607183, 0.35607183, 0.35607183,\n",
       "        0.35607183, 0.35607183, 0.35607183, 0.35607183, 0.35607183,\n",
       "        0.35607183, 0.35607183, 0.35607183, 0.35607183, 0.35607183,\n",
       "        0.35607183, 0.35607183, 0.35607183, 0.35607183, 0.35607183,\n",
       "        0.35607183, 0.35607183, 0.35607183, 0.35607183, 0.35607183],\n",
       "       [0.55820621, 0.55820621, 0.55820621, 0.55820621, 0.55820621,\n",
       "        0.55820621, 0.55820621, 0.55820621, 0.55820621, 0.55820621,\n",
       "        0.55820621, 0.55820621, 0.55820621, 0.55820621, 0.55820621,\n",
       "        0.55820621, 0.55820621, 0.55820621, 0.55820621, 0.55820621,\n",
       "        0.55820621, 0.55820621, 0.55820621, 0.55820621, 0.55820621,\n",
       "        0.55820621, 0.55820621, 0.55820621, 0.55820621, 0.55820621],\n",
       "       [0.76060696, 0.76060696, 0.76060696, 0.76060696, 0.76060696,\n",
       "        0.76060696, 0.76060696, 0.76060696, 0.76060696, 0.76060696,\n",
       "        0.76060696, 0.76060696, 0.76060696, 0.76060696, 0.76060696,\n",
       "        0.76060696, 0.76060696, 0.76060696, 0.76060696, 0.76060696,\n",
       "        0.76060696, 0.76060696, 0.76060696, 0.76060696, 0.76060696,\n",
       "        0.76060696, 0.76060696, 0.76060696, 0.76060696, 0.76060696],\n",
       "       [0.96310678, 0.96310678, 0.96310678, 0.96310678, 0.96310678,\n",
       "        0.96310678, 0.96310678, 0.96310678, 0.96310678, 0.96310678,\n",
       "        0.96310678, 0.96310678, 0.96310678, 0.96310678, 0.96310678,\n",
       "        0.96310678, 0.96310678, 0.96310678, 0.96310678, 0.96310678,\n",
       "        0.96310678, 0.96310678, 0.96310678, 0.96310678, 0.96310678,\n",
       "        0.96310678, 0.96310678, 0.96310678, 0.96310678, 0.96310678],\n",
       "       [1.16565207, 1.16565207, 1.16565207, 1.16565207, 1.16565207,\n",
       "        1.16565207, 1.16565207, 1.16565207, 1.16565207, 1.16565207,\n",
       "        1.16565207, 1.16565207, 1.16565207, 1.16565207, 1.16565207,\n",
       "        1.16565207, 1.16565207, 1.16565207, 1.16565207, 1.16565207,\n",
       "        1.16565207, 1.16565207, 1.16565207, 1.16565207, 1.16565207,\n",
       "        1.16565207, 1.16565207, 1.16565207, 1.16565207, 1.16565207],\n",
       "       [1.36821954, 1.36821954, 1.36821954, 1.36821954, 1.36821954,\n",
       "        1.36821954, 1.36821954, 1.36821954, 1.36821954, 1.36821954,\n",
       "        1.36821954, 1.36821954, 1.36821954, 1.36821954, 1.36821954,\n",
       "        1.36821954, 1.36821954, 1.36821954, 1.36821954, 1.36821954,\n",
       "        1.36821954, 1.36821954, 1.36821954, 1.36821954, 1.36821954,\n",
       "        1.36821954, 1.36821954, 1.36821954, 1.36821954, 1.36821954],\n",
       "       [1.57079633, 1.57079633, 1.57079633, 1.57079633, 1.57079633,\n",
       "        1.57079633, 1.57079633, 1.57079633, 1.57079633, 1.57079633,\n",
       "        1.57079633, 1.57079633, 1.57079633, 1.57079633, 1.57079633,\n",
       "        1.57079633, 1.57079633, 1.57079633, 1.57079633, 1.57079633,\n",
       "        1.57079633, 1.57079633, 1.57079633, 1.57079633, 1.57079633,\n",
       "        1.57079633, 1.57079633, 1.57079633, 1.57079633, 1.57079633],\n",
       "       [1.77337312, 1.77337312, 1.77337312, 1.77337312, 1.77337312,\n",
       "        1.77337312, 1.77337312, 1.77337312, 1.77337312, 1.77337312,\n",
       "        1.77337312, 1.77337312, 1.77337312, 1.77337312, 1.77337312,\n",
       "        1.77337312, 1.77337312, 1.77337312, 1.77337312, 1.77337312,\n",
       "        1.77337312, 1.77337312, 1.77337312, 1.77337312, 1.77337312,\n",
       "        1.77337312, 1.77337312, 1.77337312, 1.77337312, 1.77337312],\n",
       "       [1.97594059, 1.97594059, 1.97594059, 1.97594059, 1.97594059,\n",
       "        1.97594059, 1.97594059, 1.97594059, 1.97594059, 1.97594059,\n",
       "        1.97594059, 1.97594059, 1.97594059, 1.97594059, 1.97594059,\n",
       "        1.97594059, 1.97594059, 1.97594059, 1.97594059, 1.97594059,\n",
       "        1.97594059, 1.97594059, 1.97594059, 1.97594059, 1.97594059,\n",
       "        1.97594059, 1.97594059, 1.97594059, 1.97594059, 1.97594059],\n",
       "       [2.17848587, 2.17848587, 2.17848587, 2.17848587, 2.17848587,\n",
       "        2.17848587, 2.17848587, 2.17848587, 2.17848587, 2.17848587,\n",
       "        2.17848587, 2.17848587, 2.17848587, 2.17848587, 2.17848587,\n",
       "        2.17848587, 2.17848587, 2.17848587, 2.17848587, 2.17848587,\n",
       "        2.17848587, 2.17848587, 2.17848587, 2.17848587, 2.17848587,\n",
       "        2.17848587, 2.17848587, 2.17848587, 2.17848587, 2.17848587],\n",
       "       [2.3809857 , 2.3809857 , 2.3809857 , 2.3809857 , 2.3809857 ,\n",
       "        2.3809857 , 2.3809857 , 2.3809857 , 2.3809857 , 2.3809857 ,\n",
       "        2.3809857 , 2.3809857 , 2.3809857 , 2.3809857 , 2.3809857 ,\n",
       "        2.3809857 , 2.3809857 , 2.3809857 , 2.3809857 , 2.3809857 ,\n",
       "        2.3809857 , 2.3809857 , 2.3809857 , 2.3809857 , 2.3809857 ,\n",
       "        2.3809857 , 2.3809857 , 2.3809857 , 2.3809857 , 2.3809857 ],\n",
       "       [2.58338644, 2.58338644, 2.58338644, 2.58338644, 2.58338644,\n",
       "        2.58338644, 2.58338644, 2.58338644, 2.58338644, 2.58338644,\n",
       "        2.58338644, 2.58338644, 2.58338644, 2.58338644, 2.58338644,\n",
       "        2.58338644, 2.58338644, 2.58338644, 2.58338644, 2.58338644,\n",
       "        2.58338644, 2.58338644, 2.58338644, 2.58338644, 2.58338644,\n",
       "        2.58338644, 2.58338644, 2.58338644, 2.58338644, 2.58338644],\n",
       "       [2.78552082, 2.78552082, 2.78552082, 2.78552082, 2.78552082,\n",
       "        2.78552082, 2.78552082, 2.78552082, 2.78552082, 2.78552082,\n",
       "        2.78552082, 2.78552082, 2.78552082, 2.78552082, 2.78552082,\n",
       "        2.78552082, 2.78552082, 2.78552082, 2.78552082, 2.78552082,\n",
       "        2.78552082, 2.78552082, 2.78552082, 2.78552082, 2.78552082,\n",
       "        2.78552082, 2.78552082, 2.78552082, 2.78552082, 2.78552082],\n",
       "       [2.98646955, 2.98646955, 2.98646955, 2.98646955, 2.98646955,\n",
       "        2.98646955, 2.98646955, 2.98646955, 2.98646955, 2.98646955,\n",
       "        2.98646955, 2.98646955, 2.98646955, 2.98646955, 2.98646955,\n",
       "        2.98646955, 2.98646955, 2.98646955, 2.98646955, 2.98646955,\n",
       "        2.98646955, 2.98646955, 2.98646955, 2.98646955, 2.98646955,\n",
       "        2.98646955, 2.98646955, 2.98646955, 2.98646955, 2.98646955]])"
      ]
     },
     "execution_count": 12,
     "metadata": {},
     "output_type": "execute_result"
    }
   ],
   "source": [
    "theta_grid"
   ]
  },
  {
   "cell_type": "code",
   "execution_count": 13,
   "metadata": {},
   "outputs": [],
   "source": [
    "cYslm = Yslm_mp(ell_max=14, spin_weight=0, grid_info=gl_info)"
   ]
  },
  {
   "cell_type": "code",
   "execution_count": 14,
   "metadata": {},
   "outputs": [],
   "source": [
    "cYslm.run()"
   ]
  },
  {
   "cell_type": "code",
   "execution_count": 15,
   "metadata": {},
   "outputs": [
    {
     "data": {
      "text/plain": [
       "array([[ 0.00922067+0.00000000e+00j,  0.0084235 +3.75038362e-03j,\n",
       "         0.00616983+6.85229184e-03j,  0.00284934+8.76937655e-03j,\n",
       "        -0.00096382+9.17015639e-03j, -0.00461033+7.98533288e-03j,\n",
       "        -0.00745968+5.41977277e-03j, -0.00901917+1.91708471e-03j,\n",
       "        -0.00901917-1.91708471e-03j, -0.00745968-5.41977277e-03j,\n",
       "        -0.00461033-7.98533288e-03j, -0.00096382-9.17015639e-03j,\n",
       "         0.00284934-8.76937655e-03j,  0.00616983-6.85229184e-03j,\n",
       "         0.0084235 -3.75038362e-03j,  0.00922067-2.25841235e-18j,\n",
       "         0.0084235 +3.75038362e-03j,  0.00616983+6.85229184e-03j,\n",
       "         0.00284934+8.76937655e-03j, -0.00096382+9.17015639e-03j,\n",
       "        -0.00461033+7.98533288e-03j, -0.00745968+5.41977277e-03j,\n",
       "        -0.00901917+1.91708471e-03j, -0.00901917-1.91708471e-03j,\n",
       "        -0.00745968-5.41977277e-03j, -0.00461033-7.98533288e-03j,\n",
       "        -0.00096382-9.17015639e-03j,  0.00284934-8.76937655e-03j,\n",
       "         0.00616983-6.85229184e-03j,  0.0084235 -3.75038362e-03j],\n",
       "       [ 0.0469395 +0.00000000e+00j,  0.04288136+1.90920129e-02j,\n",
       "         0.03140865+3.48828432e-02j,  0.0145051 +4.46421131e-02j,\n",
       "        -0.00490651+4.66823561e-02j, -0.02346975+4.06507956e-02j,\n",
       "        -0.03797485+2.75903432e-02j, -0.04591375+9.75926989e-03j,\n",
       "        -0.04591375-9.75926989e-03j, -0.03797485-2.75903432e-02j,\n",
       "        -0.02346975-4.06507956e-02j, -0.00490651-4.66823561e-02j,\n",
       "         0.0145051 -4.46421131e-02j,  0.03140865-3.48828432e-02j,\n",
       "         0.04288136-1.90920129e-02j,  0.0469395 -1.14968606e-17j,\n",
       "         0.04288136+1.90920129e-02j,  0.03140865+3.48828432e-02j,\n",
       "         0.0145051 +4.46421131e-02j, -0.00490651+4.66823561e-02j,\n",
       "        -0.02346975+4.06507956e-02j, -0.03797485+2.75903432e-02j,\n",
       "        -0.04591375+9.75926989e-03j, -0.04591375-9.75926989e-03j,\n",
       "        -0.03797485-2.75903432e-02j, -0.02346975-4.06507956e-02j,\n",
       "        -0.00490651-4.66823561e-02j,  0.0145051 -4.46421131e-02j,\n",
       "         0.03140865-3.48828432e-02j,  0.04288136-1.90920129e-02j],\n",
       "       [ 0.10836752+0.00000000e+00j,  0.09899866+4.40770432e-02j,\n",
       "         0.07251203+8.05327652e-02j,  0.03348741+1.03063640e-01j,\n",
       "        -0.01132749+1.07773876e-01j, -0.05418376+9.38490293e-02j,\n",
       "        -0.08767117+6.36968328e-02j, -0.10599943+2.25308753e-02j,\n",
       "        -0.10599943-2.25308753e-02j, -0.08767117-6.36968328e-02j,\n",
       "        -0.05418376-9.38490293e-02j, -0.01132749-1.07773876e-01j,\n",
       "         0.03348741-1.03063640e-01j,  0.07251203-8.05327652e-02j,\n",
       "         0.09899866-4.40770432e-02j,  0.10836752-2.65423884e-17j,\n",
       "         0.09899866+4.40770432e-02j,  0.07251203+8.05327652e-02j,\n",
       "         0.03348741+1.03063640e-01j, -0.01132749+1.07773876e-01j,\n",
       "        -0.05418376+9.38490293e-02j, -0.08767117+6.36968328e-02j,\n",
       "        -0.10599943+2.25308753e-02j, -0.10599943-2.25308753e-02j,\n",
       "        -0.08767117-6.36968328e-02j, -0.05418376-9.38490293e-02j,\n",
       "        -0.01132749-1.07773876e-01j,  0.03348741-1.03063640e-01j,\n",
       "         0.07251203-8.05327652e-02j,  0.09899866-4.40770432e-02j],\n",
       "       [ 0.18356482+0.00000000e+00j,  0.16769481+7.46625390e-02j,\n",
       "         0.12282884+1.36415247e-01j,  0.05672465+1.74580519e-01j,\n",
       "        -0.01918775+1.82559234e-01j, -0.09178241+1.58971798e-01j,\n",
       "        -0.14850706+1.07896695e-01j, -0.17955349+3.81652723e-02j,\n",
       "        -0.17955349-3.81652723e-02j, -0.14850706-1.07896695e-01j,\n",
       "        -0.09178241-1.58971798e-01j, -0.01918775-1.82559234e-01j,\n",
       "         0.05672465-1.74580519e-01j,  0.12282884-1.36415247e-01j,\n",
       "         0.16769481-7.46625390e-02j,  0.18356482-4.49604141e-17j,\n",
       "         0.16769481+7.46625390e-02j,  0.12282884+1.36415247e-01j,\n",
       "         0.05672465+1.74580519e-01j, -0.01918775+1.82559234e-01j,\n",
       "        -0.09178241+1.58971798e-01j, -0.14850706+1.07896695e-01j,\n",
       "        -0.17955349+3.81652723e-02j, -0.17955349-3.81652723e-02j,\n",
       "        -0.14850706-1.07896695e-01j, -0.09178241-1.58971798e-01j,\n",
       "        -0.01918775-1.82559234e-01j,  0.05672465-1.74580519e-01j,\n",
       "         0.12282884-1.36415247e-01j,  0.16769481-7.46625390e-02j],\n",
       "       [ 0.26034525+0.00000000e+00j,  0.23783722+1.05891953e-01j,\n",
       "         0.17420497+1.93474225e-01j,  0.08045111+2.47603046e-01j,\n",
       "        -0.02721349+2.58919051e-01j, -0.13017262+2.25465600e-01j,\n",
       "        -0.21062373+1.53027098e-01j, -0.25465608+5.41288211e-02j,\n",
       "        -0.25465608-5.41288211e-02j, -0.21062373-1.53027098e-01j,\n",
       "        -0.13017262-2.25465600e-01j, -0.02721349-2.58919051e-01j,\n",
       "         0.08045111-2.47603046e-01j,  0.17420497-1.93474225e-01j,\n",
       "         0.23783722-1.05891953e-01j,  0.26034525-6.37661954e-17j,\n",
       "         0.23783722+1.05891953e-01j,  0.17420497+1.93474225e-01j,\n",
       "         0.08045111+2.47603046e-01j, -0.02721349+2.58919051e-01j,\n",
       "        -0.13017262+2.25465600e-01j, -0.21062373+1.53027098e-01j,\n",
       "        -0.25465608+5.41288211e-02j, -0.25465608-5.41288211e-02j,\n",
       "        -0.21062373-1.53027098e-01j, -0.13017262-2.25465600e-01j,\n",
       "        -0.02721349-2.58919051e-01j,  0.08045111-2.47603046e-01j,\n",
       "         0.17420497-1.93474225e-01j,  0.23783722-1.05891953e-01j],\n",
       "       [ 0.32626446+0.00000000e+00j,  0.29805742+1.32703713e-01j,\n",
       "         0.21831354+2.42461748e-01j,  0.10082126+3.10295944e-01j,\n",
       "        -0.03410392+3.24477153e-01j, -0.16313223+2.82553314e-01j,\n",
       "        -0.2639535 +1.91773440e-01j, -0.3191348 +6.78341963e-02j,\n",
       "        -0.3191348 -6.78341963e-02j, -0.2639535 -1.91773440e-01j,\n",
       "        -0.16313223-2.82553314e-01j, -0.03410392-3.24477153e-01j,\n",
       "         0.10082126-3.10295944e-01j,  0.21831354-2.42461748e-01j,\n",
       "         0.29805742-1.32703713e-01j,  0.32626446-7.99117462e-17j,\n",
       "         0.29805742+1.32703713e-01j,  0.21831354+2.42461748e-01j,\n",
       "         0.10082126+3.10295944e-01j, -0.03410392+3.24477153e-01j,\n",
       "        -0.16313223+2.82553314e-01j, -0.2639535 +1.91773440e-01j,\n",
       "        -0.3191348 +6.78341963e-02j, -0.3191348 -6.78341963e-02j,\n",
       "        -0.2639535 -1.91773440e-01j, -0.16313223-2.82553314e-01j,\n",
       "        -0.03410392-3.24477153e-01j,  0.10082126-3.10295944e-01j,\n",
       "         0.21831354-2.42461748e-01j,  0.29805742-1.32703713e-01j],\n",
       "       [ 0.37063818+0.00000000e+00j,  0.33859483+1.50752131e-01j,\n",
       "         0.24800535+2.75437849e-01j,  0.1145335 +3.52497860e-01j,\n",
       "        -0.03874224+3.68607789e-01j, -0.18531909+3.20982083e-01j,\n",
       "        -0.29985259+2.17855659e-01j, -0.36253885+7.70600115e-02j,\n",
       "        -0.36253885-7.70600115e-02j, -0.29985259-2.17855659e-01j,\n",
       "        -0.18531909-3.20982083e-01j, -0.03874224-3.68607789e-01j,\n",
       "         0.1145335 -3.52497860e-01j,  0.24800535-2.75437849e-01j,\n",
       "         0.33859483-1.50752131e-01j,  0.37063818-9.07801732e-17j,\n",
       "         0.33859483+1.50752131e-01j,  0.24800535+2.75437849e-01j,\n",
       "         0.1145335 +3.52497860e-01j, -0.03874224+3.68607789e-01j,\n",
       "        -0.18531909+3.20982083e-01j, -0.29985259+2.17855659e-01j,\n",
       "        -0.36253885+7.70600115e-02j, -0.36253885-7.70600115e-02j,\n",
       "        -0.29985259-2.17855659e-01j, -0.18531909-3.20982083e-01j,\n",
       "        -0.03874224-3.68607789e-01j,  0.1145335 -3.52497860e-01j,\n",
       "         0.24800535-2.75437849e-01j,  0.33859483-1.50752131e-01j],\n",
       "       [ 0.3862742 +0.00000000e+00j,  0.35287904+1.57111872e-01j,\n",
       "         0.25846789+2.87057674e-01j,  0.11936529+3.67368597e-01j,\n",
       "        -0.04037665+3.84158152e-01j, -0.1931371 +3.34523272e-01j,\n",
       "        -0.31250239+2.27046279e-01j, -0.37783318+8.03109225e-02j,\n",
       "        -0.37783318-8.03109225e-02j, -0.31250239-2.27046279e-01j,\n",
       "        -0.1931371 -3.34523272e-01j, -0.04037665-3.84158152e-01j,\n",
       "         0.11936529-3.67368597e-01j,  0.25846789-2.87057674e-01j,\n",
       "         0.35287904-1.57111872e-01j,  0.3862742 -9.46098930e-17j,\n",
       "         0.35287904+1.57111872e-01j,  0.25846789+2.87057674e-01j,\n",
       "         0.11936529+3.67368597e-01j, -0.04037665+3.84158152e-01j,\n",
       "        -0.1931371 +3.34523272e-01j, -0.31250239+2.27046279e-01j,\n",
       "        -0.37783318+8.03109225e-02j, -0.37783318-8.03109225e-02j,\n",
       "        -0.31250239-2.27046279e-01j, -0.1931371 -3.34523272e-01j,\n",
       "        -0.04037665-3.84158152e-01j,  0.11936529-3.67368597e-01j,\n",
       "         0.25846789-2.87057674e-01j,  0.35287904-1.57111872e-01j],\n",
       "       [ 0.37063818+0.00000000e+00j,  0.33859483+1.50752131e-01j,\n",
       "         0.24800535+2.75437849e-01j,  0.1145335 +3.52497860e-01j,\n",
       "        -0.03874224+3.68607789e-01j, -0.18531909+3.20982083e-01j,\n",
       "        -0.29985259+2.17855659e-01j, -0.36253885+7.70600115e-02j,\n",
       "        -0.36253885-7.70600115e-02j, -0.29985259-2.17855659e-01j,\n",
       "        -0.18531909-3.20982083e-01j, -0.03874224-3.68607789e-01j,\n",
       "         0.1145335 -3.52497860e-01j,  0.24800535-2.75437849e-01j,\n",
       "         0.33859483-1.50752131e-01j,  0.37063818-9.07801732e-17j,\n",
       "         0.33859483+1.50752131e-01j,  0.24800535+2.75437849e-01j,\n",
       "         0.1145335 +3.52497860e-01j, -0.03874224+3.68607789e-01j,\n",
       "        -0.18531909+3.20982083e-01j, -0.29985259+2.17855659e-01j,\n",
       "        -0.36253885+7.70600115e-02j, -0.36253885-7.70600115e-02j,\n",
       "        -0.29985259-2.17855659e-01j, -0.18531909-3.20982083e-01j,\n",
       "        -0.03874224-3.68607789e-01j,  0.1145335 -3.52497860e-01j,\n",
       "         0.24800535-2.75437849e-01j,  0.33859483-1.50752131e-01j],\n",
       "       [ 0.32626446+0.00000000e+00j,  0.29805742+1.32703713e-01j,\n",
       "         0.21831354+2.42461748e-01j,  0.10082126+3.10295944e-01j,\n",
       "        -0.03410392+3.24477153e-01j, -0.16313223+2.82553314e-01j,\n",
       "        -0.2639535 +1.91773440e-01j, -0.3191348 +6.78341963e-02j,\n",
       "        -0.3191348 -6.78341963e-02j, -0.2639535 -1.91773440e-01j,\n",
       "        -0.16313223-2.82553314e-01j, -0.03410392-3.24477153e-01j,\n",
       "         0.10082126-3.10295944e-01j,  0.21831354-2.42461748e-01j,\n",
       "         0.29805742-1.32703713e-01j,  0.32626446-7.99117462e-17j,\n",
       "         0.29805742+1.32703713e-01j,  0.21831354+2.42461748e-01j,\n",
       "         0.10082126+3.10295944e-01j, -0.03410392+3.24477153e-01j,\n",
       "        -0.16313223+2.82553314e-01j, -0.2639535 +1.91773440e-01j,\n",
       "        -0.3191348 +6.78341963e-02j, -0.3191348 -6.78341963e-02j,\n",
       "        -0.2639535 -1.91773440e-01j, -0.16313223-2.82553314e-01j,\n",
       "        -0.03410392-3.24477153e-01j,  0.10082126-3.10295944e-01j,\n",
       "         0.21831354-2.42461748e-01j,  0.29805742-1.32703713e-01j],\n",
       "       [ 0.26034525+0.00000000e+00j,  0.23783722+1.05891953e-01j,\n",
       "         0.17420497+1.93474225e-01j,  0.08045111+2.47603046e-01j,\n",
       "        -0.02721349+2.58919051e-01j, -0.13017262+2.25465600e-01j,\n",
       "        -0.21062373+1.53027098e-01j, -0.25465608+5.41288211e-02j,\n",
       "        -0.25465608-5.41288211e-02j, -0.21062373-1.53027098e-01j,\n",
       "        -0.13017262-2.25465600e-01j, -0.02721349-2.58919051e-01j,\n",
       "         0.08045111-2.47603046e-01j,  0.17420497-1.93474225e-01j,\n",
       "         0.23783722-1.05891953e-01j,  0.26034525-6.37661954e-17j,\n",
       "         0.23783722+1.05891953e-01j,  0.17420497+1.93474225e-01j,\n",
       "         0.08045111+2.47603046e-01j, -0.02721349+2.58919051e-01j,\n",
       "        -0.13017262+2.25465600e-01j, -0.21062373+1.53027098e-01j,\n",
       "        -0.25465608+5.41288211e-02j, -0.25465608-5.41288211e-02j,\n",
       "        -0.21062373-1.53027098e-01j, -0.13017262-2.25465600e-01j,\n",
       "        -0.02721349-2.58919051e-01j,  0.08045111-2.47603046e-01j,\n",
       "         0.17420497-1.93474225e-01j,  0.23783722-1.05891953e-01j],\n",
       "       [ 0.18356482+0.00000000e+00j,  0.16769481+7.46625390e-02j,\n",
       "         0.12282884+1.36415247e-01j,  0.05672465+1.74580519e-01j,\n",
       "        -0.01918775+1.82559234e-01j, -0.09178241+1.58971798e-01j,\n",
       "        -0.14850706+1.07896695e-01j, -0.17955349+3.81652723e-02j,\n",
       "        -0.17955349-3.81652723e-02j, -0.14850706-1.07896695e-01j,\n",
       "        -0.09178241-1.58971798e-01j, -0.01918775-1.82559234e-01j,\n",
       "         0.05672465-1.74580519e-01j,  0.12282884-1.36415247e-01j,\n",
       "         0.16769481-7.46625390e-02j,  0.18356482-4.49604141e-17j,\n",
       "         0.16769481+7.46625390e-02j,  0.12282884+1.36415247e-01j,\n",
       "         0.05672465+1.74580519e-01j, -0.01918775+1.82559234e-01j,\n",
       "        -0.09178241+1.58971798e-01j, -0.14850706+1.07896695e-01j,\n",
       "        -0.17955349+3.81652723e-02j, -0.17955349-3.81652723e-02j,\n",
       "        -0.14850706-1.07896695e-01j, -0.09178241-1.58971798e-01j,\n",
       "        -0.01918775-1.82559234e-01j,  0.05672465-1.74580519e-01j,\n",
       "         0.12282884-1.36415247e-01j,  0.16769481-7.46625390e-02j],\n",
       "       [ 0.10836752+0.00000000e+00j,  0.09899866+4.40770432e-02j,\n",
       "         0.07251203+8.05327652e-02j,  0.03348741+1.03063640e-01j,\n",
       "        -0.01132749+1.07773876e-01j, -0.05418376+9.38490293e-02j,\n",
       "        -0.08767117+6.36968328e-02j, -0.10599943+2.25308753e-02j,\n",
       "        -0.10599943-2.25308753e-02j, -0.08767117-6.36968328e-02j,\n",
       "        -0.05418376-9.38490293e-02j, -0.01132749-1.07773876e-01j,\n",
       "         0.03348741-1.03063640e-01j,  0.07251203-8.05327652e-02j,\n",
       "         0.09899866-4.40770432e-02j,  0.10836752-2.65423884e-17j,\n",
       "         0.09899866+4.40770432e-02j,  0.07251203+8.05327652e-02j,\n",
       "         0.03348741+1.03063640e-01j, -0.01132749+1.07773876e-01j,\n",
       "        -0.05418376+9.38490293e-02j, -0.08767117+6.36968328e-02j,\n",
       "        -0.10599943+2.25308753e-02j, -0.10599943-2.25308753e-02j,\n",
       "        -0.08767117-6.36968328e-02j, -0.05418376-9.38490293e-02j,\n",
       "        -0.01132749-1.07773876e-01j,  0.03348741-1.03063640e-01j,\n",
       "         0.07251203-8.05327652e-02j,  0.09899866-4.40770432e-02j],\n",
       "       [ 0.0469395 +0.00000000e+00j,  0.04288136+1.90920129e-02j,\n",
       "         0.03140865+3.48828432e-02j,  0.0145051 +4.46421131e-02j,\n",
       "        -0.00490651+4.66823561e-02j, -0.02346975+4.06507956e-02j,\n",
       "        -0.03797485+2.75903432e-02j, -0.04591375+9.75926989e-03j,\n",
       "        -0.04591375-9.75926989e-03j, -0.03797485-2.75903432e-02j,\n",
       "        -0.02346975-4.06507956e-02j, -0.00490651-4.66823561e-02j,\n",
       "         0.0145051 -4.46421131e-02j,  0.03140865-3.48828432e-02j,\n",
       "         0.04288136-1.90920129e-02j,  0.0469395 -1.14968606e-17j,\n",
       "         0.04288136+1.90920129e-02j,  0.03140865+3.48828432e-02j,\n",
       "         0.0145051 +4.46421131e-02j, -0.00490651+4.66823561e-02j,\n",
       "        -0.02346975+4.06507956e-02j, -0.03797485+2.75903432e-02j,\n",
       "        -0.04591375+9.75926989e-03j, -0.04591375-9.75926989e-03j,\n",
       "        -0.03797485-2.75903432e-02j, -0.02346975-4.06507956e-02j,\n",
       "        -0.00490651-4.66823561e-02j,  0.0145051 -4.46421131e-02j,\n",
       "         0.03140865-3.48828432e-02j,  0.04288136-1.90920129e-02j],\n",
       "       [ 0.00922067+0.00000000e+00j,  0.0084235 +3.75038362e-03j,\n",
       "         0.00616983+6.85229184e-03j,  0.00284934+8.76937655e-03j,\n",
       "        -0.00096382+9.17015639e-03j, -0.00461033+7.98533288e-03j,\n",
       "        -0.00745968+5.41977277e-03j, -0.00901917+1.91708471e-03j,\n",
       "        -0.00901917-1.91708471e-03j, -0.00745968-5.41977277e-03j,\n",
       "        -0.00461033-7.98533288e-03j, -0.00096382-9.17015639e-03j,\n",
       "         0.00284934-8.76937655e-03j,  0.00616983-6.85229184e-03j,\n",
       "         0.0084235 -3.75038362e-03j,  0.00922067-2.25841235e-18j,\n",
       "         0.0084235 +3.75038362e-03j,  0.00616983+6.85229184e-03j,\n",
       "         0.00284934+8.76937655e-03j, -0.00096382+9.17015639e-03j,\n",
       "        -0.00461033+7.98533288e-03j, -0.00745968+5.41977277e-03j,\n",
       "        -0.00901917+1.91708471e-03j, -0.00901917-1.91708471e-03j,\n",
       "        -0.00745968-5.41977277e-03j, -0.00461033-7.98533288e-03j,\n",
       "        -0.00096382-9.17015639e-03j,  0.00284934-8.76937655e-03j,\n",
       "         0.00616983-6.85229184e-03j,  0.0084235 -3.75038362e-03j]])"
      ]
     },
     "execution_count": 15,
     "metadata": {},
     "output_type": "execute_result"
    }
   ],
   "source": [
    "cYslm.sYlm_modes.mode(2, 2)"
   ]
  },
  {
   "cell_type": "code",
   "execution_count": 16,
   "metadata": {},
   "outputs": [
    {
     "name": "stdout",
     "output_type": "stream",
     "text": [
      "643 ns ± 8.25 ns per loop (mean ± std. dev. of 7 runs, 1,000,000 loops each)\n"
     ]
    }
   ],
   "source": [
    "%%timeit\n",
    "cYslm.run()"
   ]
  },
  {
   "cell_type": "code",
   "execution_count": 34,
   "metadata": {},
   "outputs": [
    {
     "name": "stdout",
     "output_type": "stream",
     "text": [
      "1.48 s ± 31.5 ms per loop (mean ± std. dev. of 7 runs, 1 loop each)\n"
     ]
    }
   ],
   "source": [
    "%%timeit\n",
    "cYslm.run()"
   ]
  },
  {
   "cell_type": "code",
   "execution_count": 53,
   "metadata": {},
   "outputs": [
    {
     "data": {
      "text/plain": [
       "(225, 15, 30)"
      ]
     },
     "execution_count": 53,
     "metadata": {},
     "output_type": "execute_result"
    }
   ],
   "source": [
    "np.array(cYslm.sYlm_modes._modes_data).shape"
   ]
  },
  {
   "cell_type": "code",
   "execution_count": 14,
   "metadata": {},
   "outputs": [
    {
     "name": "stdout",
     "output_type": "stream",
     "text": [
      "3.84 s ± 73.7 ms per loop (mean ± std. dev. of 7 runs, 1 loop each)\n"
     ]
    }
   ],
   "source": [
    "%%timeit\n",
    "cYslm.store_as_modes()"
   ]
  },
  {
   "cell_type": "code",
   "execution_count": 45,
   "metadata": {},
   "outputs": [
    {
     "data": {
      "text/plain": [
       "[[0, array(0.28209479+0.j)],\n",
       " [1, array(0.34549415+0.j)],\n",
       " [2, array(5.42457759e-17+0.j)],\n",
       " [3, array(-0.34549415+0.j)],\n",
       " [4, array(0.3862742+0.j)],\n",
       " [5, array(1.71540205e-16+0.j)],\n",
       " [6, array(-0.31539157+0.j)],\n",
       " [7, array(-1.71540205e-16+0.j)],\n",
       " [8, array(0.3862742+0.j)]]"
      ]
     },
     "execution_count": 45,
     "metadata": {},
     "output_type": "execute_result"
    }
   ],
   "source": [
    "cYslm.result_list"
   ]
  },
  {
   "cell_type": "code",
   "execution_count": 47,
   "metadata": {},
   "outputs": [
    {
     "data": {
      "text/plain": [
       "(2.1236804377400126e-16+0j)"
      ]
     },
     "execution_count": 47,
     "metadata": {},
     "output_type": "execute_result"
    }
   ],
   "source": [
    "wfmodes.mode(1, 0)"
   ]
  },
  {
   "cell_type": "code",
   "execution_count": 50,
   "metadata": {},
   "outputs": [
    {
     "data": {
      "text/plain": [
       "1"
      ]
     },
     "execution_count": 50,
     "metadata": {},
     "output_type": "execute_result"
    }
   ],
   "source": [
    "int(np.sqrt(5) - 1)"
   ]
  },
  {
   "cell_type": "code",
   "execution_count": 52,
   "metadata": {},
   "outputs": [
    {
     "data": {
      "text/plain": [
       "1"
      ]
     },
     "execution_count": 52,
     "metadata": {},
     "output_type": "execute_result"
    }
   ],
   "source": [
    "int(1.99)"
   ]
  },
  {
   "cell_type": "code",
   "execution_count": 54,
   "metadata": {},
   "outputs": [
    {
     "data": {
      "text/plain": [
       "2"
      ]
     },
     "execution_count": 54,
     "metadata": {},
     "output_type": "execute_result"
    }
   ],
   "source": [
    "int(np.sqrt(5))"
   ]
  },
  {
   "cell_type": "code",
   "execution_count": 51,
   "metadata": {},
   "outputs": [
    {
     "data": {
      "text/plain": [
       "1"
      ]
     },
     "execution_count": 51,
     "metadata": {},
     "output_type": "execute_result"
    }
   ],
   "source": [
    "5 - (4)"
   ]
  },
  {
   "cell_type": "code",
   "execution_count": 55,
   "metadata": {},
   "outputs": [
    {
     "data": {
      "text/plain": [
       "-1"
      ]
     },
     "execution_count": 55,
     "metadata": {},
     "output_type": "execute_result"
    }
   ],
   "source": [
    "1 - 2"
   ]
  },
  {
   "cell_type": "code",
   "execution_count": 21,
   "metadata": {},
   "outputs": [
    {
     "name": "stdout",
     "output_type": "stream",
     "text": [
      "313 µs ± 17.3 µs per loop (mean ± std. dev. of 7 runs, 1,000 loops each)\n"
     ]
    }
   ],
   "source": [
    "%%timeit\n",
    "\n",
    "\n",
    "def get_index(ell, emm):\n",
    "    ind = 0\n",
    "    for ell_ind in range(ell + 1):\n",
    "        ind += 2 * ell_ind + 1\n",
    "\n",
    "    return ind + emm - ell_ind - 1\n",
    "\n",
    "\n",
    "# info = GLGrid(L=24)\n",
    "# minfo = method_info(ell_max=24, int_method='GL')\n",
    "\n",
    "ell_max = 24\n",
    "\n",
    "# from waveformtools.transforms import Yslm_prec_grid\n",
    "\n",
    "# theta_grid, phi_grid = info.meshgrid\n",
    "\n",
    "theta = np.pi / 2\n",
    "phi = 0\n",
    "spin_weight = 0\n",
    "\n",
    "import quaternionic, spherical\n",
    "\n",
    "R = quaternionic.array.from_spherical_coordinates(theta, phi)\n",
    "# ell_max = ell\n",
    "\n",
    "wigner = spherical.Wigner(ell_max)\n",
    "\n",
    "Y2 = wigner.sYlm(spin_weight, R)\n",
    "\n",
    "\n",
    "Ylm_spherical = Y2.T[get_index(2, 0)].T"
   ]
  },
  {
   "cell_type": "code",
   "execution_count": 18,
   "metadata": {},
   "outputs": [
    {
     "data": {
      "text/plain": [
       "(625,)"
      ]
     },
     "execution_count": 18,
     "metadata": {},
     "output_type": "execute_result"
    }
   ],
   "source": [
    "Y2.shape"
   ]
  },
  {
   "cell_type": "code",
   "execution_count": 1,
   "metadata": {},
   "outputs": [],
   "source": [
    "import numpy as np"
   ]
  },
  {
   "cell_type": "code",
   "execution_count": 3,
   "metadata": {},
   "outputs": [],
   "source": [
    "aa = np.zeros((10, *(2, 2)))"
   ]
  },
  {
   "cell_type": "code",
   "execution_count": 4,
   "metadata": {},
   "outputs": [
    {
     "data": {
      "text/plain": [
       "(10, 2, 2)"
      ]
     },
     "execution_count": 4,
     "metadata": {},
     "output_type": "execute_result"
    }
   ],
   "source": [
    "aa.shape"
   ]
  },
  {
   "cell_type": "code",
   "execution_count": 54,
   "metadata": {},
   "outputs": [],
   "source": [
    "from qlmtools.integration import TwoDIntegral"
   ]
  },
  {
   "cell_type": "code",
   "execution_count": 55,
   "metadata": {},
   "outputs": [],
   "source": [
    "func = np.sin(theta_grid)"
   ]
  },
  {
   "cell_type": "code",
   "execution_count": 56,
   "metadata": {},
   "outputs": [
    {
     "ename": "NameError",
     "evalue": "name 'sYlm' is not defined",
     "output_type": "error",
     "traceback": [
      "\u001b[0;31m---------------------------------------------------------------------------\u001b[0m",
      "\u001b[0;31mNameError\u001b[0m                                 Traceback (most recent call last)",
      "Cell \u001b[0;32mIn[56], line 1\u001b[0m\n\u001b[0;32m----> 1\u001b[0m \u001b[43msYlm\u001b[49m\n",
      "\u001b[0;31mNameError\u001b[0m: name 'sYlm' is not defined"
     ]
    }
   ],
   "source": [
    "cYslm"
   ]
  },
  {
   "cell_type": "code",
   "execution_count": 60,
   "metadata": {},
   "outputs": [],
   "source": [
    "Ym = np.array(cYslm.sYlm_modes._modes_data)"
   ]
  },
  {
   "cell_type": "code",
   "execution_count": 62,
   "metadata": {},
   "outputs": [
    {
     "data": {
      "text/plain": [
       "(225, 15, 30)"
      ]
     },
     "execution_count": 62,
     "metadata": {},
     "output_type": "execute_result"
    }
   ],
   "source": [
    "Ym.shape"
   ]
  },
  {
   "cell_type": "code",
   "execution_count": 63,
   "metadata": {},
   "outputs": [],
   "source": [
    "integrand = Ym * func"
   ]
  },
  {
   "cell_type": "code",
   "execution_count": 70,
   "metadata": {},
   "outputs": [
    {
     "data": {
      "text/plain": [
       "(225, 15, 30)"
      ]
     },
     "execution_count": 70,
     "metadata": {},
     "output_type": "execute_result"
    }
   ],
   "source": [
    "integrand.shape"
   ]
  },
  {
   "cell_type": "code",
   "execution_count": 67,
   "metadata": {},
   "outputs": [],
   "source": [
    "modes_vec = TwoDIntegral(integrand, gl_info, method=\"GL\")"
   ]
  },
  {
   "cell_type": "code",
   "execution_count": 69,
   "metadata": {},
   "outputs": [
    {
     "data": {
      "text/plain": [
       "()"
      ]
     },
     "execution_count": 69,
     "metadata": {},
     "output_type": "execute_result"
    }
   ],
   "source": [
    "modes_vec.shape"
   ]
  },
  {
   "cell_type": "code",
   "execution_count": 74,
   "metadata": {},
   "outputs": [
    {
     "data": {
      "text/plain": [
       "(225,)"
      ]
     },
     "execution_count": 74,
     "metadata": {},
     "output_type": "execute_result"
    }
   ],
   "source": [
    "np.tensordot(integrand, gl_info.weights_grid, axes=((-2, -1), (0, 1))).shape"
   ]
  },
  {
   "cell_type": "code",
   "execution_count": 15,
   "metadata": {},
   "outputs": [],
   "source": [
    "class trial:\n",
    "\n",
    "    def __init__(self, a):\n",
    "        self.a = a\n",
    "\n",
    "    b = 0"
   ]
  },
  {
   "cell_type": "code",
   "execution_count": 22,
   "metadata": {},
   "outputs": [],
   "source": [
    "tt = trial(1)\n",
    "tt2 = trial(2)"
   ]
  },
  {
   "cell_type": "code",
   "execution_count": 23,
   "metadata": {},
   "outputs": [
    {
     "data": {
      "text/plain": [
       "1"
      ]
     },
     "execution_count": 23,
     "metadata": {},
     "output_type": "execute_result"
    }
   ],
   "source": [
    "tt.a"
   ]
  },
  {
   "cell_type": "code",
   "execution_count": 24,
   "metadata": {},
   "outputs": [
    {
     "data": {
      "text/plain": [
       "0"
      ]
     },
     "execution_count": 24,
     "metadata": {},
     "output_type": "execute_result"
    }
   ],
   "source": [
    "tt.b"
   ]
  },
  {
   "cell_type": "code",
   "execution_count": 19,
   "metadata": {},
   "outputs": [],
   "source": [
    "tt.b = 3"
   ]
  },
  {
   "cell_type": "code",
   "execution_count": 1,
   "metadata": {},
   "outputs": [],
   "source": [
    "import numpy as np\n",
    "import numba as nb"
   ]
  },
  {
   "cell_type": "code",
   "execution_count": 6,
   "metadata": {},
   "outputs": [
    {
     "data": {
      "text/plain": [
       "List(float64, True)"
      ]
     },
     "execution_count": 6,
     "metadata": {},
     "output_type": "execute_result"
    }
   ],
   "source": [
    "nb.typeof([2.0, 3.4])"
   ]
  },
  {
   "cell_type": "code",
   "execution_count": 9,
   "metadata": {},
   "outputs": [
    {
     "data": {
      "text/plain": [
       "List(reflected list(int64)<iv=None>, True)"
      ]
     },
     "execution_count": 9,
     "metadata": {},
     "output_type": "execute_result"
    }
   ],
   "source": [
    "nb.typeof([[2, [1, 2, 3], [0, [1, 2]]]])"
   ]
  },
  {
   "cell_type": "code",
   "execution_count": 10,
   "metadata": {},
   "outputs": [
    {
     "ename": "ValueError",
     "evalue": "Cannot determine Numba type of <class 'dict'>",
     "output_type": "error",
     "traceback": [
      "\u001b[0;31m---------------------------------------------------------------------------\u001b[0m",
      "\u001b[0;31mValueError\u001b[0m                                Traceback (most recent call last)",
      "Cell \u001b[0;32mIn[10], line 1\u001b[0m\n\u001b[0;32m----> 1\u001b[0m \u001b[43mnb\u001b[49m\u001b[38;5;241;43m.\u001b[39;49m\u001b[43mtypeof\u001b[49m\u001b[43m(\u001b[49m\u001b[43m{\u001b[49m\u001b[38;5;124;43m'\u001b[39;49m\u001b[38;5;124;43ml0\u001b[39;49m\u001b[38;5;124;43m'\u001b[39;49m\u001b[43m:\u001b[49m\u001b[43m \u001b[49m\u001b[43m{\u001b[49m\u001b[38;5;124;43m'\u001b[39;49m\u001b[38;5;124;43mm1\u001b[39;49m\u001b[38;5;124;43m'\u001b[39;49m\u001b[43m \u001b[49m\u001b[43m:\u001b[49m\u001b[43m \u001b[49m\u001b[38;5;241;43m4.2\u001b[39;49m\u001b[43m}\u001b[49m\u001b[43m}\u001b[49m\u001b[43m)\u001b[49m\n",
      "File \u001b[0;32m~/Installations/anaconda3/envs/wftools/lib/python3.10/site-packages/numba/core/typing/typeof.py:37\u001b[0m, in \u001b[0;36mtypeof\u001b[0;34m(val, purpose)\u001b[0m\n\u001b[1;32m     34\u001b[0m \u001b[38;5;28;01mif\u001b[39;00m ty \u001b[38;5;129;01mis\u001b[39;00m \u001b[38;5;28;01mNone\u001b[39;00m:\n\u001b[1;32m     35\u001b[0m     msg \u001b[38;5;241m=\u001b[39m _termcolor\u001b[38;5;241m.\u001b[39merrmsg(\n\u001b[1;32m     36\u001b[0m         \u001b[38;5;124mf\u001b[39m\u001b[38;5;124m\"\u001b[39m\u001b[38;5;124mCannot determine Numba type of \u001b[39m\u001b[38;5;132;01m{\u001b[39;00m\u001b[38;5;28mtype\u001b[39m(val)\u001b[38;5;132;01m}\u001b[39;00m\u001b[38;5;124m\"\u001b[39m)\n\u001b[0;32m---> 37\u001b[0m     \u001b[38;5;28;01mraise\u001b[39;00m \u001b[38;5;167;01mValueError\u001b[39;00m(msg)\n\u001b[1;32m     38\u001b[0m \u001b[38;5;28;01mreturn\u001b[39;00m ty\n",
      "\u001b[0;31mValueError\u001b[0m: Cannot determine Numba type of <class 'dict'>"
     ]
    }
   ],
   "source": [
    "nb.typeof({\"l0\": {\"m1\": 4.2}})"
   ]
  },
  {
   "cell_type": "code",
   "execution_count": 42,
   "metadata": {},
   "outputs": [],
   "source": [
    "class foo:\n",
    "    _a = 1\n",
    "\n",
    "    def __init__(self, b):\n",
    "        self.b = b"
   ]
  },
  {
   "cell_type": "code",
   "execution_count": 43,
   "metadata": {},
   "outputs": [],
   "source": [
    "g1 = foo(2)"
   ]
  },
  {
   "cell_type": "code",
   "execution_count": 44,
   "metadata": {},
   "outputs": [
    {
     "data": {
      "text/plain": [
       "1"
      ]
     },
     "execution_count": 44,
     "metadata": {},
     "output_type": "execute_result"
    }
   ],
   "source": [
    "g1._a"
   ]
  },
  {
   "cell_type": "code",
   "execution_count": 45,
   "metadata": {},
   "outputs": [
    {
     "ename": "AttributeError",
     "evalue": "'foo' object has no attribute 'a'",
     "output_type": "error",
     "traceback": [
      "\u001b[0;31m---------------------------------------------------------------------------\u001b[0m",
      "\u001b[0;31mAttributeError\u001b[0m                            Traceback (most recent call last)",
      "Cell \u001b[0;32mIn[45], line 1\u001b[0m\n\u001b[0;32m----> 1\u001b[0m \u001b[43mg1\u001b[49m\u001b[38;5;241;43m.\u001b[39;49m\u001b[43ma\u001b[49m\n",
      "\u001b[0;31mAttributeError\u001b[0m: 'foo' object has no attribute 'a'"
     ]
    }
   ],
   "source": [
    "g1.a"
   ]
  },
  {
   "cell_type": "code",
   "execution_count": null,
   "metadata": {},
   "outputs": [],
   "source": []
  }
 ],
 "metadata": {
  "kernelspec": {
   "display_name": "wftools",
   "language": "python",
   "name": "python3"
  },
  "language_info": {
   "codemirror_mode": {
    "name": "ipython",
    "version": 3
   },
   "file_extension": ".py",
   "mimetype": "text/x-python",
   "name": "python",
   "nbconvert_exporter": "python",
   "pygments_lexer": "ipython3",
   "version": "3.12.2"
  }
 },
 "nbformat": 4,
 "nbformat_minor": 2
}
