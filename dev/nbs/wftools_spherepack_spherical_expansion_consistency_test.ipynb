{
 "cells": [
  {
   "cell_type": "code",
   "execution_count": 1,
   "metadata": {},
   "outputs": [
    {
     "name": "stdout",
     "output_type": "stream",
     "text": [
      "/mnt/pfs/vaishak.p/Projects/Codes/custom_libraries/waveformtools/waveformtools\n",
      "No module named 'pycbc'\n"
     ]
    }
   ],
   "source": [
    "import numpy as np\n",
    "import config\n",
    "import matplotlib\n",
    "import matplotlib.pyplot as plt\n",
    "config.conf_matplolib()\n",
    "#from spharm import Spharmt, getspecindx\n",
    "from spectral.spherical.transforms import Yslm_vec, SHExpand\n",
    "from spectral.spherical.grids import GLGrid\n",
    "#from waveformtools.grids import GLGrid\n",
    "import h5py\n",
    "from waveformtools.diagnostics import method_info\n",
    "\n",
    "#np.show_config()"
   ]
  },
  {
   "cell_type": "code",
   "execution_count": 2,
   "metadata": {},
   "outputs": [],
   "source": [
    "import scipy\n",
    "#scipy.show_config()"
   ]
  },
  {
   "cell_type": "code",
   "execution_count": null,
   "metadata": {},
   "outputs": [
    {
     "name": "stdout",
     "output_type": "stream",
     "text": [
      "Currently Loaded Modulefiles:\n",
      " 1) use.own              6) intel/tbb/latest <aL>          \n",
      " 2) sqlite-3.40.1 <aL>   7) intel/compiler-rt/latest <aL>  \n",
      " 3) libffi-3.4.4 <aL>    8) mkl-amd-fix <aL>               \n",
      " 4) zlib-1.2.13 <aL>     9) intel/mkl/latest <aL>          \n",
      " 5) openssl-3.0.7 <aL>  10) Python/3.11.10/mkl             \n",
      "\n",
      "Key:\n",
      "<module-tag>  <aL>=auto-loaded  \n"
     ]
    }
   ],
   "source": [
    "%%bash\n",
    "module list"
   ]
  },
  {
   "cell_type": "code",
   "execution_count": 4,
   "metadata": {},
   "outputs": [
    {
     "name": "stdout",
     "output_type": "stream",
     "text": [
      "print verbosity has been set to 1 at /mnt/pfs/vaishak.p/Projects/Codes/custom_libraries/config/config/__init__.py\n"
     ]
    }
   ],
   "source": [
    "from config.verbosity import levels\n",
    "vl = levels()\n",
    "vl.set_print_verbosity(1)"
   ]
  },
  {
   "cell_type": "code",
   "execution_count": 5,
   "metadata": {},
   "outputs": [],
   "source": [
    "ell_max=14\n",
    "\n",
    "gl_info = GLGrid(L=ell_max)\n",
    "theta_grid, phi_grid = gl_info.meshgrid"
   ]
  },
  {
   "cell_type": "code",
   "execution_count": 6,
   "metadata": {},
   "outputs": [],
   "source": [
    "from spectral.spherical.swsh import Yslm\n",
    "\n",
    "\n",
    "#func = np.sin(theta_grid)*np.cos(phi_grid)**3\n",
    "#func = np.ones(gl_info.shape)\n",
    "#func = Yslm_vec(ell=6, emm=-3, spin_weight=0, theta_grid=theta_grid, phi_grid=phi_grid).real\n",
    "#func = np.cos(phi_grid)**4 * np.sin(theta_grid)\n",
    "func = np.load(\"/mnt/pfs/vaishak.p/Projects/Codes/custom_libraries/qlmtools/dev/nbs/matrix_KT_phi.npy\")[0,0].real"
   ]
  },
  {
   "cell_type": "code",
   "execution_count": 7,
   "metadata": {},
   "outputs": [
    {
     "data": {
      "text/plain": [
       "(15, 30)"
      ]
     },
     "execution_count": 7,
     "metadata": {},
     "output_type": "execute_result"
    }
   ],
   "source": [
    "func.shape"
   ]
  },
  {
   "cell_type": "code",
   "execution_count": 8,
   "metadata": {},
   "outputs": [
    {
     "data": {
      "text/plain": [
       "array([[0., 0., 0., 0., 0., 0., 0., 0., 0., 0., 0., 0., 0., 0., 0., 0.,\n",
       "        0., 0., 0., 0., 0., 0., 0., 0., 0., 0., 0., 0., 0., 0.],\n",
       "       [0., 0., 0., 0., 0., 0., 0., 0., 0., 0., 0., 0., 0., 0., 0., 0.,\n",
       "        0., 0., 0., 0., 0., 0., 0., 0., 0., 0., 0., 0., 0., 0.],\n",
       "       [0., 0., 0., 0., 0., 0., 0., 0., 0., 0., 0., 0., 0., 0., 0., 0.,\n",
       "        0., 0., 0., 0., 0., 0., 0., 0., 0., 0., 0., 0., 0., 0.],\n",
       "       [0., 0., 0., 0., 0., 0., 0., 0., 0., 0., 0., 0., 0., 0., 0., 0.,\n",
       "        0., 0., 0., 0., 0., 0., 0., 0., 0., 0., 0., 0., 0., 0.],\n",
       "       [0., 0., 0., 0., 0., 0., 0., 0., 0., 0., 0., 0., 0., 0., 0., 0.,\n",
       "        0., 0., 0., 0., 0., 0., 0., 0., 0., 0., 0., 0., 0., 0.],\n",
       "       [0., 0., 0., 0., 0., 0., 0., 0., 0., 0., 0., 0., 0., 0., 0., 0.,\n",
       "        0., 0., 0., 0., 0., 0., 0., 0., 0., 0., 0., 0., 0., 0.],\n",
       "       [0., 0., 0., 0., 0., 0., 0., 0., 0., 0., 0., 0., 0., 0., 0., 0.,\n",
       "        0., 0., 0., 0., 0., 0., 0., 0., 0., 0., 0., 0., 0., 0.],\n",
       "       [0., 0., 0., 0., 0., 0., 0., 0., 0., 0., 0., 0., 0., 0., 0., 0.,\n",
       "        0., 0., 0., 0., 0., 0., 0., 0., 0., 0., 0., 0., 0., 0.],\n",
       "       [0., 0., 0., 0., 0., 0., 0., 0., 0., 0., 0., 0., 0., 0., 0., 0.,\n",
       "        0., 0., 0., 0., 0., 0., 0., 0., 0., 0., 0., 0., 0., 0.],\n",
       "       [0., 0., 0., 0., 0., 0., 0., 0., 0., 0., 0., 0., 0., 0., 0., 0.,\n",
       "        0., 0., 0., 0., 0., 0., 0., 0., 0., 0., 0., 0., 0., 0.],\n",
       "       [0., 0., 0., 0., 0., 0., 0., 0., 0., 0., 0., 0., 0., 0., 0., 0.,\n",
       "        0., 0., 0., 0., 0., 0., 0., 0., 0., 0., 0., 0., 0., 0.],\n",
       "       [0., 0., 0., 0., 0., 0., 0., 0., 0., 0., 0., 0., 0., 0., 0., 0.,\n",
       "        0., 0., 0., 0., 0., 0., 0., 0., 0., 0., 0., 0., 0., 0.],\n",
       "       [0., 0., 0., 0., 0., 0., 0., 0., 0., 0., 0., 0., 0., 0., 0., 0.,\n",
       "        0., 0., 0., 0., 0., 0., 0., 0., 0., 0., 0., 0., 0., 0.],\n",
       "       [0., 0., 0., 0., 0., 0., 0., 0., 0., 0., 0., 0., 0., 0., 0., 0.,\n",
       "        0., 0., 0., 0., 0., 0., 0., 0., 0., 0., 0., 0., 0., 0.],\n",
       "       [0., 0., 0., 0., 0., 0., 0., 0., 0., 0., 0., 0., 0., 0., 0., 0.,\n",
       "        0., 0., 0., 0., 0., 0., 0., 0., 0., 0., 0., 0., 0., 0.]])"
      ]
     },
     "execution_count": 8,
     "metadata": {},
     "output_type": "execute_result"
    }
   ],
   "source": [
    "func.imag"
   ]
  },
  {
   "cell_type": "markdown",
   "metadata": {},
   "source": [
    "## Testing waveformtools expansion\n",
    "1. waveformtools vectorized expansion\n",
    "    1. With residue calc\n",
    "    1. Without residue calc"
   ]
  },
  {
   "cell_type": "code",
   "execution_count": 9,
   "metadata": {},
   "outputs": [],
   "source": [
    "minfo = method_info(ell_max=ell_max, int_method='GL', diff_method='SH', swsh_routine='waveformtools')\n",
    "minfo_slow = method_info(ell_max=ell_max, int_method='GL', diff_method='SH', swsh_routine='waveformtools_slow')\n",
    "minfo_spack = method_info(ell_max=ell_max, int_method='GL', diff_method='SH', swsh_routine='spherepack')\n",
    "minfo_sp = method_info(ell_max=ell_max, int_method='GL', diff_method='SH', swsh_routine='spherical')"
   ]
  },
  {
   "cell_type": "code",
   "execution_count": 10,
   "metadata": {},
   "outputs": [
    {
     "name": "stdout",
     "output_type": "stream",
     "text": [
      "Help on function SHExpand in module spectral.spherical.transforms:\n",
      "\n",
      "SHExpand(func, info, method_info, error_info=False, auto_ell_max=False, res_tol_percent=3, reg=False, reg_order=1)\n",
      "    Expand a given function in spin weight 0 spherical harmonics\n",
      "    upto an optimal :math:`\\ell \\leq \\ell_{max}`.\n",
      "    \n",
      "    Parameters\n",
      "    ----------\n",
      "    func : ndarray\n",
      "           The function to be expanded.\n",
      "    info : Grid\n",
      "           An instance of the Spherical grid class\n",
      "           that stores the details of the structure\n",
      "           of a grid on a topological sphere.\n",
      "    method_info : MethodInfo\n",
      "                  An instance of the method info\n",
      "                  class that contains informations\n",
      "                  about the numerical methods\n",
      "                  to be used during the following\n",
      "                  operations.\n",
      "    error_info : bool\n",
      "               Whether or not to compute and return\n",
      "               the error measures related to the\n",
      "               SH representation.\n",
      "    \n",
      "    Returns\n",
      "    -------\n",
      "    modes : dict\n",
      "            The modes as a dictionary whose keys are lm.\n",
      "\n"
     ]
    }
   ],
   "source": [
    "help(SHExpand)"
   ]
  },
  {
   "cell_type": "markdown",
   "metadata": {},
   "source": [
    "## Without caching, conda\n",
    "\n",
    "Time stat err  1.5981713008880616 0.08455542693288153\n",
    "\n",
    "Time stat no err  0.8094721794128418 0.06192949675373192"
   ]
  },
  {
   "cell_type": "markdown",
   "metadata": {},
   "source": [
    "## Without caching, opt\n",
    "\n",
    "Time stat err  1.409931287765503 0.10512480445225708\n",
    "\n",
    "\n",
    "Time stat no err  0.7261994361877442 0.06773736996504073"
   ]
  },
  {
   "cell_type": "code",
   "execution_count": 14,
   "metadata": {},
   "outputs": [
    {
     "data": {
      "text/plain": [
       "0.11778462860518053"
      ]
     },
     "execution_count": 14,
     "metadata": {},
     "output_type": "execute_result"
    }
   ],
   "source": [
    "(1.5981713008880616 - 1.409931287765503 )/(1.5981713008880616)"
   ]
  },
  {
   "cell_type": "code",
   "execution_count": 15,
   "metadata": {},
   "outputs": [
    {
     "data": {
      "text/plain": [
       "0.10287289093184185"
      ]
     },
     "execution_count": 15,
     "metadata": {},
     "output_type": "execute_result"
    }
   ],
   "source": [
    "(0.8094721794128418 - 0.7261994361877442)/(0.8094721794128418)"
   ]
  },
  {
   "cell_type": "markdown",
   "metadata": {},
   "source": [
    "## With caching, conda\n",
    "\n",
    "Time stat err  0.7879845809936523 0.21783936744540372\n",
    "\n",
    "Time stat no err  0.023445510864257814 0.0003406548353136277"
   ]
  },
  {
   "cell_type": "markdown",
   "metadata": {},
   "source": [
    "## With caching, opt\n",
    "\n",
    "Time stat err  0.6322350597381592 0.1530482935634428\n",
    "\n",
    "Time stat no err  0.020553946495056152 0.00032997021526776836"
   ]
  },
  {
   "cell_type": "code",
   "execution_count": 16,
   "metadata": {},
   "outputs": [
    {
     "data": {
      "text/plain": [
       "0.19765554429896615"
      ]
     },
     "execution_count": 16,
     "metadata": {},
     "output_type": "execute_result"
    }
   ],
   "source": [
    "(0.7879845809936523 - 0.6322350597381592)/0.7879845809936523"
   ]
  },
  {
   "cell_type": "code",
   "execution_count": 17,
   "metadata": {},
   "outputs": [
    {
     "data": {
      "text/plain": [
       "0.1233312588470738"
      ]
     },
     "execution_count": 17,
     "metadata": {},
     "output_type": "execute_result"
    }
   ],
   "source": [
    "(0.023445510864257814 - 0.020553946495056152)/0.023445510864257814"
   ]
  },
  {
   "cell_type": "code",
   "execution_count": null,
   "metadata": {},
   "outputs": [],
   "source": []
  },
  {
   "cell_type": "code",
   "execution_count": 13,
   "metadata": {},
   "outputs": [
    {
     "name": "stdout",
     "output_type": "stream",
     "text": [
      "10.09% Residue warning! \n",
      "10.09% Residue warning! \n",
      "10.09% Residue warning! \n",
      "10.09% Residue warning! \n",
      "10.09% Residue warning! \n",
      "10.09% Residue warning! \n",
      "10.09% Residue warning! \n",
      "10.09% Residue warning! \n",
      "1.35 s ± 15.6 ms per loop (mean ± std. dev. of 7 runs, 1 loop each)\n"
     ]
    }
   ],
   "source": [
    "%%timeit\n",
    "wfmodes = SHExpand(func, gl_info, minfo, error_info=True)"
   ]
  },
  {
   "cell_type": "code",
   "execution_count": 15,
   "metadata": {},
   "outputs": [
    {
     "name": "stdout",
     "output_type": "stream",
     "text": [
      "10.09% Residue warning! \n",
      "10.09% Residue warning! \n",
      "10.09% Residue warning! \n",
      "10.09% Residue warning! \n",
      "10.09% Residue warning! \n",
      "10.09% Residue warning! \n",
      "10.09% Residue warning! \n",
      "10.09% Residue warning! \n",
      "1.35 s ± 21.2 ms per loop (mean ± std. dev. of 7 runs, 1 loop each)\n"
     ]
    }
   ],
   "source": [
    "%%timeit\n",
    "wfmodes = SHExpand(func, gl_info, minfo, err_info=True)"
   ]
  },
  {
   "cell_type": "code",
   "execution_count": 11,
   "metadata": {},
   "outputs": [],
   "source": [
    "#import spectral.spherical.Yslm_mp\n",
    "from spectral.spherical.Yslm_mp import Yslm_mp\n",
    "#from spectral.spherical.Yslm_mp import _Yslm_mp_cache"
   ]
  },
  {
   "cell_type": "code",
   "execution_count": 18,
   "metadata": {},
   "outputs": [],
   "source": [
    "Yslm_mp._Yslm_mp_cache.update({'a' : 1})"
   ]
  },
  {
   "cell_type": "code",
   "execution_count": 16,
   "metadata": {},
   "outputs": [],
   "source": [
    "i1 = Yslm_mp(ell_max=14, grid_info=gl_info, cache=True)"
   ]
  },
  {
   "cell_type": "code",
   "execution_count": 17,
   "metadata": {},
   "outputs": [
    {
     "data": {
      "text/plain": [
       "{}"
      ]
     },
     "execution_count": 17,
     "metadata": {},
     "output_type": "execute_result"
    }
   ],
   "source": [
    "i1._Yslm_mp_cache"
   ]
  },
  {
   "cell_type": "code",
   "execution_count": 18,
   "metadata": {},
   "outputs": [
    {
     "name": "stdout",
     "output_type": "stream",
     "text": [
      "False {}\n",
      "Updating cache\n",
      "{0: {14: <waveformtools.single_mode.SingleMode object at 0x7f1bb70a4310>}}\n"
     ]
    }
   ],
   "source": [
    "i1.run()"
   ]
  },
  {
   "cell_type": "code",
   "execution_count": 15,
   "metadata": {},
   "outputs": [
    {
     "data": {
      "text/plain": [
       "{}"
      ]
     },
     "execution_count": 15,
     "metadata": {},
     "output_type": "execute_result"
    }
   ],
   "source": [
    "Yslm_mp._Yslm_mp_cache"
   ]
  },
  {
   "cell_type": "code",
   "execution_count": 30,
   "metadata": {},
   "outputs": [
    {
     "ename": "AttributeError",
     "evalue": "'Yslm_mp' object has no attribute '_Yslm_mp_cache'",
     "output_type": "error",
     "traceback": [
      "\u001b[0;31m---------------------------------------------------------------------------\u001b[0m",
      "\u001b[0;31mAttributeError\u001b[0m                            Traceback (most recent call last)",
      "Cell \u001b[0;32mIn[30], line 1\u001b[0m\n\u001b[0;32m----> 1\u001b[0m \u001b[43mi1\u001b[49m\u001b[38;5;241;43m.\u001b[39;49m\u001b[43m_Yslm_mp_cache\u001b[49m\n",
      "\u001b[0;31mAttributeError\u001b[0m: 'Yslm_mp' object has no attribute '_Yslm_mp_cache'"
     ]
    }
   ],
   "source": [
    "i1._Yslm_mp_cache"
   ]
  },
  {
   "cell_type": "code",
   "execution_count": 12,
   "metadata": {},
   "outputs": [
    {
     "name": "stdout",
     "output_type": "stream",
     "text": [
      "191 ms ± 2.31 ms per loop (mean ± std. dev. of 7 runs, 10 loops each)\n"
     ]
    }
   ],
   "source": [
    "%%timeit\n",
    "wfmodes = SHExpand(func, gl_info, minfo, error_info=False)"
   ]
  },
  {
   "cell_type": "code",
   "execution_count": 20,
   "metadata": {},
   "outputs": [
    {
     "data": {
      "text/plain": [
       "{}"
      ]
     },
     "execution_count": 20,
     "metadata": {},
     "output_type": "execute_result"
    }
   ],
   "source": [
    "_Yslm_mp_cache"
   ]
  },
  {
   "cell_type": "code",
   "execution_count": 15,
   "metadata": {},
   "outputs": [
    {
     "ename": "TypeError",
     "evalue": "SHExpand() got an unexpected keyword argument 'err_info'",
     "output_type": "error",
     "traceback": [
      "\u001b[0;31m---------------------------------------------------------------------------\u001b[0m",
      "\u001b[0;31mTypeError\u001b[0m                                 Traceback (most recent call last)",
      "Cell \u001b[0;32mIn[15], line 1\u001b[0m\n\u001b[0;32m----> 1\u001b[0m wfmodes_slow \u001b[38;5;241m=\u001b[39m \u001b[43mSHExpand\u001b[49m\u001b[43m(\u001b[49m\u001b[43mfunc\u001b[49m\u001b[43m,\u001b[49m\u001b[43m \u001b[49m\u001b[43mgl_info\u001b[49m\u001b[43m,\u001b[49m\u001b[43m \u001b[49m\u001b[43mminfo_slow\u001b[49m\u001b[43m,\u001b[49m\u001b[43m \u001b[49m\u001b[43merr_info\u001b[49m\u001b[38;5;241;43m=\u001b[39;49m\u001b[38;5;28;43;01mTrue\u001b[39;49;00m\u001b[43m)\u001b[49m\n",
      "\u001b[0;31mTypeError\u001b[0m: SHExpand() got an unexpected keyword argument 'err_info'"
     ]
    }
   ],
   "source": [
    "wfmodes_slow = SHExpand(func, gl_info, minfo_slow, err_info=True)"
   ]
  },
  {
   "cell_type": "code",
   "execution_count": 31,
   "metadata": {},
   "outputs": [
    {
     "name": "stdout",
     "output_type": "stream",
     "text": [
      "Using SpherePack routine...\n",
      "Warning: spherepack only works with real functions!\n",
      "Total num modes 120.0\n",
      "N fully un occupied levels 14\n",
      "N unocc sublevel 14\n",
      "N unocc modes 119.0\n",
      "Total num modes 120.0\n"
     ]
    },
    {
     "name": "stdout",
     "output_type": "stream",
     "text": [
      "N fully un occupied levels 14\n",
      "N unocc sublevel 13\n",
      "N unocc modes 118.0\n",
      "Total num modes 120.0\n",
      "N fully un occupied levels 13\n",
      "N unocc sublevel 13\n",
      "N unocc modes 104.0\n",
      "Total num modes 120.0\n",
      "N fully un occupied levels 14\n",
      "N unocc sublevel 12\n",
      "N unocc modes 117.0\n",
      "Total num modes 120.0\n",
      "N fully un occupied levels 13\n",
      "N unocc sublevel 12\n",
      "N unocc modes 103.0\n",
      "Total num modes 120.0\n",
      "N fully un occupied levels 12\n",
      "N unocc sublevel 12\n",
      "N unocc modes 90.0\n",
      "Total num modes 120.0\n",
      "N fully un occupied levels 14\n",
      "N unocc sublevel 11\n",
      "N unocc modes 116.0\n",
      "Total num modes 120.0\n",
      "N fully un occupied levels 13\n",
      "N unocc sublevel 11\n",
      "N unocc modes 102.0\n",
      "Total num modes 120.0\n",
      "N fully un occupied levels 12\n",
      "N unocc sublevel 11\n",
      "N unocc modes 89.0\n",
      "Total num modes 120.0\n",
      "N fully un occupied levels 11\n",
      "N unocc sublevel 11\n",
      "N unocc modes 77.0\n",
      "Total num modes 120.0\n",
      "N fully un occupied levels 14\n",
      "N unocc sublevel 10\n",
      "N unocc modes 115.0\n",
      "Total num modes 120.0\n",
      "N fully un occupied levels 13\n",
      "N unocc sublevel 10\n",
      "N unocc modes 101.0\n",
      "Total num modes 120.0\n",
      "N fully un occupied levels 12\n",
      "N unocc sublevel 10\n",
      "N unocc modes 88.0\n",
      "Total num modes 120.0\n",
      "N fully un occupied levels 11\n",
      "N unocc sublevel 10\n",
      "N unocc modes 76.0\n",
      "Total num modes 120.0\n",
      "N fully un occupied levels 10\n",
      "N unocc sublevel 10\n",
      "N unocc modes 65.0\n",
      "Total num modes 120.0\n",
      "N fully un occupied levels 14\n",
      "N unocc sublevel 9\n",
      "N unocc modes 114.0\n",
      "Total num modes 120.0\n",
      "N fully un occupied levels 13\n",
      "N unocc sublevel 9\n",
      "N unocc modes 100.0\n",
      "Total num modes 120.0\n",
      "N fully un occupied levels 12\n",
      "N unocc sublevel 9\n",
      "N unocc modes 87.0\n",
      "Total num modes 120.0\n",
      "N fully un occupied levels 11\n",
      "N unocc sublevel 9\n",
      "N unocc modes 75.0\n",
      "Total num modes 120.0\n",
      "N fully un occupied levels 10\n",
      "N unocc sublevel 9\n",
      "N unocc modes 64.0\n",
      "Total num modes 120.0\n",
      "N fully un occupied levels 9\n",
      "N unocc sublevel 9\n",
      "N unocc modes 54.0\n",
      "Total num modes 120.0\n",
      "N fully un occupied levels 14\n",
      "N unocc sublevel 8\n",
      "N unocc modes 113.0\n",
      "Total num modes 120.0\n",
      "N fully un occupied levels 13\n",
      "N unocc sublevel 8\n",
      "N unocc modes 99.0\n",
      "Total num modes 120.0\n",
      "N fully un occupied levels 12\n",
      "N unocc sublevel 8\n",
      "N unocc modes 86.0\n",
      "Total num modes 120.0\n",
      "N fully un occupied levels 11\n",
      "N unocc sublevel 8\n",
      "N unocc modes 74.0\n",
      "Total num modes 120.0\n",
      "N fully un occupied levels 10\n",
      "N unocc sublevel 8\n",
      "N unocc modes 63.0\n",
      "Total num modes 120.0\n",
      "N fully un occupied levels 9\n",
      "N unocc sublevel 8\n",
      "N unocc modes 53.0\n",
      "Total num modes 120.0\n",
      "N fully un occupied levels 8\n",
      "N unocc sublevel 8\n",
      "N unocc modes 44.0\n",
      "Total num modes 120.0\n",
      "N fully un occupied levels 14\n",
      "N unocc sublevel 7\n",
      "N unocc modes 112.0\n",
      "Total num modes 120.0\n",
      "N fully un occupied levels 13\n",
      "N unocc sublevel 7\n",
      "N unocc modes 98.0\n",
      "Total num modes 120.0\n",
      "N fully un occupied levels 12\n",
      "N unocc sublevel 7\n",
      "N unocc modes 85.0\n",
      "Total num modes 120.0\n",
      "N fully un occupied levels 11\n",
      "N unocc sublevel 7\n",
      "N unocc modes 73.0\n",
      "Total num modes 120.0\n",
      "N fully un occupied levels 10\n",
      "N unocc sublevel 7\n",
      "N unocc modes 62.0\n",
      "Total num modes 120.0\n",
      "N fully un occupied levels 9\n",
      "N unocc sublevel 7\n",
      "N unocc modes 52.0\n",
      "Total num modes 120.0\n",
      "N fully un occupied levels 8\n",
      "N unocc sublevel 7\n",
      "N unocc modes 43.0\n",
      "Total num modes 120.0\n",
      "N fully un occupied levels 7\n",
      "N unocc sublevel 7\n",
      "N unocc modes 35.0\n",
      "Total num modes 120.0\n",
      "N fully un occupied levels 14\n",
      "N unocc sublevel 6\n",
      "N unocc modes 111.0\n",
      "Total num modes 120.0\n",
      "N fully un occupied levels 13\n",
      "N unocc sublevel 6\n",
      "N unocc modes 97.0\n",
      "Total num modes 120.0\n",
      "N fully un occupied levels 12\n",
      "N unocc sublevel 6\n",
      "N unocc modes 84.0\n",
      "Total num modes 120.0\n",
      "N fully un occupied levels 11\n",
      "N unocc sublevel 6\n",
      "N unocc modes 72.0\n",
      "Total num modes 120.0\n",
      "N fully un occupied levels 10\n",
      "N unocc sublevel 6\n",
      "N unocc modes 61.0\n",
      "Total num modes 120.0\n",
      "N fully un occupied levels 9\n",
      "N unocc sublevel 6\n",
      "N unocc modes 51.0\n",
      "Total num modes 120.0\n",
      "N fully un occupied levels 8\n",
      "N unocc sublevel 6\n",
      "N unocc modes 42.0\n",
      "Total num modes 120.0\n",
      "N fully un occupied levels 7\n",
      "N unocc sublevel 6\n",
      "N unocc modes 34.0\n",
      "Total num modes 120.0\n",
      "N fully un occupied levels 6\n",
      "N unocc sublevel 6\n",
      "N unocc modes 27.0\n",
      "Total num modes 120.0\n",
      "N fully un occupied levels 14\n",
      "N unocc sublevel 5\n",
      "N unocc modes 110.0\n",
      "Total num modes 120.0\n",
      "N fully un occupied levels 13\n",
      "N unocc sublevel 5\n",
      "N unocc modes 96.0\n",
      "Total num modes 120.0\n",
      "N fully un occupied levels 12\n",
      "N unocc sublevel 5\n",
      "N unocc modes 83.0\n",
      "Total num modes 120.0\n",
      "N fully un occupied levels 11\n",
      "N unocc sublevel 5\n",
      "N unocc modes 71.0\n",
      "Total num modes 120.0\n",
      "N fully un occupied levels 10\n",
      "N unocc sublevel 5\n",
      "N unocc modes 60.0\n",
      "Total num modes 120.0\n",
      "N fully un occupied levels 9\n",
      "N unocc sublevel 5\n",
      "N unocc modes 50.0\n",
      "Total num modes 120.0\n",
      "N fully un occupied levels 8\n",
      "N unocc sublevel 5\n",
      "N unocc modes 41.0\n",
      "Total num modes 120.0\n",
      "N fully un occupied levels 7\n",
      "N unocc sublevel 5\n",
      "N unocc modes 33.0\n",
      "Total num modes 120.0\n",
      "N fully un occupied levels 6\n",
      "N unocc sublevel 5\n",
      "N unocc modes 26.0\n",
      "Total num modes 120.0\n",
      "N fully un occupied levels 5\n",
      "N unocc sublevel 5\n",
      "N unocc modes 20.0\n",
      "Total num modes 120.0\n",
      "N fully un occupied levels 14\n",
      "N unocc sublevel 4\n",
      "N unocc modes 109.0\n",
      "Total num modes 120.0\n",
      "N fully un occupied levels 13\n",
      "N unocc sublevel 4\n",
      "N unocc modes 95.0\n",
      "Total num modes 120.0\n",
      "N fully un occupied levels 12\n",
      "N unocc sublevel 4\n",
      "N unocc modes 82.0\n",
      "Total num modes 120.0\n",
      "N fully un occupied levels 11\n",
      "N unocc sublevel 4\n",
      "N unocc modes 70.0\n",
      "Total num modes 120.0\n",
      "N fully un occupied levels 10\n",
      "N unocc sublevel 4\n",
      "N unocc modes 59.0\n",
      "Total num modes 120.0\n",
      "N fully un occupied levels 9\n",
      "N unocc sublevel 4\n",
      "N unocc modes 49.0\n",
      "Total num modes 120.0\n",
      "N fully un occupied levels 8\n",
      "N unocc sublevel 4\n",
      "N unocc modes 40.0\n",
      "Total num modes 120.0\n",
      "N fully un occupied levels 7\n",
      "N unocc sublevel 4\n",
      "N unocc modes 32.0\n",
      "Total num modes 120.0\n",
      "N fully un occupied levels 6\n",
      "N unocc sublevel 4\n",
      "N unocc modes 25.0\n",
      "Total num modes 120.0\n",
      "N fully un occupied levels 5\n",
      "N unocc sublevel 4\n",
      "N unocc modes 19.0\n",
      "Total num modes 120.0\n",
      "N fully un occupied levels 4\n",
      "N unocc sublevel 4\n",
      "N unocc modes 14.0\n",
      "Total num modes 120.0\n",
      "N fully un occupied levels 14\n",
      "N unocc sublevel 3\n",
      "N unocc modes 108.0\n",
      "Total num modes 120.0\n",
      "N fully un occupied levels 13\n",
      "N unocc sublevel 3\n",
      "N unocc modes 94.0\n",
      "Total num modes 120.0\n",
      "N fully un occupied levels 12\n",
      "N unocc sublevel 3\n",
      "N unocc modes 81.0\n",
      "Total num modes 120.0\n",
      "N fully un occupied levels 11\n",
      "N unocc sublevel 3\n",
      "N unocc modes 69.0\n",
      "Total num modes 120.0\n",
      "N fully un occupied levels 10\n",
      "N unocc sublevel 3\n",
      "N unocc modes 58.0\n",
      "Total num modes 120.0\n",
      "N fully un occupied levels 9\n",
      "N unocc sublevel 3\n",
      "N unocc modes 48.0\n",
      "Total num modes 120.0\n",
      "N fully un occupied levels 8\n",
      "N unocc sublevel 3\n",
      "N unocc modes 39.0\n",
      "Total num modes 120.0\n",
      "N fully un occupied levels 7\n",
      "N unocc sublevel 3\n",
      "N unocc modes 31.0\n",
      "Total num modes 120.0\n",
      "N fully un occupied levels 6\n",
      "N unocc sublevel 3\n",
      "N unocc modes 24.0\n",
      "Total num modes 120.0\n",
      "N fully un occupied levels 5\n",
      "N unocc sublevel 3\n",
      "N unocc modes 18.0\n",
      "Total num modes 120.0\n",
      "N fully un occupied levels 4\n",
      "N unocc sublevel 3\n",
      "N unocc modes 13.0\n",
      "Total num modes 120.0\n",
      "N fully un occupied levels 3\n",
      "N unocc sublevel 3\n",
      "N unocc modes 9.0\n",
      "Total num modes 120.0\n",
      "N fully un occupied levels 14\n",
      "N unocc sublevel 2\n",
      "N unocc modes 107.0\n",
      "Total num modes 120.0\n",
      "N fully un occupied levels 13\n",
      "N unocc sublevel 2\n",
      "N unocc modes 93.0\n",
      "Total num modes 120.0\n",
      "N fully un occupied levels 12\n",
      "N unocc sublevel 2\n",
      "N unocc modes 80.0\n",
      "Total num modes 120.0\n",
      "N fully un occupied levels 11\n",
      "N unocc sublevel 2\n",
      "N unocc modes 68.0\n",
      "Total num modes 120.0\n",
      "N fully un occupied levels 10\n",
      "N unocc sublevel 2\n",
      "N unocc modes 57.0\n",
      "Total num modes 120.0\n",
      "N fully un occupied levels 9\n",
      "N unocc sublevel 2\n",
      "N unocc modes 47.0\n",
      "Total num modes 120.0\n",
      "N fully un occupied levels 8\n",
      "N unocc sublevel 2\n",
      "N unocc modes 38.0\n",
      "Total num modes 120.0\n",
      "N fully un occupied levels 7\n",
      "N unocc sublevel 2\n",
      "N unocc modes 30.0\n",
      "Total num modes 120.0\n",
      "N fully un occupied levels 6\n",
      "N unocc sublevel 2\n",
      "N unocc modes 23.0\n",
      "Total num modes 120.0\n",
      "N fully un occupied levels 5\n",
      "N unocc sublevel 2\n",
      "N unocc modes 17.0\n",
      "Total num modes 120.0\n",
      "N fully un occupied levels 4\n",
      "N unocc sublevel 2\n",
      "N unocc modes 12.0\n",
      "Total num modes 120.0\n",
      "N fully un occupied levels 3\n",
      "N unocc sublevel 2\n",
      "N unocc modes 8.0\n",
      "Total num modes 120.0\n",
      "N fully un occupied levels 2\n",
      "N unocc sublevel 2\n",
      "N unocc modes 5.0\n",
      "Total num modes 120.0\n",
      "N fully un occupied levels 14\n",
      "N unocc sublevel 1\n",
      "N unocc modes 106.0\n",
      "Total num modes 120.0\n",
      "N fully un occupied levels 13\n",
      "N unocc sublevel 1\n",
      "N unocc modes 92.0\n",
      "Total num modes 120.0\n",
      "N fully un occupied levels 12\n",
      "N unocc sublevel 1\n",
      "N unocc modes 79.0\n",
      "Total num modes 120.0\n",
      "N fully un occupied levels 11\n",
      "N unocc sublevel 1\n",
      "N unocc modes 67.0\n",
      "Total num modes 120.0\n",
      "N fully un occupied levels 10\n",
      "N unocc sublevel 1\n",
      "N unocc modes 56.0\n",
      "Total num modes 120.0\n",
      "N fully un occupied levels 9\n",
      "N unocc sublevel 1\n",
      "N unocc modes 46.0\n",
      "Total num modes 120.0\n",
      "N fully un occupied levels 8\n",
      "N unocc sublevel 1\n",
      "N unocc modes 37.0\n",
      "Total num modes 120.0\n",
      "N fully un occupied levels 7\n",
      "N unocc sublevel 1\n",
      "N unocc modes 29.0\n",
      "Total num modes 120.0\n",
      "N fully un occupied levels 6\n",
      "N unocc sublevel 1\n",
      "N unocc modes 22.0\n",
      "Total num modes 120.0\n",
      "N fully un occupied levels 5\n",
      "N unocc sublevel 1\n",
      "N unocc modes 16.0\n",
      "Total num modes 120.0\n",
      "N fully un occupied levels 4\n",
      "N unocc sublevel 1\n",
      "N unocc modes 11.0\n",
      "Total num modes 120.0\n",
      "N fully un occupied levels 3\n",
      "N unocc sublevel 1\n",
      "N unocc modes 7.0\n",
      "Total num modes 120.0\n",
      "N fully un occupied levels 2\n",
      "N unocc sublevel 1\n",
      "N unocc modes 4.0\n",
      "Total num modes 120.0\n",
      "N fully un occupied levels 1\n",
      "N unocc sublevel 1\n",
      "N unocc modes 2.0\n",
      "Total num modes 120.0\n",
      "N fully un occupied levels 14\n",
      "N unocc sublevel 0\n",
      "N unocc modes 105.0\n",
      "Total num modes 120.0\n",
      "N fully un occupied levels 13\n",
      "N unocc sublevel 0\n",
      "N unocc modes 91.0\n",
      "Total num modes 120.0\n",
      "N fully un occupied levels 12\n",
      "N unocc sublevel 0\n",
      "N unocc modes 78.0\n",
      "Total num modes 120.0\n",
      "N fully un occupied levels 11\n",
      "N unocc sublevel 0\n",
      "N unocc modes 66.0\n",
      "Total num modes 120.0\n",
      "N fully un occupied levels 10\n",
      "N unocc sublevel 0\n",
      "N unocc modes 55.0\n",
      "Total num modes 120.0\n",
      "N fully un occupied levels 9\n",
      "N unocc sublevel 0\n",
      "N unocc modes 45.0\n",
      "Total num modes 120.0\n",
      "N fully un occupied levels 8\n",
      "N unocc sublevel 0\n",
      "N unocc modes 36.0\n",
      "Total num modes 120.0\n",
      "N fully un occupied levels 7\n",
      "N unocc sublevel 0\n",
      "N unocc modes 28.0\n",
      "Total num modes 120.0\n",
      "N fully un occupied levels 6\n",
      "N unocc sublevel 0\n",
      "N unocc modes 21.0\n",
      "Total num modes 120.0\n",
      "N fully un occupied levels 5\n",
      "N unocc sublevel 0\n",
      "N unocc modes 15.0\n",
      "Total num modes 120.0\n",
      "N fully un occupied levels 4\n",
      "N unocc sublevel 0\n",
      "N unocc modes 10.0\n",
      "Total num modes 120.0\n",
      "N fully un occupied levels 3\n",
      "N unocc sublevel 0\n",
      "N unocc modes 6.0\n",
      "Total num modes 120.0\n",
      "N fully un occupied levels 2\n",
      "N unocc sublevel 0\n",
      "N unocc modes 3.0\n",
      "Total num modes 120.0\n",
      "N fully un occupied levels 1\n",
      "N unocc sublevel 0\n",
      "N unocc modes 1.0\n",
      "Total num modes 120.0\n",
      "N fully un occupied levels 0\n",
      "N unocc sublevel 0\n",
      "N unocc modes 0.0\n",
      "10.09% Residue warning! \n"
     ]
    }
   ],
   "source": [
    "spmodes = SHExpand(func, gl_info, minfo_spack, err_info=True)"
   ]
  },
  {
   "cell_type": "code",
   "execution_count": 32,
   "metadata": {},
   "outputs": [
    {
     "name": "stdout",
     "output_type": "stream",
     "text": [
      "Created a modes array of mode axis shape (15, 30)\n",
      "10.09% Residue warning! \n"
     ]
    }
   ],
   "source": [
    "modes_spherical = SHExpand(func, gl_info, minfo_sp, err_info=True)"
   ]
  },
  {
   "cell_type": "code",
   "execution_count": 33,
   "metadata": {},
   "outputs": [
    {
     "data": {
      "text/plain": [
       "[0.014223766391502067,\n",
       " 0.014222089245485868,\n",
       " 0.00848139930333354,\n",
       " 0.008246403650727662,\n",
       " 0.008239553391466434,\n",
       " 0.005876526443869684,\n",
       " 0.005874486653905475,\n",
       " 0.004486960872548328,\n",
       " 0.004486315165402046,\n",
       " 0.003497811332640215,\n",
       " 0.0034975224563505132,\n",
       " 0.0027151547450398445,\n",
       " 0.002714998430622305,\n",
       " 0.00205045281731648,\n",
       " 0.002050361986178857,\n",
       " 0.001434766647618993]"
      ]
     },
     "execution_count": 33,
     "metadata": {},
     "output_type": "execute_result"
    }
   ],
   "source": [
    "wfmodes.residuals"
   ]
  },
  {
   "cell_type": "code",
   "execution_count": 34,
   "metadata": {},
   "outputs": [
    {
     "data": {
      "text/plain": [
       "[0.014223766391502067,\n",
       " 0.014222089245485868,\n",
       " 0.00848139930333354,\n",
       " 0.008246403650727662,\n",
       " 0.008239553391466432,\n",
       " 0.005876526443869684,\n",
       " 0.005874486653905475,\n",
       " 0.004486960872548328,\n",
       " 0.0044863151654020465,\n",
       " 0.003497811332640215,\n",
       " 0.0034975224563505137,\n",
       " 0.002715154745039844,\n",
       " 0.0027149984306223045,\n",
       " 0.00205045281731648,\n",
       " 0.002050361986178857,\n",
       " 0.0014347666476189926]"
      ]
     },
     "execution_count": 34,
     "metadata": {},
     "output_type": "execute_result"
    }
   ],
   "source": [
    "wfmodes_slow.residuals"
   ]
  },
  {
   "cell_type": "code",
   "execution_count": 35,
   "metadata": {},
   "outputs": [
    {
     "data": {
      "text/plain": [
       "[0.014223766391502067,\n",
       " 0.01422208924557774,\n",
       " 0.008481399299252871,\n",
       " 0.00824640368107513,\n",
       " 0.008239553426221803,\n",
       " 0.005876526264923262,\n",
       " 0.005874486475331732,\n",
       " 0.004486960722336023,\n",
       " 0.00448631501509108,\n",
       " 0.0034978112475619705,\n",
       " 0.0034975223709893494,\n",
       " 0.0027151547422448355,\n",
       " 0.0027149984274019924,\n",
       " 0.0020504528073488864,\n",
       " 0.0020503619759560158,\n",
       " 0.0014347665508654152]"
      ]
     },
     "execution_count": 35,
     "metadata": {},
     "output_type": "execute_result"
    }
   ],
   "source": [
    "spmodes.residuals"
   ]
  },
  {
   "cell_type": "code",
   "execution_count": 36,
   "metadata": {},
   "outputs": [
    {
     "data": {
      "text/plain": [
       "[0.014223766391502067,\n",
       " 0.014222089245485868,\n",
       " 0.00848139930333354,\n",
       " 0.008246403650727664,\n",
       " 0.008239553391466432,\n",
       " 0.005876526443869684,\n",
       " 0.005874486653905475,\n",
       " 0.004486960872548327,\n",
       " 0.004486315165402046,\n",
       " 0.0034978113326402114,\n",
       " 0.0034975224563505098,\n",
       " 0.002715154745039827,\n",
       " 0.0027149984306222875,\n",
       " 0.0020504528173164744,\n",
       " 0.0020503619861788522,\n",
       " 0.0014347666476189583]"
      ]
     },
     "execution_count": 36,
     "metadata": {},
     "output_type": "execute_result"
    }
   ],
   "source": [
    "modes_spherical.residuals"
   ]
  },
  {
   "cell_type": "code",
   "execution_count": 88,
   "metadata": {},
   "outputs": [
    {
     "ename": "AssertionError",
     "evalue": "\nArrays are not almost equal to 2 decimals\nMA\nMismatched elements: 1 / 225 (0.444%)\nMax absolute difference: 1.\nMax relative difference: 577.7101326\n x: array([-2.09e-21+0.00e+00j,  1.37e-19+1.87e-18j,  6.68e-18+0.00e+00j,\n       -1.37e-19+1.87e-18j,  1.80e-19+6.96e-19j, -3.15e-17+1.08e-17j,\n        2.77e-23+0.00e+00j,  3.15e-17+1.08e-17j,  1.80e-19-6.96e-19j,...\n y: array([-2.09e-21-0.00e+00j, -1.18e-20+3.71e-21j,  6.69e-18-0.00e+00j,\n       -1.18e-20-3.71e-21j, -4.94e-24-3.19e-21j,  3.22e-17-1.10e-17j,\n        3.38e-21-0.00e+00j,  3.22e-17+1.10e-17j, -4.94e-24+3.19e-21j,...",
     "output_type": "error",
     "traceback": [
      "\u001b[0;31m---------------------------------------------------------------------------\u001b[0m",
      "\u001b[0;31mAssertionError\u001b[0m                            Traceback (most recent call last)",
      "Cell \u001b[0;32mIn[88], line 1\u001b[0m\n\u001b[0;32m----> 1\u001b[0m \u001b[43mnp\u001b[49m\u001b[38;5;241;43m.\u001b[39;49m\u001b[43mtesting\u001b[49m\u001b[38;5;241;43m.\u001b[39;49m\u001b[43massert_array_almost_equal\u001b[49m\u001b[43m(\u001b[49m\u001b[43mwfmodes\u001b[49m\u001b[38;5;241;43m.\u001b[39;49m\u001b[43m_modes_data\u001b[49m\u001b[43m,\u001b[49m\u001b[43m \u001b[49m\u001b[43mwfmodes_slow\u001b[49m\u001b[38;5;241;43m.\u001b[39;49m\u001b[43m_modes_data\u001b[49m\u001b[43m,\u001b[49m\u001b[43m \u001b[49m\u001b[38;5;241;43m2\u001b[39;49m\u001b[43m,\u001b[49m\u001b[43m \u001b[49m\u001b[38;5;124;43m\"\u001b[39;49m\u001b[38;5;124;43mMA\u001b[39;49m\u001b[38;5;124;43m\"\u001b[39;49m\u001b[43m)\u001b[49m\n",
      "    \u001b[0;31m[... skipping hidden 1 frame]\u001b[0m\n",
      "File \u001b[0;32m/mnt/pfs/vaishak.p/soft/anaconda3_2023/envs/pyspharm/lib/python3.10/site-packages/numpy/testing/_private/utils.py:844\u001b[0m, in \u001b[0;36massert_array_compare\u001b[0;34m(comparison, x, y, err_msg, verbose, header, precision, equal_nan, equal_inf)\u001b[0m\n\u001b[1;32m    840\u001b[0m         err_msg \u001b[38;5;241m+\u001b[39m\u001b[38;5;241m=\u001b[39m \u001b[38;5;124m'\u001b[39m\u001b[38;5;130;01m\\n\u001b[39;00m\u001b[38;5;124m'\u001b[39m \u001b[38;5;241m+\u001b[39m \u001b[38;5;124m'\u001b[39m\u001b[38;5;130;01m\\n\u001b[39;00m\u001b[38;5;124m'\u001b[39m\u001b[38;5;241m.\u001b[39mjoin(remarks)\n\u001b[1;32m    841\u001b[0m         msg \u001b[38;5;241m=\u001b[39m build_err_msg([ox, oy], err_msg,\n\u001b[1;32m    842\u001b[0m                             verbose\u001b[38;5;241m=\u001b[39mverbose, header\u001b[38;5;241m=\u001b[39mheader,\n\u001b[1;32m    843\u001b[0m                             names\u001b[38;5;241m=\u001b[39m(\u001b[38;5;124m'\u001b[39m\u001b[38;5;124mx\u001b[39m\u001b[38;5;124m'\u001b[39m, \u001b[38;5;124m'\u001b[39m\u001b[38;5;124my\u001b[39m\u001b[38;5;124m'\u001b[39m), precision\u001b[38;5;241m=\u001b[39mprecision)\n\u001b[0;32m--> 844\u001b[0m         \u001b[38;5;28;01mraise\u001b[39;00m \u001b[38;5;167;01mAssertionError\u001b[39;00m(msg)\n\u001b[1;32m    845\u001b[0m \u001b[38;5;28;01mexcept\u001b[39;00m \u001b[38;5;167;01mValueError\u001b[39;00m:\n\u001b[1;32m    846\u001b[0m     \u001b[38;5;28;01mimport\u001b[39;00m \u001b[38;5;21;01mtraceback\u001b[39;00m\n",
      "\u001b[0;31mAssertionError\u001b[0m: \nArrays are not almost equal to 2 decimals\nMA\nMismatched elements: 1 / 225 (0.444%)\nMax absolute difference: 1.\nMax relative difference: 577.7101326\n x: array([-2.09e-21+0.00e+00j,  1.37e-19+1.87e-18j,  6.68e-18+0.00e+00j,\n       -1.37e-19+1.87e-18j,  1.80e-19+6.96e-19j, -3.15e-17+1.08e-17j,\n        2.77e-23+0.00e+00j,  3.15e-17+1.08e-17j,  1.80e-19-6.96e-19j,...\n y: array([-2.09e-21-0.00e+00j, -1.18e-20+3.71e-21j,  6.69e-18-0.00e+00j,\n       -1.18e-20-3.71e-21j, -4.94e-24-3.19e-21j,  3.22e-17-1.10e-17j,\n        3.38e-21-0.00e+00j,  3.22e-17+1.10e-17j, -4.94e-24+3.19e-21j,..."
     ]
    }
   ],
   "source": [
    "np.testing.assert_array_almost_equal(wfmodes._modes_data, wfmodes_slow._modes_data, 2, \"MA\")"
   ]
  },
  {
   "cell_type": "code",
   "execution_count": 37,
   "metadata": {},
   "outputs": [
    {
     "data": {
      "image/png": "[encoded data removed]",
      "text/plain": [
       "<Figure size 800x600 with 1 Axes>"
      ]
     },
     "metadata": {},
     "output_type": "display_data"
    },
    {
     "data": {
      "image/png": "[encoded data removed]",
      "text/plain": [
       "<Figure size 800x600 with 1 Axes>"
      ]
     },
     "metadata": {},
     "output_type": "display_data"
    }
   ],
   "source": [
    "fig, ax = plt.subplots()\n",
    "ax.set_yscale('log')\n",
    "\n",
    "ax.scatter(wfmodes.residual_axis, wfmodes.residuals, label='wftools')\n",
    "ax.scatter(wfmodes_slow.residual_axis, wfmodes_slow.residuals, label='wftools slow', marker='v')\n",
    "ax.scatter(spmodes.residual_axis, spmodes.residuals, label='spherepack', marker='x')\n",
    "ax.scatter(modes_spherical.residual_axis, modes_spherical.residuals, label='spherical', marker='s', alpha=0.3)\n",
    "plt.legend()\n",
    "plt.show()\n",
    "\n",
    "fig, ax = plt.subplots()\n",
    "ax.set_yscale('log')\n",
    "ax.scatter(wfmodes.residual_axis, abs(np.array(wfmodes.residuals) - np.array(spmodes.residuals)), label='spherepack', marker='s')\n",
    "ax.scatter(wfmodes.residual_axis, abs(np.array(wfmodes.residuals) - np.array(wfmodes_slow.residuals)), label='wftools vec', marker='x')\n",
    "ax.scatter(wfmodes.residual_axis, abs(np.array(wfmodes.residuals) - np.array(modes_spherical.residuals)), label='spherical', marker='v')\n",
    "#plt.scatter(spmodes.residual_axis, spmodes.residuals, label='spherepack', marker='x')\n",
    "plt.legend()\n",
    "plt.show()"
   ]
  },
  {
   "cell_type": "code",
   "execution_count": 44,
   "metadata": {},
   "outputs": [
    {
     "data": {
      "text/plain": [
       "((0.0005222917541377897+0.00013465139243512954j),\n",
       " (0.0005222917541377865+0.00013465139243512962j),\n",
       " (0.0005222922227322968+0.00013465161022411547j),\n",
       " (0.0005222917541377874+0.00013465139243513198j))"
      ]
     },
     "execution_count": 44,
     "metadata": {},
     "output_type": "execute_result"
    }
   ],
   "source": [
    "ell = 3\n",
    "emm = 1\n",
    "wfmodes.mode(ell, emm), wfmodes_slow.mode(ell, emm), spmodes.mode(ell, emm), modes_spherical.mode(ell, emm)"
   ]
  },
  {
   "cell_type": "code",
   "execution_count": 25,
   "metadata": {},
   "outputs": [],
   "source": [
    "np.testing.assert_array_almost_equal(wfmodes._modes_data, spmodes._modes_data, 1, \"MA\")"
   ]
  },
  {
   "cell_type": "code",
   "execution_count": 28,
   "metadata": {},
   "outputs": [
    {
     "ename": "AssertionError",
     "evalue": "\nArrays are not almost equal to 8 decimals l1 m -1\n ACTUAL: (-0.03064711432213326-0.010458835080748116j)\n DESIRED: (0.030647116888504484+0.010458835833054162j)",
     "output_type": "error",
     "traceback": [
      "\u001b[0;31m---------------------------------------------------------------------------\u001b[0m",
      "\u001b[0;31mAssertionError\u001b[0m                            Traceback (most recent call last)",
      "    \u001b[0;31m[... skipping hidden 1 frame]\u001b[0m\n",
      "File \u001b[0;32m/mnt/pfs/vaishak.p/soft/anaconda3_2023/envs/pyspharm/lib/python3.10/site-packages/numpy/testing/_private/utils.py:599\u001b[0m, in \u001b[0;36massert_almost_equal\u001b[0;34m(actual, desired, decimal, err_msg, verbose)\u001b[0m\n\u001b[1;32m    598\u001b[0m \u001b[38;5;28;01mif\u001b[39;00m \u001b[38;5;28mabs\u001b[39m(desired \u001b[38;5;241m-\u001b[39m actual) \u001b[38;5;241m>\u001b[39m\u001b[38;5;241m=\u001b[39m \u001b[38;5;241m1.5\u001b[39m \u001b[38;5;241m*\u001b[39m \u001b[38;5;241m10.0\u001b[39m\u001b[38;5;241m*\u001b[39m\u001b[38;5;241m*\u001b[39m(\u001b[38;5;241m-\u001b[39mdecimal):\n\u001b[0;32m--> 599\u001b[0m     \u001b[38;5;28;01mraise\u001b[39;00m \u001b[38;5;167;01mAssertionError\u001b[39;00m(_build_err_msg())\n",
      "\u001b[0;31mAssertionError\u001b[0m: \nArrays are not almost equal to 8 decimals\n ACTUAL: -0.03064711432213326\n DESIRED: 0.030647116888504484",
      "\nDuring handling of the above exception, another exception occurred:\n",
      "\u001b[0;31mAssertionError\u001b[0m                            Traceback (most recent call last)",
      "Cell \u001b[0;32mIn[28], line 4\u001b[0m\n\u001b[1;32m      1\u001b[0m \u001b[38;5;28;01mfor\u001b[39;00m ell \u001b[38;5;129;01min\u001b[39;00m \u001b[38;5;28mrange\u001b[39m(ell_max\u001b[38;5;241m+\u001b[39m\u001b[38;5;241m1\u001b[39m):\n\u001b[1;32m      2\u001b[0m     \u001b[38;5;28;01mfor\u001b[39;00m emm \u001b[38;5;129;01min\u001b[39;00m \u001b[38;5;28mrange\u001b[39m(\u001b[38;5;241m-\u001b[39mell, ell\u001b[38;5;241m+\u001b[39m\u001b[38;5;241m1\u001b[39m):\n\u001b[0;32m----> 4\u001b[0m         \u001b[43mnp\u001b[49m\u001b[38;5;241;43m.\u001b[39;49m\u001b[43mtesting\u001b[49m\u001b[38;5;241;43m.\u001b[39;49m\u001b[43massert_almost_equal\u001b[49m\u001b[43m(\u001b[49m\u001b[43mwfmodes\u001b[49m\u001b[38;5;241;43m.\u001b[39;49m\u001b[43mmode\u001b[49m\u001b[43m(\u001b[49m\u001b[43mell\u001b[49m\u001b[43m,\u001b[49m\u001b[43m \u001b[49m\u001b[43memm\u001b[49m\u001b[43m)\u001b[49m\u001b[43m,\u001b[49m\u001b[43m \u001b[49m\u001b[43mspmodes\u001b[49m\u001b[38;5;241;43m.\u001b[39;49m\u001b[43mmode\u001b[49m\u001b[43m(\u001b[49m\u001b[43mell\u001b[49m\u001b[43m,\u001b[49m\u001b[43m \u001b[49m\u001b[43memm\u001b[49m\u001b[43m)\u001b[49m\u001b[43m,\u001b[49m\u001b[43m \u001b[49m\u001b[38;5;241;43m8\u001b[39;49m\u001b[43m,\u001b[49m\u001b[43m \u001b[49m\u001b[38;5;124;43mf\u001b[39;49m\u001b[38;5;124;43m\"\u001b[39;49m\u001b[38;5;124;43ml\u001b[39;49m\u001b[38;5;132;43;01m{\u001b[39;49;00m\u001b[43mell\u001b[49m\u001b[38;5;132;43;01m}\u001b[39;49;00m\u001b[38;5;124;43m m \u001b[39;49m\u001b[38;5;132;43;01m{\u001b[39;49;00m\u001b[43memm\u001b[49m\u001b[38;5;132;43;01m}\u001b[39;49;00m\u001b[38;5;124;43m\"\u001b[39;49m\u001b[43m)\u001b[49m\n",
      "File \u001b[0;32m/mnt/pfs/vaishak.p/soft/anaconda3_2023/envs/pyspharm/lib/python3.10/site-packages/numpy/testing/_private/utils.py:579\u001b[0m, in \u001b[0;36massert_almost_equal\u001b[0;34m(actual, desired, decimal, err_msg, verbose)\u001b[0m\n\u001b[1;32m    577\u001b[0m         assert_almost_equal(actuali, desiredi, decimal\u001b[38;5;241m=\u001b[39mdecimal)\n\u001b[1;32m    578\u001b[0m     \u001b[38;5;28;01mexcept\u001b[39;00m \u001b[38;5;167;01mAssertionError\u001b[39;00m:\n\u001b[0;32m--> 579\u001b[0m         \u001b[38;5;28;01mraise\u001b[39;00m \u001b[38;5;167;01mAssertionError\u001b[39;00m(_build_err_msg())\n\u001b[1;32m    581\u001b[0m \u001b[38;5;28;01mif\u001b[39;00m \u001b[38;5;28misinstance\u001b[39m(actual, (ndarray, \u001b[38;5;28mtuple\u001b[39m, \u001b[38;5;28mlist\u001b[39m)) \\\n\u001b[1;32m    582\u001b[0m         \u001b[38;5;129;01mor\u001b[39;00m \u001b[38;5;28misinstance\u001b[39m(desired, (ndarray, \u001b[38;5;28mtuple\u001b[39m, \u001b[38;5;28mlist\u001b[39m)):\n\u001b[1;32m    583\u001b[0m     \u001b[38;5;28;01mreturn\u001b[39;00m assert_array_almost_equal(actual, desired, decimal, err_msg)\n",
      "\u001b[0;31mAssertionError\u001b[0m: \nArrays are not almost equal to 8 decimals l1 m -1\n ACTUAL: (-0.03064711432213326-0.010458835080748116j)\n DESIRED: (0.030647116888504484+0.010458835833054162j)"
     ]
    }
   ],
   "source": [
    "for ell in range(ell_max+1):\n",
    "    for emm in range(-ell, ell+1):\n",
    "\n",
    "        np.testing.assert_almost_equal(wfmodes.mode(ell, emm), spmodes.mode(ell, emm), 8, f\"l{ell} m {emm}\")"
   ]
  },
  {
   "cell_type": "code",
   "execution_count": 78,
   "metadata": {},
   "outputs": [
    {
     "data": {
      "text/plain": [
       "(-1.8220521293885986e-06+0j)"
      ]
     },
     "execution_count": 78,
     "metadata": {},
     "output_type": "execute_result"
    }
   ],
   "source": [
    "spmodes.mode(8, 0)"
   ]
  },
  {
   "cell_type": "code",
   "execution_count": 98,
   "metadata": {},
   "outputs": [
    {
     "data": {
      "text/plain": [
       "((3.825639992497958e-06+0.012425985740451635j),\n",
       " (3.825639992498356e-06-0.012425985740451636j),\n",
       " (3.825555325409369e-06-0.012425988484043964j))"
      ]
     },
     "execution_count": 98,
     "metadata": {},
     "output_type": "execute_result"
    }
   ],
   "source": []
  },
  {
   "cell_type": "code",
   "execution_count": null,
   "metadata": {},
   "outputs": [],
   "source": []
  },
  {
   "cell_type": "code",
   "execution_count": null,
   "metadata": {},
   "outputs": [
    {
     "data": {
      "text/plain": [
       "1.4142134673670463"
      ]
     },
     "execution_count": 17,
     "metadata": {},
     "output_type": "execute_result"
    }
   ],
   "source": [
    "3.5449077018110318/2.5066284430248484"
   ]
  },
  {
   "cell_type": "code",
   "execution_count": null,
   "metadata": {},
   "outputs": [
    {
     "data": {
      "text/plain": [
       "1.4142135623730951"
      ]
     },
     "execution_count": 18,
     "metadata": {},
     "output_type": "execute_result"
    }
   ],
   "source": [
    "np.sqrt(2)"
   ]
  },
  {
   "cell_type": "code",
   "execution_count": null,
   "metadata": {},
   "outputs": [],
   "source": [
    "aaa = np.array([-2, -1, 0, 1, 2])"
   ]
  },
  {
   "cell_type": "code",
   "execution_count": null,
   "metadata": {},
   "outputs": [
    {
     "data": {
      "text/plain": [
       "array([1, 2])"
      ]
     },
     "execution_count": 20,
     "metadata": {},
     "output_type": "execute_result"
    }
   ],
   "source": [
    "aaa[aaa>0]"
   ]
  },
  {
   "cell_type": "code",
   "execution_count": 18,
   "metadata": {},
   "outputs": [
    {
     "data": {
      "text/plain": [
       "(1.0000000000000527175+1.625003390576730251e-34j)"
      ]
     },
     "execution_count": 18,
     "metadata": {},
     "output_type": "execute_result"
    }
   ],
   "source": [
    "wfmodes.evaluate_old(theta=np.pi/2 , phi=0, ell_max=wfmodes.ell_max)"
   ]
  },
  {
   "cell_type": "code",
   "execution_count": 19,
   "metadata": {},
   "outputs": [
    {
     "name": "stdout",
     "output_type": "stream",
     "text": [
      "5.68 s ± 18.4 ms per loop (mean ± std. dev. of 7 runs, 1 loop each)\n"
     ]
    }
   ],
   "source": [
    "%%timeit\n",
    "wfmodes.evaluate_old(theta=np.pi/2 , phi=0, ell_max=wfmodes.ell_max)"
   ]
  },
  {
   "cell_type": "code",
   "execution_count": 21,
   "metadata": {},
   "outputs": [
    {
     "data": {
      "text/plain": [
       "array(1.+9.61424228e-31j)"
      ]
     },
     "execution_count": 21,
     "metadata": {},
     "output_type": "execute_result"
    }
   ],
   "source": [
    "wfmodes.evaluate(theta=np.pi/2 , phi=0, ell_max=wfmodes.ell_max)"
   ]
  },
  {
   "cell_type": "code",
   "execution_count": 12,
   "metadata": {},
   "outputs": [
    {
     "data": {
      "text/plain": [
       "(15, 30)"
      ]
     },
     "execution_count": 12,
     "metadata": {},
     "output_type": "execute_result"
    }
   ],
   "source": [
    "wfmodes.evaluate(theta=theta_grid , phi=phi_grid, ell_max=wfmodes.ell_max).shape"
   ]
  },
  {
   "cell_type": "code",
   "execution_count": 16,
   "metadata": {},
   "outputs": [
    {
     "name": "stdout",
     "output_type": "stream",
     "text": [
      "1.07 s ± 20 ms per loop (mean ± std. dev. of 7 runs, 1 loop each)\n"
     ]
    }
   ],
   "source": [
    "%%timeit\n",
    "wfmodes.evaluate(theta=np.pi/2 , phi=0, ell_max=wfmodes.ell_max)"
   ]
  },
  {
   "cell_type": "code",
   "execution_count": 14,
   "metadata": {},
   "outputs": [
    {
     "data": {
      "text/plain": [
       "float"
      ]
     },
     "execution_count": 14,
     "metadata": {},
     "output_type": "execute_result"
    }
   ],
   "source": [
    "m = 2.0\n",
    "\n",
    "type(m)"
   ]
  },
  {
   "cell_type": "code",
   "execution_count": 16,
   "metadata": {},
   "outputs": [
    {
     "name": "stdout",
     "output_type": "stream",
     "text": [
      "1\n"
     ]
    }
   ],
   "source": [
    "if int(m)==m:\n",
    "    print(1)"
   ]
  },
  {
   "cell_type": "code",
   "execution_count": 10,
   "metadata": {},
   "outputs": [
    {
     "data": {
      "text/plain": [
       "(1.0000000000000526+0j)"
      ]
     },
     "execution_count": 10,
     "metadata": {},
     "output_type": "execute_result"
    }
   ],
   "source": [
    "wfmodes.evaluate_sp(theta=np.pi/2 , phi=0, ell_max=wfmodes.ell_max)"
   ]
  },
  {
   "cell_type": "code",
   "execution_count": 85,
   "metadata": {},
   "outputs": [
    {
     "data": {
      "text/plain": [
       "<module 'spectral.spherical.swsh' from '/home/vaishakprasad/Documents/Projects/Codes/custom_libraries/spectral/spectral/spherical/swsh.py'>"
      ]
     },
     "execution_count": 85,
     "metadata": {},
     "output_type": "execute_result"
    }
   ],
   "source": [
    "from importlib import reload\n",
    "import spectral\n",
    "reload(spectral.spherical.swsh)"
   ]
  },
  {
   "cell_type": "code",
   "execution_count": 86,
   "metadata": {},
   "outputs": [],
   "source": [
    "from spectral.spherical.swsh import create_Ylm_modes_array"
   ]
  },
  {
   "cell_type": "code",
   "execution_count": 87,
   "metadata": {},
   "outputs": [],
   "source": [
    "sYlm = create_Ylm_modes_array(theta=np.pi/2, phi=0.0, ell_max=2, spin_weight=-2)"
   ]
  },
  {
   "cell_type": "code",
   "execution_count": 88,
   "metadata": {},
   "outputs": [
    {
     "data": {
      "text/plain": [
       "(0.15769578262625997-3.862432708645721e-17j)"
      ]
     },
     "execution_count": 88,
     "metadata": {},
     "output_type": "execute_result"
    }
   ],
   "source": [
    "sYlm.mode(2, 2)"
   ]
  },
  {
   "cell_type": "code",
   "execution_count": 89,
   "metadata": {},
   "outputs": [
    {
     "data": {
      "text/plain": [
       "(0.3862742020231896+0j)"
      ]
     },
     "execution_count": 89,
     "metadata": {},
     "output_type": "execute_result"
    }
   ],
   "source": [
    "Yslm(spin_weight=0, theta=np.pi/2, phi=0, ell=2, emm=2)"
   ]
  },
  {
   "cell_type": "code",
   "execution_count": 37,
   "metadata": {},
   "outputs": [
    {
     "data": {
      "text/plain": [
       "<module 'spectral.spherical.Yslm_mp' from '/home/vaishakprasad/Documents/Projects/Codes/custom_libraries/spectral/spectral/spherical/Yslm_mp.py'>"
      ]
     },
     "execution_count": 37,
     "metadata": {},
     "output_type": "execute_result"
    }
   ],
   "source": [
    "from importlib import reload\n",
    "import spectral\n",
    "reload(spectral.spherical.Yslm_mp)"
   ]
  },
  {
   "cell_type": "code",
   "execution_count": 11,
   "metadata": {},
   "outputs": [],
   "source": [
    "from spectral.spherical.Yslm_mp import Yslm_mp"
   ]
  },
  {
   "cell_type": "code",
   "execution_count": 12,
   "metadata": {},
   "outputs": [
    {
     "data": {
      "text/plain": [
       "array([[0.15512311, 0.15512311, 0.15512311, 0.15512311, 0.15512311,\n",
       "        0.15512311, 0.15512311, 0.15512311, 0.15512311, 0.15512311,\n",
       "        0.15512311, 0.15512311, 0.15512311, 0.15512311, 0.15512311,\n",
       "        0.15512311, 0.15512311, 0.15512311, 0.15512311, 0.15512311,\n",
       "        0.15512311, 0.15512311, 0.15512311, 0.15512311, 0.15512311,\n",
       "        0.15512311, 0.15512311, 0.15512311, 0.15512311, 0.15512311],\n",
       "       [0.35607183, 0.35607183, 0.35607183, 0.35607183, 0.35607183,\n",
       "        0.35607183, 0.35607183, 0.35607183, 0.35607183, 0.35607183,\n",
       "        0.35607183, 0.35607183, 0.35607183, 0.35607183, 0.35607183,\n",
       "        0.35607183, 0.35607183, 0.35607183, 0.35607183, 0.35607183,\n",
       "        0.35607183, 0.35607183, 0.35607183, 0.35607183, 0.35607183,\n",
       "        0.35607183, 0.35607183, 0.35607183, 0.35607183, 0.35607183],\n",
       "       [0.55820621, 0.55820621, 0.55820621, 0.55820621, 0.55820621,\n",
       "        0.55820621, 0.55820621, 0.55820621, 0.55820621, 0.55820621,\n",
       "        0.55820621, 0.55820621, 0.55820621, 0.55820621, 0.55820621,\n",
       "        0.55820621, 0.55820621, 0.55820621, 0.55820621, 0.55820621,\n",
       "        0.55820621, 0.55820621, 0.55820621, 0.55820621, 0.55820621,\n",
       "        0.55820621, 0.55820621, 0.55820621, 0.55820621, 0.55820621],\n",
       "       [0.76060696, 0.76060696, 0.76060696, 0.76060696, 0.76060696,\n",
       "        0.76060696, 0.76060696, 0.76060696, 0.76060696, 0.76060696,\n",
       "        0.76060696, 0.76060696, 0.76060696, 0.76060696, 0.76060696,\n",
       "        0.76060696, 0.76060696, 0.76060696, 0.76060696, 0.76060696,\n",
       "        0.76060696, 0.76060696, 0.76060696, 0.76060696, 0.76060696,\n",
       "        0.76060696, 0.76060696, 0.76060696, 0.76060696, 0.76060696],\n",
       "       [0.96310678, 0.96310678, 0.96310678, 0.96310678, 0.96310678,\n",
       "        0.96310678, 0.96310678, 0.96310678, 0.96310678, 0.96310678,\n",
       "        0.96310678, 0.96310678, 0.96310678, 0.96310678, 0.96310678,\n",
       "        0.96310678, 0.96310678, 0.96310678, 0.96310678, 0.96310678,\n",
       "        0.96310678, 0.96310678, 0.96310678, 0.96310678, 0.96310678,\n",
       "        0.96310678, 0.96310678, 0.96310678, 0.96310678, 0.96310678],\n",
       "       [1.16565207, 1.16565207, 1.16565207, 1.16565207, 1.16565207,\n",
       "        1.16565207, 1.16565207, 1.16565207, 1.16565207, 1.16565207,\n",
       "        1.16565207, 1.16565207, 1.16565207, 1.16565207, 1.16565207,\n",
       "        1.16565207, 1.16565207, 1.16565207, 1.16565207, 1.16565207,\n",
       "        1.16565207, 1.16565207, 1.16565207, 1.16565207, 1.16565207,\n",
       "        1.16565207, 1.16565207, 1.16565207, 1.16565207, 1.16565207],\n",
       "       [1.36821954, 1.36821954, 1.36821954, 1.36821954, 1.36821954,\n",
       "        1.36821954, 1.36821954, 1.36821954, 1.36821954, 1.36821954,\n",
       "        1.36821954, 1.36821954, 1.36821954, 1.36821954, 1.36821954,\n",
       "        1.36821954, 1.36821954, 1.36821954, 1.36821954, 1.36821954,\n",
       "        1.36821954, 1.36821954, 1.36821954, 1.36821954, 1.36821954,\n",
       "        1.36821954, 1.36821954, 1.36821954, 1.36821954, 1.36821954],\n",
       "       [1.57079633, 1.57079633, 1.57079633, 1.57079633, 1.57079633,\n",
       "        1.57079633, 1.57079633, 1.57079633, 1.57079633, 1.57079633,\n",
       "        1.57079633, 1.57079633, 1.57079633, 1.57079633, 1.57079633,\n",
       "        1.57079633, 1.57079633, 1.57079633, 1.57079633, 1.57079633,\n",
       "        1.57079633, 1.57079633, 1.57079633, 1.57079633, 1.57079633,\n",
       "        1.57079633, 1.57079633, 1.57079633, 1.57079633, 1.57079633],\n",
       "       [1.77337312, 1.77337312, 1.77337312, 1.77337312, 1.77337312,\n",
       "        1.77337312, 1.77337312, 1.77337312, 1.77337312, 1.77337312,\n",
       "        1.77337312, 1.77337312, 1.77337312, 1.77337312, 1.77337312,\n",
       "        1.77337312, 1.77337312, 1.77337312, 1.77337312, 1.77337312,\n",
       "        1.77337312, 1.77337312, 1.77337312, 1.77337312, 1.77337312,\n",
       "        1.77337312, 1.77337312, 1.77337312, 1.77337312, 1.77337312],\n",
       "       [1.97594059, 1.97594059, 1.97594059, 1.97594059, 1.97594059,\n",
       "        1.97594059, 1.97594059, 1.97594059, 1.97594059, 1.97594059,\n",
       "        1.97594059, 1.97594059, 1.97594059, 1.97594059, 1.97594059,\n",
       "        1.97594059, 1.97594059, 1.97594059, 1.97594059, 1.97594059,\n",
       "        1.97594059, 1.97594059, 1.97594059, 1.97594059, 1.97594059,\n",
       "        1.97594059, 1.97594059, 1.97594059, 1.97594059, 1.97594059],\n",
       "       [2.17848587, 2.17848587, 2.17848587, 2.17848587, 2.17848587,\n",
       "        2.17848587, 2.17848587, 2.17848587, 2.17848587, 2.17848587,\n",
       "        2.17848587, 2.17848587, 2.17848587, 2.17848587, 2.17848587,\n",
       "        2.17848587, 2.17848587, 2.17848587, 2.17848587, 2.17848587,\n",
       "        2.17848587, 2.17848587, 2.17848587, 2.17848587, 2.17848587,\n",
       "        2.17848587, 2.17848587, 2.17848587, 2.17848587, 2.17848587],\n",
       "       [2.3809857 , 2.3809857 , 2.3809857 , 2.3809857 , 2.3809857 ,\n",
       "        2.3809857 , 2.3809857 , 2.3809857 , 2.3809857 , 2.3809857 ,\n",
       "        2.3809857 , 2.3809857 , 2.3809857 , 2.3809857 , 2.3809857 ,\n",
       "        2.3809857 , 2.3809857 , 2.3809857 , 2.3809857 , 2.3809857 ,\n",
       "        2.3809857 , 2.3809857 , 2.3809857 , 2.3809857 , 2.3809857 ,\n",
       "        2.3809857 , 2.3809857 , 2.3809857 , 2.3809857 , 2.3809857 ],\n",
       "       [2.58338644, 2.58338644, 2.58338644, 2.58338644, 2.58338644,\n",
       "        2.58338644, 2.58338644, 2.58338644, 2.58338644, 2.58338644,\n",
       "        2.58338644, 2.58338644, 2.58338644, 2.58338644, 2.58338644,\n",
       "        2.58338644, 2.58338644, 2.58338644, 2.58338644, 2.58338644,\n",
       "        2.58338644, 2.58338644, 2.58338644, 2.58338644, 2.58338644,\n",
       "        2.58338644, 2.58338644, 2.58338644, 2.58338644, 2.58338644],\n",
       "       [2.78552082, 2.78552082, 2.78552082, 2.78552082, 2.78552082,\n",
       "        2.78552082, 2.78552082, 2.78552082, 2.78552082, 2.78552082,\n",
       "        2.78552082, 2.78552082, 2.78552082, 2.78552082, 2.78552082,\n",
       "        2.78552082, 2.78552082, 2.78552082, 2.78552082, 2.78552082,\n",
       "        2.78552082, 2.78552082, 2.78552082, 2.78552082, 2.78552082,\n",
       "        2.78552082, 2.78552082, 2.78552082, 2.78552082, 2.78552082],\n",
       "       [2.98646955, 2.98646955, 2.98646955, 2.98646955, 2.98646955,\n",
       "        2.98646955, 2.98646955, 2.98646955, 2.98646955, 2.98646955,\n",
       "        2.98646955, 2.98646955, 2.98646955, 2.98646955, 2.98646955,\n",
       "        2.98646955, 2.98646955, 2.98646955, 2.98646955, 2.98646955,\n",
       "        2.98646955, 2.98646955, 2.98646955, 2.98646955, 2.98646955,\n",
       "        2.98646955, 2.98646955, 2.98646955, 2.98646955, 2.98646955]])"
      ]
     },
     "execution_count": 12,
     "metadata": {},
     "output_type": "execute_result"
    }
   ],
   "source": [
    "theta_grid"
   ]
  },
  {
   "cell_type": "code",
   "execution_count": 13,
   "metadata": {},
   "outputs": [],
   "source": [
    "cYslm = Yslm_mp(ell_max=14, spin_weight=0, grid_info=gl_info)"
   ]
  },
  {
   "cell_type": "code",
   "execution_count": 14,
   "metadata": {},
   "outputs": [],
   "source": [
    "cYslm.run()"
   ]
  },
  {
   "cell_type": "code",
   "execution_count": 15,
   "metadata": {},
   "outputs": [
    {
     "data": {
      "text/plain": [
       "array([[ 0.00922067+0.00000000e+00j,  0.0084235 +3.75038362e-03j,\n",
       "         0.00616983+6.85229184e-03j,  0.00284934+8.76937655e-03j,\n",
       "        -0.00096382+9.17015639e-03j, -0.00461033+7.98533288e-03j,\n",
       "        -0.00745968+5.41977277e-03j, -0.00901917+1.91708471e-03j,\n",
       "        -0.00901917-1.91708471e-03j, -0.00745968-5.41977277e-03j,\n",
       "        -0.00461033-7.98533288e-03j, -0.00096382-9.17015639e-03j,\n",
       "         0.00284934-8.76937655e-03j,  0.00616983-6.85229184e-03j,\n",
       "         0.0084235 -3.75038362e-03j,  0.00922067-2.25841235e-18j,\n",
       "         0.0084235 +3.75038362e-03j,  0.00616983+6.85229184e-03j,\n",
       "         0.00284934+8.76937655e-03j, -0.00096382+9.17015639e-03j,\n",
       "        -0.00461033+7.98533288e-03j, -0.00745968+5.41977277e-03j,\n",
       "        -0.00901917+1.91708471e-03j, -0.00901917-1.91708471e-03j,\n",
       "        -0.00745968-5.41977277e-03j, -0.00461033-7.98533288e-03j,\n",
       "        -0.00096382-9.17015639e-03j,  0.00284934-8.76937655e-03j,\n",
       "         0.00616983-6.85229184e-03j,  0.0084235 -3.75038362e-03j],\n",
       "       [ 0.0469395 +0.00000000e+00j,  0.04288136+1.90920129e-02j,\n",
       "         0.03140865+3.48828432e-02j,  0.0145051 +4.46421131e-02j,\n",
       "        -0.00490651+4.66823561e-02j, -0.02346975+4.06507956e-02j,\n",
       "        -0.03797485+2.75903432e-02j, -0.04591375+9.75926989e-03j,\n",
       "        -0.04591375-9.75926989e-03j, -0.03797485-2.75903432e-02j,\n",
       "        -0.02346975-4.06507956e-02j, -0.00490651-4.66823561e-02j,\n",
       "         0.0145051 -4.46421131e-02j,  0.03140865-3.48828432e-02j,\n",
       "         0.04288136-1.90920129e-02j,  0.0469395 -1.14968606e-17j,\n",
       "         0.04288136+1.90920129e-02j,  0.03140865+3.48828432e-02j,\n",
       "         0.0145051 +4.46421131e-02j, -0.00490651+4.66823561e-02j,\n",
       "        -0.02346975+4.06507956e-02j, -0.03797485+2.75903432e-02j,\n",
       "        -0.04591375+9.75926989e-03j, -0.04591375-9.75926989e-03j,\n",
       "        -0.03797485-2.75903432e-02j, -0.02346975-4.06507956e-02j,\n",
       "        -0.00490651-4.66823561e-02j,  0.0145051 -4.46421131e-02j,\n",
       "         0.03140865-3.48828432e-02j,  0.04288136-1.90920129e-02j],\n",
       "       [ 0.10836752+0.00000000e+00j,  0.09899866+4.40770432e-02j,\n",
       "         0.07251203+8.05327652e-02j,  0.03348741+1.03063640e-01j,\n",
       "        -0.01132749+1.07773876e-01j, -0.05418376+9.38490293e-02j,\n",
       "        -0.08767117+6.36968328e-02j, -0.10599943+2.25308753e-02j,\n",
       "        -0.10599943-2.25308753e-02j, -0.08767117-6.36968328e-02j,\n",
       "        -0.05418376-9.38490293e-02j, -0.01132749-1.07773876e-01j,\n",
       "         0.03348741-1.03063640e-01j,  0.07251203-8.05327652e-02j,\n",
       "         0.09899866-4.40770432e-02j,  0.10836752-2.65423884e-17j,\n",
       "         0.09899866+4.40770432e-02j,  0.07251203+8.05327652e-02j,\n",
       "         0.03348741+1.03063640e-01j, -0.01132749+1.07773876e-01j,\n",
       "        -0.05418376+9.38490293e-02j, -0.08767117+6.36968328e-02j,\n",
       "        -0.10599943+2.25308753e-02j, -0.10599943-2.25308753e-02j,\n",
       "        -0.08767117-6.36968328e-02j, -0.05418376-9.38490293e-02j,\n",
       "        -0.01132749-1.07773876e-01j,  0.03348741-1.03063640e-01j,\n",
       "         0.07251203-8.05327652e-02j,  0.09899866-4.40770432e-02j],\n",
       "       [ 0.18356482+0.00000000e+00j,  0.16769481+7.46625390e-02j,\n",
       "         0.12282884+1.36415247e-01j,  0.05672465+1.74580519e-01j,\n",
       "        -0.01918775+1.82559234e-01j, -0.09178241+1.58971798e-01j,\n",
       "        -0.14850706+1.07896695e-01j, -0.17955349+3.81652723e-02j,\n",
       "        -0.17955349-3.81652723e-02j, -0.14850706-1.07896695e-01j,\n",
       "        -0.09178241-1.58971798e-01j, -0.01918775-1.82559234e-01j,\n",
       "         0.05672465-1.74580519e-01j,  0.12282884-1.36415247e-01j,\n",
       "         0.16769481-7.46625390e-02j,  0.18356482-4.49604141e-17j,\n",
       "         0.16769481+7.46625390e-02j,  0.12282884+1.36415247e-01j,\n",
       "         0.05672465+1.74580519e-01j, -0.01918775+1.82559234e-01j,\n",
       "        -0.09178241+1.58971798e-01j, -0.14850706+1.07896695e-01j,\n",
       "        -0.17955349+3.81652723e-02j, -0.17955349-3.81652723e-02j,\n",
       "        -0.14850706-1.07896695e-01j, -0.09178241-1.58971798e-01j,\n",
       "        -0.01918775-1.82559234e-01j,  0.05672465-1.74580519e-01j,\n",
       "         0.12282884-1.36415247e-01j,  0.16769481-7.46625390e-02j],\n",
       "       [ 0.26034525+0.00000000e+00j,  0.23783722+1.05891953e-01j,\n",
       "         0.17420497+1.93474225e-01j,  0.08045111+2.47603046e-01j,\n",
       "        -0.02721349+2.58919051e-01j, -0.13017262+2.25465600e-01j,\n",
       "        -0.21062373+1.53027098e-01j, -0.25465608+5.41288211e-02j,\n",
       "        -0.25465608-5.41288211e-02j, -0.21062373-1.53027098e-01j,\n",
       "        -0.13017262-2.25465600e-01j, -0.02721349-2.58919051e-01j,\n",
       "         0.08045111-2.47603046e-01j,  0.17420497-1.93474225e-01j,\n",
       "         0.23783722-1.05891953e-01j,  0.26034525-6.37661954e-17j,\n",
       "         0.23783722+1.05891953e-01j,  0.17420497+1.93474225e-01j,\n",
       "         0.08045111+2.47603046e-01j, -0.02721349+2.58919051e-01j,\n",
       "        -0.13017262+2.25465600e-01j, -0.21062373+1.53027098e-01j,\n",
       "        -0.25465608+5.41288211e-02j, -0.25465608-5.41288211e-02j,\n",
       "        -0.21062373-1.53027098e-01j, -0.13017262-2.25465600e-01j,\n",
       "        -0.02721349-2.58919051e-01j,  0.08045111-2.47603046e-01j,\n",
       "         0.17420497-1.93474225e-01j,  0.23783722-1.05891953e-01j],\n",
       "       [ 0.32626446+0.00000000e+00j,  0.29805742+1.32703713e-01j,\n",
       "         0.21831354+2.42461748e-01j,  0.10082126+3.10295944e-01j,\n",
       "        -0.03410392+3.24477153e-01j, -0.16313223+2.82553314e-01j,\n",
       "        -0.2639535 +1.91773440e-01j, -0.3191348 +6.78341963e-02j,\n",
       "        -0.3191348 -6.78341963e-02j, -0.2639535 -1.91773440e-01j,\n",
       "        -0.16313223-2.82553314e-01j, -0.03410392-3.24477153e-01j,\n",
       "         0.10082126-3.10295944e-01j,  0.21831354-2.42461748e-01j,\n",
       "         0.29805742-1.32703713e-01j,  0.32626446-7.99117462e-17j,\n",
       "         0.29805742+1.32703713e-01j,  0.21831354+2.42461748e-01j,\n",
       "         0.10082126+3.10295944e-01j, -0.03410392+3.24477153e-01j,\n",
       "        -0.16313223+2.82553314e-01j, -0.2639535 +1.91773440e-01j,\n",
       "        -0.3191348 +6.78341963e-02j, -0.3191348 -6.78341963e-02j,\n",
       "        -0.2639535 -1.91773440e-01j, -0.16313223-2.82553314e-01j,\n",
       "        -0.03410392-3.24477153e-01j,  0.10082126-3.10295944e-01j,\n",
       "         0.21831354-2.42461748e-01j,  0.29805742-1.32703713e-01j],\n",
       "       [ 0.37063818+0.00000000e+00j,  0.33859483+1.50752131e-01j,\n",
       "         0.24800535+2.75437849e-01j,  0.1145335 +3.52497860e-01j,\n",
       "        -0.03874224+3.68607789e-01j, -0.18531909+3.20982083e-01j,\n",
       "        -0.29985259+2.17855659e-01j, -0.36253885+7.70600115e-02j,\n",
       "        -0.36253885-7.70600115e-02j, -0.29985259-2.17855659e-01j,\n",
       "        -0.18531909-3.20982083e-01j, -0.03874224-3.68607789e-01j,\n",
       "         0.1145335 -3.52497860e-01j,  0.24800535-2.75437849e-01j,\n",
       "         0.33859483-1.50752131e-01j,  0.37063818-9.07801732e-17j,\n",
       "         0.33859483+1.50752131e-01j,  0.24800535+2.75437849e-01j,\n",
       "         0.1145335 +3.52497860e-01j, -0.03874224+3.68607789e-01j,\n",
       "        -0.18531909+3.20982083e-01j, -0.29985259+2.17855659e-01j,\n",
       "        -0.36253885+7.70600115e-02j, -0.36253885-7.70600115e-02j,\n",
       "        -0.29985259-2.17855659e-01j, -0.18531909-3.20982083e-01j,\n",
       "        -0.03874224-3.68607789e-01j,  0.1145335 -3.52497860e-01j,\n",
       "         0.24800535-2.75437849e-01j,  0.33859483-1.50752131e-01j],\n",
       "       [ 0.3862742 +0.00000000e+00j,  0.35287904+1.57111872e-01j,\n",
       "         0.25846789+2.87057674e-01j,  0.11936529+3.67368597e-01j,\n",
       "        -0.04037665+3.84158152e-01j, -0.1931371 +3.34523272e-01j,\n",
       "        -0.31250239+2.27046279e-01j, -0.37783318+8.03109225e-02j,\n",
       "        -0.37783318-8.03109225e-02j, -0.31250239-2.27046279e-01j,\n",
       "        -0.1931371 -3.34523272e-01j, -0.04037665-3.84158152e-01j,\n",
       "         0.11936529-3.67368597e-01j,  0.25846789-2.87057674e-01j,\n",
       "         0.35287904-1.57111872e-01j,  0.3862742 -9.46098930e-17j,\n",
       "         0.35287904+1.57111872e-01j,  0.25846789+2.87057674e-01j,\n",
       "         0.11936529+3.67368597e-01j, -0.04037665+3.84158152e-01j,\n",
       "        -0.1931371 +3.34523272e-01j, -0.31250239+2.27046279e-01j,\n",
       "        -0.37783318+8.03109225e-02j, -0.37783318-8.03109225e-02j,\n",
       "        -0.31250239-2.27046279e-01j, -0.1931371 -3.34523272e-01j,\n",
       "        -0.04037665-3.84158152e-01j,  0.11936529-3.67368597e-01j,\n",
       "         0.25846789-2.87057674e-01j,  0.35287904-1.57111872e-01j],\n",
       "       [ 0.37063818+0.00000000e+00j,  0.33859483+1.50752131e-01j,\n",
       "         0.24800535+2.75437849e-01j,  0.1145335 +3.52497860e-01j,\n",
       "        -0.03874224+3.68607789e-01j, -0.18531909+3.20982083e-01j,\n",
       "        -0.29985259+2.17855659e-01j, -0.36253885+7.70600115e-02j,\n",
       "        -0.36253885-7.70600115e-02j, -0.29985259-2.17855659e-01j,\n",
       "        -0.18531909-3.20982083e-01j, -0.03874224-3.68607789e-01j,\n",
       "         0.1145335 -3.52497860e-01j,  0.24800535-2.75437849e-01j,\n",
       "         0.33859483-1.50752131e-01j,  0.37063818-9.07801732e-17j,\n",
       "         0.33859483+1.50752131e-01j,  0.24800535+2.75437849e-01j,\n",
       "         0.1145335 +3.52497860e-01j, -0.03874224+3.68607789e-01j,\n",
       "        -0.18531909+3.20982083e-01j, -0.29985259+2.17855659e-01j,\n",
       "        -0.36253885+7.70600115e-02j, -0.36253885-7.70600115e-02j,\n",
       "        -0.29985259-2.17855659e-01j, -0.18531909-3.20982083e-01j,\n",
       "        -0.03874224-3.68607789e-01j,  0.1145335 -3.52497860e-01j,\n",
       "         0.24800535-2.75437849e-01j,  0.33859483-1.50752131e-01j],\n",
       "       [ 0.32626446+0.00000000e+00j,  0.29805742+1.32703713e-01j,\n",
       "         0.21831354+2.42461748e-01j,  0.10082126+3.10295944e-01j,\n",
       "        -0.03410392+3.24477153e-01j, -0.16313223+2.82553314e-01j,\n",
       "        -0.2639535 +1.91773440e-01j, -0.3191348 +6.78341963e-02j,\n",
       "        -0.3191348 -6.78341963e-02j, -0.2639535 -1.91773440e-01j,\n",
       "        -0.16313223-2.82553314e-01j, -0.03410392-3.24477153e-01j,\n",
       "         0.10082126-3.10295944e-01j,  0.21831354-2.42461748e-01j,\n",
       "         0.29805742-1.32703713e-01j,  0.32626446-7.99117462e-17j,\n",
       "         0.29805742+1.32703713e-01j,  0.21831354+2.42461748e-01j,\n",
       "         0.10082126+3.10295944e-01j, -0.03410392+3.24477153e-01j,\n",
       "        -0.16313223+2.82553314e-01j, -0.2639535 +1.91773440e-01j,\n",
       "        -0.3191348 +6.78341963e-02j, -0.3191348 -6.78341963e-02j,\n",
       "        -0.2639535 -1.91773440e-01j, -0.16313223-2.82553314e-01j,\n",
       "        -0.03410392-3.24477153e-01j,  0.10082126-3.10295944e-01j,\n",
       "         0.21831354-2.42461748e-01j,  0.29805742-1.32703713e-01j],\n",
       "       [ 0.26034525+0.00000000e+00j,  0.23783722+1.05891953e-01j,\n",
       "         0.17420497+1.93474225e-01j,  0.08045111+2.47603046e-01j,\n",
       "        -0.02721349+2.58919051e-01j, -0.13017262+2.25465600e-01j,\n",
       "        -0.21062373+1.53027098e-01j, -0.25465608+5.41288211e-02j,\n",
       "        -0.25465608-5.41288211e-02j, -0.21062373-1.53027098e-01j,\n",
       "        -0.13017262-2.25465600e-01j, -0.02721349-2.58919051e-01j,\n",
       "         0.08045111-2.47603046e-01j,  0.17420497-1.93474225e-01j,\n",
       "         0.23783722-1.05891953e-01j,  0.26034525-6.37661954e-17j,\n",
       "         0.23783722+1.05891953e-01j,  0.17420497+1.93474225e-01j,\n",
       "         0.08045111+2.47603046e-01j, -0.02721349+2.58919051e-01j,\n",
       "        -0.13017262+2.25465600e-01j, -0.21062373+1.53027098e-01j,\n",
       "        -0.25465608+5.41288211e-02j, -0.25465608-5.41288211e-02j,\n",
       "        -0.21062373-1.53027098e-01j, -0.13017262-2.25465600e-01j,\n",
       "        -0.02721349-2.58919051e-01j,  0.08045111-2.47603046e-01j,\n",
       "         0.17420497-1.93474225e-01j,  0.23783722-1.05891953e-01j],\n",
       "       [ 0.18356482+0.00000000e+00j,  0.16769481+7.46625390e-02j,\n",
       "         0.12282884+1.36415247e-01j,  0.05672465+1.74580519e-01j,\n",
       "        -0.01918775+1.82559234e-01j, -0.09178241+1.58971798e-01j,\n",
       "        -0.14850706+1.07896695e-01j, -0.17955349+3.81652723e-02j,\n",
       "        -0.17955349-3.81652723e-02j, -0.14850706-1.07896695e-01j,\n",
       "        -0.09178241-1.58971798e-01j, -0.01918775-1.82559234e-01j,\n",
       "         0.05672465-1.74580519e-01j,  0.12282884-1.36415247e-01j,\n",
       "         0.16769481-7.46625390e-02j,  0.18356482-4.49604141e-17j,\n",
       "         0.16769481+7.46625390e-02j,  0.12282884+1.36415247e-01j,\n",
       "         0.05672465+1.74580519e-01j, -0.01918775+1.82559234e-01j,\n",
       "        -0.09178241+1.58971798e-01j, -0.14850706+1.07896695e-01j,\n",
       "        -0.17955349+3.81652723e-02j, -0.17955349-3.81652723e-02j,\n",
       "        -0.14850706-1.07896695e-01j, -0.09178241-1.58971798e-01j,\n",
       "        -0.01918775-1.82559234e-01j,  0.05672465-1.74580519e-01j,\n",
       "         0.12282884-1.36415247e-01j,  0.16769481-7.46625390e-02j],\n",
       "       [ 0.10836752+0.00000000e+00j,  0.09899866+4.40770432e-02j,\n",
       "         0.07251203+8.05327652e-02j,  0.03348741+1.03063640e-01j,\n",
       "        -0.01132749+1.07773876e-01j, -0.05418376+9.38490293e-02j,\n",
       "        -0.08767117+6.36968328e-02j, -0.10599943+2.25308753e-02j,\n",
       "        -0.10599943-2.25308753e-02j, -0.08767117-6.36968328e-02j,\n",
       "        -0.05418376-9.38490293e-02j, -0.01132749-1.07773876e-01j,\n",
       "         0.03348741-1.03063640e-01j,  0.07251203-8.05327652e-02j,\n",
       "         0.09899866-4.40770432e-02j,  0.10836752-2.65423884e-17j,\n",
       "         0.09899866+4.40770432e-02j,  0.07251203+8.05327652e-02j,\n",
       "         0.03348741+1.03063640e-01j, -0.01132749+1.07773876e-01j,\n",
       "        -0.05418376+9.38490293e-02j, -0.08767117+6.36968328e-02j,\n",
       "        -0.10599943+2.25308753e-02j, -0.10599943-2.25308753e-02j,\n",
       "        -0.08767117-6.36968328e-02j, -0.05418376-9.38490293e-02j,\n",
       "        -0.01132749-1.07773876e-01j,  0.03348741-1.03063640e-01j,\n",
       "         0.07251203-8.05327652e-02j,  0.09899866-4.40770432e-02j],\n",
       "       [ 0.0469395 +0.00000000e+00j,  0.04288136+1.90920129e-02j,\n",
       "         0.03140865+3.48828432e-02j,  0.0145051 +4.46421131e-02j,\n",
       "        -0.00490651+4.66823561e-02j, -0.02346975+4.06507956e-02j,\n",
       "        -0.03797485+2.75903432e-02j, -0.04591375+9.75926989e-03j,\n",
       "        -0.04591375-9.75926989e-03j, -0.03797485-2.75903432e-02j,\n",
       "        -0.02346975-4.06507956e-02j, -0.00490651-4.66823561e-02j,\n",
       "         0.0145051 -4.46421131e-02j,  0.03140865-3.48828432e-02j,\n",
       "         0.04288136-1.90920129e-02j,  0.0469395 -1.14968606e-17j,\n",
       "         0.04288136+1.90920129e-02j,  0.03140865+3.48828432e-02j,\n",
       "         0.0145051 +4.46421131e-02j, -0.00490651+4.66823561e-02j,\n",
       "        -0.02346975+4.06507956e-02j, -0.03797485+2.75903432e-02j,\n",
       "        -0.04591375+9.75926989e-03j, -0.04591375-9.75926989e-03j,\n",
       "        -0.03797485-2.75903432e-02j, -0.02346975-4.06507956e-02j,\n",
       "        -0.00490651-4.66823561e-02j,  0.0145051 -4.46421131e-02j,\n",
       "         0.03140865-3.48828432e-02j,  0.04288136-1.90920129e-02j],\n",
       "       [ 0.00922067+0.00000000e+00j,  0.0084235 +3.75038362e-03j,\n",
       "         0.00616983+6.85229184e-03j,  0.00284934+8.76937655e-03j,\n",
       "        -0.00096382+9.17015639e-03j, -0.00461033+7.98533288e-03j,\n",
       "        -0.00745968+5.41977277e-03j, -0.00901917+1.91708471e-03j,\n",
       "        -0.00901917-1.91708471e-03j, -0.00745968-5.41977277e-03j,\n",
       "        -0.00461033-7.98533288e-03j, -0.00096382-9.17015639e-03j,\n",
       "         0.00284934-8.76937655e-03j,  0.00616983-6.85229184e-03j,\n",
       "         0.0084235 -3.75038362e-03j,  0.00922067-2.25841235e-18j,\n",
       "         0.0084235 +3.75038362e-03j,  0.00616983+6.85229184e-03j,\n",
       "         0.00284934+8.76937655e-03j, -0.00096382+9.17015639e-03j,\n",
       "        -0.00461033+7.98533288e-03j, -0.00745968+5.41977277e-03j,\n",
       "        -0.00901917+1.91708471e-03j, -0.00901917-1.91708471e-03j,\n",
       "        -0.00745968-5.41977277e-03j, -0.00461033-7.98533288e-03j,\n",
       "        -0.00096382-9.17015639e-03j,  0.00284934-8.76937655e-03j,\n",
       "         0.00616983-6.85229184e-03j,  0.0084235 -3.75038362e-03j]])"
      ]
     },
     "execution_count": 15,
     "metadata": {},
     "output_type": "execute_result"
    }
   ],
   "source": [
    "cYslm.sYlm_modes.mode(2, 2)"
   ]
  },
  {
   "cell_type": "code",
   "execution_count": 16,
   "metadata": {},
   "outputs": [
    {
     "name": "stdout",
     "output_type": "stream",
     "text": [
      "643 ns ± 8.25 ns per loop (mean ± std. dev. of 7 runs, 1,000,000 loops each)\n"
     ]
    }
   ],
   "source": [
    "%%timeit\n",
    "cYslm.run()"
   ]
  },
  {
   "cell_type": "code",
   "execution_count": 34,
   "metadata": {},
   "outputs": [
    {
     "name": "stdout",
     "output_type": "stream",
     "text": [
      "1.48 s ± 31.5 ms per loop (mean ± std. dev. of 7 runs, 1 loop each)\n"
     ]
    }
   ],
   "source": [
    "%%timeit\n",
    "cYslm.run()"
   ]
  },
  {
   "cell_type": "code",
   "execution_count": 53,
   "metadata": {},
   "outputs": [
    {
     "data": {
      "text/plain": [
       "(225, 15, 30)"
      ]
     },
     "execution_count": 53,
     "metadata": {},
     "output_type": "execute_result"
    }
   ],
   "source": [
    "np.array(cYslm.sYlm_modes._modes_data).shape"
   ]
  },
  {
   "cell_type": "code",
   "execution_count": 14,
   "metadata": {},
   "outputs": [
    {
     "name": "stdout",
     "output_type": "stream",
     "text": [
      "3.84 s ± 73.7 ms per loop (mean ± std. dev. of 7 runs, 1 loop each)\n"
     ]
    }
   ],
   "source": [
    "%%timeit\n",
    "cYslm.store_as_modes()"
   ]
  },
  {
   "cell_type": "code",
   "execution_count": 45,
   "metadata": {},
   "outputs": [
    {
     "data": {
      "text/plain": [
       "[[0, array(0.28209479+0.j)],\n",
       " [1, array(0.34549415+0.j)],\n",
       " [2, array(5.42457759e-17+0.j)],\n",
       " [3, array(-0.34549415+0.j)],\n",
       " [4, array(0.3862742+0.j)],\n",
       " [5, array(1.71540205e-16+0.j)],\n",
       " [6, array(-0.31539157+0.j)],\n",
       " [7, array(-1.71540205e-16+0.j)],\n",
       " [8, array(0.3862742+0.j)]]"
      ]
     },
     "execution_count": 45,
     "metadata": {},
     "output_type": "execute_result"
    }
   ],
   "source": [
    "cYslm.result_list"
   ]
  },
  {
   "cell_type": "code",
   "execution_count": 47,
   "metadata": {},
   "outputs": [
    {
     "data": {
      "text/plain": [
       "(2.1236804377400126e-16+0j)"
      ]
     },
     "execution_count": 47,
     "metadata": {},
     "output_type": "execute_result"
    }
   ],
   "source": [
    "wfmodes.mode(1,0)"
   ]
  },
  {
   "cell_type": "code",
   "execution_count": 50,
   "metadata": {},
   "outputs": [
    {
     "data": {
      "text/plain": [
       "1"
      ]
     },
     "execution_count": 50,
     "metadata": {},
     "output_type": "execute_result"
    }
   ],
   "source": [
    "int(np.sqrt(5)-1)"
   ]
  },
  {
   "cell_type": "code",
   "execution_count": 52,
   "metadata": {},
   "outputs": [
    {
     "data": {
      "text/plain": [
       "1"
      ]
     },
     "execution_count": 52,
     "metadata": {},
     "output_type": "execute_result"
    }
   ],
   "source": [
    "int(1.99)"
   ]
  },
  {
   "cell_type": "code",
   "execution_count": 54,
   "metadata": {},
   "outputs": [
    {
     "data": {
      "text/plain": [
       "2"
      ]
     },
     "execution_count": 54,
     "metadata": {},
     "output_type": "execute_result"
    }
   ],
   "source": [
    "int(np.sqrt(5))"
   ]
  },
  {
   "cell_type": "code",
   "execution_count": 51,
   "metadata": {},
   "outputs": [
    {
     "data": {
      "text/plain": [
       "1"
      ]
     },
     "execution_count": 51,
     "metadata": {},
     "output_type": "execute_result"
    }
   ],
   "source": [
    "5- (4)"
   ]
  },
  {
   "cell_type": "code",
   "execution_count": 55,
   "metadata": {},
   "outputs": [
    {
     "data": {
      "text/plain": [
       "-1"
      ]
     },
     "execution_count": 55,
     "metadata": {},
     "output_type": "execute_result"
    }
   ],
   "source": [
    "1 - 2"
   ]
  },
  {
   "cell_type": "code",
   "execution_count": 21,
   "metadata": {},
   "outputs": [
    {
     "name": "stdout",
     "output_type": "stream",
     "text": [
      "313 µs ± 17.3 µs per loop (mean ± std. dev. of 7 runs, 1,000 loops each)\n"
     ]
    }
   ],
   "source": [
    "%%timeit\n",
    "def get_index(ell, emm):\n",
    "    ind = 0\n",
    "    for ell_ind in range(ell + 1):\n",
    "        ind += 2 * ell_ind + 1\n",
    "\n",
    "    return ind + emm - ell_ind - 1\n",
    "\n",
    "#info = GLGrid(L=24)\n",
    "# minfo = method_info(ell_max=24, int_method='GL')\n",
    "\n",
    "ell_max = 24\n",
    "\n",
    "#from waveformtools.transforms import Yslm_prec_grid\n",
    "\n",
    "#theta_grid, phi_grid = info.meshgrid\n",
    "\n",
    "theta = np.pi/2\n",
    "phi = 0\n",
    "spin_weight = 0\n",
    "\n",
    "import quaternionic, spherical\n",
    "\n",
    "R = quaternionic.array.from_spherical_coordinates(theta, phi)\n",
    "# ell_max = ell\n",
    "\n",
    "wigner = spherical.Wigner(ell_max)\n",
    "\n",
    "Y2 = wigner.sYlm(spin_weight, R)\n",
    "\n",
    "\n",
    "Ylm_spherical = Y2.T[get_index(2, 0)].T"
   ]
  },
  {
   "cell_type": "code",
   "execution_count": 18,
   "metadata": {},
   "outputs": [
    {
     "data": {
      "text/plain": [
       "(625,)"
      ]
     },
     "execution_count": 18,
     "metadata": {},
     "output_type": "execute_result"
    }
   ],
   "source": [
    "Y2.shape"
   ]
  },
  {
   "cell_type": "code",
   "execution_count": 1,
   "metadata": {},
   "outputs": [],
   "source": [
    "import numpy as np"
   ]
  },
  {
   "cell_type": "code",
   "execution_count": 3,
   "metadata": {},
   "outputs": [],
   "source": [
    "aa = np.zeros((10, *(2, 2)))"
   ]
  },
  {
   "cell_type": "code",
   "execution_count": 4,
   "metadata": {},
   "outputs": [
    {
     "data": {
      "text/plain": [
       "(10, 2, 2)"
      ]
     },
     "execution_count": 4,
     "metadata": {},
     "output_type": "execute_result"
    }
   ],
   "source": [
    "aa.shape"
   ]
  },
  {
   "cell_type": "code",
   "execution_count": 54,
   "metadata": {},
   "outputs": [],
   "source": [
    "from qlmtools.integration import TwoDIntegral"
   ]
  },
  {
   "cell_type": "code",
   "execution_count": 55,
   "metadata": {},
   "outputs": [],
   "source": [
    "func = np.sin(theta_grid)"
   ]
  },
  {
   "cell_type": "code",
   "execution_count": 56,
   "metadata": {},
   "outputs": [
    {
     "ename": "NameError",
     "evalue": "name 'sYlm' is not defined",
     "output_type": "error",
     "traceback": [
      "\u001b[0;31m---------------------------------------------------------------------------\u001b[0m",
      "\u001b[0;31mNameError\u001b[0m                                 Traceback (most recent call last)",
      "Cell \u001b[0;32mIn[56], line 1\u001b[0m\n\u001b[0;32m----> 1\u001b[0m \u001b[43msYlm\u001b[49m\n",
      "\u001b[0;31mNameError\u001b[0m: name 'sYlm' is not defined"
     ]
    }
   ],
   "source": [
    "cYslm"
   ]
  },
  {
   "cell_type": "code",
   "execution_count": 60,
   "metadata": {},
   "outputs": [],
   "source": [
    "Ym = np.array(cYslm.sYlm_modes._modes_data)"
   ]
  },
  {
   "cell_type": "code",
   "execution_count": 62,
   "metadata": {},
   "outputs": [
    {
     "data": {
      "text/plain": [
       "(225, 15, 30)"
      ]
     },
     "execution_count": 62,
     "metadata": {},
     "output_type": "execute_result"
    }
   ],
   "source": [
    "Ym.shape"
   ]
  },
  {
   "cell_type": "code",
   "execution_count": 63,
   "metadata": {},
   "outputs": [],
   "source": [
    "integrand = Ym*func"
   ]
  },
  {
   "cell_type": "code",
   "execution_count": 70,
   "metadata": {},
   "outputs": [
    {
     "data": {
      "text/plain": [
       "(225, 15, 30)"
      ]
     },
     "execution_count": 70,
     "metadata": {},
     "output_type": "execute_result"
    }
   ],
   "source": [
    "integrand.shape"
   ]
  },
  {
   "cell_type": "code",
   "execution_count": 67,
   "metadata": {},
   "outputs": [],
   "source": [
    "modes_vec = TwoDIntegral(integrand, gl_info, method='GL')"
   ]
  },
  {
   "cell_type": "code",
   "execution_count": 69,
   "metadata": {},
   "outputs": [
    {
     "data": {
      "text/plain": [
       "()"
      ]
     },
     "execution_count": 69,
     "metadata": {},
     "output_type": "execute_result"
    }
   ],
   "source": [
    "modes_vec.shape"
   ]
  },
  {
   "cell_type": "code",
   "execution_count": 74,
   "metadata": {},
   "outputs": [
    {
     "data": {
      "text/plain": [
       "(225,)"
      ]
     },
     "execution_count": 74,
     "metadata": {},
     "output_type": "execute_result"
    }
   ],
   "source": [
    "np.tensordot(integrand, gl_info.weights_grid, axes=((-2, -1), (0,1))).shape"
   ]
  },
  {
   "cell_type": "code",
   "execution_count": 15,
   "metadata": {},
   "outputs": [],
   "source": [
    "class trial:\n",
    "\n",
    "    def __init__(self, a):\n",
    "        self.a = a\n",
    "\n",
    "    b = 0"
   ]
  },
  {
   "cell_type": "code",
   "execution_count": 22,
   "metadata": {},
   "outputs": [],
   "source": [
    "tt = trial(1)\n",
    "tt2 = trial(2)"
   ]
  },
  {
   "cell_type": "code",
   "execution_count": 23,
   "metadata": {},
   "outputs": [
    {
     "data": {
      "text/plain": [
       "1"
      ]
     },
     "execution_count": 23,
     "metadata": {},
     "output_type": "execute_result"
    }
   ],
   "source": [
    "tt.a"
   ]
  },
  {
   "cell_type": "code",
   "execution_count": 24,
   "metadata": {},
   "outputs": [
    {
     "data": {
      "text/plain": [
       "0"
      ]
     },
     "execution_count": 24,
     "metadata": {},
     "output_type": "execute_result"
    }
   ],
   "source": [
    "tt.b"
   ]
  },
  {
   "cell_type": "code",
   "execution_count": 19,
   "metadata": {},
   "outputs": [],
   "source": [
    "tt.b = 3"
   ]
  },
  {
   "cell_type": "code",
   "execution_count": 1,
   "metadata": {},
   "outputs": [],
   "source": [
    "import numpy as np\n",
    "import numba as nb"
   ]
  },
  {
   "cell_type": "code",
   "execution_count": 6,
   "metadata": {},
   "outputs": [
    {
     "data": {
      "text/plain": [
       "List(float64, True)"
      ]
     },
     "execution_count": 6,
     "metadata": {},
     "output_type": "execute_result"
    }
   ],
   "source": [
    "nb.typeof([2.0, 3.4])"
   ]
  },
  {
   "cell_type": "code",
   "execution_count": 9,
   "metadata": {},
   "outputs": [
    {
     "data": {
      "text/plain": [
       "List(reflected list(int64)<iv=None>, True)"
      ]
     },
     "execution_count": 9,
     "metadata": {},
     "output_type": "execute_result"
    }
   ],
   "source": [
    "nb.typeof([[2, [1, 2, 3], [0, [1, 2]]]])"
   ]
  },
  {
   "cell_type": "code",
   "execution_count": 10,
   "metadata": {},
   "outputs": [
    {
     "ename": "ValueError",
     "evalue": "Cannot determine Numba type of <class 'dict'>",
     "output_type": "error",
     "traceback": [
      "\u001b[0;31m---------------------------------------------------------------------------\u001b[0m",
      "\u001b[0;31mValueError\u001b[0m                                Traceback (most recent call last)",
      "Cell \u001b[0;32mIn[10], line 1\u001b[0m\n\u001b[0;32m----> 1\u001b[0m \u001b[43mnb\u001b[49m\u001b[38;5;241;43m.\u001b[39;49m\u001b[43mtypeof\u001b[49m\u001b[43m(\u001b[49m\u001b[43m{\u001b[49m\u001b[38;5;124;43m'\u001b[39;49m\u001b[38;5;124;43ml0\u001b[39;49m\u001b[38;5;124;43m'\u001b[39;49m\u001b[43m:\u001b[49m\u001b[43m \u001b[49m\u001b[43m{\u001b[49m\u001b[38;5;124;43m'\u001b[39;49m\u001b[38;5;124;43mm1\u001b[39;49m\u001b[38;5;124;43m'\u001b[39;49m\u001b[43m \u001b[49m\u001b[43m:\u001b[49m\u001b[43m \u001b[49m\u001b[38;5;241;43m4.2\u001b[39;49m\u001b[43m}\u001b[49m\u001b[43m}\u001b[49m\u001b[43m)\u001b[49m\n",
      "File \u001b[0;32m~/Installations/anaconda3/envs/wftools/lib/python3.10/site-packages/numba/core/typing/typeof.py:37\u001b[0m, in \u001b[0;36mtypeof\u001b[0;34m(val, purpose)\u001b[0m\n\u001b[1;32m     34\u001b[0m \u001b[38;5;28;01mif\u001b[39;00m ty \u001b[38;5;129;01mis\u001b[39;00m \u001b[38;5;28;01mNone\u001b[39;00m:\n\u001b[1;32m     35\u001b[0m     msg \u001b[38;5;241m=\u001b[39m _termcolor\u001b[38;5;241m.\u001b[39merrmsg(\n\u001b[1;32m     36\u001b[0m         \u001b[38;5;124mf\u001b[39m\u001b[38;5;124m\"\u001b[39m\u001b[38;5;124mCannot determine Numba type of \u001b[39m\u001b[38;5;132;01m{\u001b[39;00m\u001b[38;5;28mtype\u001b[39m(val)\u001b[38;5;132;01m}\u001b[39;00m\u001b[38;5;124m\"\u001b[39m)\n\u001b[0;32m---> 37\u001b[0m     \u001b[38;5;28;01mraise\u001b[39;00m \u001b[38;5;167;01mValueError\u001b[39;00m(msg)\n\u001b[1;32m     38\u001b[0m \u001b[38;5;28;01mreturn\u001b[39;00m ty\n",
      "\u001b[0;31mValueError\u001b[0m: Cannot determine Numba type of <class 'dict'>"
     ]
    }
   ],
   "source": [
    "nb.typeof({'l0': {'m1' : 4.2}})"
   ]
  },
  {
   "cell_type": "code",
   "execution_count": 42,
   "metadata": {},
   "outputs": [],
   "source": [
    "class foo:\n",
    "    _a = 1\n",
    "\n",
    "    def __init__(self, b):\n",
    "        self.b=b"
   ]
  },
  {
   "cell_type": "code",
   "execution_count": 43,
   "metadata": {},
   "outputs": [],
   "source": [
    "g1 = foo(2)"
   ]
  },
  {
   "cell_type": "code",
   "execution_count": 44,
   "metadata": {},
   "outputs": [
    {
     "data": {
      "text/plain": [
       "1"
      ]
     },
     "execution_count": 44,
     "metadata": {},
     "output_type": "execute_result"
    }
   ],
   "source": [
    "g1._a"
   ]
  },
  {
   "cell_type": "code",
   "execution_count": 45,
   "metadata": {},
   "outputs": [
    {
     "ename": "AttributeError",
     "evalue": "'foo' object has no attribute 'a'",
     "output_type": "error",
     "traceback": [
      "\u001b[0;31m---------------------------------------------------------------------------\u001b[0m",
      "\u001b[0;31mAttributeError\u001b[0m                            Traceback (most recent call last)",
      "Cell \u001b[0;32mIn[45], line 1\u001b[0m\n\u001b[0;32m----> 1\u001b[0m \u001b[43mg1\u001b[49m\u001b[38;5;241;43m.\u001b[39;49m\u001b[43ma\u001b[49m\n",
      "\u001b[0;31mAttributeError\u001b[0m: 'foo' object has no attribute 'a'"
     ]
    }
   ],
   "source": [
    "g1.a"
   ]
  },
  {
   "cell_type": "code",
   "execution_count": null,
   "metadata": {},
   "outputs": [],
   "source": []
  }
 ],
 "metadata": {
  "kernelspec": {
   "display_name": "wftools_mkl",
   "language": "python",
   "name": "python3"
  },
  "language_info": {
   "codemirror_mode": {
    "name": "ipython",
    "version": 3
   },
   "file_extension": ".py",
   "mimetype": "text/x-python",
   "name": "python",
   "nbconvert_exporter": "python",
   "pygments_lexer": "ipython3",
   "version": "3.11.10"
  }
 },
 "nbformat": 4,
 "nbformat_minor": 2
}
